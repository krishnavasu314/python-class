{
 "cells": [
  {
   "cell_type": "code",
   "execution_count": 2,
   "metadata": {},
   "outputs": [
    {
     "name": "stdout",
     "output_type": "stream",
     "text": [
      "s a l a a r "
     ]
    }
   ],
   "source": [
    "#iteration in a string collection\n",
    "st='salaar'\n",
    "for i in st:\n",
    "    print(i,end=' ')\n"
   ]
  },
  {
   "cell_type": "code",
   "execution_count": 4,
   "metadata": {},
   "outputs": [
    {
     "name": "stdout",
     "output_type": "stream",
     "text": [
      "10 20 30 40 50 "
     ]
    }
   ],
   "source": [
    "#iteration in a list collection\n",
    "l=[10,20,30,40,50]\n",
    "for i in l:\n",
    "    print(i,end=' ')"
   ]
  },
  {
   "cell_type": "code",
   "execution_count": 8,
   "metadata": {},
   "outputs": [
    {
     "name": "stdout",
     "output_type": "stream",
     "text": [
      "<class 'int'> 10\n",
      "<class 'bool'> True\n",
      "<class 'float'> 10.12\n",
      "<class 'complex'> (10+3j)\n",
      "<class 'bytes'> b'1010'\n",
      "<class 'list'> [10, 20, 30]\n",
      "<class 'str'> string\n",
      "<class 'set'> {1, 2, 3}\n",
      "<class 'dict'> {'a': 1, 'b': 2}\n"
     ]
    }
   ],
   "source": [
    "#iteration in a tuple collection.\n",
    "t=(10,True,10.12,10+3j,b'1010',[10,20,30],'string',{1,2,3},{'a':1,'b':2})\n",
    "for i in t:\n",
    "    print(type(i),end=\" \")\n",
    "    print(i)"
   ]
  },
  {
   "cell_type": "code",
   "execution_count": 11,
   "metadata": {},
   "outputs": [
    {
     "name": "stdout",
     "output_type": "stream",
     "text": [
      "<class 'int'> <class 'float'> <class 'str'> <class 'bytes'> "
     ]
    }
   ],
   "source": [
    "#iteration in a set \n",
    "s={1,10.12,True,b'1aa','salaar'}\n",
    "for i in s:\n",
    "    print(type(i),end=' ')"
   ]
  },
  {
   "cell_type": "code",
   "execution_count": 14,
   "metadata": {},
   "outputs": [
    {
     "name": "stdout",
     "output_type": "stream",
     "text": [
      "29\n",
      "9\n",
      "2023\n"
     ]
    }
   ],
   "source": [
    "#iteration over dict \n",
    "d={'salaar':29,'cease':9,'fire':2023}\n",
    "for i in d:\n",
    "    print(d[i])"
   ]
  },
  {
   "cell_type": "code",
   "execution_count": 15,
   "metadata": {},
   "outputs": [
    {
     "name": "stdout",
     "output_type": "stream",
     "text": [
      "h\n",
      "e\n",
      "l\n",
      "l\n",
      "o\n"
     ]
    }
   ],
   "source": [
    "#wap to extract the each and every char from the string by using for loop \n",
    "s='hello'\n",
    "for i in s:\n",
    "    print(i)"
   ]
  },
  {
   "cell_type": "code",
   "execution_count": 1,
   "metadata": {},
   "outputs": [
    {
     "name": "stdout",
     "output_type": "stream",
     "text": [
      "s\n",
      "a\n",
      "l\n",
      "a\n",
      "r\n",
      "@\n",
      "$\n"
     ]
    }
   ],
   "source": [
    "#wap to print lowercase and special character from string\n",
    "st='salAar@$1'\n",
    "res=''\n",
    "for i in st:\n",
    "    if 'a'<=i<='z' or not('A'<=i<='Z'or'a'<=i<='z' or '0'<=i<='9'):\n",
    "       print(i)\n"
   ]
  },
  {
   "cell_type": "code",
   "execution_count": null,
   "metadata": {},
   "outputs": [],
   "source": [
    "#wap to count no of data items in a given collection\n",
    "\n"
   ]
  },
  {
   "cell_type": "code",
   "execution_count": 3,
   "metadata": {},
   "outputs": [
    {
     "name": "stdout",
     "output_type": "stream",
     "text": [
      "[1, 2, 3, 4, 6, 5, 8]\n",
      "1\n",
      "1\n",
      "2\n",
      "2\n",
      "2\n",
      "3\n",
      "3\n",
      "4\n",
      "6\n",
      "6\n",
      "6\n",
      "6\n",
      "5\n",
      "8\n"
     ]
    }
   ],
   "source": [
    "\n",
    "st=[1,2,3,4,1,2,6,6,5,6,6,8,2,3]\n",
    "uni=[]\n",
    "for i in st:\n",
    "    if i not in uni:\n",
    "        uni+=[i]\n",
    "print(uni)\n",
    "for j in uni:\n",
    "    count=0\n",
    "    for k in range(len(st)):\n",
    "        if j==st[k]:\n",
    "            count+=1\n",
    "    print(cou)"
   ]
  },
  {
   "cell_type": "code",
   "execution_count": null,
   "metadata": {},
   "outputs": [],
   "source": [
    "st='abc326cdef125efg'\n",
    "for i in range()"
   ]
  },
  {
   "cell_type": "code",
   "execution_count": null,
   "metadata": {},
   "outputs": [],
   "source": []
  }
 ],
 "metadata": {
  "kernelspec": {
   "display_name": "Python 3",
   "language": "python",
   "name": "python3"
  },
  "language_info": {
   "codemirror_mode": {
    "name": "ipython",
    "version": 3
   },
   "file_extension": ".py",
   "mimetype": "text/x-python",
   "name": "python",
   "nbconvert_exporter": "python",
   "pygments_lexer": "ipython3",
   "version": "3.11.6"
  },
  "orig_nbformat": 4
 },
 "nbformat": 4,
 "nbformat_minor": 2
}
