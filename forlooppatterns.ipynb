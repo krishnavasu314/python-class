{
 "cells": [
  {
   "cell_type": "code",
   "execution_count": null,
   "metadata": {},
   "outputs": [],
   "source": []
  },
  {
   "cell_type": "code",
   "execution_count": 1,
   "metadata": {},
   "outputs": [
    {
     "name": "stdout",
     "output_type": "stream",
     "text": [
      "m\n",
      "mo\n",
      "mob\n",
      "mobi\n",
      "mobil\n",
      "mobile\n"
     ]
    }
   ],
   "source": [
    "#wap to print\n",
    "#m\n",
    "#mo\n",
    "#mob\n",
    "#mobi\n",
    "#mobil\n",
    "#mobile\n",
    "st='mobile'\n",
    "pos=1\n",
    "for i in st:\n",
    "    print(st[0:pos])\n",
    "    pos+=1\n",
    "\n",
    "\n"
   ]
  },
  {
   "cell_type": "code",
   "execution_count": 7,
   "metadata": {},
   "outputs": [
    {
     "name": "stdout",
     "output_type": "stream",
     "text": [
      "range(0, 10)\n"
     ]
    },
    {
     "data": {
      "text/plain": [
       "[0, 1, 2, 3, 4, 5, 6, 7, 8, 9]"
      ]
     },
     "execution_count": 7,
     "metadata": {},
     "output_type": "execute_result"
    }
   ],
   "source": [
    "print(range(10))\n",
    "list(range(10))"
   ]
  },
  {
   "cell_type": "code",
   "execution_count": 8,
   "metadata": {},
   "outputs": [
    {
     "name": "stdout",
     "output_type": "stream",
     "text": [
      "0 1 2 3 4 5 6 7 8 9 "
     ]
    }
   ],
   "source": [
    "for i in range(10):\n",
    "    print(i,end=' ')"
   ]
  },
  {
   "cell_type": "code",
   "execution_count": 18,
   "metadata": {},
   "outputs": [
    {
     "data": {
      "text/plain": [
       "(10, 9, 8, 7, 6, 5, 4, 3, 2)"
      ]
     },
     "execution_count": 18,
     "metadata": {},
     "output_type": "execute_result"
    }
   ],
   "source": [
    "tuple(range(10,1,-1))"
   ]
  },
  {
   "cell_type": "code",
   "execution_count": 21,
   "metadata": {},
   "outputs": [
    {
     "data": {
      "text/plain": [
       "[-30, -29, -28, -27, -26, -25, -24, -23, -22, -21, -20]"
      ]
     },
     "execution_count": 21,
     "metadata": {},
     "output_type": "execute_result"
    }
   ],
   "source": [
    "list(range(-30,-19))"
   ]
  },
  {
   "cell_type": "code",
   "execution_count": 28,
   "metadata": {},
   "outputs": [
    {
     "name": "stdout",
     "output_type": "stream",
     "text": [
      "0 v     1 a     2 h     3 i     4 n     5 i     6 @     "
     ]
    }
   ],
   "source": [
    "s='vahini@'\n",
    "for i in range(0,len(s)):\n",
    "    print(i,s[i],end='     ')"
   ]
  },
  {
   "cell_type": "code",
   "execution_count": 6,
   "metadata": {},
   "outputs": [
    {
     "name": "stdout",
     "output_type": "stream",
     "text": [
      "v\n",
      "va\n",
      "vah\n",
      "vahi\n",
      "vahin\n",
      "vahini\n",
      "vahini@\n",
      "a\n",
      "ah\n",
      "ahi\n",
      "ahin\n",
      "ahini\n",
      "ahini@\n",
      "h\n",
      "hi\n",
      "hin\n",
      "hini\n",
      "hini@\n",
      "i\n",
      "in\n",
      "ini\n",
      "ini@\n",
      "n\n",
      "ni\n",
      "ni@\n",
      "i\n",
      "i@\n",
      "@\n"
     ]
    }
   ],
   "source": [
    "s='vahini@'\n",
    "for i in range(0,len(s)):\n",
    "    for j in range(i+1,len(s)+1):\n",
    "        print(s[i:j])\n"
   ]
  },
  {
   "cell_type": "code",
   "execution_count": 21,
   "metadata": {},
   "outputs": [
    {
     "name": "stdout",
     "output_type": "stream",
     "text": [
      "1 4\n",
      "1 3\n",
      "1 2\n",
      "1 3\n",
      "1 1\n",
      "1 2\n",
      "1 2\n",
      "1 1\n",
      "4 3\n",
      "4 2\n",
      "4 3\n",
      "4 1\n",
      "4 2\n",
      "4 2\n",
      "4 1\n",
      "3 2\n",
      "3 3\n",
      "3 1\n",
      "3 2\n",
      "3 2\n",
      "3 1\n",
      "2 3\n",
      "2 1\n",
      "2 2\n",
      "2 2\n",
      "2 1\n",
      "3 1\n",
      "3 2\n",
      "3 2\n",
      "3 1\n",
      "1 2\n",
      "1 2\n",
      "1 1\n",
      "2 2\n",
      "2 1\n",
      "2 1\n"
     ]
    }
   ],
   "source": [
    "\n",
    "st='143231221'\n",
    "for i in range(0,len(st)):\n",
    "    for j in range(i+1,len(st)):\n",
    "        print(st[i],st[j])\n",
    "\n",
    "\n",
    "    "
   ]
  },
  {
   "cell_type": "code",
   "execution_count": 6,
   "metadata": {},
   "outputs": [
    {
     "name": "stdout",
     "output_type": "stream",
     "text": [
      "abcdcba\n",
      "bcdcb\n",
      "cdc\n",
      "#121#\n",
      "121\n",
      "xzzx\n",
      "zz\n",
      "44\n",
      "['abcdcba', 'bcdcb', 'cdc', '#121#', '121', 'xzzx', 'zz', '44']\n"
     ]
    }
   ],
   "source": [
    "#wap to count no of palindromes in a string with using slicing and list\n",
    "l=[] \n",
    "st='abcdcba#121#xzzx5445'\n",
    "for start in range(0,len(st)):\n",
    "    # print(st[start])\n",
    "    res=''\n",
    "    for end in range(start+1,len(st)):\n",
    "        res=st[start:end]\n",
    "        # print(res)\n",
    "        if len(res)>1 and res[::-1]==res:\n",
    "            print(res)\n",
    "            l+=[res]\n",
    "print(l)\n",
    "\n",
    "\n",
    "\n"
   ]
  },
  {
   "cell_type": "code",
   "execution_count": 13,
   "metadata": {},
   "outputs": [
    {
     "name": "stdout",
     "output_type": "stream",
     "text": [
      "['tel', 'hindi', 'eng', 'maths', 'social']\n",
      "446 223\n"
     ]
    }
   ],
   "source": [
    "vahin={'tel':70,'hindi':88,'eng':90,'maths':98,'social':100}\n",
    "lis=list(vahin)\n",
    "print(lis)\n",
    "marks=0\n",
    "for i in range(0,len(lis)):\n",
    "    marks+=vahin[lis[i]]\n",
    "print(marks,marks//2)\n",
    "\n"
   ]
  },
  {
   "cell_type": "code",
   "execution_count": null,
   "metadata": {},
   "outputs": [],
   "source": [
    "#wap to count no of palindromes in a string with using slicing and list\n",
    "l=[] \n",
    "st='abcdcba#121#xzzx5445'\n",
    "for start in range(0,len(st)):\n",
    "    # print(st[start])\n",
    "    res=''\n",
    "    for end in range(start+1,len(st)):\n",
    "        res=st[start:end]\n",
    "        \n"
   ]
  }
 ],
 "metadata": {
  "kernelspec": {
   "display_name": "Python 3",
   "language": "python",
   "name": "python3"
  },
  "language_info": {
   "codemirror_mode": {
    "name": "ipython",
    "version": 3
   },
   "file_extension": ".py",
   "mimetype": "text/x-python",
   "name": "python",
   "nbconvert_exporter": "python",
   "pygments_lexer": "ipython3",
   "version": "3.11.5"
  },
  "orig_nbformat": 4
 },
 "nbformat": 4,
 "nbformat_minor": 2
}
