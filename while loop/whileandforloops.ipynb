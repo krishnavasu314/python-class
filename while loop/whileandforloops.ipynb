{
 "cells": [
  {
   "cell_type": "code",
   "execution_count": 1,
   "metadata": {},
   "outputs": [
    {
     "name": "stdout",
     "output_type": "stream",
     "text": [
      "S a l a a r T H e   S a g a ! @ # "
     ]
    }
   ],
   "source": [
    "#2WAP to print all the items present in the string between the range from \n",
    "#m to n.\n",
    "st='SalaarTHe Saga!@#'\n",
    "for i in range(0,len(st)):\n",
    "    print(st[i],end=' ')"
   ]
  },
  {
   "cell_type": "code",
   "execution_count": 4,
   "metadata": {},
   "outputs": [
    {
     "name": "stdout",
     "output_type": "stream",
     "text": [
      "SALARCEAFVHINAMMU\n"
     ]
    }
   ],
   "source": [
    "#3WAP to print the uppercase characters in a given string\n",
    "st='SALAaRCEAseFire !@#VaHINandAMMUl'\n",
    "up=''\n",
    "for i in st:\n",
    "    if 'A'<=i<='Z':\n",
    "        up+=i\n",
    "print(up)\n",
    "    "
   ]
  },
  {
   "cell_type": "code",
   "execution_count": 1,
   "metadata": {},
   "outputs": [
    {
     "name": "stdout",
     "output_type": "stream",
     "text": [
      "aseireaandl\n"
     ]
    }
   ],
   "source": [
    "#4WAP to print the lowercase characters in a given string.\n",
    "st='SALAaRCEAseFire !@#VaHINandAMMUl'\n",
    "lc=''\n",
    "for i in st:\n",
    "    if 'a'<=i<='z':\n",
    "        lc+=i\n",
    "print(lc)"
   ]
  },
  {
   "cell_type": "code",
   "execution_count": 8,
   "metadata": {},
   "outputs": [
    {
     "name": "stdout",
     "output_type": "stream",
     "text": [
      "9944247409\n"
     ]
    }
   ],
   "source": [
    "#5WAP to print the ascii numbers(Digits) characters in a given string.\n",
    "st='avcde9944sekjdhkj247409'\n",
    "res=''\n",
    "for i in st:\n",
    "    if '0'<=i<='9':\n",
    "        res+=i\n",
    "print(res)\n",
    "        "
   ]
  },
  {
   "cell_type": "code",
   "execution_count": 1,
   "metadata": {},
   "outputs": [
    {
     "name": "stdout",
     "output_type": "stream",
     "text": [
      "@\n",
      "!\n",
      "@\n",
      "#\n"
     ]
    }
   ],
   "source": [
    "#6 WAP to print the special characters in a given string.\n",
    "st='vahin@!@#3434'\n",
    "for i in st:\n",
    "    if not('A'<=i<='Z' or 'a'<=i<='z' or '0'<=i<='9'):\n",
    "        print(i)\n"
   ]
  },
  {
   "cell_type": "code",
   "execution_count": 2,
   "metadata": {},
   "outputs": [
    {
     "name": "stdout",
     "output_type": "stream",
     "text": [
      "A\n",
      "a\n",
      "a\n",
      "E\n",
      "a\n",
      "a\n"
     ]
    }
   ],
   "source": [
    "#7 WAP to Print the vowels in a given string.\n",
    "st='SAlaarThESaga'\n",
    "for i in st:\n",
    "    if i in 'aeiouAEIOU':\n",
    "        print(i)"
   ]
  },
  {
   "cell_type": "code",
   "execution_count": 3,
   "metadata": {},
   "outputs": [
    {
     "name": "stdout",
     "output_type": "stream",
     "text": [
      "S\n",
      "l\n",
      "r\n",
      "T\n",
      "h\n",
      "S\n",
      "g\n"
     ]
    }
   ],
   "source": [
    "#8 AP to Print the consonants in a given string.\n",
    "st='SAlaarThESaga'\n",
    "for i in st:\n",
    "    if i not in 'aeiouAEIOU':\n",
    "        print(i)"
   ]
  },
  {
   "cell_type": "code",
   "execution_count": 4,
   "metadata": {},
   "outputs": [
    {
     "name": "stdout",
     "output_type": "stream",
     "text": [
      "agas ehtraalas\n"
     ]
    }
   ],
   "source": [
    "#9 AP to print the reverse of the characters in a given string\n",
    "st='salaarthe saga'\n",
    "rev=''\n",
    "for i in st:\n",
    "    rev=i+rev\n",
    "print(rev)"
   ]
  },
  {
   "cell_type": "code",
   "execution_count": 5,
   "metadata": {},
   "outputs": [
    {
     "name": "stdout",
     "output_type": "stream",
     "text": [
      "v\n",
      "h\n",
      "n\n",
      " \n",
      "A\n",
      "I\n"
     ]
    }
   ],
   "source": [
    "#10 WAP to print even position values characters in a given string.\n",
    "st='vahini VAHIN'\n",
    "for i in range(len(st)):\n",
    "    if i%2==0:\n",
    "        print(st[i])"
   ]
  },
  {
   "cell_type": "code",
   "execution_count": 6,
   "metadata": {},
   "outputs": [
    {
     "name": "stdout",
     "output_type": "stream",
     "text": [
      "a\n",
      "i\n",
      "i\n",
      "V\n",
      "H\n",
      "N\n"
     ]
    }
   ],
   "source": [
    "#11 WAP to print odd position values characters in a given string.\n",
    "st='vahini VAHIN'\n",
    "for i in range(len(st)):\n",
    "    if i%2!=0:\n",
    "        print(st[i])"
   ]
  },
  {
   "cell_type": "code",
   "execution_count": 2,
   "metadata": {},
   "outputs": [
    {
     "name": "stdout",
     "output_type": "stream",
     "text": [
      "6 is total no of characters\n"
     ]
    }
   ],
   "source": [
    "#12 WAP to count the total Number of characters in a given string.(with \n",
    "# length function)\n",
    "def count1(value):\n",
    "    count=0\n",
    "    if type(value)==str:\n",
    "        for i in value:\n",
    "            count+=1\n",
    "        print(f'{count} is total no of characters')\n",
    "    else:\n",
    "        print('this is not a character')\n",
    "    \n",
    "count1('salaar')\n",
    "\n",
    "\n",
    "\n",
    "\n"
   ]
  },
  {
   "cell_type": "code",
   "execution_count": 6,
   "metadata": {},
   "outputs": [
    {
     "name": "stdout",
     "output_type": "stream",
     "text": [
      "6 is total no of characters\n"
     ]
    }
   ],
   "source": [
    "#13 WAP to count the total Number of characters in a given string.(without \n",
    "#length function\n",
    "def count1(value):\n",
    "    count=0\n",
    "    if type(value)==str:\n",
    "        for i in value:\n",
    "            count+=1\n",
    "        print(f'{count} is total no of characters')\n",
    "    else:\n",
    "        print('this is not a character')\n",
    "    \n",
    "count1('salaar')"
   ]
  },
  {
   "cell_type": "code",
   "execution_count": null,
   "metadata": {},
   "outputs": [],
   "source": [
    "#14 WAP to count alphabets in a given string.\n",
    "def count1(value):\n",
    "    count=0\n",
    "    if type(value)==str:\n",
    "        for i in value:\n",
    "            count+=1\n",
    "        print(f'{count} is total no of characters')\n",
    "    else:\n",
    "        print('this is not a character')\n",
    "    \n",
    "count1('salaar')"
   ]
  },
  {
   "cell_type": "code",
   "execution_count": 9,
   "metadata": {},
   "outputs": [
    {
     "name": "stdout",
     "output_type": "stream",
     "text": [
      "1 is total no of uppercase characters\n"
     ]
    }
   ],
   "source": [
    "#15 WAP to count Number of uppercase in a given string.\n",
    "def count1(value):\n",
    "    count=0\n",
    "    if type(value)==str:\n",
    "        for i in value:\n",
    "            if 'A'<=i<='Z':\n",
    "                count+=1\n",
    "        print(f'{count} is total no of uppercase characters')\n",
    "    else:\n",
    "        print('this is not a character')\n",
    "    \n",
    "count1('Salaar')"
   ]
  },
  {
   "cell_type": "code",
   "execution_count": 10,
   "metadata": {},
   "outputs": [
    {
     "name": "stdout",
     "output_type": "stream",
     "text": [
      "5 is total no of lowercase characters\n"
     ]
    }
   ],
   "source": [
    "#16  WAP to count lowercase in a given string.\n",
    "def count1(value):\n",
    "    count=0\n",
    "    if type(value)==str:\n",
    "        for i in value:\n",
    "            if 'a'<=i<='z':\n",
    "                count+=1\n",
    "        print(f'{count} is total no of lowercase characters')\n",
    "    else:\n",
    "        print('this is not a character')\n",
    "    \n",
    "count1('Salaar')"
   ]
  },
  {
   "cell_type": "code",
   "execution_count": 12,
   "metadata": {},
   "outputs": [
    {
     "name": "stdout",
     "output_type": "stream",
     "text": [
      "4 is total no of special characters\n"
     ]
    }
   ],
   "source": [
    "#17 WAP to count Number of special symbols in a given string.\n",
    "def count1(value):\n",
    "    count=0\n",
    "    if type(value)==str:\n",
    "        for i in value:\n",
    "            if not('A'<=i<='Z' or 'a'<=i<='z' or '0'<=i<='9'):\n",
    "                count+=1\n",
    "        print(f'{count} is total no of special characters')\n",
    "    else:\n",
    "        print('this is not a character')\n",
    "    \n",
    "count1('Vahini!@#$')"
   ]
  },
  {
   "cell_type": "code",
   "execution_count": 13,
   "metadata": {},
   "outputs": [
    {
     "name": "stdout",
     "output_type": "stream",
     "text": [
      "1 is total no of uppercase characters\n",
      "5 is total no of lowercase characters\n"
     ]
    }
   ],
   "source": [
    "#18 WAP to count uppercase and lowercase in a given string.\n",
    "def count1(value):\n",
    "    count=0\n",
    "    count1=0\n",
    "    if type(value)==str:\n",
    "        for i in value:\n",
    "            if 'A'<=i<='Z':\n",
    "                count+=1\n",
    "            if 'a'<=i<='z':\n",
    "                count1+=1\n",
    "        print(f'{count} is total no of uppercase characters')\n",
    "        print(f'{count1} is total no of lowercase characters')\n",
    "    else:\n",
    "        print('this is not a character')\n",
    "    \n",
    "count1('Salaar')"
   ]
  },
  {
   "cell_type": "code",
   "execution_count": 15,
   "metadata": {},
   "outputs": [
    {
     "name": "stdout",
     "output_type": "stream",
     "text": [
      "8 is total no of ASCII characters\n"
     ]
    }
   ],
   "source": [
    "#19 WAP to count Number of ascii numbers in a given string.\n",
    "def count1(value):\n",
    "    count=0\n",
    "    if type(value)==str:\n",
    "        for i in value:\n",
    "            if '0'<=i<='9':\n",
    "                count+=1\n",
    "        print(f'{count} is total no of ASCII characters')\n",
    "    else:\n",
    "        print('this is not a character')\n",
    "    \n",
    "count1('VAHINI27092002')"
   ]
  },
  {
   "cell_type": "code",
   "execution_count": 33,
   "metadata": {},
   "outputs": [
    {
     "name": "stdout",
     "output_type": "stream",
     "text": [
      "4 is total no of words\n"
     ]
    }
   ],
   "source": [
    "#20 WAP to Count Total Number of Words in a String.\n",
    "def count1(value):\n",
    "    count=1\n",
    "    # if value[0]==' 'or value[-1]==' ':\n",
    "    #     count=1\n",
    "    if type(value)==str:\n",
    "        for i in range(len(value)):\n",
    "            if value[i]==' ':\n",
    "                if i==0 and value[i]==' ':\n",
    "                    count=1\n",
    "                elif i==len(value)-1 and value[len(value)-1]==' ':\n",
    "                    count=count\n",
    "                else:\n",
    "                    count+=1            \n",
    "        print(f'{count} is total no of words')\n",
    "    else:\n",
    "        print('this is not a character')\n",
    "    \n",
    "count1(' Salaar tHE sAGA ')"
   ]
  },
  {
   "cell_type": "code",
   "execution_count": 41,
   "metadata": {},
   "outputs": [
    {
     "name": "stdout",
     "output_type": "stream",
     "text": [
      "no of spaces is 4\n",
      "not a str type\n",
      "None\n"
     ]
    }
   ],
   "source": [
    "#21  WAP to Count Total Number of spaces in a String.\n",
    "def count2(value):\n",
    "    count=0\n",
    "    if type(value)==str:\n",
    "        for i in value:\n",
    "            if i==' ':\n",
    "                count+=1\n",
    "            ans=f'no of spaces is {count}'\n",
    "        return ans\n",
    "    else:\n",
    "        print('not a str type')\n",
    "print(count2('1 2 3 4 '))\n",
    "print(count2(11))\n",
    "\n",
    "\n"
   ]
  },
  {
   "cell_type": "code",
   "execution_count": 44,
   "metadata": {},
   "outputs": [
    {
     "name": "stdout",
     "output_type": "stream",
     "text": [
      "no of vowels : 3\n"
     ]
    }
   ],
   "source": [
    "\n",
    "#22. WAP to Count Vowels in a String\n",
    "def vowels(val):\n",
    "    count=0\n",
    "    if type(val)==str:\n",
    "        for i in val:\n",
    "            if i in 'aeiouAEIOU':\n",
    "                count+=1\n",
    "        print(f'no of vowels : {count}')\n",
    "    else:\n",
    "        print('not a str type')\n",
    "vowels(val='vahini')    "
   ]
  },
  {
   "cell_type": "code",
   "execution_count": 48,
   "metadata": {},
   "outputs": [
    {
     "name": "stdout",
     "output_type": "stream",
     "text": [
      "no of consonents : 3\n"
     ]
    }
   ],
   "source": [
    "#23 WAP to Count consonants in a String.\n",
    "def consonents(val):\n",
    "    count=0\n",
    "    if type(val)==str:\n",
    "        for i in val:\n",
    "            if i  not in 'aeiouAEIOU' and ('A'<=i<='Z' or 'a'<=i<='z'):\n",
    "                count+=1\n",
    "        print(f'no of consonents : {count}')\n",
    "    else:\n",
    "        print('not a str type')\n",
    "consonents(val='vahini1111')"
   ]
  },
  {
   "cell_type": "code",
   "execution_count": 49,
   "metadata": {},
   "outputs": [
    {
     "name": "stdout",
     "output_type": "stream",
     "text": [
      "no of vowels : 3\n",
      "no of consonents : 3\n"
     ]
    }
   ],
   "source": [
    "#24  WAP to Count Vowels and Consonants in a String\n",
    "def vowels(val):\n",
    "    count=0\n",
    "    count1=0\n",
    "    if type(val)==str:\n",
    "        for i in val:\n",
    "            if i in 'aeiouAEIOU':\n",
    "                count+=1\n",
    "            if ('A'<= i<='Z' or 'a'<=i<='z') and i not in 'aeiouAEIOU':\n",
    "                count1+=1\n",
    "                \n",
    "        print(f'no of vowels : {count}')\n",
    "        print(f'no of consonents : {count1}')\n",
    "    else:\n",
    "        print('not a str type')\n",
    "vowels(val='vahini')"
   ]
  },
  {
   "cell_type": "code",
   "execution_count": 2,
   "metadata": {},
   "outputs": [
    {
     "name": "stdout",
     "output_type": "stream",
     "text": [
      "2\n"
     ]
    }
   ],
   "source": [
    "#25 WAP to count Number of new lines in a given string.\n",
    "def lines(val1):\n",
    "    count=0\n",
    "    if type(val1)==str:\n",
    "        for i in val1:\n",
    "            if i=='\\n':\n",
    "                count+=1\n",
    "        print(count)\n",
    "    else:\n",
    "        print('it is not string format input')\n",
    "a=\"\"\"salaar the \n",
    "saga \n",
    "to rule \"\"\"\n",
    "lines(a)\n",
    "\n"
   ]
  },
  {
   "cell_type": "code",
   "execution_count": 3,
   "metadata": {},
   "outputs": [
    {
     "name": "stdout",
     "output_type": "stream",
     "text": [
      "3 number of lines\n"
     ]
    }
   ],
   "source": [
    "#26 AP to count Number of lines in a given string\n",
    "def lines(val1):\n",
    "    count=1\n",
    "    if type(val1)==str:\n",
    "        for i in val1:\n",
    "            if i=='\\n':\n",
    "                count+=1\n",
    "        print(f'{count} number of lines')\n",
    "    else:\n",
    "        print('it is not string format input')\n",
    "a=\"\"\"salaar the \n",
    "saga \n",
    "to rule \"\"\"\n",
    "lines(a)\n",
    "\n"
   ]
  },
  {
   "cell_type": "code",
   "execution_count": 5,
   "metadata": {},
   "outputs": [
    {
     "name": "stdout",
     "output_type": "stream",
     "text": [
      "6 alphabets ,9 numbers,5 special characters\n"
     ]
    }
   ],
   "source": [
    "#27 WAP to count no of alphabets, numbers, and special characters in a given string\n",
    "def countchar(string1):\n",
    "    alp,num,sp=0,0,0\n",
    "    for i in string1:\n",
    "        if 'A'<=i<='Z' or 'a'<=i<='z':\n",
    "            alp+=1\n",
    "        elif '0'<=i<='9':\n",
    "            num+=1\n",
    "        else:\n",
    "            sp+=1\n",
    "    print(f'{alp} alphabets ,{num} numbers,{sp} special characters')\n",
    "countchar('vahini 27-09-20223!@')\n"
   ]
  },
  {
   "cell_type": "code",
   "execution_count": 16,
   "metadata": {},
   "outputs": [
    {
     "name": "stdout",
     "output_type": "stream",
     "text": [
      "5\n"
     ]
    }
   ],
   "source": [
    "#28  WAP to Count Total no of words in a first line of the Doc String.\n",
    "def firstlineword(var):\n",
    "    count=0\n",
    "    \n",
    "    for i in range(len(var)):\n",
    "        if var[i]!='\\n':\n",
    "            if i==0 and var[i]==' ':\n",
    "                count=1\n",
    "            elif var[i]==' ' and var[i+1]=='\\n':\n",
    "                count=count\n",
    "            elif var[i]==' ' and :\n",
    "                count+=1                      \n",
    "        else:\n",
    "            break\n",
    "    print(count)\n",
    "a=\"\"\"sallar the cease  \n",
    "saga\"\"\"\n",
    "firstlineword(a)\n",
    "\n",
    "\n",
    "\n",
    "\n"
   ]
  },
  {
   "cell_type": "code",
   "execution_count": 1,
   "metadata": {},
   "outputs": [
    {
     "data": {
      "text/plain": [
       "8"
      ]
     },
     "execution_count": 1,
     "metadata": {},
     "output_type": "execute_result"
    }
   ],
   "source": [
    "#29 . WAP to sum of digits in a given string.\n",
    "st='314'\n",
    "def sumofdigits(coll):\n",
    "    sum=0\n",
    "    for i in coll:\n",
    "        a=int(i)\n",
    "        sum+=a\n",
    "    return sum\n",
    "sumofdigits(st)\n",
    "        \n",
    "\n",
    "\n"
   ]
  },
  {
   "cell_type": "code",
   "execution_count": 12,
   "metadata": {},
   "outputs": [
    {
     "data": {
      "text/plain": [
       "(3, 'a', 11)"
      ]
     },
     "execution_count": 12,
     "metadata": {},
     "output_type": "execute_result"
    }
   ],
   "source": [
    "#30 WAP to Print nth Occurrence of a Character in a String.\n",
    "\n",
    "st='abcdefa123baa'\n",
    "def occur(coll,char,occure=0):\n",
    "    count=0\n",
    "    res=''\n",
    "    remain=''\n",
    "    for i in range(len(coll)):\n",
    "        if coll[i]!=char:\n",
    "            res+=coll[i]\n",
    "        else:\n",
    "            count+=1\n",
    "            if count==occure:\n",
    "                return count,char,i\n",
    "occur(st,'a',3)\n",
    "\n",
    "\n",
    "\n",
    "        \n",
    "\n",
    "        \n",
    "    \n"
   ]
  },
  {
   "cell_type": "code",
   "execution_count": 22,
   "metadata": {},
   "outputs": [
    {
     "name": "stdout",
     "output_type": "stream",
     "text": [
      "a (0, 6, 9, 12)\n"
     ]
    }
   ],
   "source": [
    "#31 WAP to Print Last Occurrence of a Character in a String.\n",
    "st='abcdefabvasua'\n",
    "res=''\n",
    "sp='a'\n",
    "r=()\n",
    "for i in range(len(st)):\n",
    "    if sp!=st[i]:\n",
    "        res+=st[i]\n",
    "    else:\n",
    "        r+=(i,)\n",
    "print(sp,r)\n",
    "\n"
   ]
  },
  {
   "cell_type": "code",
   "execution_count": 14,
   "metadata": {},
   "outputs": [
    {
     "data": {
      "text/plain": [
       "('v', 8)"
      ]
     },
     "execution_count": 14,
     "metadata": {},
     "output_type": "execute_result"
    }
   ],
   "source": [
    "#32 WAP to Print First not Occurrence of a Character in a String.\n",
    "st='abcdefabvasu'\n",
    "def firstnotocuur(coll,sp):\n",
    "    r=[]\n",
    "    for i in range(len(coll)):\n",
    "        if sp==coll[i]:\n",
    "            r=(i)\n",
    "    return sp,r\n",
    "firstnotocuur(st,'v')\n"
   ]
  },
  {
   "cell_type": "code",
   "execution_count": null,
   "metadata": {},
   "outputs": [],
   "source": [
    "#33 wAP to Print last not Occurrence of a Character in a String.\n",
    "\n"
   ]
  },
  {
   "cell_type": "code",
   "execution_count": 25,
   "metadata": {},
   "outputs": [
    {
     "name": "stdout",
     "output_type": "stream",
     "text": [
      "bujjuluahin v\n"
     ]
    }
   ],
   "source": [
    "#34 WAP to Remove First Occurrence of a Character in a String.\n",
    "st='bujjuluvahin'\n",
    "res=''\n",
    "count=0\n",
    "r=''\n",
    "sp='v'\n",
    "num=1\n",
    "for i in range(len(st)):\n",
    "    if st[i]!=sp:\n",
    "        res+=st[i]\n",
    "    else:\n",
    "        count+=1\n",
    "        if count==num:\n",
    "            r+=st[i]\n",
    "        else:\n",
    "            res+=st[i]\n",
    "print(res,r)\n"
   ]
  },
  {
   "cell_type": "code",
   "execution_count": 23,
   "metadata": {},
   "outputs": [
    {
     "name": "stdout",
     "output_type": "stream",
     "text": [
      "bujjul\n"
     ]
    }
   ],
   "source": [
    "#35 WAP to Remove Last Occurred Character in a String.\n",
    "st='bujjulu'\n",
    "ch='u'\n",
    "pos=0\n",
    "res=''\n",
    "rem=''\n",
    "for i in range(len(st)):\n",
    "    if ch==st[i]:\n",
    "        pos=i\n",
    "for i  in range(len(st)):\n",
    "    if st[i] not in res:\n",
    "        res+=st[i]\n",
    "    else:\n",
    "        if pos==i:\n",
    "            rem=st[i]\n",
    "        else:\n",
    "            res+=st[i]\n",
    "print(res)\n"
   ]
  },
  {
   "cell_type": "code",
   "execution_count": 25,
   "metadata": {},
   "outputs": [
    {
     "name": "stdout",
     "output_type": "stream",
     "text": [
      "2\n"
     ]
    }
   ],
   "source": [
    "#36 WAP to count the occurrence of a specific character in a given string.\n",
    "st='bujjulu'\n",
    "ch='j'\n",
    "count=0\n",
    "for i in st:\n",
    "    if ch==i:\n",
    "        count+=1\n",
    "print(count)"
   ]
  },
  {
   "cell_type": "code",
   "execution_count": 39,
   "metadata": {},
   "outputs": [
    {
     "name": "stdout",
     "output_type": "stream",
     "text": [
      "{'s': 2, 'a': 5, 'l': 1, 'r': 1, ' ': 2, 't': 1, 'h': 1, 'e': 1, 'g': 4}\n",
      "['s', 'a', 'l', 'r', ' ', 't', 'h', 'e', 'g']\n",
      "2 s\n",
      "5 a\n",
      "5 l\n",
      "5 r\n",
      "5  \n",
      "5 t\n",
      "5 h\n",
      "5 e\n",
      "5 g\n"
     ]
    }
   ],
   "source": [
    "#37 WAP to count the max occurrence of a character in a given string.\n",
    "st='salaar the sagaggg'\n",
    "res=''\n",
    "d={}\n",
    "for i in st:\n",
    "    count=0\n",
    "    for j in st:\n",
    "        if i==j:\n",
    "            count+=1\n",
    "        d[i]=count\n",
    "print(d)\n",
    "l=list(d)\n",
    "print(l)\n",
    "max=0\n",
    "for i in range(len(d)):\n",
    "    if max<d[l[i]]:\n",
    "        max=d[l[i]]\n",
    "    \n",
    "\\\n",
    "=]\n",
    "# print(max,l[i])\n",
    "\n",
    "\n",
    "\n",
    "\n",
    "\n",
    "        \n"
   ]
  },
  {
   "cell_type": "code",
   "execution_count": 20,
   "metadata": {},
   "outputs": [
    {
     "name": "stdout",
     "output_type": "stream",
     "text": [
      "{'s': 2, 'a': 5, 'l': 1, 'r': 1, ' ': 2, 't': 1, 'h': 1, 'e': 1, 'g': 1}\n",
      "1\n"
     ]
    }
   ],
   "source": [
    "#38 WAP to count the min occurrence of a character in a given string\n",
    "st='salaar the saga'\n",
    "d={}\n",
    "for i in st:\n",
    "    count=0\n",
    "    for j in st :\n",
    "        if i==j:\n",
    "            count+=1\n",
    "    d[i]=count\n",
    "print(d)  \n",
    "l=list(d)\n",
    "min=1000000\n",
    "for k in l:\n",
    "    if d[k]<min:\n",
    "        min=d[k] \n",
    "print(min)  \n"
   ]
  },
  {
   "cell_type": "code",
   "execution_count": 17,
   "metadata": {},
   "outputs": [
    {
     "name": "stdout",
     "output_type": "stream",
     "text": [
      "r 0\n"
     ]
    }
   ],
   "source": [
    "#39 WAP to count the repeats of a specific character in a given string.\n",
    "st='vahinsalaar'\n",
    "ch='r'\n",
    "repeat=-1\n",
    "for i in st:\n",
    "    if i==ch:\n",
    "        repeat+=1\n",
    "print(ch,repeat)\n",
    "\n",
    "    \n"
   ]
  },
  {
   "cell_type": "code",
   "execution_count": 21,
   "metadata": {},
   "outputs": [
    {
     "name": "stdout",
     "output_type": "stream",
     "text": [
      "{'v': 0, 'a': 5, 'h': 1, 'i': 0, 'n': 0, 's': 1, 'l': 0, 'r': 0, 't': 0, 'e': 0, 'g': 0}\n",
      "['v', 'a', 'h', 'i', 'n', 's', 'l', 'r', 't', 'e', 'g']\n",
      "{'a': 5}\n"
     ]
    }
   ],
   "source": [
    "#40 WAP to count the max repeated character in a given string.\n",
    "st='vahinsalaarthesaga'\n",
    "d={}\n",
    "for i in st:\n",
    "    repeat=-1\n",
    "    for j in st:\n",
    "        if i==j:\n",
    "            repeat+=1\n",
    "    d[i]=repeat\n",
    "print(d)\n",
    "l=list(d)\n",
    "print(l)\n",
    "max=0\n",
    "d1={}\n",
    "for m in l:\n",
    "    if d[m]>max:\n",
    "        max=d[m]\n",
    "        d1[m]=max\n",
    "print(d1)        \n",
    "            \n"
   ]
  },
  {
   "cell_type": "code",
   "execution_count": 9,
   "metadata": {},
   "outputs": [
    {
     "name": "stdout",
     "output_type": "stream",
     "text": [
      "{'v': 1, 'a': 5, 'h': 1, 'i': 3, 'n': 1, 's': 2, 'l': 1, 'r': 2, 'c': 1, 'e': 3, 'f': 1}\n",
      "1 {'v': 1, 'a': 1, 'h': 1, 'i': 1, 'n': 1, 's': 1, 'l': 1, 'r': 1, 'c': 1, 'e': 1, 'f': 1}\n"
     ]
    }
   ],
   "source": [
    "#41 WAP to count the min repeated character in a given string.\n",
    "st='vahinisalaarceasefire'\n",
    "d={}\n",
    "for i in st:\n",
    "    repeat=0\n",
    "    for j in st:\n",
    "        if i==j:\n",
    "            repeat+=1\n",
    "    d[i]=repeat\n",
    "print(d)\n",
    "l=list(d)\n",
    "min=100000\n",
    "d1={}\n",
    "for k in l:\n",
    "    if min>d[k]:\n",
    "        min=d[k]\n",
    "    d1[k]=min\n",
    "print(min,d1)\n",
    "\n",
    "\n",
    "            "
   ]
  },
  {
   "cell_type": "code",
   "execution_count": 17,
   "metadata": {},
   "outputs": [
    {
     "name": "stdout",
     "output_type": "stream",
     "text": [
      "Salaar the Saga\n"
     ]
    }
   ],
   "source": [
    "#42 WAP to replace a specific character into a new character\n",
    "st='salaar the saga'\n",
    "old='s'\n",
    "ch='S'\n",
    "res=''\n",
    "for i in st:\n",
    "    if i!=old:\n",
    "        res+=i\n",
    "    else:\n",
    "        res+=ch\n",
    "print(res)\n",
    "\n",
    "\n"
   ]
  },
  {
   "cell_type": "code",
   "execution_count": 26,
   "metadata": {},
   "outputs": [
    {
     "name": "stdout",
     "output_type": "stream",
     "text": [
      "!VAHINI123\n"
     ]
    },
    {
     "data": {
      "text/plain": [
       "'!vAhini123'"
      ]
     },
     "execution_count": 26,
     "metadata": {},
     "output_type": "execute_result"
    }
   ],
   "source": [
    "#43 WAP to convert lowercase to uppercase in a given string.\n",
    "st='!VAhini123'\n",
    "res=''\n",
    "for i in st:\n",
    "    if 'a'<=i<='z':\n",
    "        res+=chr(ord(i)-32)\n",
    "    else:\n",
    "        res+=i\n",
    "print(res)\n",
    "\n",
    "def lower(coll,ele):\n",
    "    if type(coll)!=str or type(ele)!=str:\n",
    "        return -1\n",
    "    res=''\n",
    "    for i in coll:\n",
    "        if 'A'<=i<='Z' and i==ele:\n",
    "            res+=chr(ord(i)+32)\n",
    "        else:\n",
    "            res+=i\n",
    "    return res\n",
    "lower(st,'V')\n"
   ]
  },
  {
   "cell_type": "code",
   "execution_count": 24,
   "metadata": {},
   "outputs": [
    {
     "data": {
      "text/plain": [
       "'!VAhInIQ123'"
      ]
     },
     "execution_count": 24,
     "metadata": {},
     "output_type": "execute_result"
    }
   ],
   "source": [
    "#44 WAP to convert lowercase to uppercase in a given string.\n",
    "def upper(coll,ele):\n",
    "    if type(coll)!=str or type(ele)!=str:\n",
    "        return -1\n",
    "    res=''\n",
    "    for i in coll:\n",
    "        if 'a'<=i<='z' and i==ele:\n",
    "            res+=chr(ord(i)-32)\n",
    "        else:\n",
    "            res+=i\n",
    "    return res\n",
    "upper(st,'i')\n"
   ]
  },
  {
   "cell_type": "code",
   "execution_count": 32,
   "metadata": {},
   "outputs": [
    {
     "data": {
      "text/plain": [
       "'salaar'"
      ]
     },
     "execution_count": 32,
     "metadata": {},
     "output_type": "execute_result"
    }
   ],
   "source": [
    "#45 WAP to convert uppercase to lowercase in even position characters in a given string.\n",
    "s='SaLaar'\n",
    "def evenlower(coll):\n",
    "    if type(coll)!=str:\n",
    "        return -1\n",
    "    res=''\n",
    "    for i in range(len(coll)):\n",
    "        if i%2==0 and 'A'<=coll[i]<='Z':\n",
    "            res+=chr(ord(coll[i])+32)\n",
    "        else:\n",
    "            res+=coll[i]\n",
    "    return res\n",
    "evenlower(s)"
   ]
  },
  {
   "cell_type": "code",
   "execution_count": 1,
   "metadata": {},
   "outputs": [
    {
     "data": {
      "text/plain": [
       "'SaLaAr'"
      ]
     },
     "execution_count": 1,
     "metadata": {},
     "output_type": "execute_result"
    }
   ],
   "source": [
    "#46 WAP to convert uppercase to lowercase in odd position characters in a given string.\n",
    "s='SALAAR'\n",
    "def oddlower(coll):\n",
    "    if type(coll)!=str:\n",
    "        return -1\n",
    "    res=''\n",
    "    for i in range(len(coll)):\n",
    "        if i%2!=0 and 'A'<=coll[i]<='Z':\n",
    "            res+=chr(ord(coll[i])+32)\n",
    "        else:\n",
    "            res+=coll[i]\n",
    "    return res\n",
    "oddlower(s)\n"
   ]
  },
  {
   "cell_type": "code",
   "execution_count": 2,
   "metadata": {},
   "outputs": [
    {
     "data": {
      "text/plain": [
       "'sAlaaR**'"
      ]
     },
     "execution_count": 2,
     "metadata": {},
     "output_type": "execute_result"
    }
   ],
   "source": [
    "#47 WAP to convert the uppercase letter to lowercase letter and lowercase \n",
    "#letter to uppercase letter,if the character is special symbol replace \n",
    "#with * for the given input string \n",
    "st='SaLAAr@!'\n",
    "def covert(coll):\n",
    "    res=''\n",
    "    for i in coll:\n",
    "        if 'a'<=i<='z':\n",
    "            res+=chr(ord(i)-32)\n",
    "        elif 'A'<=i<='Z':\n",
    "            res+=chr(ord(i)+32)\n",
    "        elif not('A'<=i<='Z' or 'a'<=i<='z' or '0'<=i<='9'):\n",
    "            res+='*'\n",
    "        else:\n",
    "            res+=i\n",
    "    return res\n",
    "covert(st)\n"
   ]
  },
  {
   "cell_type": "code",
   "execution_count": 8,
   "metadata": {},
   "outputs": [
    {
     "data": {
      "text/plain": [
       "'1E'"
      ]
     },
     "execution_count": 8,
     "metadata": {},
     "output_type": "execute_result"
    }
   ],
   "source": [
    "#48 WAP to convert title case in a given string.\n",
    "st='1ello world @!ab 1asdf end'\n",
    "def u_title(coll):\n",
    "    res=''\n",
    "    if 'a'<=coll[0]<='z':\n",
    "        res+=chr(ord(coll[0])-32)\n",
    "    elif 'A'<= coll[0]<='Z':\n",
    "        res+=chr(ord(coll[0])+32)\n",
    "    else:\n",
    "        res+=coll[0]\n",
    "        if 'a'<=coll[0+1]<='z':\n",
    "            res+=chr(ord(coll[0+1])-32)\n",
    "    for i in range(1,len(coll)):\n",
    "        \n",
    "        \n",
    "        \n",
    "\n",
    "\n",
    "    return res\n",
    "u_title(st)\n"
   ]
  },
  {
   "cell_type": "code",
   "execution_count": 30,
   "metadata": {},
   "outputs": [
    {
     "name": "stdout",
     "output_type": "stream",
     "text": [
      "Hh!Ello Wo#Rld @!Ab 1Asdf @@@@Znd\n"
     ]
    }
   ],
   "source": [
    "\n",
    "st='h!Ello wo#Rld @!Ab 1asdf @@@@Znd'\n",
    "res=''\n",
    "if 'a'<=st[0]<='z':\n",
    "    res+=chr(ord(st[0])-32)  \n",
    "for i  in range(0,len(st)):\n",
    "    if ('a'<=st[i]<='z') and not('A'<=st[i-1]<='Z' or 'a'<=st[i-1]<='z'):\n",
    "        res+=chr(ord(st[i])-32)\n",
    "    elif 'A'<=st[i]<='Z':\n",
    "        res+=st[i]\n",
    "    else:\n",
    "        res+=st[i]\n",
    "print(res)\n",
    "\n",
    "\n",
    "\n"
   ]
  },
  {
   "cell_type": "code",
   "execution_count": null,
   "metadata": {},
   "outputs": [],
   "source": []
  },
  {
   "cell_type": "code",
   "execution_count": null,
   "metadata": {},
   "outputs": [],
   "source": [
    "#49 "
   ]
  },
  {
   "cell_type": "code",
   "execution_count": null,
   "metadata": {},
   "outputs": [],
   "source": [
    "#50 "
   ]
  },
  {
   "cell_type": "code",
   "execution_count": 6,
   "metadata": {},
   "outputs": [
    {
     "name": "stdout",
     "output_type": "stream",
     "text": [
      "s 97l 97 97r\n"
     ]
    }
   ],
   "source": [
    "#51 WAP to replace vowels into ascii values in a given string.(both with and with temp variable)\n",
    "st='salaar'\n",
    "res=''\n",
    "for i in st:\n",
    "    if i in 'aeiouAEIOU':\n",
    "        res+=str(ord(i))\n",
    "    else:\n",
    "        res+=i\n",
    "print(res)\n"
   ]
  },
  {
   "cell_type": "code",
   "execution_count": 7,
   "metadata": {},
   "outputs": [
    {
     "name": "stdout",
     "output_type": "stream",
     "text": [
      "115a108aa114\n"
     ]
    }
   ],
   "source": [
    "#52 WAP to replace consonants into ascii values in a given string. (both with and with temp variable).\n",
    "st='salaar'\n",
    "res=''\n",
    "for i in st:\n",
    "    if i  not in 'aeiouAEIOU':\n",
    "        res+=str(ord(i))\n",
    "    else:\n",
    "        res+=i\n",
    "print(res)\n"
   ]
  },
  {
   "cell_type": "code",
   "execution_count": 10,
   "metadata": {},
   "outputs": [
    {
     "name": "stdout",
     "output_type": "stream",
     "text": [
      "115a108aa114116104e115aa103a\n"
     ]
    },
    {
     "data": {
      "text/plain": [
       "'115a108aa114116104e115aa103a'"
      ]
     },
     "execution_count": 10,
     "metadata": {},
     "output_type": "execute_result"
    }
   ],
   "source": [
    "#53 WAP to replace consonants to ascii values in odd position characters \n",
    "#in a given string.(both with and with temp variable)\n",
    "st='salaarthesaaga'\n",
    "res=''\n",
    "for i in range(0,len(st)):\n",
    "    if st[i] not in 'aeiouAEIOU':\n",
    "        res+=str(ord(st[i]))\n",
    "    else:\n",
    "        res+=st[i]\n",
    "print(res)\n",
    "\n",
    "def constoascii(coll):\n",
    "    res=''\n",
    "    for i in range(0,len(coll)):\n",
    "        if coll[i] not in 'aeiouAEIOU':\n",
    "            res+=str(ord(coll[i]))\n",
    "        else:\n",
    "            res+=coll[i]\n",
    "    return res\n",
    "constoascii(st)\n",
    "\n"
   ]
  },
  {
   "cell_type": "code",
   "execution_count": 12,
   "metadata": {},
   "outputs": [
    {
     "name": "stdout",
     "output_type": "stream",
     "text": [
      "s97l9797rth101s9797g97\n"
     ]
    },
    {
     "data": {
      "text/plain": [
       "'s97l9797rth101s9797g97'"
      ]
     },
     "execution_count": 12,
     "metadata": {},
     "output_type": "execute_result"
    }
   ],
   "source": [
    "#54 WAP to replace vowels to ascii values in even position characters in a \n",
    "#given string.(both with and with temp variable)\n",
    "\n",
    "st='salaarthesaaga'\n",
    "res=''\n",
    "for i in range(0,len(st)):\n",
    "    if st[i]  in 'aeiouAEIOU':\n",
    "        res+=str(ord(st[i]))\n",
    "    else:\n",
    "        res+=st[i]\n",
    "print(res)\n",
    "\n",
    "def vowelascii(coll):\n",
    "    res=''\n",
    "    for i in range(0,len(coll)):\n",
    "        if coll[i]  in 'aeiouAEIOU':\n",
    "            res+=str(ord(coll[i]))\n",
    "        else:\n",
    "            res+=coll[i]\n",
    "    return res\n",
    "vowelascii(st)\n"
   ]
  },
  {
   "cell_type": "code",
   "execution_count": 27,
   "metadata": {},
   "outputs": [
    {
     "name": "stdout",
     "output_type": "stream",
     "text": [
      "salaar-t-he-saga\n",
      "salaar-t-he-saga\n"
     ]
    }
   ],
   "source": [
    "#55 WAP to Replace white Spaces with Hyphen in a String.(both with and with temp variable)\n",
    "st='salaar t he saga'\n",
    "res=''\n",
    "for i in st:\n",
    "    if i==' ':\n",
    "        res+='-'\n",
    "    else:\n",
    "        res+=i\n",
    "print(res)\n",
    "\n",
    "for i in range(0,len(st)):\n",
    "    if st[i]==' ':\n",
    "        st=st[:i]+'-'+st[i+1:]\n",
    "print(st)    \n"
   ]
  },
  {
   "cell_type": "code",
   "execution_count": 34,
   "metadata": {},
   "outputs": [
    {
     "name": "stdout",
     "output_type": "stream",
     "text": [
      "vhn es ie\n"
     ]
    }
   ],
   "source": [
    "#56  WAP to Remove Odd position Characters in a given String.\n",
    "st='vahini cease fire'\n",
    "res=''\n",
    "for i in range(0,len(st)):\n",
    "    if i%2==0:\n",
    "        res+=st[i]\n",
    "        \n",
    "        # st=st[:i]+st[i+1:]\n",
    "print(res)\n"
   ]
  },
  {
   "cell_type": "code",
   "execution_count": 35,
   "metadata": {},
   "outputs": [
    {
     "name": "stdout",
     "output_type": "stream",
     "text": [
      "aiicaefr\n"
     ]
    }
   ],
   "source": [
    "#57   WAP to Remove even position Characters in a given String.\n",
    "st='vahini cease fire'\n",
    "res=''\n",
    "for i in range(0,len(st)):\n",
    "    if i%2!=0:\n",
    "        res+=st[i]\n",
    "        \n",
    "        # st=st[:i]+st[i+1:]\n",
    "print(res)"
   ]
  },
  {
   "cell_type": "code",
   "execution_count": 39,
   "metadata": {},
   "outputs": [
    {
     "name": "stdout",
     "output_type": "stream",
     "text": [
      " @1@14@3$5\n"
     ]
    }
   ],
   "source": [
    "#58  WAP to Remove alphabets in a given String.\n",
    "st='vahiNi @1@14@3$5'\n",
    "res=''\n",
    "for i in st:\n",
    "    if not('a'<=i<='z' or 'A'<=i<='Z'):\n",
    "        res+=i\n",
    "print(res)\n",
    "\n",
    "    "
   ]
  },
  {
   "cell_type": "code",
   "execution_count": 1,
   "metadata": {},
   "outputs": [
    {
     "name": "stdout",
     "output_type": "stream",
     "text": [
      "salaar\n"
     ]
    }
   ],
   "source": [
    "#59 WAP to Remove ascii numbers in a given String.\n",
    "st='salaar27092023'\n",
    "res=''\n",
    "for i in st:\n",
    "    if not('0'<=i<='9'):\n",
    "        res+=i\n",
    "print(res)\n",
    "\n"
   ]
  },
  {
   "cell_type": "code",
   "execution_count": 8,
   "metadata": {},
   "outputs": [
    {
     "name": "stdout",
     "output_type": "stream",
     "text": [
      "vahinidevi\n"
     ]
    }
   ],
   "source": [
    "#60 WAP to Remove special characters in a given String.\n",
    "st='vahini devi !@#'\n",
    "start=0\n",
    "res=''\n",
    "while start<len(st):\n",
    "    if ('A'<=st[start]<='Z' or 'a'<=st[start]<='z' or '0'<=st[start]<='9'):\n",
    "        res+=st[start]\n",
    "    start+=1\n",
    "print(res)"
   ]
  },
  {
   "cell_type": "code",
   "execution_count": 12,
   "metadata": {},
   "outputs": [
    {
     "data": {
      "text/plain": [
       "('not a palindrome', 'inihiav')"
      ]
     },
     "execution_count": 12,
     "metadata": {},
     "output_type": "execute_result"
    }
   ],
   "source": [
    "#61  WAP to check if the given string is Palindrome or Not.\n",
    "st='vaihini'\n",
    "def u_palindrome(coll):\n",
    "    start=0\n",
    "    res=''\n",
    "    while start<len(coll):\n",
    "        res=coll[start]+res\n",
    "        start+=1\n",
    "    if res==coll:\n",
    "        return 'palindrome',res\n",
    "    return 'not a palindrome',res\n",
    "u_palindrome(st)\n",
    "\n"
   ]
  },
  {
   "cell_type": "code",
   "execution_count": 39,
   "metadata": {},
   "outputs": [
    {
     "name": "stdout",
     "output_type": "stream",
     "text": [
      "lowercase\n"
     ]
    },
    {
     "data": {
      "text/plain": [
       "'lowercase'"
      ]
     },
     "execution_count": 39,
     "metadata": {},
     "output_type": "execute_result"
    }
   ],
   "source": [
    "#62  WAP to check whether the given string is lowercase or not.\n",
    "st='vahini!@#!!!123'\n",
    "res=''\n",
    "for i in st:\n",
    "    if not('A'<=i<='Z'):\n",
    "        res+=i\n",
    "    else:\n",
    "        print('not a lowercase')\n",
    "        break\n",
    "if st==res:\n",
    "    print('lowercase')\n",
    "\n",
    "def u_lowercase(coll):\n",
    "    i=0\n",
    "    res=''\n",
    "    while i<len(coll):\n",
    "        if not('A'<=coll[i]<='Z'):\n",
    "            res+=coll[i]\n",
    "        i+=1\n",
    "    if res==coll:\n",
    "        return 'lowercase'\n",
    "    else:\n",
    "        return 'not a lowercase'\n",
    "u_lowercase(st)\n",
    "        \n",
    "        \n"
   ]
  },
  {
   "cell_type": "code",
   "execution_count": 40,
   "metadata": {},
   "outputs": [
    {
     "data": {
      "text/plain": [
       "True"
      ]
     },
     "execution_count": 40,
     "metadata": {},
     "output_type": "execute_result"
    }
   ],
   "source": [
    "#63 WAP to check whether the given number is string or not\n",
    "    "
   ]
  },
  {
   "cell_type": "code",
   "execution_count": 44,
   "metadata": {},
   "outputs": [
    {
     "name": "stdout",
     "output_type": "stream",
     "text": [
      "eoo123aii\n"
     ]
    }
   ],
   "source": [
    "#64 I/p: ‘hello world 123 haii’\n",
    "#o/p:’eoo123aii’\n",
    "\n",
    "st='hello world 123 haii'\n",
    "res=''\n",
    "for i in st:\n",
    "    if i in 'aeiouAEIOU':\n",
    "        res+=i\n",
    "    elif '0'<=i<='9':\n",
    "        res+=i\n",
    "print(res)\n",
    "\n"
   ]
  },
  {
   "cell_type": "code",
   "execution_count": 47,
   "metadata": {},
   "outputs": [
    {
     "name": "stdout",
     "output_type": "stream",
     "text": [
      "eo o 123 aii\n"
     ]
    }
   ],
   "source": [
    "#65 I/p: ‘hello world 123 haii’\n",
    "#o/p:’eo o 123 aii’\n",
    "st='hello world 123 haii'\n",
    "res=''\n",
    "for i in st:\n",
    "    if i in 'aeiouAEIOU':\n",
    "        res+=i\n",
    "    elif '0'<=i<='9':\n",
    "        res+=i\n",
    "    elif i==' ':\n",
    "        res+=i\n",
    "print(res)"
   ]
  },
  {
   "cell_type": "code",
   "execution_count": 48,
   "metadata": {},
   "outputs": [
    {
     "name": "stdout",
     "output_type": "stream",
     "text": [
      "eo o  aii\n"
     ]
    }
   ],
   "source": [
    "#66 I/p: ‘hello world 123 haii’\n",
    "#o/p:'eo o aii'\n",
    "st='hello world 123 haii'\n",
    "res=''\n",
    "for i in st:\n",
    "    if i in 'aeiouAEIOU':\n",
    "        res+=i\n",
    "    elif i==' ':\n",
    "        res+=i\n",
    "print(res)"
   ]
  },
  {
   "cell_type": "code",
   "execution_count": 56,
   "metadata": {},
   "outputs": [
    {
     "name": "stdout",
     "output_type": "stream",
     "text": [
      "hll wrl 12 h\n",
      "eood3aii\n"
     ]
    }
   ],
   "source": [
    "#67 I/p: ‘hello world 123 haii’\n",
    "#o/p:’hll world haii'\n",
    "st='hello world 123 haii'\n",
    "res=''\n",
    "rev=''\n",
    "for i in range(0,len(st)):\n",
    "    if st[i] not in 'aeiouAEIOU':\n",
    "        res+=st[i]\n",
    "        if st[i+1]==' ':\n",
    "              \n",
    "\n",
    "    else:\n",
    "        rev+=st[i]\n",
    "print(res)\n",
    "print(rev)"
   ]
  },
  {
   "cell_type": "code",
   "execution_count": 57,
   "metadata": {},
   "outputs": [
    {
     "name": "stdout",
     "output_type": "stream",
     "text": [
      "eoo hllwrld\n"
     ]
    }
   ],
   "source": [
    "#68 i/p:’hello world’\n",
    "#o/p:’hll wrld’\n",
    "#o/p:’eoo’\n",
    "st='hello world'\n",
    "conso=''\n",
    "vowels=''\n",
    "for i in st:\n",
    "    if 'A'<=i<='Z' or 'a'<=i<='z':\n",
    "        if i in 'aeiouAEIOU':\n",
    "            vowels+=i\n",
    "        else:\n",
    "            conso+=i\n",
    "print(vowels,conso)\n",
    "            "
   ]
  },
  {
   "cell_type": "code",
   "execution_count": 60,
   "metadata": {},
   "outputs": [
    {
     "name": "stdout",
     "output_type": "stream",
     "text": [
      "eoo hllwrld 12344\n"
     ]
    }
   ],
   "source": [
    "#69 i/p:’12hello3 4world4’\n",
    "# o/p:’hll wrld’\n",
    "# o/p:’eoo’\n",
    "# o/p:’12344’\n",
    "st='12hello3 4world4'\n",
    "conso=''\n",
    "vowels=''\n",
    "num=''\n",
    "for i in st:\n",
    "    if 'A'<=i<='Z' or 'a'<=i<='z':\n",
    "        if i in 'aeiouAEIOU':\n",
    "            vowels+=i\n",
    "        else:\n",
    "            conso+=i\n",
    "    elif '0'<=i<='9':\n",
    "        num+=i\n",
    "print(vowels,conso,num)\n",
    "\n"
   ]
  },
  {
   "cell_type": "code",
   "execution_count": 63,
   "metadata": {},
   "outputs": [
    {
     "name": "stdout",
     "output_type": "stream",
     "text": [
      "eoo hllwrld 12344 (*$ $#*)\n"
     ]
    }
   ],
   "source": [
    "#70 i/p:’(*12hello3$ $4#world4*)’\n",
    "# o/p:’hllwrld’\n",
    "# o/p:’eoo’\n",
    "# o/p:’12344’\n",
    "# o/p:’(*$ $#*)\n",
    "st='(*12hello3$ $4#world4*)'\n",
    "conso=''\n",
    "vowels=''\n",
    "num=''\n",
    "sp=''\n",
    "for i in st:\n",
    "    if 'A'<=i<='Z' or 'a'<=i<='z':\n",
    "        if i in 'aeiouAEIOU':\n",
    "            vowels+=i\n",
    "        else:\n",
    "            conso+=i\n",
    "    elif '0'<=i<='9':\n",
    "        num+=i\n",
    "    else:\n",
    "        sp+=i\n",
    "print(vowels,conso,num,sp)"
   ]
  },
  {
   "cell_type": "code",
   "execution_count": 67,
   "metadata": {},
   "outputs": [
    {
     "name": "stdout",
     "output_type": "stream",
     "text": [
      ")*#$ $*( 44321 ooe dlrwllh\n"
     ]
    }
   ],
   "source": [
    "#71 i/p: ’(*12hello3$ $4#world4*)’\n",
    "# o/p: ')*#$ $*(,44321,ooe,dlrwllh'\n",
    "st='(*12hello3$ $4#world4*)'\n",
    "i=len(st)-1\n",
    "vowels,conso,num,sp='','','',''\n",
    "while i>=0:\n",
    "        if 'A'<=st[i]<='Z' or 'a'<=st[i]<='z':\n",
    "            if st[i] in 'aeiouAEIOU':\n",
    "                vowels+=st[i]\n",
    "            else:\n",
    "                conso+=st[i]\n",
    "        elif '0'<=st[i]<='9':\n",
    "            num+=st[i]\n",
    "        else:\n",
    "            sp+=st[i]\n",
    "        i-=1\n",
    "print(sp,num,vowels,conso)\n",
    "\n",
    "\n",
    "\n"
   ]
  },
  {
   "cell_type": "code",
   "execution_count": 68,
   "metadata": {},
   "outputs": [
    {
     "name": "stdout",
     "output_type": "stream",
     "text": [
      "(*$ $#*) 12344 eoo hllwrld\n"
     ]
    }
   ],
   "source": [
    "#72 . i/p:’(*12hello3$ $4#world4*)’\n",
    "# o/p:’hllwrld,eoo,12344,(*$ $#*)’\n",
    "st='(*12hello3$ $4#world4*)'\n",
    "i=0\n",
    "vowels,conso,num,sp='','','',''\n",
    "while i<len(st):\n",
    "        if 'A'<=st[i]<='Z' or 'a'<=st[i]<='z':\n",
    "            if st[i] in 'aeiouAEIOU':\n",
    "                vowels+=st[i]\n",
    "            else:\n",
    "                conso+=st[i]\n",
    "        elif '0'<=st[i]<='9':\n",
    "            num+=st[i]\n",
    "        else:\n",
    "            sp+=st[i]\n",
    "        i+=1\n",
    "print(sp,num,vowels,conso)"
   ]
  },
  {
   "cell_type": "code",
   "execution_count": 70,
   "metadata": {},
   "outputs": [
    {
     "name": "stdout",
     "output_type": "stream",
     "text": [
      "hllwrld eoo 12344 (*$ $#*)\n"
     ]
    }
   ],
   "source": [
    "#73 i/p:’(*12hello3$ $4#world4*)’\n",
    "# o/p:’hllwrld,eoo,12344,(*$ $#*)’\n",
    "st='(*12hello3$ $4#world4*)'\n",
    "i=0\n",
    "vowels,conso,num,sp='','','',''\n",
    "while i<len(st):\n",
    "        if 'A'<=st[i]<='Z' or 'a'<=st[i]<='z':\n",
    "            if st[i] in 'aeiouAEIOU':\n",
    "                vowels+=st[i]\n",
    "            else:\n",
    "                conso+=st[i]\n",
    "        elif '0'<=st[i]<='9':\n",
    "            num+=st[i]\n",
    "        else:\n",
    "            sp+=st[i]\n",
    "        i+=1\n",
    "print(conso,vowels,num,sp)"
   ]
  },
  {
   "cell_type": "code",
   "execution_count": 2,
   "metadata": {},
   "outputs": [
    {
     "name": "stdout",
     "output_type": "stream",
     "text": [
      "hllwrld )*#$ $*( eoo 44321\n"
     ]
    }
   ],
   "source": [
    "#74 i/p: ’(*12hello3$ $4#world4*)’\n",
    "# o/p:’,hllwrld,)*#$ $*(’,eoo,44321\n",
    "st='(*12hello3$ $4#world4*)'\n",
    "i=0\n",
    "vowels,conso,num,sp='','','',''\n",
    "while i<len(st):\n",
    "    if 'A'<=st[i]<='Z' or 'a'<=st[i]<='z':\n",
    "        if st[i] not in 'aeiouAEIOU':\n",
    "            conso+=st[i]\n",
    "        else:\n",
    "            vowels+=st[i]\n",
    "    elif '0'<=st[i]<='9':\n",
    "        num=st[i]+num\n",
    "    else:\n",
    "        sp=st[i]+sp\n",
    "    i+=1\n",
    "print(conso,sp,vowels,num)\n",
    "\n"
   ]
  },
  {
   "cell_type": "code",
   "execution_count": 3,
   "metadata": {},
   "outputs": [
    {
     "name": "stdout",
     "output_type": "stream",
     "text": [
      "dlrwllh )*#$ $*( eoo 44321\n"
     ]
    }
   ],
   "source": [
    "#75 i/p: ’(*12hello3$ $4#world4*)’\n",
    "# o/p:’dlrwllh)*#$ $*(ooe44321’\n",
    "st='(*12hello3$ $4#world4*)'\n",
    "i=0\n",
    "vowels,conso,num,sp='','','',''\n",
    "while i<len(st):\n",
    "    if 'A'<=st[i]<='Z' or 'a'<=st[i]<='z':\n",
    "        if st[i] not in 'aeiouAEIOU':\n",
    "            conso=st[i]+conso\n",
    "        else:\n",
    "            vowels+=st[i]\n",
    "    elif '0'<=st[i]<='9':\n",
    "        num=st[i]+num\n",
    "    else:\n",
    "        sp=st[i]+sp\n",
    "    i+=1\n",
    "print(conso,sp,vowels,num)"
   ]
  },
  {
   "cell_type": "code",
   "execution_count": 7,
   "metadata": {},
   "outputs": [
    {
     "name": "stdout",
     "output_type": "stream",
     "text": [
      "h$ll*w*rld\n"
     ]
    }
   ],
   "source": [
    "#76 I/p:’HELLOWORLD’\n",
    "#o/p:’h$ll*w*rld’\n",
    "st='HELLOWORLD'\n",
    "i=0\n",
    "res=''\n",
    "while i <len(st):\n",
    "    if 'A'<=st[i]<='Z':\n",
    "        if st[i] in 'AEIOU':\n",
    "            if st[i]=='E':\n",
    "                res+='$'\n",
    "            elif st[i]=='O':\n",
    "                res+='*'\n",
    "        else:\n",
    "            res+=chr(ord(st[i])+32)\n",
    "    i+=1\n",
    "print(res)"
   ]
  },
  {
   "cell_type": "code",
   "execution_count": 18,
   "metadata": {},
   "outputs": [
    {
     "name": "stdout",
     "output_type": "stream",
     "text": [
      "hllwrld21\n"
     ]
    }
   ],
   "source": [
    "#77 #I/p:’123HELLO WORLD456’\n",
    "#o/p:’hllwrld21’\n",
    "st='123HELLO WORLD456'\n",
    "i=0\n",
    "res=''\n",
    "sum=0\n",
    "while i<len(st):\n",
    "    if 'A'<=st[i]<='Z':\n",
    "        if st[i] not in 'AEIOU':\n",
    "            res+=chr(ord(st[i])+32)\n",
    "    elif '0'<=st[i]<='9':\n",
    "        sum=int(st[i])+sum\n",
    "    i+=1\n",
    "res=res+str(sum)\n",
    "print(res)\n",
    "                   "
   ]
  },
  {
   "cell_type": "code",
   "execution_count": 21,
   "metadata": {},
   "outputs": [
    {
     "name": "stdout",
     "output_type": "stream",
     "text": [
      "123hEllO wOrld456\n"
     ]
    }
   ],
   "source": [
    "#78 #I/p:’123HELLO WORLD456’\n",
    "#o/p:’123hEllO wOrld456’\n",
    "st='123HELLO WORLD456'\n",
    "i=0\n",
    "res=''\n",
    "while i<len(st):\n",
    "    if 'A'<=st[i]<='z':\n",
    "        if 'A'<=st[i]<='Z':\n",
    "            if st[i] not in 'AEIOU':\n",
    "                res+=chr(ord(st[i])+32)\n",
    "            else:\n",
    "                res+=st[i]\n",
    "    elif '0'<=st[i]<='9':\n",
    "        res+=st[i]\n",
    "    else:\n",
    "        res+=st[i]\n",
    "    i+=1\n",
    "print(res)\n",
    "\n"
   ]
  },
  {
   "cell_type": "code",
   "execution_count": 50,
   "metadata": {},
   "outputs": [
    {
     "name": "stdout",
     "output_type": "stream",
     "text": [
      "1\n",
      "21\n",
      "321\n",
      "4\n",
      "54\n",
      "654\n",
      "321hEllO wOrld654\n"
     ]
    }
   ],
   "source": [
    "#79  #I/p:’123HELLO WORLD456’\n",
    "#o/p:’321hEllO wOrld654’\n",
    "st='123HELLO WORLD456'\n",
    "i=0\n",
    "res=''\n",
    "res1=''\n",
    "i=0\n",
    "count=0\n",
    "while i<len(st):\n",
    "    if '0'<=st[i]<='9':\n",
    "        res1=st[i]+res1\n",
    "        print(res1)\n",
    "        count+=1\n",
    "        if count==3:\n",
    "            res=res1+res\n",
    "            res1=''\n",
    "        elif count==6:\n",
    "            res=res+res1  \n",
    "    elif 'A'<=st[i]<='z':\n",
    "        if 'A'<=st[i]<='Z':\n",
    "            if st[i] not in 'AEIOU':\n",
    "                res+=chr(ord(st[i])+32)\n",
    "            else:\n",
    "                res+=st[i]\n",
    "    else:\n",
    "        res+=st[i]\n",
    "    i+=1\n",
    "print(res)"
   ]
  },
  {
   "cell_type": "code",
   "execution_count": 51,
   "metadata": {},
   "outputs": [
    {
     "name": "stdout",
     "output_type": "stream",
     "text": [
      "1\n",
      "21\n",
      "321\n",
      "4\n",
      "54\n",
      "654\n",
      "321*E**O *O***654\n"
     ]
    }
   ],
   "source": [
    "#80 I/p:’123HELLO WORLD456’\n",
    "#o/p:’321*E**O *O***654’\n",
    "st='123HELLO WORLD456'\n",
    "i=0\n",
    "res=''\n",
    "res1=''\n",
    "i=0\n",
    "count=0\n",
    "while i<len(st):\n",
    "    if '0'<=st[i]<='9':\n",
    "        res1=st[i]+res1\n",
    "        print(res1)\n",
    "        count+=1\n",
    "        if count==3:\n",
    "            res=res1+res\n",
    "            res1=''\n",
    "        elif count==6:\n",
    "            res=res+res1  \n",
    "    elif 'A'<=st[i]<='z':\n",
    "        if 'A'<=st[i]<='Z':\n",
    "            if st[i] not in 'AEIOU':\n",
    "                res+='*'\n",
    "            else:\n",
    "                res+=st[i]\n",
    "    else:\n",
    "        res+=st[i]\n",
    "    i+=1\n",
    "print(res)"
   ]
  },
  {
   "cell_type": "code",
   "execution_count": 52,
   "metadata": {},
   "outputs": [
    {
     "name": "stdout",
     "output_type": "stream",
     "text": [
      "1\n",
      "12\n",
      "123\n",
      "4\n",
      "45\n",
      "456\n",
      "123*E**O *O***456\n"
     ]
    }
   ],
   "source": [
    "#81 #I/p:’123HELLO WORLD456’\n",
    "#o/p:’123*E**O *O***456'\n",
    "st='123HELLO WORLD456'\n",
    "i=0\n",
    "res=''\n",
    "res1=''\n",
    "i=0\n",
    "count=0\n",
    "while i<len(st):\n",
    "    if '0'<=st[i]<='9':\n",
    "        res1+=st[i]\n",
    "        print(res1)\n",
    "        count+=1\n",
    "        if count==3:\n",
    "            res=res1+res\n",
    "            res1=''\n",
    "        elif count==6:\n",
    "            res=res+res1  \n",
    "    elif 'A'<=st[i]<='z':\n",
    "        if 'A'<=st[i]<='Z':\n",
    "            if st[i] not in 'AEIOU':\n",
    "                res+='*'\n",
    "            else:\n",
    "                res+=st[i]\n",
    "    else:\n",
    "        res+=st[i]\n",
    "    i+=1\n",
    "print(res)"
   ]
  },
  {
   "cell_type": "code",
   "execution_count": 53,
   "metadata": {},
   "outputs": [
    {
     "name": "stdout",
     "output_type": "stream",
     "text": [
      "h$ll*w*rld\n"
     ]
    }
   ],
   "source": [
    "#82 #I/p:’HELLOWORLD’\n",
    "#o/p:’h$ll*w*rld'\n",
    "st='HELLOWORLD'\n",
    "i=0\n",
    "res=''\n",
    "while i <len(st):\n",
    "    if 'A'<=st[i]<='Z':\n",
    "        if st[i] in 'AEIOU':\n",
    "            if st[i]=='E':\n",
    "                res+='$'\n",
    "            elif st[i]=='O':\n",
    "                res+='*'\n",
    "        else:\n",
    "            res+=chr(ord(st[i])+32)\n",
    "    i+=1\n",
    "print(res)"
   ]
  },
  {
   "cell_type": "code",
   "execution_count": 63,
   "metadata": {},
   "outputs": [
    {
     "name": "stdout",
     "output_type": "stream",
     "text": [
      "axbycz\n"
     ]
    }
   ],
   "source": [
    "#83 i/p:‘abc’\n",
    "#i/p: ‘xyz’\n",
    "#o/p:’axbycz’\n",
    "st='abc'\n",
    "st2='xyzw'\n",
    "res=''\n",
    "i=0\n",
    "while i<len(st):\n",
    "    res+=st[i]+st2[i]\n",
    "    i+=1\n",
    "print(res)\n",
    "\n"
   ]
  },
  {
   "cell_type": "code",
   "execution_count": 17,
   "metadata": {},
   "outputs": [
    {
     "name": "stdout",
     "output_type": "stream",
     "text": [
      "axbyczdw\n"
     ]
    }
   ],
   "source": [
    "#84 i/p: ‘abc’\n",
    "#i/p: ‘xyzw’\n",
    "#o/p:’axbyczw’\n",
    "st='abc'\n",
    "st2='xyzw'\n",
    "i=0\n",
    "j=0\n",
    "res=''\n",
    "while j<len(st2) or i<len(st):\n",
    "    if i<len(st):\n",
    "        res=res+st[i]\n",
    "    if j<len(st2):\n",
    "        res+=st2[j]\n",
    "    i+=1\n",
    "    j+=1\n",
    "print(res)\n",
    "\n"
   ]
  },
  {
   "cell_type": "code",
   "execution_count": 18,
   "metadata": {},
   "outputs": [
    {
     "name": "stdout",
     "output_type": "stream",
     "text": [
      "axbyczd\n"
     ]
    }
   ],
   "source": [
    "#85 /p: ‘abcd’\n",
    "#i/p: ‘xyz’\n",
    "#o/p:’axbyczd’\n",
    "st='abcd'\n",
    "st2='xyz'\n",
    "i=0\n",
    "j=0\n",
    "res=''\n",
    "while j<len(st2) or i<len(st):\n",
    "    if i<len(st):\n",
    "        res=res+st[i]\n",
    "    if j<len(st2):\n",
    "        res+=st2[j]\n",
    "    i+=1\n",
    "    j+=1\n",
    "print(res)"
   ]
  },
  {
   "cell_type": "code",
   "execution_count": 19,
   "metadata": {},
   "outputs": [
    {
     "name": "stdout",
     "output_type": "stream",
     "text": [
      "axbyczwop\n"
     ]
    }
   ],
   "source": [
    "#86 i/p: ‘abc’\n",
    "#i/p: ‘xyzwop’\n",
    "#o/p:’axbyczwop\n",
    "st='abc'\n",
    "st2='xyzwop'\n",
    "i=0\n",
    "j=0\n",
    "res=''\n",
    "while j<len(st2) or i<len(st):\n",
    "    if i<len(st):\n",
    "        res=res+st[i]\n",
    "    if j<len(st2):\n",
    "        res+=st2[j]\n",
    "    i+=1\n",
    "    j+=1\n",
    "print(res)"
   ]
  },
  {
   "cell_type": "code",
   "execution_count": 25,
   "metadata": {},
   "outputs": [
    {
     "name": "stdout",
     "output_type": "stream",
     "text": [
      "a1b2c3\n"
     ]
    }
   ],
   "source": [
    "#87 i/p:’abc123’\n",
    "#o/p:’a1b2c3’\n",
    "st='abc123'\n",
    "i=0\n",
    "j=0\n",
    "k=0\n",
    "ch=''\n",
    "num=''\n",
    "res=''\n",
    "while i<len(st):\n",
    "    if 'a'<=st[i]<='z':\n",
    "        ch+=st[i]\n",
    "    elif '0'<=st[i]<='9':\n",
    "        num+=st[i]\n",
    "    i+=1\n",
    "while j<len(num) or k<len(ch):\n",
    "    if k<len(ch):\n",
    "        res+=ch[k]\n",
    "    if j<len(num):\n",
    "        res+=num[j]\n",
    "    j+=1\n",
    "    k+=1\n",
    "print(res)\n"
   ]
  },
  {
   "cell_type": "code",
   "execution_count": 26,
   "metadata": {},
   "outputs": [
    {
     "name": "stdout",
     "output_type": "stream",
     "text": [
      "a1b2c\n"
     ]
    }
   ],
   "source": [
    "#88 i/p:’abc12’\n",
    "#o/p:’a1b2c’\n",
    "st='abc12'\n",
    "i=0\n",
    "j=0\n",
    "k=0\n",
    "ch=''\n",
    "num=''\n",
    "res=''\n",
    "while i<len(st):\n",
    "    if 'a'<=st[i]<='z':\n",
    "        ch+=st[i]\n",
    "    elif '0'<=st[i]<='9':\n",
    "        num+=st[i]\n",
    "    i+=1\n",
    "while j<len(num) or k<len(ch):\n",
    "    if k<len(ch):\n",
    "        res+=ch[k]\n",
    "    if j<len(num):\n",
    "        res+=num[j]\n",
    "    j+=1\n",
    "    k+=1\n",
    "print(res)\n"
   ]
  },
  {
   "cell_type": "code",
   "execution_count": 27,
   "metadata": {},
   "outputs": [
    {
     "name": "stdout",
     "output_type": "stream",
     "text": [
      "a1b2c34\n"
     ]
    }
   ],
   "source": [
    "#89 i/p: ‘abc1234’\n",
    "#o/p: ‘a1b2c34’\n",
    "st='abc1234'\n",
    "i=0\n",
    "j=0\n",
    "k=0\n",
    "ch=''\n",
    "num=''\n",
    "res=''\n",
    "while i<len(st):\n",
    "    if 'a'<=st[i]<='z':\n",
    "        ch+=st[i]\n",
    "    elif '0'<=st[i]<='9':\n",
    "        num+=st[i]\n",
    "    i+=1\n",
    "while j<len(num) or k<len(ch):\n",
    "    if k<len(ch):\n",
    "        res+=ch[k]\n",
    "    if j<len(num):\n",
    "        res+=num[j]\n",
    "    j+=1\n",
    "    k+=1\n",
    "print(res)\n"
   ]
  },
  {
   "cell_type": "code",
   "execution_count": 28,
   "metadata": {},
   "outputs": [
    {
     "name": "stdout",
     "output_type": "stream",
     "text": [
      "a1b2c34\n"
     ]
    }
   ],
   "source": [
    "#90 i/p: ‘1a2bc34’\n",
    "#o/p:’a1b2c34’\n",
    "st='1a2bc34'\n",
    "i=0\n",
    "j=0\n",
    "k=0\n",
    "ch=''\n",
    "num=''\n",
    "res=''\n",
    "while i<len(st):\n",
    "    if 'a'<=st[i]<='z':\n",
    "        ch+=st[i]\n",
    "    elif '0'<=st[i]<='9':\n",
    "        num+=st[i]\n",
    "    i+=1\n",
    "while j<len(num) or k<len(ch):\n",
    "    if k<len(ch):\n",
    "        res+=ch[k]\n",
    "    if j<len(num):\n",
    "        res+=num[j]\n",
    "    j+=1\n",
    "    k+=1\n",
    "print(res)"
   ]
  },
  {
   "cell_type": "code",
   "execution_count": 39,
   "metadata": {},
   "outputs": [
    {
     "name": "stdout",
     "output_type": "stream",
     "text": [
      "25\n",
      "-3\n"
     ]
    }
   ],
   "source": [
    "#91 i/p:’abcdnmpoijkl12yzabcd5’\n",
    "#o/p:3\n",
    "st='abcdnmpoijkll2yzabcd5'\n",
    "i=0\n",
    "num=''\n",
    "while i<len(st):\n",
    "    if '0'<=st[i]<='9':\n",
    "        num+=st[i]\n",
    "    i+=1\n",
    "print(num)\n",
    "num1=int(num)\n",
    "sub=0\n",
    "while num1:\n",
    "    ld=num1%10\n",
    "    sub=ld-sub\n",
    "    num1//=10\n",
    "print(sub)\n",
    "\n"
   ]
  },
  {
   "cell_type": "code",
   "execution_count": 47,
   "metadata": {},
   "outputs": [
    {
     "ename": "IndexError",
     "evalue": "string index out of range",
     "output_type": "error",
     "traceback": [
      "\u001b[1;31m---------------------------------------------------------------------------\u001b[0m",
      "\u001b[1;31mIndexError\u001b[0m                                Traceback (most recent call last)",
      "\u001b[1;32mc:\\Users\\bonthala\\Documents\\GitHub\\python-class\\whileandforloops.ipynb Cell 93\u001b[0m line \u001b[0;36m1\n\u001b[0;32m      <a href='vscode-notebook-cell:/c%3A/Users/bonthala/Documents/GitHub/python-class/whileandforloops.ipynb#Y161sZmlsZQ%3D%3D?line=7'>8</a>\u001b[0m \u001b[39mwhile\u001b[39;00m  i\u001b[39m<\u001b[39m\u001b[39mlen\u001b[39m(st) \u001b[39mor\u001b[39;00m j\u001b[39m<\u001b[39m\u001b[39mlen\u001b[39m(st1):\n\u001b[0;32m      <a href='vscode-notebook-cell:/c%3A/Users/bonthala/Documents/GitHub/python-class/whileandforloops.ipynb#Y161sZmlsZQ%3D%3D?line=8'>9</a>\u001b[0m     \u001b[39mif\u001b[39;00m i\u001b[39m%\u001b[39m\u001b[39m2\u001b[39m\u001b[39m==\u001b[39m\u001b[39m0\u001b[39m:\n\u001b[1;32m---> <a href='vscode-notebook-cell:/c%3A/Users/bonthala/Documents/GitHub/python-class/whileandforloops.ipynb#Y161sZmlsZQ%3D%3D?line=9'>10</a>\u001b[0m         res\u001b[39m+\u001b[39m\u001b[39m=\u001b[39mst1[j]\n\u001b[0;32m     <a href='vscode-notebook-cell:/c%3A/Users/bonthala/Documents/GitHub/python-class/whileandforloops.ipynb#Y161sZmlsZQ%3D%3D?line=10'>11</a>\u001b[0m     \u001b[39melse\u001b[39;00m:\n\u001b[0;32m     <a href='vscode-notebook-cell:/c%3A/Users/bonthala/Documents/GitHub/python-class/whileandforloops.ipynb#Y161sZmlsZQ%3D%3D?line=11'>12</a>\u001b[0m         res\u001b[39m+\u001b[39m\u001b[39m=\u001b[39mst[i]\n",
      "\u001b[1;31mIndexError\u001b[0m: string index out of range"
     ]
    }
   ],
   "source": [
    "#92 /P: ‘HAII HELLO’\n",
    "#O/P: ‘HA1I2I3 HE4LLO5’\n",
    "st='HAII HELLO'\n",
    "i=0\n",
    "j=0\n",
    "res=''\n",
    "st1='12345'\n",
    "while  i<len(st) or j<len(st1):\n",
    "    if i%2==0:\n",
    "        res+=st1[j]\n",
    "    else:\n",
    "        res+=st[i]\n",
    "    i+=1\n",
    "    j+=1\n",
    "print(res)\n",
    "\n",
    "\n",
    "\n",
    "\n"
   ]
  },
  {
   "cell_type": "code",
   "execution_count": null,
   "metadata": {},
   "outputs": [],
   "source": [
    "#93 I/P: ‘HAII HELLO’\n",
    "#O/P: ‘H1AII 2H3EL4L5O’"
   ]
  },
  {
   "cell_type": "code",
   "execution_count": 60,
   "metadata": {},
   "outputs": [
    {
     "name": "stdout",
     "output_type": "stream",
     "text": [
      "abc\n",
      "ascar\n",
      "egg\n"
     ]
    }
   ],
   "source": [
    "#94 WAP to print all the string values present inside the list if the length \n",
    "#of the string is odd under the first character starts with a vowel.\n",
    "l=['abc',{'a':10},'salaar','the','ascar',10,'egg']\n",
    "i=0\n",
    "j=0\n",
    "while i<len(l):\n",
    "    if type(l[i])==str:\n",
    "        if len(l[i])%2!=0 and l[i][j][0] in 'aeiouAEIOU':\n",
    "            print(l[i])\n",
    "    i+=1\n"
   ]
  },
  {
   "cell_type": "code",
   "execution_count": 13,
   "metadata": {},
   "outputs": [
    {
     "name": "stdout",
     "output_type": "stream",
     "text": [
      "324 abc\n",
      "aaabbcccc\n"
     ]
    }
   ],
   "source": [
    "#95  Write a program for series\n",
    "#Input:- “a3b2c4” ,\n",
    "#Output: “aaabbcccc”\n",
    "st='a3b2c4'\n",
    "alp=''\n",
    "num=''\n",
    "i=0\n",
    "while i<len(st):\n",
    "    if 'A'<=st[i]<='z':\n",
    "        alp+=st[i]\n",
    "    elif '0'<=st[i]<='9':\n",
    "        num+=st[i]\n",
    "    i+=1\n",
    "print(num,alp)\n",
    "res=''\n",
    "for j in range(len(alp)) :\n",
    "    res+=alp[j]*int(num[j])\n",
    "print(res)\n"
   ]
  },
  {
   "cell_type": "code",
   "execution_count": 31,
   "metadata": {},
   "outputs": [
    {
     "name": "stdout",
     "output_type": "stream",
     "text": [
      "\n",
      "{'a': 3, 'b': 2, 'c': 4}\n",
      "['a', 'b', 'c']\n",
      "a3b2c4\n"
     ]
    }
   ],
   "source": [
    "#96 Write a program for series\n",
    "#Input: “aaabbcccc”\n",
    "#Output:- “a3b2c4”\n",
    "st='aaabbcccc'\n",
    "num=''\n",
    "alp=''\n",
    "res=''\n",
    "d={}\n",
    "for i in st:\n",
    "    if i not in d:\n",
    "        d[i]=1\n",
    "    else:\n",
    "        d[i]+=1\n",
    "print(res)\n",
    "print(d)\n",
    "l=list(d)\n",
    "print(l)\n",
    "for i in range(len(l)):\n",
    "\n",
    "    alp+=l[i]+str(d[l[i]])\n",
    "print(alp)\n",
    "\n"
   ]
  },
  {
   "cell_type": "code",
   "execution_count": 58,
   "metadata": {},
   "outputs": [
    {
     "name": "stdout",
     "output_type": "stream",
     "text": [
      "{'a': 4, 'B': 3, 'c': 1, 'd': 4, 'f': 5}\n",
      "['a', 'B', 'c', 'd', 'f']\n",
      "[3, 1, 5]\n",
      "('B3', 'c1', 'f5')\n"
     ]
    }
   ],
   "source": [
    "#97 Write a program frequency of each character in given string when \n",
    "#count is a prime number\n",
    "#input:”aaaaBBBcddddfffff”\n",
    "#Output: (“B3”,”c1”,”f5”)\n",
    "st='aaaaBBBcddddfffff'\n",
    "res=''\n",
    "d={}\n",
    "for i in st:\n",
    "    if i not in d:\n",
    "        d[i]=1\n",
    "    else:\n",
    "        d[i]+=1\n",
    "print(d)\n",
    "l=list(d)\n",
    "print(l)\n",
    "l1=[]\n",
    "for i in range(len(l)):\n",
    "    num=d[l[i]]\n",
    "    count=0\n",
    "    j=1\n",
    "    while j<=num:\n",
    "        if num%j==0:\n",
    "            count+=1\n",
    "        j+=1\n",
    "    if count==1 or count==2:\n",
    "        l1.append(num)    \n",
    "print(l1)\n",
    "t=[]\n",
    "for k in range(len(l1)):\n",
    "    for z in range(len(l)):\n",
    "        if d[l[z]]==l1[k]:\n",
    "            t+=[l[z]+str(d[l[z]])]\n",
    "print(tuple(t))\n",
    "\n"
   ]
  },
  {
   "cell_type": "code",
   "execution_count": 66,
   "metadata": {},
   "outputs": [
    {
     "name": "stdout",
     "output_type": "stream",
     "text": [
      "2\n",
      "ba\n",
      "4\n",
      "badc\n",
      "6\n",
      "badcfe\n"
     ]
    },
    {
     "ename": "IndexError",
     "evalue": "string index out of range",
     "output_type": "error",
     "traceback": [
      "\u001b[1;31m---------------------------------------------------------------------------\u001b[0m",
      "\u001b[1;31mIndexError\u001b[0m                                Traceback (most recent call last)",
      "\u001b[1;32mc:\\Users\\bonthala\\Documents\\GitHub\\python-class\\whileandforloops.ipynb Cell 99\u001b[0m line \u001b[0;36m9\n\u001b[0;32m      <a href='vscode-notebook-cell:/c%3A/Users/bonthala/Documents/GitHub/python-class/whileandforloops.ipynb#Y200sZmlsZQ%3D%3D?line=6'>7</a>\u001b[0m \u001b[39mwhile\u001b[39;00m i\u001b[39m<\u001b[39m\u001b[39mlen\u001b[39m(st):\n\u001b[0;32m      <a href='vscode-notebook-cell:/c%3A/Users/bonthala/Documents/GitHub/python-class/whileandforloops.ipynb#Y200sZmlsZQ%3D%3D?line=7'>8</a>\u001b[0m     \u001b[39mif\u001b[39;00m i\u001b[39m<\u001b[39m\u001b[39mlen\u001b[39m(st)\u001b[39m+\u001b[39m\u001b[39m2\u001b[39m:\n\u001b[1;32m----> <a href='vscode-notebook-cell:/c%3A/Users/bonthala/Documents/GitHub/python-class/whileandforloops.ipynb#Y200sZmlsZQ%3D%3D?line=8'>9</a>\u001b[0m         res\u001b[39m+\u001b[39m\u001b[39m=\u001b[39mst[i\u001b[39m+\u001b[39;49m\u001b[39m1\u001b[39;49m]\n\u001b[0;32m     <a href='vscode-notebook-cell:/c%3A/Users/bonthala/Documents/GitHub/python-class/whileandforloops.ipynb#Y200sZmlsZQ%3D%3D?line=9'>10</a>\u001b[0m         res\u001b[39m+\u001b[39m\u001b[39m=\u001b[39mst[i]\n\u001b[0;32m     <a href='vscode-notebook-cell:/c%3A/Users/bonthala/Documents/GitHub/python-class/whileandforloops.ipynb#Y200sZmlsZQ%3D%3D?line=10'>11</a>\u001b[0m         i\u001b[39m+\u001b[39m\u001b[39m=\u001b[39m\u001b[39m2\u001b[39m\n",
      "\u001b[1;31mIndexError\u001b[0m: string index out of range"
     ]
    }
   ],
   "source": [
    "#98 Write a program to swap neighbor char in string.\n",
    "#Input: “abcdefg”\n",
    "#Output:- “badcfeg”\n",
    "st='abcdefg'\n",
    "i=0\n",
    "res=''\n",
    "while i<len(st):\n",
    "    if i<len(st)+2:\n",
    "        res+=st[i+1]\n",
    "        res+=st[i]\n",
    "        i+=2\n",
    "    print(i)    \n",
    "    print(res)\n",
    "\n",
    "\n",
    "     \n"
   ]
  },
  {
   "cell_type": "code",
   "execution_count": 9,
   "metadata": {},
   "outputs": [
    {
     "name": "stdout",
     "output_type": "stream",
     "text": [
      "{'haii': 1, 'how': 1, 'are': 1, 'you': 1}\n",
      "['haii', 'how', 'are', 'you']\n"
     ]
    }
   ],
   "source": [
    "#99 WAP to split the sentence in a given string.\n",
    "#i/p:’haii how are you venu’\n",
    "#o/p:[‘haii’, ’how’,’are’,’you’,’venu’]\n",
    "st='haii how are you venu'\n",
    "res=''\n",
    "l=[]\n",
    "d={}\n",
    "for i in st:\n",
    "    if i !=' ':\n",
    "        res+=i\n",
    "    else:\n",
    "        if res not in d:\n",
    "            d[res]=1\n",
    "        res=''\n",
    "print(d)\n",
    "l=list(d)\n",
    "print(l)\n",
    "\n"
   ]
  },
  {
   "cell_type": "code",
   "execution_count": 13,
   "metadata": {},
   "outputs": [
    {
     "name": "stdout",
     "output_type": "stream",
     "text": [
      "hello\n",
      "world\n",
      "welcome\n",
      "to\n",
      "{'hello': 5, 'world': 5, 'welcome': 7, 'to': 2, 'python': 6}\n",
      "7\n"
     ]
    }
   ],
   "source": [
    "#100 Find out the longest word in the string below.\n",
    "#Sentence =”hello world welcome to python”\n",
    "st='hello world welcome to python'\n",
    "res=''\n",
    "d={}\n",
    "for i in st:\n",
    "    if i!=' ':\n",
    "        res+=i\n",
    "    else:\n",
    "        d[res]=len(res)\n",
    "        print(res)\n",
    "        res=''\n",
    "d[res]=len(res)    \n",
    "print(d)\n",
    "max=0\n",
    "l=list(d)\n",
    "for j in range(len(l)):\n",
    "    if d[l[j]]>max:\n",
    "        max=d[l[j]]\n",
    "print(max)\n",
    "\n",
    "\n"
   ]
  },
  {
   "cell_type": "code",
   "execution_count": 19,
   "metadata": {},
   "outputs": [
    {
     "name": "stdout",
     "output_type": "stream",
     "text": [
      "nohtyp ot emoclew dlrow olleh\n"
     ]
    }
   ],
   "source": [
    "#101 sentence=” hello world welcome to python”\n",
    "#Output: ’olleh dlrow emoclew ot nohtyp’\n",
    "st='hello world welcome to python'\n",
    "res=''\n",
    "for i in range(-(len(st)),0,1):\n",
    "    res=st[i]+res\n",
    "print(res)\n"
   ]
  },
  {
   "cell_type": "code",
   "execution_count": 24,
   "metadata": {},
   "outputs": [
    {
     "name": "stdout",
     "output_type": "stream",
     "text": [
      "{'python': 1, 'is': 1, 'a': 1, 'programming': 1, 'language': 1}\n"
     ]
    }
   ],
   "source": [
    "#102 sentence=” python is a programming language” (Using dictionary comprehension)\n",
    "#Output: {‘python’:1, is:1,’a’:1,’language’:1,’programming:1’}\n",
    "st='python is a programming language'\n",
    "d={}\n",
    "res=''\n",
    "for i in range(len(st)):    \n",
    "    if st[i]!=' ':\n",
    "        res+=st[i]\n",
    "    else:\n",
    "        d[res]=1\n",
    "        res=''\n",
    "d[res]=1\n",
    "print(d)\n",
    "        \n",
    "\n"
   ]
  },
  {
   "cell_type": "code",
   "execution_count": 27,
   "metadata": {},
   "outputs": [
    {
     "name": "stdout",
     "output_type": "stream",
     "text": [
      "['PYTHON', 'SCRIPTING', 'PROGRAMMING', 'LANGUAGE']\n"
     ]
    }
   ],
   "source": [
    "#103 I/p:'PYTHON SCRIPTING PROGRAMMING LANGUAGE'\n",
    "#o/p:['PYTHON’,’SCRIPTING’, ‘PROGRAMMING’,’ LANGUAGE']\n",
    "st='PYTHON SCRIPTING PROGRAMMING LANGUAGE'\n",
    "l=[]\n",
    "res=''\n",
    "for i in range(len(st)):\n",
    "    if st[i]!=' ':\n",
    "        res+=st[i]\n",
    "    else:\n",
    "        l+=[res]\n",
    "        res=''\n",
    "l+=[res]\n",
    "print(l)"
   ]
  },
  {
   "cell_type": "code",
   "execution_count": 36,
   "metadata": {},
   "outputs": [
    {
     "name": "stdout",
     "output_type": "stream",
     "text": [
      "['python', 'scripting', 'programming', 'language', ''] 2674278233984\n",
      "['nohtyp', 'scripting', 'gnimmargorp', 'language', ''] 2674278233984\n"
     ]
    }
   ],
   "source": [
    "#104 I/p:'PYTHON SCRIPTING PROGRAMMING LANGUAGE'\n",
    "#o/p:['nothyp', 'scripting','gnimmargorp', 'language']\n",
    "st='PYTHON SCRIPTING PROGRAMMING LANGUAGE '\n",
    "res=''\n",
    "l=[]\n",
    "for i in range(len(st)):\n",
    "    if st[i]!=' ':\n",
    "        if 'A'<=st[i]<='Z':\n",
    "            res+=chr(ord(st[i])+32)\n",
    "    else:\n",
    "        l+=[res]\n",
    "        res=''\n",
    "l+=[res]\n",
    "print(l,id(l))\n",
    "l[0]=l[0][::-1]\n",
    "l[2]=l[2][::-1]\n",
    "print(l,id(l))\n",
    "\n",
    "        "
   ]
  },
  {
   "cell_type": "code",
   "execution_count": 4,
   "metadata": {},
   "outputs": [
    {
     "name": "stdout",
     "output_type": "stream",
     "text": [
      "ABCDEFG\n"
     ]
    }
   ],
   "source": [
    "#105 I/p: ‘ABCDEFGIJKABC’\n",
    "#O/p: [‘ABCDEFG’, ‘IJK’, ‘ ABC’]\n",
    "st='ABCDEFGHIJKABC'\n",
    "l=[]\n",
    "res=''\n",
    "for i in range(len(st)):\n",
    "    if i!=7:\n",
    "        res+=st[i]\n",
    "    else:\n",
    "        l+=[res]\n",
    "        break\n",
    "print(res)\n",
    "\n",
    "    \n",
    "    "
   ]
  },
  {
   "cell_type": "code",
   "execution_count": 35,
   "metadata": {},
   "outputs": [
    {
     "name": "stdout",
     "output_type": "stream",
     "text": [
      "5\n",
      "5\n",
      "both contain same set of characters\n"
     ]
    }
   ],
   "source": [
    "#106 WAP to check whether two given strings contain the same set of \n",
    "#characters but in different order.For example, “POT” and “OTP” are \n",
    "#having the same set of characters.\n",
    "st='potbcaz'\n",
    "st1='otpbc'\n",
    "count1=0\n",
    "count2=0\n",
    "for i in st:\n",
    "    if i in st1:\n",
    "        count1+=1\n",
    "print(count1)\n",
    "for j in st1:\n",
    "    if j in st:\n",
    "        count2+=1\n",
    "print(count2)\n",
    "if count1==count2:\n",
    "    print('both contain same set of characters')\n",
    "else:\n",
    "    print('not same set of characters')\n",
    "\n",
    "\n",
    "\n"
   ]
  },
  {
   "cell_type": "code",
   "execution_count": 22,
   "metadata": {},
   "outputs": [
    {
     "name": "stdout",
     "output_type": "stream",
     "text": [
      "J\n",
      "aJ\n",
      "vaJ\n",
      "avaJ\n",
      "C\n",
      "oC\n",
      "noC\n",
      "cnoC\n",
      "ecnoC\n",
      "pecnoC\n",
      "tpecnoC\n",
      "tpecnoc\n",
      "f\n",
      "of\n",
      "rof\n",
      "T\n",
      "hT\n",
      "ehT\n",
      "eht\n",
      "D\n",
      "aD\n",
      "yaD\n",
      "avaJ tpecnoc rof eht yaD \n"
     ]
    }
   ],
   "source": [
    "#107 WAPto reverse alternate words of a given string starting with the first \n",
    "#word and the swap first and last char of the remaining words.\n",
    "#or example, if “Java Concept for The Day” is input string then output  should be “avaJ toncepc rof eht yaD”\n",
    "st='Java Concept for The Day '\n",
    "res=''\n",
    "final=''\n",
    "count=0\n",
    "for i in range(len(st)):\n",
    "    if st[i]!=' ':\n",
    "        res=st[i]+res\n",
    "        # print(res)\n",
    "    else:\n",
    "        count+=1\n",
    "        if count==2 or count==4:\n",
    "            if 'A'<=res[-1]<'Z':\n",
    "                res=res[:len(res)-1]+chr(ord(res[-1])+32)\n",
    "                print(res)\n",
    "        final+=res+' '\n",
    "        res=''\n",
    "    \n",
    "print(final)\n",
    "\n",
    "\n",
    "\n",
    "    \n",
    "\n",
    "\n",
    "\n",
    "    "
   ]
  },
  {
   "cell_type": "code",
   "execution_count": 17,
   "metadata": {},
   "outputs": [
    {
     "name": "stdout",
     "output_type": "stream",
     "text": [
      "[67, 71, 12]\n"
     ]
    }
   ],
   "source": [
    "#108 Find the sum of all numbers present in the string and consider -12 as a  negative number in string.\n",
    "#Ex: saf67as71mha-12v1\n",
    "#o/p: 67 + 71 - 12 + 1 = 127\n",
    "st='saf67as71mha-12v1'\n",
    "i=0\n",
    "res=''\n",
    "l=[]\n",
    "while i<len(st):\n",
    "    if '0'<=st[i]<='9':\n",
    "        res+=st[i]\n",
    "    if len(res)==2  :\n",
    "        l+=[int(res)]\n",
    "        res=''    \n",
    "    i+=1\n",
    "print(l)\n",
    "\n",
    "    \n",
    "    \n"
   ]
  },
  {
   "cell_type": "code",
   "execution_count": 16,
   "metadata": {},
   "outputs": [
    {
     "name": "stdout",
     "output_type": "stream",
     "text": [
      "Shnvi\n",
      "aaaaa\n"
     ]
    }
   ],
   "source": [
    "#109 WAP You are given a string and a number n. Remove the characters \n",
    "#which repeat n times or more consecutively and print the remaining \n",
    "#string.\n",
    "#Ex: n=2\n",
    "#Input: Shaanvi\n",
    "#Output: Shnvi\n",
    "st='Shaanvaaai'\n",
    "n=5\n",
    "ele='a'\n",
    "res=''\n",
    "close=''\n",
    "count=0\n",
    "for i in range(len(st)):\n",
    "    \n",
    "    if st[i]!=ele:\n",
    "        res+=st[i]\n",
    "    else:\n",
    "        count+=1\n",
    "        if count<=n:\n",
    "            close+=st[i]\n",
    "        else:\n",
    "            res+=st[i]\n",
    "\n",
    "print(res)\n",
    "print(close)\n",
    "\n",
    "            \n",
    "\n"
   ]
  },
  {
   "cell_type": "code",
   "execution_count": 7,
   "metadata": {},
   "outputs": [
    {
     "name": "stdout",
     "output_type": "stream",
     "text": [
      "enter req len of str\n"
     ]
    }
   ],
   "source": [
    "#110 WAP Two strings, and are called anagrams if they contain all the same \n",
    "# characters in the same frequencies. For example, the anagrams of CAT \n",
    "# are CAT, ACT, TAC, TCA, ATC, and CTA.\n",
    "# If and are case-insensitive anagrams, print \"Anagrams\"; otherwise, print \n",
    "# \"Not Anagrams\" instead.\n",
    "# Constraints\n",
    "# o Length of both strings in between 1 - 50.\n",
    "# o Strings consist of English alphabetic characters.\n",
    "# o The comparison should NOT be case sensitive.\n",
    "# Sample Input\n",
    "# anagram\n",
    "# margana\n",
    "# Sample Output\n",
    "# Anagrams\n",
    "\n",
    "st='Anagram'\n",
    "st2='Margana'\n",
    "res=''\n",
    "res1=''\n",
    "if (1<=len(st)<=50 and 1<=len(st2)<=50) and len(st)==len(st2):\n",
    "    for i in st:\n",
    "        if 'A'<=i<='z':\n",
    "            pass\n",
    "        else:\n",
    "            print('all the characters shuld be in eng characters')\n",
    "            break\n",
    "    for j in st2:\n",
    "        if 'A'<=j<='z':\n",
    "            pass\n",
    "        else:\n",
    "            print('all the characters shuld be in eng characters')\n",
    "            break \n",
    "    for k in st:\n",
    "        if 'A'<=k<='Z':\n",
    "            res+=chr(ord(k)+32)\n",
    "        else:\n",
    "            res+=k\n",
    "    for z in st2:\n",
    "        if 'A'<=z<='Z':\n",
    "            res1+=chr(ord(z)+32)\n",
    "        else:\n",
    "            res1+=z\n",
    "    print(res,res1)\n",
    "    ans=tuple(res1)\n",
    "    print(ans)\n",
    "    from itertools import permutations\n",
    "    valid_words=['anagram','margana']\n",
    "    # def anagrams1(word,valid_words):\n",
    "    #     word_permutations = [''.join(perm) for perm in permutations(word)]\n",
    "    #     anagrams = [perm for perm in word_permutations if perm in valid_words]\n",
    "    #     return anagrams\n",
    "    # target_word = 'anagram'\n",
    "    # anagrams = anagrams1(target_word, valid_words)\n",
    "    # print(anagrams)\n",
    "    count=0\n",
    "    for pre in permutations(res):\n",
    "        count+=1\n",
    "        if pre==ans:\n",
    "            print('anagram',pre)\n",
    "else:\n",
    "    print('enter req len of str')\n",
    "           \n"
   ]
  },
  {
   "cell_type": "code",
   "execution_count": 3,
   "metadata": {},
   "outputs": [
    {
     "name": "stdout",
     "output_type": "stream",
     "text": [
      "javconeptfhdy\n"
     ]
    }
   ],
   "source": [
    "#111 WAP to find the longest substring without repeating characters in a given string.\n",
    "# For example, if “javaconceptoftheday” is the input string, then the \n",
    "# longest substring without repeating or duplicate characters is “oftheday“.\n",
    "st='java concept of the day'\n",
    "\n"
   ]
  },
  {
   "cell_type": "code",
   "execution_count": 5,
   "metadata": {},
   "outputs": [
    {
     "name": "stdout",
     "output_type": "stream",
     "text": [
      "wELComE TO yUpp VIDEo SERvICes\n"
     ]
    }
   ],
   "source": [
    "#112 WAP to convert the given string lower case to upper and upper case to lower.For example,\n",
    "#Sample Input:\n",
    "#\"WelcOMe to YuPP videO serVicES\"\n",
    "#Sample Output:\n",
    "#wElComE TO yUpp VIDEo SERvICes\n",
    "st='WelcOMe to YuPP videO serVicES'\n",
    "res=''\n",
    "for i in st:\n",
    "    if 'A'<=i<='Z':\n",
    "        res+=chr(ord(i)+32)\n",
    "    elif 'a'<=i<='z':\n",
    "        res+=chr(ord(i)-32)\n",
    "    else:\n",
    "        res+=i\n",
    "print(res)\n"
   ]
  },
  {
   "cell_type": "code",
   "execution_count": 7,
   "metadata": {},
   "outputs": [
    {
     "name": "stdout",
     "output_type": "stream",
     "text": [
      "[5, 3, 2, 1, 6, 4]\n"
     ]
    }
   ],
   "source": [
    "#113  Write a program to remove the duplicates in a given list.For example,\n",
    "#Sample Input: [5, 3, 5, 2, 1, 6, 6, 4]\n",
    "#Sample Output: [5, 3, 2, 1, 6, 4]\n",
    "l=[5, 3, 5, 2, 1, 6, 6, 4]\n",
    "res=[]\n",
    "for i in l:\n",
    "    if i not in res:\n",
    "        res+=[i]\n",
    "print(res)\n",
    "\n"
   ]
  },
  {
   "cell_type": "code",
   "execution_count": 6,
   "metadata": {},
   "outputs": [
    {
     "name": "stdout",
     "output_type": "stream",
     "text": [
      "ppuy oediv secivres\n"
     ]
    }
   ],
   "source": [
    "#114  WAP to reverse words in a given sentence without using any library method.\n",
    "# Sample Input: Yupp video services\n",
    "# Sample Output: ppuy oediv secivres\n",
    "st='Yupp video services'\n",
    "res=''\n",
    "fres=''\n",
    "for i in st:\n",
    "    if i !=' ':\n",
    "        if 'A'<=i<='Z':\n",
    "            res+=chr(ord(i)+32)\n",
    "        else:\n",
    "            res=i+res\n",
    "    else:\n",
    "        fres+=res+' '\n",
    "        res=''\n",
    "fres+=res\n",
    "print(fres)\n",
    "\n",
    "\n",
    "\n",
    "    \n"
   ]
  },
  {
   "cell_type": "code",
   "execution_count": null,
   "metadata": {},
   "outputs": [],
   "source": [
    "#115 Given two words, check if both are formed with the same distinct characters.\n",
    "# Ex: sairam, sarmi\n",
    "st='sairam'\n",
    "st1='sarmi'"
   ]
  },
  {
   "cell_type": "code",
   "execution_count": null,
   "metadata": {},
   "outputs": [],
   "source": [
    "#116  WAP to Form a New String where the First Character and the Last Character have been Exchanged\n",
    "st='salaar'\n"
   ]
  },
  {
   "cell_type": "markdown",
   "metadata": {},
   "source": [
    "####list and Tuple"
   ]
  },
  {
   "cell_type": "code",
   "execution_count": 7,
   "metadata": {},
   "outputs": [
    {
     "name": "stdout",
     "output_type": "stream",
     "text": [
      "10\n",
      "10.12\n",
      "True\n",
      "(10+5j)\n",
      "[10, 20]\n",
      "srt\n",
      "(10, 20, 30)\n",
      "{10: 'a', 20: 'b'}\n"
     ]
    }
   ],
   "source": [
    "#117 WAP to print the data items in a given list.\n",
    "l=[10,10.12,True,10+5j,[10,20],'srt',(10,20,30),{10:'a',20:'b'}]\n",
    "for i in l:\n",
    "    print(i)\n"
   ]
  },
  {
   "cell_type": "code",
   "execution_count": 14,
   "metadata": {},
   "outputs": [
    {
     "name": "stdout",
     "output_type": "stream",
     "text": [
      "[{10: 'a', 20: 'b'}, (10, 20, 30), 'srt', [10, 20], (10+5j), True, 10.12, 10]\n"
     ]
    }
   ],
   "source": [
    "#118  WAP to reverse the data items in a given list.\n",
    "l=[10,10.12,True,10+5j,[10,20],'srt',(10,20,30),{10:'a',20:'b'}]\n",
    "j=-1\n",
    "for i in range(0,len(l)//2):\n",
    "    l[j],l[i]=l[i],l[j]\n",
    "    j-=1\n",
    "print(l)\n",
    "    "
   ]
  },
  {
   "cell_type": "code",
   "execution_count": 16,
   "metadata": {},
   "outputs": [
    {
     "name": "stdout",
     "output_type": "stream",
     "text": [
      "[10, 10.12, True, (10+5j)]\n"
     ]
    }
   ],
   "source": [
    "#119 WAP to extract and store the single value data types in a given list.(store the values in list)\n",
    "l=[10,10.12,True,10+5j,[10,20],'srt',(10,20,30),{10:'a',20:'b'}]\n",
    "res=[]\n",
    "for i in l:\n",
    "    if type(i) in [int,float,complex,bool]:\n",
    "        res+=[i]\n",
    "print(res)\n"
   ]
  },
  {
   "cell_type": "code",
   "execution_count": 19,
   "metadata": {},
   "outputs": [
    {
     "name": "stdout",
     "output_type": "stream",
     "text": [
      "([10, 20], 'srt', (10, 20, 30), {10: 'a', 20: 'b'}, {10, 20, 30})\n"
     ]
    }
   ],
   "source": [
    "#120 WAP to extract and store the multi value data types in a given list.(store the values in tuple)\n",
    "l=[10,10.12,True,10+5j,[10,20],'srt',(10,20,30),{10:'a',20:'b'},{10,20,30,30}]\n",
    "res=()\n",
    "for i in l:\n",
    "    if type(i) in [list,tuple,str,dict,set]:\n",
    "        res+=(i,)\n",
    "print(res)\n"
   ]
  },
  {
   "cell_type": "code",
   "execution_count": 26,
   "metadata": {},
   "outputs": [
    {
     "name": "stdout",
     "output_type": "stream",
     "text": [
      "{20, 40, 10}\n"
     ]
    }
   ],
   "source": [
    "#121 WAP to extract and store the mutable values data types in a given list.(store the values in set)\n",
    "l=[10,10.12,True,10+5j,[10,20,40],'srt',(10,20,30),{10:'a',20:'b'},{10,20}]\n",
    "res=set()\n",
    "for i in l:\n",
    "    if type(i) in [set,list]:\n",
    "        res|=set(i)\n",
    "print(res)\n"
   ]
  },
  {
   "cell_type": "code",
   "execution_count": 28,
   "metadata": {},
   "outputs": [
    {
     "name": "stdout",
     "output_type": "stream",
     "text": [
      "('srt', (10, 20, 30))\n"
     ]
    }
   ],
   "source": [
    "#122 WAP to extract and store the immutable value data types in a given list.(store the values in tuple)\n",
    "l=[10,10.12,True,10+5j,[10,20],'srt',(10,20,30),{10:'a',20:'b'},{33,44,55}]\n",
    "res=()\n",
    "for i in l:\n",
    "    if type(i) in [str,tuple]:\n",
    "        res+=(i,)\n",
    "print(res)"
   ]
  },
  {
   "cell_type": "code",
   "execution_count": null,
   "metadata": {},
   "outputs": [],
   "source": [
    "#123  WAP to print only string items present in the list\n",
    "l=[10,10.12,True,10+5j,[10,20],'srt',(10,20,30),{10:'a',20:'b'}]"
   ]
  }
 ],
 "metadata": {
  "kernelspec": {
   "display_name": "Python 3",
   "language": "python",
   "name": "python3"
  },
  "language_info": {
   "codemirror_mode": {
    "name": "ipython",
    "version": 3
   },
   "file_extension": ".py",
   "mimetype": "text/x-python",
   "name": "python",
   "nbconvert_exporter": "python",
   "pygments_lexer": "ipython3",
   "version": "3.11.6"
  },
  "orig_nbformat": 4
 },
 "nbformat": 4,
 "nbformat_minor": 2
}
