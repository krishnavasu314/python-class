{
 "cells": [
  {
   "cell_type": "code",
   "execution_count": null,
   "metadata": {},
   "outputs": [],
   "source": [
    "#wap to check sum of factor in given number\n",
    "num=6\n",
    "i=1\n",
    "sum=0\n",
    "while i<=num:\n",
    "    if num%i==0:\n",
    "        sum+=i\n",
    "    i+=1\n",
    "print(sum)\n",
    "        \n"
   ]
  },
  {
   "cell_type": "code",
   "execution_count": 2,
   "metadata": {},
   "outputs": [
    {
     "name": "stdout",
     "output_type": "stream",
     "text": [
      "3\n",
      "prime \n"
     ]
    }
   ],
   "source": [
    "#wap to sum of the all the digits in given no and final result is prime or not\n",
    "num=12\n",
    "sum=0\n",
    "i=1\n",
    "count=0\n",
    "while num:\n",
    "    digit=num%10\n",
    "    sum+=digit\n",
    "    num=num//10\n",
    "print(sum)\n",
    "while i<=sum:\n",
    "    if sum%i==0:\n",
    "        count+=1\n",
    "    i+=1\n",
    "if count==2:\n",
    "    print('prime ')\n",
    "else:\n",
    "    print('not prime')\n"
   ]
  },
  {
   "cell_type": "code",
   "execution_count": 1,
   "metadata": {},
   "outputs": [
    {
     "name": "stdout",
     "output_type": "stream",
     "text": [
      "not\n"
     ]
    }
   ],
   "source": [
    "num=456\n",
    "i=1\n",
    "count=0\n",
    "while i<=num:\n",
    "    if num%i==0:\n",
    "            count+=1\n",
    "    i+=1\n",
    "if count==2:\n",
    "      print('prime number')\n",
    "else:\n",
    "      print('not')"
   ]
  },
  {
   "cell_type": "code",
   "execution_count": null,
   "metadata": {},
   "outputs": [],
   "source": [
    "#wap to product all the digits in a no and that no is perfect or not \n",
    "num=123\n",
    "product=1\n",
    "i=1\n",
    "sum=0\n",
    "while num:\n",
    "    digit=num%10\n",
    "    product*=digit\n",
    "    num=num//10\n",
    "print(product)\n",
    "while i<product:\n",
    "    if product%i==0:\n",
    "        sum+=i\n",
    "    i+=1\n",
    "if sum == product:   \n",
    "    print(sum,'is perfect number')\n",
    "else:\n",
    "    print(sum,'not perfect')\n"
   ]
  },
  {
   "cell_type": "code",
   "execution_count": null,
   "metadata": {},
   "outputs": [],
   "source": [
    "# wap to extract each digit from the given number\n",
    "a=28092023\n",
    "while a:\n",
    "    ld=a%10\n",
    "    print(ld)\n",
    "    a=a//10\n"
   ]
  },
  {
   "cell_type": "code",
   "execution_count": null,
   "metadata": {},
   "outputs": [],
   "source": [
    "# wap to find out largest digit in a given number\n",
    "a=20912345678\n",
    "var=0\n",
    "while a:\n",
    "    lastdigit=a%10\n",
    "    if lastdigit>=var:\n",
    "        var=lastdigit\n",
    "    a=a//10\n",
    "print(var)"
   ]
  },
  {
   "cell_type": "code",
   "execution_count": null,
   "metadata": {},
   "outputs": [],
   "source": [
    "#wap to check the smallest number in a given  number\n",
    "a=1023456789\n",
    "small=9\n",
    "while a:\n",
    "    ld=a%10\n",
    "    if ld<=small:\n",
    "        small=ld   \n",
    "    a=a//10\n",
    "print(small)    "
   ]
  },
  {
   "cell_type": "code",
   "execution_count": 2,
   "metadata": {},
   "outputs": [
    {
     "name": "stdout",
     "output_type": "stream",
     "text": [
      "8\n"
     ]
    }
   ],
   "source": [
    "#wap program to check the largest even digit in the given number\n",
    "num=123456789\n",
    "evenlarge=0\n",
    "while num:\n",
    "    lastdigit=num%10\n",
    "    if lastdigit%2==0 and lastdigit>=evenlarge:\n",
    "        evenlarge=lastdigit\n",
    "    num=num//10\n",
    "print(evenlarge) "
   ]
  },
  {
   "cell_type": "code",
   "execution_count": null,
   "metadata": {},
   "outputs": [],
   "source": [
    "#wap to find out the sum of the digits in a given number\n",
    "num=123\n",
    "sum=0\n",
    "while num:\n",
    "    lastdigit=num%10\n",
    "    sum+=lastdigit\n",
    "    num=num//10\n",
    "print(sum)"
   ]
  },
  {
   "cell_type": "code",
   "execution_count": null,
   "metadata": {},
   "outputs": [],
   "source": [
    "#wap to do product of the digits in a given number\n",
    "num=12345\n",
    "product=1\n",
    "while num:\n",
    "    lastdigit=num%10\n",
    "    product*=lastdigit\n",
    "    num=num//10\n",
    "print(product)"
   ]
  },
  {
   "cell_type": "code",
   "execution_count": null,
   "metadata": {},
   "outputs": [],
   "source": [
    "#wap to do differnce between the digits in a given number\n",
    "num=12345456\n",
    "diff=num%10\n",
    "while num:\n",
    "    lastdigit=num%10\n",
    "    diff=diff-lastdigit\n",
    "    num=num//10\n",
    "print(diff)\n"
   ]
  },
  {
   "cell_type": "code",
   "execution_count": null,
   "metadata": {},
   "outputs": [],
   "source": [
    "#wap extract the even digits in a given number\n",
    "num=1234567890\n",
    "while num:\n",
    "    lastdigit=num%10\n",
    "    if lastdigit%2==0:\n",
    "        print(lastdigit)\n",
    "    num//=10\n"
   ]
  },
  {
   "cell_type": "code",
   "execution_count": null,
   "metadata": {},
   "outputs": [],
   "source": [
    "#wap to extract odd digits in a given number \n",
    "num=123456789\n",
    "while num:\n",
    "    lastdigit=num%10\n",
    "    if lastdigit%2!=0:\n",
    "        print(lastdigit)\n",
    "    num//=10"
   ]
  },
  {
   "cell_type": "code",
   "execution_count": null,
   "metadata": {},
   "outputs": [],
   "source": [
    "#wap to generate sequence of values from m to n \n",
    "m=20\n",
    "n=1\n",
    "if m>n:\n",
    "    m,n=n,m\n",
    "\n",
    "while m<=n:\n",
    "    print(m)\n",
    "    m+=1\n",
    "\n"
   ]
  },
  {
   "cell_type": "code",
   "execution_count": null,
   "metadata": {},
   "outputs": [],
   "source": [
    "#wap to generate sequence of values from 1 to n\n",
    "m=1\n",
    "n=12\n",
    "while m<=n:\n",
    "    print(m)\n",
    "    m+=1"
   ]
  },
  {
   "cell_type": "code",
   "execution_count": null,
   "metadata": {},
   "outputs": [],
   "source": [
    "#wap to do sum of digits from 1 to n\n",
    "m=1\n",
    "n=45\n",
    "sum=0\n",
    "while m<=n:\n",
    "    sum+=m\n",
    "    m+=1\n",
    "print(sum)"
   ]
  },
  {
   "cell_type": "code",
   "execution_count": null,
   "metadata": {},
   "outputs": [],
   "source": [
    "#wap to do product of numbers from 1 to n \n",
    "m=1\n",
    "n=4\n",
    "product=1\n",
    "while m<=n:\n",
    "    product*=m\n",
    "    m+=1\n",
    "print(product)"
   ]
  },
  {
   "cell_type": "code",
   "execution_count": null,
   "metadata": {},
   "outputs": [],
   "source": [
    "#wap to find given number is prime or not \n",
    "m=1\n",
    "n=4\n",
    "count=0\n",
    "while m<=n:\n",
    "    if n%m==0:\n",
    "        count+=1\n",
    "    m+=1\n",
    "if count==2:\n",
    "    print('it is a prime number')\n",
    "else:\n",
    "    print('not a prime number')\n",
    "\n"
   ]
  },
  {
   "cell_type": "code",
   "execution_count": null,
   "metadata": {},
   "outputs": [],
   "source": [
    "#wap to find out factors of a given number\n",
    "n=1\n",
    "m=12\n",
    "while n<=m:\n",
    "    if m%n==0:\n",
    "        print(n)\n",
    "    n+=1"
   ]
  },
  {
   "cell_type": "code",
   "execution_count": null,
   "metadata": {},
   "outputs": [],
   "source": [
    "#wap to find the factorials of given number\n",
    "n=1\n",
    "m=5\n",
    "product=1\n",
    "while n<=m:\n",
    "    product*=n\n",
    "    n+=1\n",
    "print(product)\n"
   ]
  },
  {
   "cell_type": "code",
   "execution_count": null,
   "metadata": {},
   "outputs": [],
   "source": [
    "#wap to count the no of factors in a given no\n",
    "n=1\n",
    "m=10\n",
    "count=0\n",
    "while n<=m:\n",
    "    if m%n==0:\n",
    "        count+=1\n",
    "    n+=1\n",
    "print(count)"
   ]
  },
  {
   "cell_type": "code",
   "execution_count": null,
   "metadata": {},
   "outputs": [],
   "source": [
    "#wap sum of the factors in given no.\n",
    "n=1\n",
    "m=6\n",
    "sum=0\n",
    "while n<=m:\n",
    "    if m%n==0:\n",
    "        sum+=n\n",
    "    n+=1\n",
    "print(sum)\n"
   ]
  },
  {
   "cell_type": "code",
   "execution_count": null,
   "metadata": {},
   "outputs": [],
   "source": [
    "#wap for sum of the all digits in a given no and final result is prime or not\n",
    "num=1234\n",
    "sum=0\n",
    "while num:\n",
    "    lastdigit=num%10\n",
    "    sum+=lastdigit\n",
    "    num=num//10\n",
    "\n",
    "n=1\n",
    "count=0\n",
    "while n<=sum:\n",
    "    if sum%n==0:\n",
    "        count+=1\n",
    "    n+=1\n",
    "if count==2:\n",
    "    print('prime')\n",
    "else:\n",
    "    print('not a prime')\n"
   ]
  },
  {
   "cell_type": "code",
   "execution_count": null,
   "metadata": {},
   "outputs": [],
   "source": [
    "#wap to find out product of all the digits in a given number and final result is perfect number or not \n",
    "num=123\n",
    "product=1\n",
    "while num:\n",
    "    lastdigit=num%10\n",
    "    product*=lastdigit\n",
    "    num=num//10\n",
    "print(product)\n",
    "i=1\n",
    "sum=0\n",
    "while i<product:\n",
    "    if product%i==0:\n",
    "        sum+=i\n",
    "    i+=1\n",
    "print(sum)\n",
    "if sum==product:\n",
    "    print('perfect number')\n",
    "else:\n",
    "    print('not a perfect number')\n"
   ]
  },
  {
   "cell_type": "code",
   "execution_count": 4,
   "metadata": {},
   "outputs": [
    {
     "name": "stdout",
     "output_type": "stream",
     "text": [
      "0\n",
      "1\n",
      "1\n",
      "2\n",
      "3\n",
      "5\n",
      "8\n",
      "13\n",
      "21\n"
     ]
    }
   ],
   "source": [
    "#wap to print fibanacci series upto nth values\n",
    "a=0\n",
    "b=1\n",
    "print(a)\n",
    "print(b)\n",
    "n=7\n",
    "while n:\n",
    "    c=a+b\n",
    "    print(c)\n",
    "    a,b=b,c\n",
    "    n-=1\n",
    "\n"
   ]
  },
  {
   "cell_type": "code",
   "execution_count": null,
   "metadata": {},
   "outputs": [],
   "source": [
    "#wap to check given number is palindrome or not \n",
    "num=143\n",
    "temp=num\n",
    "num1=0\n",
    "while num:\n",
    "    lastdigit=num%10\n",
    "    num1=num1*10+lastdigit\n",
    "    num//=10\n",
    "if temp==num1:\n",
    "    print('palindrome number')\n",
    "else:\n",
    "    print('not a palindrome')"
   ]
  },
  {
   "cell_type": "code",
   "execution_count": 15,
   "metadata": {},
   "outputs": [
    {
     "name": "stdout",
     "output_type": "stream",
     "text": [
      "341\n"
     ]
    }
   ],
   "source": [
    "#wap to reverse a number \n",
    "num=143\n",
    "rev=0\n",
    "while num:\n",
    "    lastdigit=num%10\n",
    "    rev=rev*10+lastdigit\n",
    "    num=num//10\n",
    "print(rev)\n",
    "\n",
    "\n"
   ]
  },
  {
   "cell_type": "code",
   "execution_count": 9,
   "metadata": {},
   "outputs": [
    {
     "name": "stdout",
     "output_type": "stream",
     "text": [
      "120\n",
      "24\n",
      "1\n",
      "145\n"
     ]
    }
   ],
   "source": [
    "#wap to check given no is strong no. or not\n",
    "num=145\n",
    "sum=0\n",
    "while num:\n",
    "    ld=num%10\n",
    "    i=1\n",
    "    product=1\n",
    "    while i<=ld:\n",
    "        product*=i\n",
    "        i+=1\n",
    "    print(product)\n",
    "    sum+=product\n",
    "    num//=10\n",
    "print(sum)"
   ]
  },
  {
   "cell_type": "code",
   "execution_count": 12,
   "metadata": {},
   "outputs": [
    {
     "name": "stdout",
     "output_type": "stream",
     "text": [
      "8\n",
      "8\n",
      "1124 is spy number\n"
     ]
    }
   ],
   "source": [
    "#wap to check whether given number is spy number or not \n",
    "num=1124\n",
    "temp=num #sum of digits = product of the digits then it is spy number\n",
    "sum=0\n",
    "product=1\n",
    "while num:\n",
    "    ld=num%10\n",
    "    sum+=ld\n",
    "    product*=ld\n",
    "    num//=10\n",
    "print(sum)\n",
    "print(product)\n",
    "if sum == product:\n",
    "    print(f'{temp} is spy number')\n",
    "else:\n",
    "    print(f\"{temp} is not a spy number\")"
   ]
  },
  {
   "cell_type": "code",
   "execution_count": 3,
   "metadata": {},
   "outputs": [
    {
     "name": "stdout",
     "output_type": "stream",
     "text": [
      "5\n"
     ]
    }
   ],
   "source": [
    "#wap to count no of digits in a number\n",
    "num=12345\n",
    "count=0\n",
    "while num:\n",
    "    count+=1\n",
    "    num//=10\n",
    "print(count)\n"
   ]
  },
  {
   "cell_type": "code",
   "execution_count": 5,
   "metadata": {},
   "outputs": [
    {
     "name": "stdout",
     "output_type": "stream",
     "text": [
      "2 3 5 7 11 13 17 19 23 29 31 37 41 43 47 53 59 61 67 71 73 79 83 89 97 "
     ]
    }
   ],
   "source": [
    "#wap to print prime nos from 1 to 100\n",
    "start=1\n",
    "end=100\n",
    "while start<=end:\n",
    "    i=1\n",
    "    count=0\n",
    "    while i<=start:\n",
    "        if start%i==0:\n",
    "            count+=1\n",
    "        i+=1\n",
    "    if count==2:\n",
    "        print(start,end=' ')\n",
    "    start+=1\n"
   ]
  },
  {
   "cell_type": "code",
   "execution_count": 14,
   "metadata": {},
   "outputs": [
    {
     "name": "stdout",
     "output_type": "stream",
     "text": [
      "0\n",
      "0\n",
      "0\n",
      "0\n"
     ]
    }
   ],
   "source": [
    "#wap to print series of strong numbers from 1 to 1lakh\n",
    "start=1\n",
    "end=100000\n",
    "while start<=end:\n",
    "    temp=start\n",
    "    sum=0\n",
    "    while temp:\n",
    "        ld=temp%10\n",
    "        product=1\n",
    "        i=1\n",
    "        while i<=ld:\n",
    "            product=product*i\n",
    "            i+=1\n",
    "        sum+=product\n",
    "        temp//=10  \n",
    "    if start==sum:\n",
    "        print(temp)     \n",
    "    start+=1\n"
   ]
  },
  {
   "cell_type": "code",
   "execution_count": 4,
   "metadata": {},
   "outputs": [
    {
     "name": "stdout",
     "output_type": "stream",
     "text": [
      "axbycz\n"
     ]
    }
   ],
   "source": [
    "# input 'abc' 'xyz' op :'axbycz'\n",
    "var1='abc'\n",
    "var2='xyz'\n",
    "i=0\n",
    "j=0\n",
    "var3=''\n",
    "while i<len(var1) and j<len(var2):\n",
    "    var3+=var1[i]\n",
    "    var3+=var2[j]\n",
    "    i+=1                                                                                                           \n",
    "    j+=1\n",
    "print(var3)"
   ]
  },
  {
   "cell_type": "code",
   "execution_count": null,
   "metadata": {},
   "outputs": [],
   "source": []
  }
 ],
 "metadata": {
  "kernelspec": {
   "display_name": "Python 3",
   "language": "python",
   "name": "python3"
  },
  "language_info": {
   "codemirror_mode": {
    "name": "ipython",
    "version": 3
   },
   "file_extension": ".py",
   "mimetype": "text/x-python",
   "name": "python",
   "nbconvert_exporter": "python",
   "pygments_lexer": "ipython3",
   "version": "3.11.6"
  },
  "orig_nbformat": 4
 },
 "nbformat": 4,
 "nbformat_minor": 2
}
