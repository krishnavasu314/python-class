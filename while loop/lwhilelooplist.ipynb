{
 "cells": [
  {
   "cell_type": "code",
   "execution_count": 3,
   "metadata": {},
   "outputs": [
    {
     "name": "stdout",
     "output_type": "stream",
     "text": [
      "153\n"
     ]
    }
   ],
   "source": [
    "lis=[100,153,145,200]\n",
    "l=[]\n",
    "i=0\n",
    "while i<len(lis):\n",
    "    num=lis[i]\n",
    "    temp=num\n",
    "    count=len(str(lis[i]))\n",
    "    sum=0\n",
    "    while num:\n",
    "        ld=num%10\n",
    "        sum=ld**count+sum\n",
    "        num//=10\n",
    "    if sum==temp:\n",
    "        print(sum)\n",
    "    i+=1\n",
    "\n",
    "\n",
    "\n",
    "\n"
   ]
  },
  {
   "cell_type": "code",
   "execution_count": 7,
   "metadata": {},
   "outputs": [
    {
     "name": "stdout",
     "output_type": "stream",
     "text": [
      "h\n",
      "ha\n",
      "hai\n",
      "haii\n",
      "\n",
      "h\n",
      "he\n",
      "hel\n",
      "hell\n",
      "hello\n",
      "\n",
      "w\n",
      "wo\n",
      "wor\n",
      "worl\n",
      "world\n",
      "\n",
      "i\n",
      "\n",
      "l\n",
      "lo\n",
      "lov\n",
      "love\n",
      "\n",
      "i\n",
      "\n",
      "l\n",
      "li\n",
      "lik\n",
      "like\n",
      "\n",
      "p\n",
      "py\n",
      "pyt\n",
      "pyth\n",
      "pytho\n",
      "python\n",
      "['haii', 'hello', 'world', 'i', 'love', 'i', 'like']\n",
      "[4, 5, 1]\n",
      "[['haii', 'love', 'like'], ['hello', 'world'], ['i', 'i']]\n"
     ]
    }
   ],
   "source": [
    "st='haii hello world i love i like python'\n",
    "#op [['haii','love','like'],['hello','world','india'],['python'],['i','i']]\n",
    "i=0\n",
    "res=''\n",
    "lis=[]\n",
    "while i<len(st):\n",
    "    if st[i]!=' ':\n",
    "        res+=st[i]\n",
    "    else:\n",
    "        lis+=[res]\n",
    "        res=''\n",
    "    print(res)\n",
    "    i+=1\n",
    "print(lis)\n",
    "lis2=[]\n",
    "j=0\n",
    "while j<len(lis):\n",
    "    if len(lis[j]) not in lis2:\n",
    "        lis2+=[len(lis[j])]\n",
    "    j+=1\n",
    "print(lis2)\n",
    "m=0\n",
    "res=[]\n",
    "while m<len(lis2):  \n",
    "    res+=[[]]\n",
    "    start=0\n",
    "    while start<len(lis):\n",
    "        if len(lis[start])==lis2[m]:\n",
    "            res[-1]+=[lis[start]]\n",
    "        start+=1\n",
    "    m+=1\n",
    "print(res)\n",
    "\n",
    "\n",
    "\n",
    "\n",
    "\n",
    "    \n",
    "\n",
    "\n"
   ]
  },
  {
   "cell_type": "code",
   "execution_count": 15,
   "metadata": {},
   "outputs": [
    {
     "name": "stdout",
     "output_type": "stream",
     "text": [
      "['haii', 'hello', 'world', 'i', 'love', 'india', 'i', 'like']\n",
      "{4: ['haii', 'love', 'like'], 5: ['hello', 'world', 'india'], 1: ['i', 'i']}\n"
     ]
    }
   ],
   "source": [
    "#extract the words based on length (by using dict concept) \n",
    "st=' haii hello world i love india i like python'\n",
    "i=0\n",
    "s=''\n",
    "lis=[]\n",
    "while i<len(st):\n",
    "    if st[i]!=' ':\n",
    "        s+=st[i]\n",
    "    else:\n",
    "        if len(s)!=0:\n",
    "            lis+=[s]\n",
    "            s=''\n",
    "        \n",
    "    i+=1\n",
    "print(lis)\n",
    "# j=0\n",
    "# lis2=[]\n",
    "# while j<len(lis):\n",
    "#     if len(lis[j])not in lis2:\n",
    "#         lis2+=[len(lis[j])]\n",
    "#     j+=1\n",
    "# print(lis2)\n",
    "lis3=[]\n",
    "d={}\n",
    "k=0\n",
    "while k<len(lis):\n",
    "    if len(lis[k]) not in d:\n",
    "        d[len(lis[k])]=[lis[k]]\n",
    "    else:\n",
    "        d[len(lis[k])]+=[lis[k]]\n",
    "    k+=1\n",
    "print(d)"
   ]
  },
  {
   "cell_type": "code",
   "execution_count": 5,
   "metadata": {},
   "outputs": [
    {
     "name": "stdout",
     "output_type": "stream",
     "text": [
      "['@gmail.com', '@gmail.com', '@pys.com']\n"
     ]
    }
   ],
   "source": [
    "st='qspiders@gmail.com pyspiders@gmail.com jspiders@pys.com ramu@outlook.com'\n",
    "#op ['@gmail.com','@ymail.com','@pys.com ']\n",
    "i=0\n",
    "s=''\n",
    "l=[]\n",
    "while i<len(st):\n",
    "    if st[i]=='@':\n",
    "        s=''\n",
    "        s+=st[i]\n",
    "    elif st[i]==' ':\n",
    "        l+=[s]\n",
    "        s=''\n",
    "    else:\n",
    "        s+=st[i]\n",
    "    i+=1\n",
    "print(l)"
   ]
  },
  {
   "cell_type": "code",
   "execution_count": null,
   "metadata": {},
   "outputs": [],
   "source": []
  },
  {
   "cell_type": "code",
   "execution_count": null,
   "metadata": {},
   "outputs": [],
   "source": []
  }
 ],
 "metadata": {
  "kernelspec": {
   "display_name": "Python 3",
   "language": "python",
   "name": "python3"
  },
  "language_info": {
   "codemirror_mode": {
    "name": "ipython",
    "version": 3
   },
   "file_extension": ".py",
   "mimetype": "text/x-python",
   "name": "python",
   "nbconvert_exporter": "python",
   "pygments_lexer": "ipython3",
   "version": "3.11.6"
  },
  "orig_nbformat": 4
 },
 "nbformat": 4,
 "nbformat_minor": 2
}
