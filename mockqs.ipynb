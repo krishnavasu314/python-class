{
 "cells": [
  {
   "cell_type": "code",
   "execution_count": 40,
   "metadata": {},
   "outputs": [
    {
     "name": "stdout",
     "output_type": "stream",
     "text": [
      "{5: [1, 5], 6: [1, 2, 3, 6], 7: [1, 7], 8: [1, 2, 4, 8], 9: [1, 3, 9], 10: [1, 2, 5, 10], 11: [1, 11], 12: [1, 2, 3, 4, 6, 12], 13: [1, 13], 14: [1, 2, 7, 14]}\n"
     ]
    }
   ],
   "source": [
    "#wap to print series of factors numbers given range using nested functions.\n",
    "def factors(start=0,end=None):\n",
    "    l=[]\n",
    "    d={}\n",
    "    for i in range(start,end):\n",
    "        j=1 \n",
    "        while j<=i:\n",
    "            if i%j==0:\n",
    "               l+=[j]\n",
    "            j+=1\n",
    "            d[i]=l\n",
    "        l=[]\n",
    "    print(d)\n",
    "factors(5,15)\n"
   ]
  },
  {
   "cell_type": "code",
   "execution_count": 52,
   "metadata": {},
   "outputs": [
    {
     "name": "stdout",
     "output_type": "stream",
     "text": [
      "{1: 1, 2: 2, 3: 6, 4: 24, 5: 120, 6: 720, 7: 5040, 8: 40320, 9: 362880, 10: 3628800, 11: 39916800, 12: 479001600, 13: 6227020800, 14: 87178291200, 15: 1307674368000, 16: 20922789888000, 17: 355687428096000, 18: 6402373705728000, 19: 121645100408832000, 20: 2432902008176640000}\n"
     ]
    }
   ],
   "source": [
    "#wap to print a series of factorial numbers given range using nested functions.\n",
    "def factorials(start,end):\n",
    "    d={}\n",
    "    while start<=end:\n",
    "        i=1\n",
    "        ans=1\n",
    "        while i<=start:\n",
    "            ans=ans*i\n",
    "            i+=1\n",
    "        d[start]=ans\n",
    "        start+=1\n",
    "    print(d)\n",
    "factorials(1,20)\n",
    "\n",
    "\n"
   ]
  },
  {
   "cell_type": "code",
   "execution_count": 55,
   "metadata": {},
   "outputs": [
    {
     "name": "stdout",
     "output_type": "stream",
     "text": [
      "25*1=25\n",
      "25*2=50\n",
      "25*3=75\n",
      "25*4=100\n",
      "25*5=125\n",
      "25*6=150\n",
      "25*7=175\n",
      "25*8=200\n",
      "25*9=225\n",
      "25*10=250\n"
     ]
    }
   ],
   "source": [
    "#wap to print 19 tables within in the given range using functions format ex 19*2=38\n",
    "def table(num,multiple=10):\n",
    "    for i in range(1,multiple+1):\n",
    "        res=num*i\n",
    "        print(f'{num}*{i}={res}')\n",
    "table(25,10)"
   ]
  },
  {
   "cell_type": "code",
   "execution_count": 62,
   "metadata": {},
   "outputs": [
    {
     "name": "stdout",
     "output_type": "stream",
     "text": [
      "1*1=1\n",
      "1*2=2\n",
      "1*3=3\n",
      "1*4=4\n",
      "1*5=5\n",
      "1*6=6\n",
      "1*7=7\n",
      "1*8=8\n",
      "1*9=9\n",
      "1*10=10\n",
      "\n",
      "2*1=2\n",
      "2*2=4\n",
      "2*3=6\n",
      "2*4=8\n",
      "2*5=10\n",
      "2*6=12\n",
      "2*7=14\n",
      "2*8=16\n",
      "2*9=18\n",
      "2*10=20\n",
      "\n",
      "3*1=3\n",
      "3*2=6\n",
      "3*3=9\n",
      "3*4=12\n",
      "3*5=15\n",
      "3*6=18\n",
      "3*7=21\n",
      "3*8=24\n",
      "3*9=27\n",
      "3*10=30\n",
      "\n",
      "4*1=4\n",
      "4*2=8\n",
      "4*3=12\n",
      "4*4=16\n",
      "4*5=20\n",
      "4*6=24\n",
      "4*7=28\n",
      "4*8=32\n",
      "4*9=36\n",
      "4*10=40\n",
      "\n",
      "5*1=5\n",
      "5*2=10\n",
      "5*3=15\n",
      "5*4=20\n",
      "5*5=25\n",
      "5*6=30\n",
      "5*7=35\n",
      "5*8=40\n",
      "5*9=45\n",
      "5*10=50\n",
      "\n",
      "6*1=6\n",
      "6*2=12\n",
      "6*3=18\n",
      "6*4=24\n",
      "6*5=30\n",
      "6*6=36\n",
      "6*7=42\n",
      "6*8=48\n",
      "6*9=54\n",
      "6*10=60\n",
      "\n",
      "7*1=7\n",
      "7*2=14\n",
      "7*3=21\n",
      "7*4=28\n",
      "7*5=35\n",
      "7*6=42\n",
      "7*7=49\n",
      "7*8=56\n",
      "7*9=63\n",
      "7*10=70\n",
      "\n",
      "8*1=8\n",
      "8*2=16\n",
      "8*3=24\n",
      "8*4=32\n",
      "8*5=40\n",
      "8*6=48\n",
      "8*7=56\n",
      "8*8=64\n",
      "8*9=72\n",
      "8*10=80\n",
      "\n",
      "9*1=9\n",
      "9*2=18\n",
      "9*3=27\n",
      "9*4=36\n",
      "9*5=45\n",
      "9*6=54\n",
      "9*7=63\n",
      "9*8=72\n",
      "9*9=81\n",
      "9*10=90\n",
      "\n",
      "10*1=10\n",
      "10*2=20\n",
      "10*3=30\n",
      "10*4=40\n",
      "10*5=50\n",
      "10*6=60\n",
      "10*7=70\n",
      "10*8=80\n",
      "10*9=90\n",
      "10*10=100\n",
      "\n",
      "11*1=11\n",
      "11*2=22\n",
      "11*3=33\n",
      "11*4=44\n",
      "11*5=55\n",
      "11*6=66\n",
      "11*7=77\n",
      "11*8=88\n",
      "11*9=99\n",
      "11*10=110\n",
      "\n",
      "12*1=12\n",
      "12*2=24\n",
      "12*3=36\n",
      "12*4=48\n",
      "12*5=60\n",
      "12*6=72\n",
      "12*7=84\n",
      "12*8=96\n",
      "12*9=108\n",
      "12*10=120\n",
      "\n",
      "13*1=13\n",
      "13*2=26\n",
      "13*3=39\n",
      "13*4=52\n",
      "13*5=65\n",
      "13*6=78\n",
      "13*7=91\n",
      "13*8=104\n",
      "13*9=117\n",
      "13*10=130\n",
      "\n",
      "14*1=14\n",
      "14*2=28\n",
      "14*3=42\n",
      "14*4=56\n",
      "14*5=70\n",
      "14*6=84\n",
      "14*7=98\n",
      "14*8=112\n",
      "14*9=126\n",
      "14*10=140\n",
      "\n",
      "15*1=15\n",
      "15*2=30\n",
      "15*3=45\n",
      "15*4=60\n",
      "15*5=75\n",
      "15*6=90\n",
      "15*7=105\n",
      "15*8=120\n",
      "15*9=135\n",
      "15*10=150\n",
      "\n",
      "16*1=16\n",
      "16*2=32\n",
      "16*3=48\n",
      "16*4=64\n",
      "16*5=80\n",
      "16*6=96\n",
      "16*7=112\n",
      "16*8=128\n",
      "16*9=144\n",
      "16*10=160\n",
      "\n",
      "17*1=17\n",
      "17*2=34\n",
      "17*3=51\n",
      "17*4=68\n",
      "17*5=85\n",
      "17*6=102\n",
      "17*7=119\n",
      "17*8=136\n",
      "17*9=153\n",
      "17*10=170\n",
      "\n",
      "18*1=18\n",
      "18*2=36\n",
      "18*3=54\n",
      "18*4=72\n",
      "18*5=90\n",
      "18*6=108\n",
      "18*7=126\n",
      "18*8=144\n",
      "18*9=162\n",
      "18*10=180\n",
      "\n",
      "19*1=19\n",
      "19*2=38\n",
      "19*3=57\n",
      "19*4=76\n",
      "19*5=95\n",
      "19*6=114\n",
      "19*7=133\n",
      "19*8=152\n",
      "19*9=171\n",
      "19*10=190\n",
      "\n"
     ]
    }
   ],
   "source": [
    "def table(num,multiple=10):\n",
    "    for i in range(1,multiple+1):\n",
    "        res=num*i\n",
    "        print(f'{num}*{i}={res}')\n",
    "\n",
    "def table1(start,end):\n",
    "    for j in range(start,end+1):\n",
    "        table(j)\n",
    "        print()\n",
    "table1(1,19)\n",
    "\n",
    "\n",
    "    "
   ]
  },
  {
   "cell_type": "code",
   "execution_count": 60,
   "metadata": {},
   "outputs": [
    {
     "data": {
      "text/plain": [
       "'SrEdIpSyP'"
      ]
     },
     "execution_count": 60,
     "metadata": {},
     "output_type": "execute_result"
    }
   ],
   "source": [
    "#wap to return the following statement using fucntions \n",
    "#ip 'PYSPIDERS'\n",
    "#OP 'SrEdIpSyP'\n",
    "st='PYSPIDERS'\n",
    "def sample(coll):\n",
    "    res=''\n",
    "    for i in range(0,len(coll)):\n",
    "        if i%2!=0 and 'A'<=coll[i]<='Z':\n",
    "            res=chr(ord(coll[i])+32)+res\n",
    "        else:\n",
    "            res=coll[i]+res\n",
    "    return res\n",
    "sample(st)"
   ]
  },
  {
   "cell_type": "code",
   "execution_count": 65,
   "metadata": {},
   "outputs": [
    {
     "data": {
      "text/plain": [
       "{'I': 2, 'love': 2, 'india': 1, 'my': 1, 'country': 1}"
      ]
     },
     "execution_count": 65,
     "metadata": {},
     "output_type": "execute_result"
    }
   ],
   "source": [
    "#wap to get the following output using fucntion \n",
    "#input : 'I love india I love my country'\n",
    "#output :{'I':2,'love':2,'india':1,'my':1,'country':1}\n",
    "st='I love india I love my country'\n",
    "def strfun(coll):\n",
    "    res=''\n",
    "    d={}\n",
    "    for i in coll:\n",
    "        if i!=' ':\n",
    "            res+=i\n",
    "        else:\n",
    "            if res not in d:\n",
    "                d[res]=1\n",
    "                res=''\n",
    "            else:\n",
    "                d[res]+=1\n",
    "                res=''\n",
    "    d[res]=1\n",
    "    return d\n",
    "strfun(st)\n",
    "\n",
    "\n",
    "\n",
    "\n",
    "\n"
   ]
  },
  {
   "cell_type": "code",
   "execution_count": 67,
   "metadata": {},
   "outputs": [
    {
     "data": {
      "text/plain": [
       "{1: 1, 2: 8, 3: 27, 4: 64, 5: 125, 6: 216, 7: 343, 8: 512, 9: 729, 10: 1000}"
      ]
     },
     "execution_count": 67,
     "metadata": {},
     "output_type": "execute_result"
    }
   ],
   "source": [
    "#wap to store the seeries of cube numbers in a diict given in  a range using functions .Format ={1:1,2:8}\n",
    "def cube(start,end):\n",
    "    d={}\n",
    "    while start<=end:\n",
    "        d[start]=start**3\n",
    "        start+=1\n",
    "    return d\n",
    "cube(1,10)\n"
   ]
  },
  {
   "cell_type": "code",
   "execution_count": 68,
   "metadata": {},
   "outputs": [
    {
     "data": {
      "text/plain": [
       "[6, 28, 496]"
      ]
     },
     "execution_count": 68,
     "metadata": {},
     "output_type": "execute_result"
    }
   ],
   "source": [
    "#wap to print series of perfect numbers from 1 to 1800.\n",
    "def perfectnos(start,end):\n",
    "    l=[]\n",
    "    while start<=end:\n",
    "        fac=1\n",
    "        sum=0\n",
    "        while fac<start:\n",
    "            if start%fac==0:\n",
    "                sum=sum+fac\n",
    "            fac+=1\n",
    "        if sum==start:\n",
    "            l+=[sum]\n",
    "        start+=1\n",
    "    return l\n",
    "perfectnos(1,1800)\n",
    "\n"
   ]
  },
  {
   "cell_type": "code",
   "execution_count": 69,
   "metadata": {},
   "outputs": [
    {
     "data": {
      "text/plain": [
       "{'I': 2, 'love': 2, 'india': 1, 'my': 1, 'country': 1}"
      ]
     },
     "execution_count": 69,
     "metadata": {},
     "output_type": "execute_result"
    }
   ],
   "source": [
    "#wap to check the frequency of words in a given string \n",
    "st='I love india I love my country'\n",
    "def strfun(coll):\n",
    "    res=''\n",
    "    d={}\n",
    "    for i in coll:\n",
    "        if i!=' ':\n",
    "            res+=i\n",
    "        else:\n",
    "            if res not in d:\n",
    "                d[res]=1\n",
    "                res=''\n",
    "            else:\n",
    "                d[res]+=1\n",
    "                res=''\n",
    "    d[res]=1\n",
    "    return d\n",
    "strfun(st)\n",
    "\n",
    " "
   ]
  },
  {
   "cell_type": "code",
   "execution_count": null,
   "metadata": {},
   "outputs": [],
   "source": [
    "#wap to print nth fibonacci series \n"
   ]
  },
  {
   "cell_type": "code",
   "execution_count": null,
   "metadata": {},
   "outputs": [],
   "source": []
  }
 ],
 "metadata": {
  "kernelspec": {
   "display_name": "Python 3",
   "language": "python",
   "name": "python3"
  },
  "language_info": {
   "codemirror_mode": {
    "name": "ipython",
    "version": 3
   },
   "file_extension": ".py",
   "mimetype": "text/x-python",
   "name": "python",
   "nbconvert_exporter": "python",
   "pygments_lexer": "ipython3",
   "version": "3.11.5"
  },
  "orig_nbformat": 4
 },
 "nbformat": 4,
 "nbformat_minor": 2
}
