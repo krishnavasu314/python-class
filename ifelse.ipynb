{
 "cells": [
  {
   "cell_type": "code",
   "execution_count": 1,
   "metadata": {},
   "outputs": [
    {
     "name": "stdout",
     "output_type": "stream",
     "text": [
      "positive\n"
     ]
    }
   ],
   "source": [
    "# 1WAP to check whether a number is positive or negative. If Positive print positive \n",
    "# message or else print Negative Number.\n",
    "n=20\n",
    "if n>0:\n",
    "    print('positive')\n",
    "else:\n",
    "    print('negative')\n"
   ]
  },
  {
   "cell_type": "code",
   "execution_count": 4,
   "metadata": {},
   "outputs": [
    {
     "name": "stdout",
     "output_type": "stream",
     "text": [
      "even\n",
      "odd\n"
     ]
    }
   ],
   "source": [
    "#2WAP to check whether a number is even or odd. If even, print message an even \n",
    "# or else print message as odd\n",
    "a=10\n",
    "if a%2==0 :\n",
    "    print(\"even\")\n",
    "else:\n",
    "    print('odd')\n",
    "a=11\n",
    "if a%2==0 :\n",
    "    print(\"even\")\n",
    "else:\n",
    "    print('odd')"
   ]
  },
  {
   "cell_type": "code",
   "execution_count": 8,
   "metadata": {},
   "outputs": [
    {
     "name": "stdout",
     "output_type": "stream",
     "text": [
      "15 is greater than 10\n",
      "9 is less than 10\n"
     ]
    }
   ],
   "source": [
    "#3Write a program to check whether a given number is greater than 10 or not. if it \n",
    "# is greater than 10 print message as greater or else print that number with not a \n",
    "# greater than.\n",
    "n=15\n",
    "if n>10:\n",
    "    print(f'{n} is greater than 10')\n",
    "else:\n",
    "    print(f'{n} is less than 10')\n",
    "n=9\n",
    "if n>10:\n",
    "    print(f'{n} is greater than 10')\n",
    "else:\n",
    "    print(f'{n} is less than 10')"
   ]
  },
  {
   "cell_type": "code",
   "execution_count": 9,
   "metadata": {},
   "outputs": [
    {
     "name": "stdout",
     "output_type": "stream",
     "text": [
      "Good morning\n",
      "Good evening\n"
     ]
    }
   ],
   "source": [
    "#4WAP to check whether the given two input numbers are divisible by 3 and 5. If it \n",
    "# is divisible, print “Good Morning”, if it is not divisible print “Good Evening”.\n",
    "a=15\n",
    "b=45\n",
    "if a%3==0 and b%3==0 and a%5==0 and b%5==0:\n",
    "    print('Good morning')\n",
    "else:\n",
    "    print('Good evening')\n",
    "a=15\n",
    "b=40\n",
    "if a%3==0 and b%3==0 and a%5==0 and b%5==0:\n",
    "    print('Good morning')\n",
    "else:\n",
    "    print('Good evening')"
   ]
  },
  {
   "cell_type": "code",
   "execution_count": 16,
   "metadata": {},
   "outputs": [
    {
     "name": "stdout",
     "output_type": "stream",
     "text": [
      "100\n",
      "200 10 <class 'str'> <class 'str'>\n"
     ]
    }
   ],
   "source": [
    "#5WAP to accept two integers and check whether those two values are equal or not.\n",
    "# If equal, multiply to value or else to display the quotation value.\n",
    "a=10\n",
    "b=10\n",
    "if  type(a)==int and type(b)==int and a is b:\n",
    "    a=a*b\n",
    "    print(a)\n",
    "else:\n",
    "    print(str(a),str(b))\n",
    "a=200\n",
    "b=10\n",
    "if  type(a)==int and type(b)==int and a is b:\n",
    "    a=a*b\n",
    "    print(a)\n",
    "else:\n",
    "    a=str(a)\n",
    "    b=str(b)\n",
    "    print(a,b,type(a),type(b))\n"
   ]
  },
  {
   "cell_type": "code",
   "execution_count": null,
   "metadata": {},
   "outputs": [],
   "source": [
    "#6WAP to find the largest of two numbers.\n",
    "a=50\n",
    "b=30\n",
    "if a>b:\n",
    "    print(a,' is big')\n",
    "else:\n",
    "    print(b,'is big')    \n",
    "a=20\n",
    "b=10\n",
    "if a>b:\n",
    "    print(a,' is big')\n",
    "else:\n",
    "    print(b,'is big')    "
   ]
  },
  {
   "cell_type": "code",
   "execution_count": 17,
   "metadata": {},
   "outputs": [
    {
     "name": "stdout",
     "output_type": "stream",
     "text": [
      "20 greater than 10\n",
      "10\n"
     ]
    }
   ],
   "source": [
    "#7WAP to check whether the input number is greater than 10 or not if it is greater \n",
    "# than 10 print messages as greater with number. if it is not a greater than 10 print \n",
    "# that number\n",
    "n=20\n",
    "if n>10:\n",
    "    print(n,'greater than 10')\n",
    "else:\n",
    "    print(n)\n",
    "n=10\n",
    "if n>10:\n",
    "    print(n,'greater than 10')\n",
    "else:\n",
    "    print(n)\n"
   ]
  },
  {
   "cell_type": "code",
   "execution_count": 19,
   "metadata": {},
   "outputs": [
    {
     "name": "stdout",
     "output_type": "stream",
     "text": [
      "3\n",
      "2\n"
     ]
    }
   ],
   "source": [
    "#8WAP to the given number integer, if n is greater than 21,print the absolute \n",
    "# difference between n and 21 otherwise print twice the absolute difference.\n",
    "n=24\n",
    "if type(n)==int and n >21:\n",
    "    m=abs(n-21)\n",
    "    print(m)\n",
    "else:\n",
    "    m=abs(n-21)*2\n",
    "    print(m)\n",
    "n=20\n",
    "if type(n)==int and n >21:\n",
    "    m=abs(n-21)\n",
    "    print(m)\n",
    "else:\n",
    "    m=abs(n-21)*2\n",
    "    print(m)\n"
   ]
  },
  {
   "cell_type": "code",
   "execution_count": 20,
   "metadata": {},
   "outputs": [
    {
     "name": "stdout",
     "output_type": "stream",
     "text": [
      "5 is small\n",
      "10 is small\n"
     ]
    }
   ],
   "source": [
    "#9WAP to find the smallest of two numbers\n",
    "a=10\n",
    "b=5\n",
    "if a<b:\n",
    "    print(a,'is small')\n",
    "else:\n",
    "    print(b,'is small')\n",
    "\n",
    "a=10\n",
    "b=50\n",
    "if a<b:\n",
    "    print(a,'is small')\n",
    "else:\n",
    "    print(b,'is small')"
   ]
  },
  {
   "cell_type": "code",
   "execution_count": null,
   "metadata": {},
   "outputs": [],
   "source": [
    "#10WAP to check whether the given number is even or odd. If it is even then make \n",
    "# it as an add number, if it is an odd number then make it as even number.\n",
    "n=12\n",
    "if n%2==0:\n",
    "    n=n+1\n",
    "    print(n,' changed to odd no')\n",
    "else:\n",
    "    n=n-1\n",
    "    print(n,' changed to even no')"
   ]
  },
  {
   "cell_type": "code",
   "execution_count": 23,
   "metadata": {},
   "outputs": [
    {
     "name": "stdout",
     "output_type": "stream",
     "text": [
      "45\n",
      "1331 cube of no.\n"
     ]
    }
   ],
   "source": [
    "#11WAP to check whether the given number is divisible by 3 or not if yes, print the \n",
    "# number or else print the cube of the numbers.\n",
    "n=45\n",
    "if n%3==0:\n",
    "    print(n)\n",
    "else:\n",
    "    print(n**3,'cube of no.')\n",
    "n=11\n",
    "if n%3==0:\n",
    "    print(n)\n",
    "else:\n",
    "    print(n**3,'cube of no.')\n"
   ]
  },
  {
   "cell_type": "code",
   "execution_count": 26,
   "metadata": {},
   "outputs": [
    {
     "name": "stdout",
     "output_type": "stream",
     "text": [
      "15\n",
      "40 <class 'str'>\n"
     ]
    }
   ],
   "source": [
    "#12WAP to check whether the given input is divisible by 3 and 5. If yes print the \n",
    "# actual number or else print string of that number.\n",
    "n=15\n",
    "if n%3==0 and n%5==0:\n",
    "    print(n)\n",
    "else:\n",
    "    n=str(n)\n",
    "    print(n)\n",
    "        \n",
    "n=40\n",
    "if n%3==0 and n%5==0:\n",
    "    print(n)\n",
    "else:\n",
    "    n=str(n)\n",
    "    print(n,type(n))\n"
   ]
  },
  {
   "cell_type": "code",
   "execution_count": 28,
   "metadata": {},
   "outputs": [
    {
     "name": "stdout",
     "output_type": "stream",
     "text": [
      "324 square of no.\n",
      "8000 cube of no.\n"
     ]
    }
   ],
   "source": [
    "#13WAP to check whether the given number lies between 1 to 19, if it is true square \n",
    "# that number or else false cube that number and display the number.\n",
    "n=18\n",
    "if 1<=n<=19:\n",
    "    n=n**2\n",
    "    print(n,'square of no.')\n",
    "else:\n",
    "    n=n**3\n",
    "    print(n,'cube of no.')\n",
    "n=20\n",
    "if 1<=n<=19:\n",
    "    n=n**2\n",
    "    print(n,'square of no.')\n",
    "else:\n",
    "    n=n**3\n",
    "    print(n,'cube of no.')\n"
   ]
  },
  {
   "cell_type": "code",
   "execution_count": 32,
   "metadata": {},
   "outputs": [
    {
     "name": "stdout",
     "output_type": "stream",
     "text": [
      "passed  and secured with 50\n",
      "failed and marks is 30\n"
     ]
    }
   ],
   "source": [
    "#14WAP to check whether the student has passed or failed. If the student got more \n",
    "# than 40 marks, print ‘PASS’ along with those marks, if it is not printed ‘FAIL’ along \n",
    "# with those marks.\n",
    "marks=50\n",
    "if marks>40:\n",
    "    print(\"passed  and secured with\",marks)\n",
    "else:\n",
    "    print('failed and marks is',marks)\n",
    "\n",
    "marks=30 \n",
    "if marks>40:\n",
    "\n",
    "    print(\"passed  and secured with\",marks)\n",
    "else:\n",
    "    print('failed and marks is',marks)\n"
   ]
  },
  {
   "cell_type": "code",
   "execution_count": 34,
   "metadata": {},
   "outputs": [
    {
     "name": "stdout",
     "output_type": "stream",
     "text": [
      "8\n",
      "9\n"
     ]
    }
   ],
   "source": [
    "#15WAP to check whether a given value is even and in range of 47 to 58 and not in 0 \n",
    "# or odd. if condition is True, to perform display the ascii character. or else to \n",
    "# perform floor division with 5 and display it\n",
    "n=56\n",
    "if n%2==0 and n!=0 and 47<=n<58:\n",
    "    n=chr(n)\n",
    "    print(n)\n",
    "else:\n",
    "    n=n//5\n",
    "    print(n)\n",
    "\n",
    "\n",
    "n=46\n",
    "if n%2==0 and n!=0 and 47<=n<58:\n",
    "    n=chr(n)\n",
    "    print(n)\n",
    "else:\n",
    "    n=n//5\n",
    "    print(n)\n",
    "\n",
    "            "
   ]
  },
  {
   "cell_type": "code",
   "execution_count": 35,
   "metadata": {},
   "outputs": [
    {
     "name": "stdout",
     "output_type": "stream",
     "text": [
      "{70: 'F'}\n",
      "[40]\n"
     ]
    }
   ],
   "source": [
    "#16WAP to check whether a given value is less than 125 and in between 47 to 125 or \n",
    "# not. if condition is True, to perform store the given value as key and value as a \n",
    "# character into the dict or else to append the value in list and display it.\n",
    "n=70\n",
    "d={}\n",
    "l=[]\n",
    "if 47<=n<125:\n",
    "    d[n]=chr(n)\n",
    "    print(d)\n",
    "else:\n",
    "    l+=[n]\n",
    "    print(l)\n",
    "\n",
    "n=40\n",
    "d={}\n",
    "l=[]\n",
    "if 47<=n<125:\n",
    "    d[n]=chr(n)\n",
    "    print(d)\n",
    "else:\n",
    "    l+=[n]\n",
    "    print(l)\n",
    "\n",
    "\n",
    "    "
   ]
  },
  {
   "cell_type": "code",
   "execution_count": 36,
   "metadata": {},
   "outputs": [
    {
     "name": "stdout",
     "output_type": "stream",
     "text": [
      "alphabet S\n",
      "not alphabet @\n"
     ]
    }
   ],
   "source": [
    "#17WAP to check whether a given character is in the alphabet or not. if alphabet, \n",
    "# display the alphabet with character or else display the not alphabet with \n",
    "# character.\n",
    "char='S'\n",
    "if 'A'<=char<='Z' or 'a'<=char<='z':\n",
    "    print('alphabet',char)\n",
    "else:\n",
    "    print('not alphabet',char)\n",
    "\n",
    "char='@'\n",
    "if 'A'<=char<='Z' or 'a'<=char<='z':\n",
    "    print('alphabet',char)\n",
    "else:\n",
    "    print('not alphabet',char)\n"
   ]
  },
  {
   "cell_type": "code",
   "execution_count": 38,
   "metadata": {},
   "outputs": [
    {
     "name": "stdout",
     "output_type": "stream",
     "text": [
      "Uppercase A\n",
      "other character a\n"
     ]
    }
   ],
   "source": [
    "#18WAP to check whether a given character is uppercase or other character. if \n",
    "# uppercase, display the uppercase with character or else display the other \n",
    "# character with character.\n",
    "n='A'\n",
    "if 'A'<=n<='Z':\n",
    "    print('Uppercase',n)\n",
    "else:\n",
    "    print('other character',n)\n",
    "\n",
    "n='a'\n",
    "if 'A'<=n<='Z':\n",
    "    print('Uppercase',n)\n",
    "else:\n",
    "    print('other character',n)\n"
   ]
  },
  {
   "cell_type": "code",
   "execution_count": 40,
   "metadata": {},
   "outputs": [
    {
     "name": "stdout",
     "output_type": "stream",
     "text": [
      "uppercase a\n",
      "other character !\n"
     ]
    }
   ],
   "source": [
    "#19WAP to check whether a given character is lowercase or other character. if \n",
    "# lowercase, display the lowercase with character or else display the other\n",
    "# character with character.\n",
    "n='a'\n",
    "if 'a'<=n<='z':\n",
    "    print('lowercase',n)\n",
    "else:\n",
    "    print('other character',n)\n",
    "\n",
    "n='!'\n",
    "if 'a'<=n<='z':\n",
    "    print('lowercase',n)\n",
    "else:\n",
    "    print('other character',n)"
   ]
  },
  {
   "cell_type": "code",
   "execution_count": 41,
   "metadata": {},
   "outputs": [
    {
     "name": "stdout",
     "output_type": "stream",
     "text": [
      "a\n",
      "33\n"
     ]
    }
   ],
   "source": [
    "#20WAP to check whether a given character is uppercase or other character. if \n",
    "# uppercase, convert to lowercase .or else display the ascii number.\n",
    "\n",
    "n='A'\n",
    "if 'A'<=n<='Z':\n",
    "    n=chr(ord(n)+32)\n",
    "    print(n)\n",
    "else:\n",
    "    print(ord(n))\n",
    "\n",
    "n='!'\n",
    "if 'A'<=n<='Z':\n",
    "    n=chr(ord(n)+32)\n",
    "    print(n)\n",
    "else:\n",
    "    print(ord(n))\n"
   ]
  },
  {
   "cell_type": "code",
   "execution_count": 45,
   "metadata": {},
   "outputs": [
    {
     "name": "stdout",
     "output_type": "stream",
     "text": [
      "S\n",
      "b\n"
     ]
    }
   ],
   "source": [
    "#21WAP to check whether the given character is in lowercase or uppercase. If it is \n",
    "# in lowercase, convert it into uppercase, or else it is in uppercase and convert it \n",
    "# into lowercase. Display the value.\n",
    "n='s'\n",
    "if 'a'<=n<='z':\n",
    "    n=chr(ord(n)-32)\n",
    "    print(n)\n",
    "else:\n",
    "    n=chr(ord(n)+32)\n",
    "    print(n)\n",
    "\n",
    "n='B'\n",
    "if 'a'<=n<='z':\n",
    "    n=chr(ord(n)-32)\n",
    "    print(n)\n",
    "else:\n",
    "    n=chr(ord(n)+32)\n",
    "    print(n)"
   ]
  },
  {
   "cell_type": "code",
   "execution_count": 48,
   "metadata": {},
   "outputs": [
    {
     "name": "stdout",
     "output_type": "stream",
     "text": [
      "e\n",
      "erifesa\n"
     ]
    }
   ],
   "source": [
    "#22WAP to check whether the given string of the first character is a special symbol \n",
    "# or not. If a special symbol, to extract and display the middle character or else to \n",
    "# reverse the string and display the half of the string.\n",
    "\n",
    "var='!salaarceasefire'\n",
    "if not('a'<=var[0]<='z' or 'A'<=var[0]<='Z' or '0'<=var[0]<='9'):\n",
    "    midvalue=var[len(var)//2]\n",
    "    print(midvalue)\n",
    "else:\n",
    "    reverse=var[::-1]\n",
    "    halfstr=reverse[:len(var)//2]\n",
    "    print(halfstr)\n",
    "\n",
    "var='salaarceasefire'\n",
    "if not('a'<=var[0]<='z' or 'A'<=var[0]<='Z' or '0'<=var[0]<='9'):\n",
    "    midvalue=var[len(var)//2]\n",
    "    print(midvalue)\n",
    "else:\n",
    "    reverse=var[::-1]\n",
    "    halfstr=reverse[:len(var)//2]\n",
    "    print(halfstr)\n"
   ]
  },
  {
   "cell_type": "code",
   "execution_count": 50,
   "metadata": {},
   "outputs": [
    {
     "name": "stdout",
     "output_type": "stream",
     "text": [
      "VOWEL\n",
      "CONSONENT\n"
     ]
    }
   ],
   "source": [
    "#23WAP to check whether the input character is a vowel or not. If it is vowel print \n",
    "# ‘VOWEL’ along with that character, if it is not just print ‘CONSONANT’.\n",
    "a='e'\n",
    "if a in 'aeiouAEIOU':\n",
    "    print('VOWEL')\n",
    "else:\n",
    "    print('CONSONENT')\n",
    "\n",
    "a='F'\n",
    "if a in 'aeiouAEIOU':\n",
    "    print('VOWEL')\n",
    "else:\n",
    "    print('CONSONENT')\n"
   ]
  },
  {
   "cell_type": "code",
   "execution_count": 52,
   "metadata": {},
   "outputs": [
    {
     "name": "stdout",
     "output_type": "stream",
     "text": [
      "f\n",
      "C\n"
     ]
    }
   ],
   "source": [
    "#24WAP to check whether a given character is a vowel or consonant. if vowel, to \n",
    "# print the next character of a given character or else print previous characters\n",
    "a='e'\n",
    "if a in 'aeiouAEIOU':\n",
    "    n=chr(ord(a)+1)\n",
    "    print(n)\n",
    "else:\n",
    "    n=chr(ord(a)-1)\n",
    "    print(n)\n",
    "\n",
    "a='D'\n",
    "if a in 'aeiouAEIOU':\n",
    "    n=chr(ord(a)+1)\n",
    "    print(n)\n",
    "else:\n",
    "    n=chr(ord(a)-1)\n",
    "    print(n)\n"
   ]
  },
  {
   "cell_type": "code",
   "execution_count": 55,
   "metadata": {},
   "outputs": [
    {
     "name": "stdout",
     "output_type": "stream",
     "text": [
      "edcba\n",
      "c\n"
     ]
    }
   ],
   "source": [
    "#25WAP to check whether a given string of first character is alphabet or not\n",
    "# if the alphabet prints, reverse the string or else print the middle character\n",
    "n='abcde'\n",
    "if 'A'<=n[0]<='B'or 'a'<=n[0]<='z':\n",
    "    n=n[::-1]\n",
    "    print(n)\n",
    "else:\n",
    "    n=n[len(n)//2]\n",
    "    print(n)\n",
    "\n",
    "n='!bcde'\n",
    "if 'A'<=n[0]<='B'or 'a'<=n[0]<='z':\n",
    "    n=n[::-1]\n",
    "    print(n)\n",
    "else:\n",
    "    n=n[len(n)//2]\n",
    "    print(n)\n"
   ]
  },
  {
   "cell_type": "code",
   "execution_count": 57,
   "metadata": {},
   "outputs": [
    {
     "name": "stdout",
     "output_type": "stream",
     "text": [
      "f\n",
      "F\n"
     ]
    }
   ],
   "source": [
    "#26 WAP to check whether the given input character is uppercase or lowercase. If \n",
    "# the input character is upper case convert into lower case and vice versa.\n",
    "n='F'\n",
    "if 'A'<=n<='Z':\n",
    "    m=chr(ord(n)+32)\n",
    "    print(m)\n",
    "else:\n",
    "    m=chr(ord(n)-32)\n",
    "\n",
    "n='f'\n",
    "if 'A'<=n<='Z':\n",
    "    m=chr(ord(n)+32)\n",
    "    print(m)\n",
    "else:\n",
    "    m=chr(ord(n)-32)\n",
    "    print(m)\n"
   ]
  },
  {
   "cell_type": "code",
   "execution_count": 58,
   "metadata": {},
   "outputs": [
    {
     "name": "stdout",
     "output_type": "stream",
     "text": [
      "hi\n",
      "owareyou\n"
     ]
    }
   ],
   "source": [
    "#27WAP to check whether a given string is less than 3 characters, to print the entire \n",
    "# string otherwise to print after third positions to the remaining string.\n",
    "s='hi'\n",
    "if len(s)<3:\n",
    "    print(s)\n",
    "else:\n",
    "    n=s[3:]\n",
    "    print(n)\n",
    "\n",
    "s='hihowareyou'\n",
    "if len(s)<3:\n",
    "    print(s)\n",
    "else:\n",
    "    n=s[3:]\n",
    "    print(n)\n"
   ]
  },
  {
   "cell_type": "code",
   "execution_count": 60,
   "metadata": {},
   "outputs": [
    {
     "name": "stdout",
     "output_type": "stream",
     "text": [
      "salaarceasefire\n",
      "s r\n"
     ]
    }
   ],
   "source": [
    "#28WAP to check whether a given length of the string is even or not. if even, to \n",
    "# append the new string called \"bye\" or else print the first and last characters.\n",
    "st='salaar'\n",
    "if len(st)%2==0:\n",
    "    s='ceasefire'\n",
    "    st=st+s\n",
    "    print(st)\n",
    "else:\n",
    "    s=st[0]\n",
    "    v=st[-1]\n",
    "    print(s,v)\n",
    "\n",
    "st='salar'\n",
    "if len(st)%2==0:\n",
    "    s='ceasefire'\n",
    "    st=st+s\n",
    "    print(st)\n",
    "else:\n",
    "    s=st[0]\n",
    "    v=st[-1]\n",
    "    print(s,v)"
   ]
  },
  {
   "cell_type": "code",
   "execution_count": 63,
   "metadata": {},
   "outputs": [
    {
     "name": "stdout",
     "output_type": "stream",
     "text": [
      "Haiiabcde\n"
     ]
    }
   ],
   "source": [
    "#29WAP to check whether a given length of the string is odd or not. if odd, to append \n",
    "# the new string(\"Haii\") from the starting of the given string, or else to avoid the \n",
    "# starting character and ending character of the given\n",
    "# string and to display the remaining characters.\n",
    "st='abcde'\n",
    "if len(st)%2!=0:\n",
    "    s='Haii'\n",
    "    st=s+st\n",
    "    print(st)"
   ]
  },
  {
   "cell_type": "code",
   "execution_count": 1,
   "metadata": {},
   "outputs": [
    {
     "name": "stdout",
     "output_type": "stream",
     "text": [
      "madam is a palindrome string\n",
      "madan is not a palindrome string\n"
     ]
    }
   ],
   "source": [
    "#WAP to check whether the given string is palindrome or not if it is a palindrome \n",
    "# string palindrome along with the string if it is not a palindrome print not \n",
    "# palindrome\n",
    "st='madam'\n",
    "if st[:]==st[::-1]:\n",
    "    print(f'{st} is a palindrome string')\n",
    "else:\n",
    "    print(f'{st} is not a palindrome string')\n",
    "\n",
    "st='madan'\n",
    "if st[:]==st[::-1]:\n",
    "    print(f'{st} is a palindrome string')\n",
    "else:\n",
    "    print(f'{st} is not a palindrome string')\n"
   ]
  },
  {
   "cell_type": "code",
   "execution_count": 3,
   "metadata": {},
   "outputs": [
    {
     "name": "stdout",
     "output_type": "stream",
     "text": [
      "10001 is a palindrome no.\n",
      "10002 is not a palindrome no.\n"
     ]
    }
   ],
   "source": [
    "#WAP to check whether a given number is palindrome or not. If palindrome, \n",
    "# display the given value as a palindrome or else not a palindrome.\n",
    "n=10001\n",
    "if str(n)[::]==str(n)[::-1]:\n",
    "    print(f'{n} is a palindrome no.')\n",
    "else:\n",
    "    print(f'{n} is not a palindrome no.')\n",
    "\n",
    "n=10002\n",
    "if str(n)[::]==str(n)[::-1]:\n",
    "    print(f'{n} is a palindrome no.')\n",
    "else:\n",
    "    print(f'{n} is not a palindrome no.')\n"
   ]
  },
  {
   "cell_type": "code",
   "execution_count": 6,
   "metadata": {},
   "outputs": [
    {
     "name": "stdout",
     "output_type": "stream",
     "text": [
      "salaarceaase\n",
      "salaar 6\n",
      "cease 5\n"
     ]
    }
   ],
   "source": [
    "#WAP to check length of both string collections are equal or not. if both are equal \n",
    "# print the concat the two strings and display, or else if any one of the collection \n",
    "# not equal print both the collections with lengths\n",
    "a='salaar'\n",
    "b='ceaase'\n",
    "if len(a) == len(b):\n",
    "    c=a+b\n",
    "    print(c)\n",
    "else:\n",
    "    print(a,len(a))\n",
    "    print(b,len(b))\n",
    "\n",
    "a='salaar'\n",
    "b='cease'\n",
    "if len(a) == len(b):\n",
    "    c=a+b\n",
    "    print(c)\n",
    "else:\n",
    "    print(a,len(a))\n",
    "    print(b,len(b))\n",
    "\n"
   ]
  },
  {
   "cell_type": "code",
   "execution_count": 10,
   "metadata": {},
   "outputs": [
    {
     "name": "stdout",
     "output_type": "stream",
     "text": [
      "30\n",
      "10 140729977529416\n",
      "50 140729977530696\n"
     ]
    }
   ],
   "source": [
    "#WAP to check whether both given values point to the same memory location or \n",
    "# not. if it is true print the middle item of the second collection, or else if it is false \n",
    "# print the first item and last item of the first collection along with the memory \n",
    "# address.\n",
    "l1=[10,20,30,40,50]\n",
    "l2=l1\n",
    "if l1 is l2:\n",
    "    l22=l2[len(l2)//2]\n",
    "    print(l22)\n",
    "else:\n",
    "    l11=l1[0]\n",
    "    l12=l1[-1]\n",
    "    print(l11,id(l11))\n",
    "    print(l12,id(l12))\n",
    "\n",
    "l1=[10,20,30,40,50]\n",
    "l2=[10,20,30,40,50]\n",
    "if l1 is l2:\n",
    "    l22=l2[len(l2)//2]\n",
    "    print(l22)\n",
    "else:\n",
    "    l11=l1[0]\n",
    "    l12=l1[-1]\n",
    "    print(l11,id(l11))\n",
    "    print(l12,id(l12))\n"
   ]
  },
  {
   "cell_type": "code",
   "execution_count": 14,
   "metadata": {},
   "outputs": [
    {
     "name": "stdout",
     "output_type": "stream",
     "text": [
      "65 101 69\n",
      "AsalaartheceasefireAsalaartheceasefireAsalaartheceasefire\n"
     ]
    }
   ],
   "source": [
    "#WAP to check whether a given string collection is more than ten, and the first + \n",
    "# last character of the ascii values should be divisible by 5, if condition is satisfied \n",
    "# print first, middle, last characters ASCII values or else print the string three \n",
    "# times.\n",
    "st='AsalaartheceasefirF'\n",
    "if len(st)>10 and ord(st[0])%5==0 and ord(st[-1])%5==0:\n",
    "    s1=s[0]\n",
    "    s2=s[len(st)//2]\n",
    "    s3=s[-1]\n",
    "    print(ord(s1),ord(s2),ord(s3))\n",
    "else:\n",
    "    s=st*3\n",
    "    print(s)\n",
    "\n",
    "st='Asalaartheceasefire'\n",
    "if len(st)>10 and ord(st[0])%5==0 and ord(st[-1])%5==0:\n",
    "    s1=s[0]\n",
    "    s2=s[len(st)//2]\n",
    "    s3=s[-1]\n",
    "    print(ord(s1),ord(s2),ord(s3))\n",
    "else:\n",
    "    s=st*3\n",
    "    print(s)\n",
    "\n",
    "\n",
    "\n",
    "\n"
   ]
  },
  {
   "cell_type": "code",
   "execution_count": 16,
   "metadata": {},
   "outputs": [
    {
     "name": "stdout",
     "output_type": "stream",
     "text": [
      "[10, 10.12, True, 'str', [10, 10.12], (10, 121)]\n",
      "[10, 10.12]\n"
     ]
    }
   ],
   "source": [
    "#WAP to check whether the middle of the item present in the list is string data type \n",
    "# or not if it is string print that list or else if it is not string then print that middle \n",
    "# item\n",
    "l=[10,10.12,True,'str',[10,10.12],(10,121)]\n",
    "if type(l[len(l)//2])==str:\n",
    "    print(l)\n",
    "else:\n",
    "    print(l[len(l)//2])\n",
    "\n",
    "l=[10,10.12,True,[10,10.12],(10,121),{10,True}]\n",
    "if type(l[len(l)//2])==str:\n",
    "    print(l)\n",
    "else:\n",
    "    print(l[len(l)//2])\n",
    "\n"
   ]
  },
  {
   "cell_type": "code",
   "execution_count": null,
   "metadata": {},
   "outputs": [],
   "source": [
    "#WAP Given a string, return a new string where the first and last characters have \n",
    "# been exchanged\n",
    "\n",
    "\n"
   ]
  },
  {
   "cell_type": "code",
   "execution_count": 18,
   "metadata": {},
   "outputs": [
    {
     "name": "stdout",
     "output_type": "stream",
     "text": [
      "49\n",
      "140\n"
     ]
    }
   ],
   "source": [
    "#Write a program to find out such numbers which are divisible by 7 but are not a \n",
    "# multiple of 5. Both the conditional is satisfied and print actual value. if one \n",
    "# condition is not satisfied actual number is multiply by 4 and print result\n",
    "n=49\n",
    "if n%7==0 and n%5!=0:\n",
    "    print(n)\n",
    "else:\n",
    "    n=n*4\n",
    "    print(n)\n",
    "\n",
    "n=35\n",
    "if n%7==0 and n%5!=0:\n",
    "    print(n)\n",
    "else:\n",
    "    n=n*4\n",
    "    print(n)\n"
   ]
  },
  {
   "cell_type": "code",
   "execution_count": 21,
   "metadata": {},
   "outputs": [
    {
     "name": "stdout",
     "output_type": "stream",
     "text": [
      "140729977529736 id of a\n",
      "140729977529736 id of b\n",
      "2230590630144 id of a\n",
      "2230590396096 id of b\n"
     ]
    }
   ],
   "source": [
    "#WAP to check whether two values are pointing to the same memory address or \n",
    "# not. If the same memory displays the address or else displays the two values \n",
    "# addresses.\n",
    "a=20\n",
    "b=20\n",
    "if a is b:\n",
    "    print(id(a),'id of a')\n",
    "    print(id(b),'id of b')\n",
    "else:\n",
    "    print(id(a),'id of a')\n",
    "    print(id(b),'id of b')\n",
    "a=[10,20]\n",
    "b=[10,20]\n",
    "if a is b:\n",
    "    print(id(a),'id of a')\n",
    "    print(id(b),'id of b')\n",
    "else:\n",
    "    print(id(a),'id of a')\n",
    "    print(id(b),'id of b')\n",
    "\n"
   ]
  },
  {
   "cell_type": "code",
   "execution_count": 23,
   "metadata": {},
   "outputs": [
    {
     "name": "stdout",
     "output_type": "stream",
     "text": [
      "@@@\n",
      "ZZZZZ\n"
     ]
    }
   ],
   "source": [
    "#WAP to check whether a given input character is a special symbol or not if it is a \n",
    "# special symbol then print that character three times and tell print that character \n",
    "# 5 times.\n",
    "n='@'\n",
    "if not('A'<=n<='Z'or 'a'<=n<='z' or '0'<=n<='9'):\n",
    "    print(n*3)\n",
    "else:\n",
    "    print(n*5)\n",
    "\n",
    "n='Z'\n",
    "if not('A'<=n<='Z'or 'a'<=n<='z' or '0'<=n<='9'):\n",
    "    print(n*3)\n",
    "else:\n",
    "    print(n*5)"
   ]
  },
  {
   "cell_type": "code",
   "execution_count": null,
   "metadata": {},
   "outputs": [],
   "source": [
    "#WAP to check length of both string collections equal or not if it is equal print the \n",
    "# connection of any one of the collections if it is not equal print both the collection.\n"
   ]
  }
 ],
 "metadata": {
  "kernelspec": {
   "display_name": "Python 3",
   "language": "python",
   "name": "python3"
  },
  "language_info": {
   "codemirror_mode": {
    "name": "ipython",
    "version": 3
   },
   "file_extension": ".py",
   "mimetype": "text/x-python",
   "name": "python",
   "nbconvert_exporter": "python",
   "pygments_lexer": "ipython3",
   "version": "3.11.4"
  },
  "orig_nbformat": 4
 },
 "nbformat": 4,
 "nbformat_minor": 2
}
