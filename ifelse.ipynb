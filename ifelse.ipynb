{
 "cells": [
  {
   "cell_type": "code",
   "execution_count": 1,
   "metadata": {},
   "outputs": [
    {
     "name": "stdout",
     "output_type": "stream",
     "text": [
      "positive\n"
     ]
    }
   ],
   "source": [
    "# 1WAP to check whether a number is positive or negative. If Positive print positive \n",
    "# message or else print Negative Number.\n",
    "n=20\n",
    "if n>0:\n",
    "    print('positive')\n",
    "else:\n",
    "    print('negative')\n"
   ]
  },
  {
   "cell_type": "code",
   "execution_count": 4,
   "metadata": {},
   "outputs": [
    {
     "name": "stdout",
     "output_type": "stream",
     "text": [
      "even\n",
      "odd\n"
     ]
    }
   ],
   "source": [
    "#2WAP to check whether a number is even or odd. If even, print message an even \n",
    "# or else print message as odd\n",
    "a=10\n",
    "if a%2==0 :\n",
    "    print(\"even\")\n",
    "else:\n",
    "    print('odd')\n",
    "a=11\n",
    "if a%2==0 :\n",
    "    print(\"even\")\n",
    "else:\n",
    "    print('odd')"
   ]
  },
  {
   "cell_type": "code",
   "execution_count": 8,
   "metadata": {},
   "outputs": [
    {
     "name": "stdout",
     "output_type": "stream",
     "text": [
      "15 is greater than 10\n",
      "9 is less than 10\n"
     ]
    }
   ],
   "source": [
    "#3Write a program to check whether a given number is greater than 10 or not. if it \n",
    "# is greater than 10 print message as greater or else print that number with not a \n",
    "# greater than.\n",
    "n=15\n",
    "if n>10:\n",
    "    print(f'{n} is greater than 10')\n",
    "else:\n",
    "    print(f'{n} is less than 10')\n",
    "n=9\n",
    "if n>10:\n",
    "    print(f'{n} is greater than 10')\n",
    "else:\n",
    "    print(f'{n} is less than 10')"
   ]
  },
  {
   "cell_type": "code",
   "execution_count": 9,
   "metadata": {},
   "outputs": [
    {
     "name": "stdout",
     "output_type": "stream",
     "text": [
      "Good morning\n",
      "Good evening\n"
     ]
    }
   ],
   "source": [
    "#4WAP to check whether the given two input numbers are divisible by 3 and 5. If it \n",
    "# is divisible, print “Good Morning”, if it is not divisible print “Good Evening”.\n",
    "a=15\n",
    "b=45\n",
    "if a%3==0 and b%3==0 and a%5==0 and b%5==0:\n",
    "    print('Good morning')\n",
    "else:\n",
    "    print('Good evening')\n",
    "a=15\n",
    "b=40\n",
    "if a%3==0 and b%3==0 and a%5==0 and b%5==0:\n",
    "    print('Good morning')\n",
    "else:\n",
    "    print('Good evening')"
   ]
  },
  {
   "cell_type": "code",
   "execution_count": 16,
   "metadata": {},
   "outputs": [
    {
     "name": "stdout",
     "output_type": "stream",
     "text": [
      "100\n",
      "200 10 <class 'str'> <class 'str'>\n"
     ]
    }
   ],
   "source": [
    "#5WAP to accept two integers and check whether those two values are equal or not.\n",
    "# If equal, multiply to value or else to display the quotation value.\n",
    "a=10\n",
    "b=10\n",
    "if  type(a)==int and type(b)==int and a is b:\n",
    "    a=a*b\n",
    "    print(a)\n",
    "else:\n",
    "    print(str(a),str(b))\n",
    "a=200\n",
    "b=10\n",
    "if  type(a)==int and type(b)==int and a is b:\n",
    "    a=a*b\n",
    "    print(a)\n",
    "else:\n",
    "    a=str(a)\n",
    "    b=str(b)\n",
    "    print(a,b,type(a),type(b))\n"
   ]
  },
  {
   "cell_type": "code",
   "execution_count": null,
   "metadata": {},
   "outputs": [],
   "source": [
    "#6WAP to find the largest of two numbers.\n",
    "a=50\n",
    "b=30\n",
    "if a>b:\n",
    "    print(a,' is big')\n",
    "else:\n",
    "    print(b,'is big')    \n",
    "a=20\n",
    "b=10\n",
    "if a>b:\n",
    "    print(a,' is big')\n",
    "else:\n",
    "    print(b,'is big')    "
   ]
  },
  {
   "cell_type": "code",
   "execution_count": 17,
   "metadata": {},
   "outputs": [
    {
     "name": "stdout",
     "output_type": "stream",
     "text": [
      "20 greater than 10\n",
      "10\n"
     ]
    }
   ],
   "source": [
    "#7WAP to check whether the input number is greater than 10 or not if it is greater \n",
    "# than 10 print messages as greater with number. if it is not a greater than 10 print \n",
    "# that number\n",
    "n=20\n",
    "if n>10:\n",
    "    print(n,'greater than 10')\n",
    "else:\n",
    "    print(n)\n",
    "n=10\n",
    "if n>10:\n",
    "    print(n,'greater than 10')\n",
    "else:\n",
    "    print(n)\n"
   ]
  },
  {
   "cell_type": "code",
   "execution_count": 19,
   "metadata": {},
   "outputs": [
    {
     "name": "stdout",
     "output_type": "stream",
     "text": [
      "3\n",
      "2\n"
     ]
    }
   ],
   "source": [
    "#8WAP to the given number integer, if n is greater than 21,print the absolute \n",
    "# difference between n and 21 otherwise print twice the absolute difference.\n",
    "n=24\n",
    "if type(n)==int and n >21:\n",
    "    m=abs(n-21)\n",
    "    print(m)\n",
    "else:\n",
    "    m=abs(n-21)*2\n",
    "    print(m)\n",
    "n=20\n",
    "if type(n)==int and n >21:\n",
    "    m=abs(n-21)\n",
    "    print(m)\n",
    "else:\n",
    "    m=abs(n-21)*2\n",
    "    print(m)\n"
   ]
  },
  {
   "cell_type": "code",
   "execution_count": 20,
   "metadata": {},
   "outputs": [
    {
     "name": "stdout",
     "output_type": "stream",
     "text": [
      "5 is small\n",
      "10 is small\n"
     ]
    }
   ],
   "source": [
    "#9WAP to find the smallest of two numbers\n",
    "a=10\n",
    "b=5\n",
    "if a<b:\n",
    "    print(a,'is small')\n",
    "else:\n",
    "    print(b,'is small')\n",
    "\n",
    "a=10\n",
    "b=50\n",
    "if a<b:\n",
    "    print(a,'is small')\n",
    "else:\n",
    "    print(b,'is small')"
   ]
  },
  {
   "cell_type": "code",
   "execution_count": null,
   "metadata": {},
   "outputs": [],
   "source": [
    "#10WAP to check whether the given number is even or odd. If it is even then make \n",
    "# it as an add number, if it is an odd number then make it as even number.\n",
    "n=12\n",
    "if n%2==0:\n",
    "    n=n+1\n",
    "    print(n,' changed to odd no')\n",
    "else:\n",
    "    n=n-1\n",
    "    print(n,' changed to even no')"
   ]
  },
  {
   "cell_type": "code",
   "execution_count": 23,
   "metadata": {},
   "outputs": [
    {
     "name": "stdout",
     "output_type": "stream",
     "text": [
      "45\n",
      "1331 cube of no.\n"
     ]
    }
   ],
   "source": [
    "#11WAP to check whether the given number is divisible by 3 or not if yes, print the \n",
    "# number or else print the cube of the numbers.\n",
    "n=45\n",
    "if n%3==0:\n",
    "    print(n)\n",
    "else:\n",
    "    print(n**3,'cube of no.')\n",
    "n=11\n",
    "if n%3==0:\n",
    "    print(n)\n",
    "else:\n",
    "    print(n**3,'cube of no.')\n"
   ]
  },
  {
   "cell_type": "code",
   "execution_count": 26,
   "metadata": {},
   "outputs": [
    {
     "name": "stdout",
     "output_type": "stream",
     "text": [
      "15\n",
      "40 <class 'str'>\n"
     ]
    }
   ],
   "source": [
    "#12WAP to check whether the given input is divisible by 3 and 5. If yes print the \n",
    "# actual number or else print string of that number.\n",
    "n=15\n",
    "if n%3==0 and n%5==0:\n",
    "    print(n)\n",
    "else:\n",
    "    n=str(n)\n",
    "    print(n)\n",
    "        \n",
    "n=40\n",
    "if n%3==0 and n%5==0:\n",
    "    print(n)\n",
    "else:\n",
    "    n=str(n)\n",
    "    print(n,type(n))\n"
   ]
  },
  {
   "cell_type": "code",
   "execution_count": 28,
   "metadata": {},
   "outputs": [
    {
     "name": "stdout",
     "output_type": "stream",
     "text": [
      "324 square of no.\n",
      "8000 cube of no.\n"
     ]
    }
   ],
   "source": [
    "#13WAP to check whether the given number lies between 1 to 19, if it is true square \n",
    "# that number or else false cube that number and display the number.\n",
    "n=18\n",
    "if 1<=n<=19:\n",
    "    n=n**2\n",
    "    print(n,'square of no.')\n",
    "else:\n",
    "    n=n**3\n",
    "    print(n,'cube of no.')\n",
    "n=20\n",
    "if 1<=n<=19:\n",
    "    n=n**2\n",
    "    print(n,'square of no.')\n",
    "else:\n",
    "    n=n**3\n",
    "    print(n,'cube of no.')\n"
   ]
  },
  {
   "cell_type": "code",
   "execution_count": 32,
   "metadata": {},
   "outputs": [
    {
     "name": "stdout",
     "output_type": "stream",
     "text": [
      "passed  and secured with 50\n",
      "failed and marks is 30\n"
     ]
    }
   ],
   "source": [
    "#14WAP to check whether the student has passed or failed. If the student got more \n",
    "# than 40 marks, print ‘PASS’ along with those marks, if it is not printed ‘FAIL’ along \n",
    "# with those marks.\n",
    "marks=50\n",
    "if marks>40:\n",
    "    print(\"passed  and secured with\",marks)\n",
    "else:\n",
    "    print('failed and marks is',marks)\n",
    "\n",
    "marks=30 \n",
    "if marks>40:\n",
    "\n",
    "    print(\"passed  and secured with\",marks)\n",
    "else:\n",
    "    print('failed and marks is',marks)\n"
   ]
  },
  {
   "cell_type": "code",
   "execution_count": 34,
   "metadata": {},
   "outputs": [
    {
     "name": "stdout",
     "output_type": "stream",
     "text": [
      "8\n",
      "9\n"
     ]
    }
   ],
   "source": [
    "#15WAP to check whether a given value is even and in range of 47 to 58 and not in 0 \n",
    "# or odd. if condition is True, to perform display the ascii character. or else to \n",
    "# perform floor division with 5 and display it\n",
    "n=56\n",
    "if n%2==0 and n!=0 and 47<=n<58:\n",
    "    n=chr(n)\n",
    "    print(n)\n",
    "else:\n",
    "    n=n//5\n",
    "    print(n)\n",
    "\n",
    "\n",
    "n=46\n",
    "if n%2==0 and n!=0 and 47<=n<58:\n",
    "    n=chr(n)\n",
    "    print(n)\n",
    "else:\n",
    "    n=n//5\n",
    "    print(n)\n",
    "\n",
    "            "
   ]
  },
  {
   "cell_type": "code",
   "execution_count": 35,
   "metadata": {},
   "outputs": [
    {
     "name": "stdout",
     "output_type": "stream",
     "text": [
      "{70: 'F'}\n",
      "[40]\n"
     ]
    }
   ],
   "source": [
    "#16WAP to check whether a given value is less than 125 and in between 47 to 125 or \n",
    "# not. if condition is True, to perform store the given value as key and value as a \n",
    "# character into the dict or else to append the value in list and display it.\n",
    "n=70\n",
    "d={}\n",
    "l=[]\n",
    "if 47<=n<125:\n",
    "    d[n]=chr(n)\n",
    "    print(d)\n",
    "else:\n",
    "    l+=[n]\n",
    "    print(l)\n",
    "\n",
    "n=40\n",
    "d={}\n",
    "l=[]\n",
    "if 47<=n<125:\n",
    "    d[n]=chr(n)\n",
    "    print(d)\n",
    "else:\n",
    "    l+=[n]\n",
    "    print(l)\n",
    "\n",
    "\n",
    "    "
   ]
  },
  {
   "cell_type": "code",
   "execution_count": 36,
   "metadata": {},
   "outputs": [
    {
     "name": "stdout",
     "output_type": "stream",
     "text": [
      "alphabet S\n",
      "not alphabet @\n"
     ]
    }
   ],
   "source": [
    "#17WAP to check whether a given character is in the alphabet or not. if alphabet, \n",
    "# display the alphabet with character or else display the not alphabet with \n",
    "# character.\n",
    "char='S'\n",
    "if 'A'<=char<='Z' or 'a'<=char<='z':\n",
    "    print('alphabet',char)\n",
    "else:\n",
    "    print('not alphabet',char)\n",
    "\n",
    "char='@'\n",
    "if 'A'<=char<='Z' or 'a'<=char<='z':\n",
    "    print('alphabet',char)\n",
    "else:\n",
    "    print('not alphabet',char)\n"
   ]
  },
  {
   "cell_type": "code",
   "execution_count": 38,
   "metadata": {},
   "outputs": [
    {
     "name": "stdout",
     "output_type": "stream",
     "text": [
      "Uppercase A\n",
      "other character a\n"
     ]
    }
   ],
   "source": [
    "#18WAP to check whether a given character is uppercase or other character. if \n",
    "# uppercase, display the uppercase with character or else display the other \n",
    "# character with character.\n",
    "n='A'\n",
    "if 'A'<=n<='Z':\n",
    "    print('Uppercase',n)\n",
    "else:\n",
    "    print('other character',n)\n",
    "\n",
    "n='a'\n",
    "if 'A'<=n<='Z':\n",
    "    print('Uppercase',n)\n",
    "else:\n",
    "    print('other character',n)\n"
   ]
  },
  {
   "cell_type": "code",
   "execution_count": 40,
   "metadata": {},
   "outputs": [
    {
     "name": "stdout",
     "output_type": "stream",
     "text": [
      "uppercase a\n",
      "other character !\n"
     ]
    }
   ],
   "source": [
    "#19WAP to check whether a given character is lowercase or other character. if \n",
    "# lowercase, display the lowercase with character or else display the other\n",
    "# character with character.\n",
    "n='a'\n",
    "if 'a'<=n<='z':\n",
    "    print('lowercase',n)\n",
    "else:\n",
    "    print('other character',n)\n",
    "\n",
    "n='!'\n",
    "if 'a'<=n<='z':\n",
    "    print('lowercase',n)\n",
    "else:\n",
    "    print('other character',n)"
   ]
  },
  {
   "cell_type": "code",
   "execution_count": 41,
   "metadata": {},
   "outputs": [
    {
     "name": "stdout",
     "output_type": "stream",
     "text": [
      "a\n",
      "33\n"
     ]
    }
   ],
   "source": [
    "#20WAP to check whether a given character is uppercase or other character. if \n",
    "# uppercase, convert to lowercase .or else display the ascii number.\n",
    "\n",
    "n='A'\n",
    "if 'A'<=n<='Z':\n",
    "    n=chr(ord(n)+32)\n",
    "    print(n)\n",
    "else:\n",
    "    print(ord(n))\n",
    "\n",
    "n='!'\n",
    "if 'A'<=n<='Z':\n",
    "    n=chr(ord(n)+32)\n",
    "    print(n)\n",
    "else:\n",
    "    print(ord(n))\n"
   ]
  },
  {
   "cell_type": "code",
   "execution_count": 45,
   "metadata": {},
   "outputs": [
    {
     "name": "stdout",
     "output_type": "stream",
     "text": [
      "S\n",
      "b\n"
     ]
    }
   ],
   "source": [
    "#21WAP to check whether the given character is in lowercase or uppercase. If it is \n",
    "# in lowercase, convert it into uppercase, or else it is in uppercase and convert it \n",
    "# into lowercase. Display the value.\n",
    "n='s'\n",
    "if 'a'<=n<='z':\n",
    "    n=chr(ord(n)-32)\n",
    "    print(n)\n",
    "else:\n",
    "    n=chr(ord(n)+32)\n",
    "    print(n)\n",
    "\n",
    "n='B'\n",
    "if 'a'<=n<='z':\n",
    "    n=chr(ord(n)-32)\n",
    "    print(n)\n",
    "else:\n",
    "    n=chr(ord(n)+32)\n",
    "    print(n)"
   ]
  },
  {
   "cell_type": "code",
   "execution_count": 48,
   "metadata": {},
   "outputs": [
    {
     "name": "stdout",
     "output_type": "stream",
     "text": [
      "e\n",
      "erifesa\n"
     ]
    }
   ],
   "source": [
    "#22WAP to check whether the given string of the first character is a special symbol \n",
    "# or not. If a special symbol, to extract and display the middle character or else to \n",
    "# reverse the string and display the half of the string.\n",
    "\n",
    "var='!salaarceasefire'\n",
    "if not('a'<=var[0]<='z' or 'A'<=var[0]<='Z' or '0'<=var[0]<='9'):\n",
    "    midvalue=var[len(var)//2]\n",
    "    print(midvalue)\n",
    "else:\n",
    "    reverse=var[::-1]\n",
    "    halfstr=reverse[:len(var)//2]\n",
    "    print(halfstr)\n",
    "\n",
    "var='salaarceasefire'\n",
    "if not('a'<=var[0]<='z' or 'A'<=var[0]<='Z' or '0'<=var[0]<='9'):\n",
    "    midvalue=var[len(var)//2]\n",
    "    print(midvalue)\n",
    "else:\n",
    "    reverse=var[::-1]\n",
    "    halfstr=reverse[:len(var)//2]\n",
    "    print(halfstr)\n"
   ]
  },
  {
   "cell_type": "code",
   "execution_count": 50,
   "metadata": {},
   "outputs": [
    {
     "name": "stdout",
     "output_type": "stream",
     "text": [
      "VOWEL\n",
      "CONSONENT\n"
     ]
    }
   ],
   "source": [
    "#23WAP to check whether the input character is a vowel or not. If it is vowel print \n",
    "# ‘VOWEL’ along with that character, if it is not just print ‘CONSONANT’.\n",
    "a='e'\n",
    "if a in 'aeiouAEIOU':\n",
    "    print('VOWEL')\n",
    "else:\n",
    "    print('CONSONENT')\n",
    "\n",
    "a='F'\n",
    "if a in 'aeiouAEIOU':\n",
    "    print('VOWEL')\n",
    "else:\n",
    "    print('CONSONENT')\n"
   ]
  },
  {
   "cell_type": "code",
   "execution_count": 52,
   "metadata": {},
   "outputs": [
    {
     "name": "stdout",
     "output_type": "stream",
     "text": [
      "f\n",
      "C\n"
     ]
    }
   ],
   "source": [
    "#24WAP to check whether a given character is a vowel or consonant. if vowel, to \n",
    "# print the next character of a given character or else print previous characters\n",
    "a='e'\n",
    "if a in 'aeiouAEIOU':\n",
    "    n=chr(ord(a)+1)\n",
    "    print(n)\n",
    "else:\n",
    "    n=chr(ord(a)-1)\n",
    "    print(n)\n",
    "\n",
    "a='D'\n",
    "if a in 'aeiouAEIOU':\n",
    "    n=chr(ord(a)+1)\n",
    "    print(n)\n",
    "else:\n",
    "    n=chr(ord(a)-1)\n",
    "    print(n)\n"
   ]
  },
  {
   "cell_type": "code",
   "execution_count": 55,
   "metadata": {},
   "outputs": [
    {
     "name": "stdout",
     "output_type": "stream",
     "text": [
      "edcba\n",
      "c\n"
     ]
    }
   ],
   "source": [
    "#25WAP to check whether a given string of first character is alphabet or not\n",
    "# if the alphabet prints, reverse the string or else print the middle character\n",
    "n='abcde'\n",
    "if 'A'<=n[0]<='B'or 'a'<=n[0]<='z':\n",
    "    n=n[::-1]\n",
    "    print(n)\n",
    "else:\n",
    "    n=n[len(n)//2]\n",
    "    print(n)\n",
    "\n",
    "n='!bcde'\n",
    "if 'A'<=n[0]<='B'or 'a'<=n[0]<='z':\n",
    "    n=n[::-1]\n",
    "    print(n)\n",
    "else:\n",
    "    n=n[len(n)//2]\n",
    "    print(n)\n"
   ]
  },
  {
   "cell_type": "code",
   "execution_count": 57,
   "metadata": {},
   "outputs": [
    {
     "name": "stdout",
     "output_type": "stream",
     "text": [
      "f\n",
      "F\n"
     ]
    }
   ],
   "source": [
    "#26 WAP to check whether the given input character is uppercase or lowercase. If \n",
    "# the input character is upper case convert into lower case and vice versa.\n",
    "n='F'\n",
    "if 'A'<=n<='Z':\n",
    "    m=chr(ord(n)+32)\n",
    "    print(m)\n",
    "else:\n",
    "    m=chr(ord(n)-32)\n",
    "\n",
    "n='f'\n",
    "if 'A'<=n<='Z':\n",
    "    m=chr(ord(n)+32)\n",
    "    print(m)\n",
    "else:\n",
    "    m=chr(ord(n)-32)\n",
    "    print(m)\n"
   ]
  },
  {
   "cell_type": "code",
   "execution_count": 58,
   "metadata": {},
   "outputs": [
    {
     "name": "stdout",
     "output_type": "stream",
     "text": [
      "hi\n",
      "owareyou\n"
     ]
    }
   ],
   "source": [
    "#27WAP to check whether a given string is less than 3 characters, to print the entire \n",
    "# string otherwise to print after third positions to the remaining string.\n",
    "s='hi'\n",
    "if len(s)<3:\n",
    "    print(s)\n",
    "else:\n",
    "    n=s[3:]\n",
    "    print(n)\n",
    "\n",
    "s='hihowareyou'\n",
    "if len(s)<3:\n",
    "    print(s)\n",
    "else:\n",
    "    n=s[3:]\n",
    "    print(n)\n"
   ]
  },
  {
   "cell_type": "code",
   "execution_count": 60,
   "metadata": {},
   "outputs": [
    {
     "name": "stdout",
     "output_type": "stream",
     "text": [
      "salaarceasefire\n",
      "s r\n"
     ]
    }
   ],
   "source": [
    "#28WAP to check whether a given length of the string is even or not. if even, to \n",
    "# append the new string called \"bye\" or else print the first and last characters.\n",
    "st='salaar'\n",
    "if len(st)%2==0:\n",
    "    s='ceasefire'\n",
    "    st=st+s\n",
    "    print(st)\n",
    "else:\n",
    "    s=st[0]\n",
    "    v=st[-1]\n",
    "    print(s,v)\n",
    "\n",
    "st='salar'\n",
    "if len(st)%2==0:\n",
    "    s='ceasefire'\n",
    "    st=st+s\n",
    "    print(st)\n",
    "else:\n",
    "    s=st[0]\n",
    "    v=st[-1]\n",
    "    print(s,v)"
   ]
  },
  {
   "cell_type": "code",
   "execution_count": 63,
   "metadata": {},
   "outputs": [
    {
     "name": "stdout",
     "output_type": "stream",
     "text": [
      "Haiiabcde\n"
     ]
    }
   ],
   "source": [
    "#29WAP to check whether a given length of the string is odd or not. if odd, to append \n",
    "# the new string(\"Haii\") from the starting of the given string, or else to avoid the \n",
    "# starting character and ending character of the given\n",
    "# string and to display the remaining characters.\n",
    "st='abcde'\n",
    "if len(st)%2!=0:\n",
    "    s='Haii'\n",
    "    st=s+st\n",
    "    print(st)"
   ]
  },
  {
   "cell_type": "code",
   "execution_count": 5,
   "metadata": {},
   "outputs": [
    {
     "name": "stdout",
     "output_type": "stream",
     "text": [
      "!edcba\n",
      "c\n"
     ]
    }
   ],
   "source": [
    "#30WAP to check whether the last of the given string is a special character or not, if \n",
    "# the special character prints reverse the string except the last character or else to \n",
    "# check if the length of the string is odd or not, if odd to extract the middle \n",
    "# character to the end of the string\n",
    "n='abcde!'\n",
    "if not('a'<=n[-1]<='z' or 'A'<=n[-1]<='Z' or'0'<=n[-1]<='9'):\n",
    "    n=n[::-1]\n",
    "    print(n)\n",
    "else:\n",
    "    if len(n)%2!=0:\n",
    "        n=n[len(n)//2]\n",
    "        print(n)\n",
    "\n",
    "n='abcde'\n",
    "if not('a'<=n[-1]<='z' or 'A'<=n[-1]<='Z' or'0'<=n[-1]<='9'):\n",
    "    n=n[::-1]\n",
    "    print(n)\n",
    "else:\n",
    "    if len(n)%2!=0:\n",
    "        n=n[len(n)//2]\n",
    "        print(n)\n"
   ]
  },
  {
   "cell_type": "code",
   "execution_count": null,
   "metadata": {},
   "outputs": [],
   "source": [
    "#31WAP to check whether a given year is a leap year or not. if leap year, print leap \n",
    "# year or else not a leap year.\n",
    "\n"
   ]
  },
  {
   "cell_type": "code",
   "execution_count": 6,
   "metadata": {},
   "outputs": [
    {
     "name": "stdout",
     "output_type": "stream",
     "text": [
      "20 is big\n",
      "greatest number 20\n"
     ]
    }
   ],
   "source": [
    "#32WAP to find out the greatest of two numbers and display the greatest number. if \n",
    "# the greatest number, display the greatest message with value\n",
    "a=10\n",
    "b=20\n",
    "if a< b:\n",
    "    print(b,'is big') \n",
    "    if b>a:\n",
    "        print('greatest number',b)\n"
   ]
  },
  {
   "cell_type": "code",
   "execution_count": 12,
   "metadata": {},
   "outputs": [
    {
     "name": "stdout",
     "output_type": "stream",
     "text": [
      "cease is available\n",
      "prabhas is not present\n"
     ]
    }
   ],
   "source": [
    "#33WAP to check whether the given value is present inside the given collection or \n",
    "# not.if value is present, display the value is available or else the value is not \n",
    "# present.\n",
    "n='cease'\n",
    "if n in 'salaarceasefire':\n",
    "    print(n,'is available')\n",
    "else:\n",
    "    print(n,'is not present')\n",
    "\n",
    "n='prabhas'\n",
    "if n in 'salaarceasefire':\n",
    "    print(n,'is available')\n",
    "else:\n",
    "    print(n,'is not present')\n",
    "\n",
    "\n",
    "\n",
    "\n",
    "    "
   ]
  },
  {
   "cell_type": "code",
   "execution_count": 2,
   "metadata": {},
   "outputs": [
    {
     "name": "stdout",
     "output_type": "stream",
     "text": [
      "ad\n",
      "ababab\n"
     ]
    }
   ],
   "source": [
    "#34WAP whether a given string, if string length is more than 2, then it displays a new \n",
    "# string with the first and last characters switched, otherwise the display the 3 \n",
    "# copies of given string.\n",
    "st='abcd'\n",
    "st1=''\n",
    "if len(st)>2:\n",
    "   st1=st[0]+st[-1]\n",
    "   print(st1)\n",
    "else:\n",
    "   print(st*3)\n",
    "\n",
    "st='ab'\n",
    "st1=''\n",
    "if len(st)>2:\n",
    "   st1=st[0]+st[-1]\n",
    "   print(st1)\n",
    "else:\n",
    "   print(st*3)\n",
    "\n"
   ]
  },
  {
   "cell_type": "code",
   "execution_count": 6,
   "metadata": {},
   "outputs": [
    {
     "name": "stdout",
     "output_type": "stream",
     "text": [
      "3.3333333333333335 -51\n",
      "25\n"
     ]
    }
   ],
   "source": [
    "#35WAP to check whether a given value is a list and first and last values should be \n",
    "# integer if condition is satisfied first value is True division by 3 and perform the \n",
    "# bitwise not for last value and those result values are stored in same positions in \n",
    "# given list or else, to perform length of the collection power by 2 and display \n",
    "# value.\n",
    "\n",
    "n=[10,20,30,40,50]\n",
    "if type(n)==list and type(n[len(n)-1])==int and type(n[0])==int:\n",
    "    f=n[0]/3\n",
    "    l=~(n[len(n)-1])\n",
    "    print(f,l)\n",
    "else:\n",
    "    n=len(n)**2\n",
    "    print(n)\n",
    "\n",
    "n=['str',20,30,40,50]\n",
    "if type(n)==list and type(n[len(n)-1])==int and type(n[0])==int:\n",
    "    f=n[0]/3\n",
    "    l=~(n[len(n)-1])\n",
    "    print(f,l)\n",
    "else:\n",
    "    n=len(n)**2\n",
    "    print(n)"
   ]
  },
  {
   "cell_type": "code",
   "execution_count": 12,
   "metadata": {},
   "outputs": [
    {
     "name": "stdout",
     "output_type": "stream",
     "text": [
      "salaarcqweasefire\n",
      "salaarsalaarsalaar\n"
     ]
    }
   ],
   "source": [
    "#36WAP to check whether a given value is a string or not and length of the value \n",
    "# should be more than 7, if condition is satisfied to append the new string in the \n",
    "# middle of the given string or else to perform the replications with 3 and display \n",
    "# the result.\n",
    "st='salaarceasefire'\n",
    "if type(st)==str and len(st)>7:\n",
    "    st=st[:len(st)//2]+'qw'+st[len(st)//2:]\n",
    "    print(st)\n",
    "else:\n",
    "    st=st**3\n",
    "    print(st)\n",
    "\n",
    "st='salaar'\n",
    "if type(st)==str and len(st)>7:\n",
    "    st=st[:len(st)//2]+'qw'+st[len(st)//2:]\n",
    "    print(st)\n",
    "else:\n",
    "    st=st*3\n",
    "    print(st)\n"
   ]
  },
  {
   "cell_type": "code",
   "execution_count": 16,
   "metadata": {},
   "outputs": [
    {
     "name": "stdout",
     "output_type": "stream",
     "text": [
      "abfe\n",
      "dcaef\n"
     ]
    }
   ],
   "source": [
    "#37WAP to check if the given string of first and second character should be sequence \n",
    "# or not. if the sequence prints the first, second and last two characters, or else the \n",
    "# first half string is reversed and the remaining half string should be normal and \n",
    "# display it.\n",
    "\n",
    "st='abcdef'\n",
    "if ord(st[0])+1==ord(st[1]):\n",
    "    s=st[0]+st[1]+st[-1]+st[-2]\n",
    "    print(s)\n",
    "else:\n",
    "    s=st[len(st)//2::-1]+st[len(st)//2:]\n",
    "\n",
    "st='acdef'\n",
    "if ord(st[0])+1==ord(st[1]):\n",
    "    s=st[0]+st[1]+st[-1]+st[-2]\n",
    "    print(s)\n",
    "else:\n",
    "    s=st[len(st)//2::-1]+st[len(st)//2+1:]\n",
    "    print(s)\n"
   ]
  },
  {
   "cell_type": "code",
   "execution_count": 18,
   "metadata": {},
   "outputs": [
    {
     "name": "stdout",
     "output_type": "stream",
     "text": [
      "20 present\n",
      "80 not found\n"
     ]
    }
   ],
   "source": [
    "#38WAP to check whether a given value is present inside the collection or not. If \n",
    "# present, print the value or else print value is not found.\n",
    "val=20\n",
    "d={'a':20,'b':30,'c':40}\n",
    "if val in d.values():\n",
    "    print(val,'present')\n",
    "else:\n",
    "    print(val,'not found')\n",
    "\n",
    "val=80\n",
    "d={'a':20,'b':30,'c':40}\n",
    "if val in d.values():\n",
    "    print(val,'present')\n",
    "else:\n",
    "    print(val,'not found')\n",
    "\n"
   ]
  },
  {
   "cell_type": "code",
   "execution_count": 21,
   "metadata": {},
   "outputs": [
    {
     "name": "stdout",
     "output_type": "stream",
     "text": [
      "hello\n",
      "{'how': 'are', 'you': 'man', 'hai': 'hello'}\n"
     ]
    }
   ],
   "source": [
    "#39WAP to check whether a given key is present in the dict or not. if key is present: \n",
    "# display the value or else add key and new value inside the dict.\n",
    "key='hai'\n",
    "d={'hai':'hello','how':'are','you':'man'}\n",
    "if key in d.keys():\n",
    "    print(d['hai'])\n",
    "else:\n",
    "    d[key]='hello'\n",
    "    print()\n",
    "\n",
    "key='hai'\n",
    "d={'how':'are','you':'man'}\n",
    "if key in d.keys():\n",
    "    print(d['hai'])\n",
    "else:\n",
    "    d[key]='hello'\n",
    "    print(d)\n"
   ]
  },
  {
   "cell_type": "code",
   "execution_count": 23,
   "metadata": {},
   "outputs": [
    {
     "name": "stdout",
     "output_type": "stream",
     "text": [
      "{50, 20, 70, 40, 10, 30}\n",
      "{10, 20, 30}\n"
     ]
    }
   ],
   "source": [
    "#40WAP to check whether a given collection is set or not. if set, append the new \n",
    "# value, or else eliminate the duplicate values in collection. final results should be \n",
    "# set type.\n",
    "s={10,20,30}\n",
    "if type(s)==set:\n",
    "    s=s|{40,50,70}\n",
    "    print(s)\n",
    "else:\n",
    "    s=set(s)\n",
    "    print(s)\n",
    "\n",
    "s=[10,20,30,10,20]\n",
    "if type(s)==set:\n",
    "    s=s|{40,50,70}\n",
    "    print(s)\n",
    "else:\n",
    "    s=set(s)\n",
    "    print(s)\n",
    "\n"
   ]
  },
  {
   "cell_type": "code",
   "execution_count": 26,
   "metadata": {},
   "outputs": [
    {
     "name": "stdout",
     "output_type": "stream",
     "text": [
      "20 age eligible for his /her own vote\n",
      "11 age  not eligible for his /her own vote\n"
     ]
    }
   ],
   "source": [
    "#41 WAP to read the age of a candidate and determine whether it is eligible for \n",
    "# his/her own vote or not.it eligible print age and eligible messages or else print \n",
    "# not eligible\n",
    "age=20\n",
    "if age>=18 and type(age)==int:\n",
    "    print(f'{age} age eligible for his /her own vote')\n",
    "else:\n",
    "    print(f'{age} age  not eligible for his /her own vote')\n",
    "\n",
    "age=11\n",
    "if age>=18 and type(age)==int:\n",
    "    print(f'{age} age eligible for his /her own vote')\n",
    "else:\n",
    "    print(f'{age} age  not eligible for his /her own vote')\n"
   ]
  },
  {
   "cell_type": "code",
   "execution_count": 29,
   "metadata": {},
   "outputs": [
    {
     "name": "stdout",
     "output_type": "stream",
     "text": [
      "0 <class 'str'>\n",
      "14\n"
     ]
    }
   ],
   "source": [
    "#42 WAP to check whether a given value is even and in between 47 to 58 and not in \n",
    "# 0 or odd. if condition is True, to perform display the ascii character or else to \n",
    "# perform floor division with 5 and display it.\n",
    "n=48\n",
    "if n!=0 and 47<n<58 and n%2==0:\n",
    "    char=chr(n)\n",
    "    print(char,type(char))\n",
    "else:\n",
    "    n=n//5\n",
    "    print(n)\n",
    "\n",
    "n=70\n",
    "if n!=0 and 47<n<58 and n%2==0:\n",
    "    char=chr(n)\n",
    "    print(char,type(char))\n",
    "else:\n",
    "    n=n//5\n",
    "    print(n)\n"
   ]
  },
  {
   "cell_type": "code",
   "execution_count": null,
   "metadata": {},
   "outputs": [],
   "source": [
    "#43WAP to check whether the given string is palindrome or not if it is a palindrome \n",
    "# string palindrome along with the string if it is not a palindrome print not \n",
    "# palindrome\n"
   ]
  },
  {
   "cell_type": "code",
   "execution_count": null,
   "metadata": {},
   "outputs": [],
   "source": []
  }
 ],
 "metadata": {
  "kernelspec": {
   "display_name": "Python 3",
   "language": "python",
   "name": "python3"
  },
  "language_info": {
   "codemirror_mode": {
    "name": "ipython",
    "version": 3
   },
   "file_extension": ".py",
   "mimetype": "text/x-python",
   "name": "python",
   "nbconvert_exporter": "python",
   "pygments_lexer": "ipython3",
   "version": "3.11.4"
  },
  "orig_nbformat": 4
 },
 "nbformat": 4,
 "nbformat_minor": 2
}
