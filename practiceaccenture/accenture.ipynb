{
 "cells": [
  {
   "cell_type": "code",
   "execution_count": 19,
   "metadata": {},
   "outputs": [
    {
     "data": {
      "text/plain": [
       "1"
      ]
     },
     "execution_count": 19,
     "metadata": {},
     "output_type": "execute_result"
    }
   ],
   "source": [
    "#1 highest common factor \n",
    "# Python program to find H.C.F of two numbers\n",
    "\n",
    "# define a function\n",
    "def compute_hcf(x, y):\n",
    "\n",
    "# choose the smaller number\n",
    "    if x > y:\n",
    "        smaller = y\n",
    "    else:\n",
    "        smaller = x\n",
    "    for i in range(1, smaller+1):\n",
    "        if((x % i == 0) and (y % i == 0)):\n",
    "            hcf = i \n",
    "    return hcf\n",
    "compute_hcf(10,1)\n",
    "\n",
    "        \n",
    "\n",
    "        \n",
    "\n"
   ]
  },
  {
   "cell_type": "code",
   "execution_count": 21,
   "metadata": {},
   "outputs": [
    {
     "name": "stdout",
     "output_type": "stream",
     "text": [
      "NEGATIVE NUMBER\n"
     ]
    }
   ],
   "source": [
    "#2 postive number or negative number\n",
    "def posneg(num,*args,**kwargs):\n",
    "    if num >0:\n",
    "        print('POSTIVE NUMBER')\n",
    "    else:\n",
    "        print('NEGATIVE NUMBER')\n",
    "posneg(-100)"
   ]
  },
  {
   "cell_type": "code",
   "execution_count": 23,
   "metadata": {},
   "outputs": [
    {
     "name": "stdout",
     "output_type": "stream",
     "text": [
      "odd\n"
     ]
    }
   ],
   "source": [
    "#3 even or odd\n",
    "def evenodd(num):\n",
    "    if num%2==0:\n",
    "        print('even')\n",
    "    else:\n",
    "        print('odd')\n",
    "evenodd(1)"
   ]
  },
  {
   "cell_type": "code",
   "execution_count": 2,
   "metadata": {},
   "outputs": [
    {
     "data": {
      "text/plain": [
       "72"
      ]
     },
     "execution_count": 2,
     "metadata": {},
     "output_type": "execute_result"
    }
   ],
   "source": [
    "#4 \n",
    "def fun(a,b):\n",
    "    if a<b:\n",
    "        return fun(b,a)\n",
    "    elif b!=0:\n",
    "        return a+ fun(a,b-1)\n",
    "    else:\n",
    "        return 0\n",
    "fun(8,9)"
   ]
  },
  {
   "cell_type": "code",
   "execution_count": 22,
   "metadata": {},
   "outputs": [
    {
     "name": "stdout",
     "output_type": "stream",
     "text": [
      "3 4 [1, 3, 5] [2, 4, 7]\n",
      "1 5 [0, 1, 3, 6] [2, 5, 8]\n"
     ]
    },
    {
     "data": {
      "text/plain": [
       "6"
      ]
     },
     "execution_count": 22,
     "metadata": {},
     "output_type": "execute_result"
    }
   ],
   "source": [
    "def largesmallnum(arr):\n",
    "    count1=0\n",
    "    count2=0\n",
    "    great=0\n",
    "    least=1000\n",
    "    l1=[]\n",
    "    l2=[]\n",
    "    for i in range(0,len(arr)):\n",
    "        if i%2==0:\n",
    "                l1+=[arr[i]]   \n",
    "        else:\n",
    "                l2+=[arr[i]]\n",
    "    l1=sorted(l1)\n",
    "    l2=sorted(l2)\n",
    "    great=l1[1]\n",
    "    least=l2[-2]\n",
    "    print(great,least,l1,l2)\n",
    "    return great+least\n",
    "largesmallnum([3,2,1,7,5,4])\n",
    "largesmallnum([1,8,0,2,3,5,6])\n",
    "\n",
    "            \n"
   ]
  },
  {
   "cell_type": "code",
   "execution_count": 16,
   "metadata": {},
   "outputs": [
    {
     "name": "stdout",
     "output_type": "stream",
     "text": [
      "5\n",
      "1\n",
      "4\n",
      "2\n",
      "2\n",
      "3\n",
      "1\n",
      "4\n"
     ]
    }
   ],
   "source": [
    "l=[5,4,2,1,9]\n",
    "high=1000\n",
    "count=0\n",
    "for i in range(len(l)):\n",
    "    if l[i]<high:\n",
    "        high=l[i]\n",
    "        print(high)\n",
    "        count+=1\n",
    "        print(count)"
   ]
  },
  {
   "cell_type": "code",
   "execution_count": 24,
   "metadata": {},
   "outputs": [
    {
     "data": {
      "text/plain": [
       "3"
      ]
     },
     "execution_count": 24,
     "metadata": {},
     "output_type": "execute_result"
    }
   ],
   "source": [
    "def pro(sum,arr):\n",
    "    arr=sorted(arr)\n",
    "    num1,num2=arr[0],arr[1]\n",
    "    if num1+num2<=sum:\n",
    "        return num1+num2\n",
    "pro(9,[1,2,3,4])    "
   ]
  },
  {
   "cell_type": "code",
   "execution_count": 29,
   "metadata": {},
   "outputs": [
    {
     "name": "stdout",
     "output_type": "stream",
     "text": [
      "[89, 6, 5, 4, 1]\n"
     ]
    }
   ],
   "source": [
    "l=[4,5,6,89,1]\n",
    "small=0\n",
    "l1=[]\n",
    "for i in range(len(l)):\n",
    "    for j in range(0,len(l)-1):\n",
    "        if l[j]<l[j+1]:\n",
    "            l[j],l[j+1]=l[j+1],l[j]\n",
    "print(l)"
   ]
  },
  {
   "cell_type": "code",
   "execution_count": 51,
   "metadata": {},
   "outputs": [
    {
     "name": "stdout",
     "output_type": "stream",
     "text": [
      "8\n",
      "8\n",
      "I\n",
      "18\n",
      "C\n",
      "12\n",
      "CI8\n"
     ]
    }
   ],
   "source": [
    "n=21\n",
    "res=''\n",
    "num=5678\n",
    "d={0:'0',1:'1',2:'2',3:'3',4:'4',5:'5',8:'8',10:'A',11:'B',12:'C',18:'I'}\n",
    "while num :\n",
    "    rem=num%n\n",
    "    if rem!=0:\n",
    "        print(d[rem])\n",
    "        print(rem)\n",
    "        res=d[rem]+res\n",
    "    num=num//n\n",
    "print(res)        "
   ]
  }
 ],
 "metadata": {
  "kernelspec": {
   "display_name": "Python 3",
   "language": "python",
   "name": "python3"
  },
  "language_info": {
   "codemirror_mode": {
    "name": "ipython",
    "version": 3
   },
   "file_extension": ".py",
   "mimetype": "text/x-python",
   "name": "python",
   "nbconvert_exporter": "python",
   "pygments_lexer": "ipython3",
   "version": "3.11.6"
  }
 },
 "nbformat": 4,
 "nbformat_minor": 2
}
