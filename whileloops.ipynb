{
 "cells": [
  {
   "cell_type": "code",
   "execution_count": null,
   "metadata": {},
   "outputs": [],
   "source": [
    "#WAP to print the \"hello world' for 5 times by using a while loop.\n",
    "n=1\n",
    "while n<=5:\n",
    "    print('hello wolrd')\n",
    "    n+=1\n"
   ]
  },
  {
   "cell_type": "code",
   "execution_count": null,
   "metadata": {},
   "outputs": [],
   "source": [
    "#WAP to the number from 1 to 10 by a While loop.\n",
    "n=1\n",
    "while n<=10:\n",
    "    print(n)\n",
    "    n+=1"
   ]
  },
  {
   "cell_type": "code",
   "execution_count": null,
   "metadata": {},
   "outputs": [],
   "source": [
    "#3WAP to print the natural number 1 to nth times by using a while loop-\n",
    "n=1\n",
    "end=int(input('enter nth value '))\n",
    "while n<=end:\n",
    "    print(n)\n",
    "    n+=1\n"
   ]
  },
  {
   "cell_type": "code",
   "execution_count": null,
   "metadata": {},
   "outputs": [],
   "source": [
    "#4WAp to print the reverse of the natural number nth to 0 times by while loop.\n",
    "endnum=int(input('enter end number'))\n",
    "num=1\n",
    "while endnum>=num:\n",
    "    print(endnum)\n",
    "    endnum-=1"
   ]
  },
  {
   "cell_type": "code",
   "execution_count": null,
   "metadata": {},
   "outputs": [],
   "source": [
    "#5WAP to prilnt the whole number until nth times by using a Loop.\n",
    "start=0\n",
    "end=int(input('enter the nth value'))\n",
    "while start<=end:\n",
    "    print(start)\n",
    "    start+=1\n"
   ]
  },
  {
   "cell_type": "code",
   "execution_count": null,
   "metadata": {},
   "outputs": [],
   "source": [
    "#6wAP to print the reverse of the whole number until nth times by using a while Loop.\n",
    "end=0\n",
    "start=int(input('enter the nth value'))\n",
    "while start>=end:\n",
    "    print(start)\n",
    "    start-=1\n"
   ]
  },
  {
   "cell_type": "code",
   "execution_count": null,
   "metadata": {},
   "outputs": [],
   "source": [
    "#7wAP to print the even no untiL nth timees by using a while loop.\n",
    "start=1\n",
    "end=int(input('enter nth value'))\n",
    "while start<=end:\n",
    "    if start%2==0:\n",
    "        print(start)\n",
    "    start+=1"
   ]
  },
  {
   "cell_type": "code",
   "execution_count": null,
   "metadata": {},
   "outputs": [],
   "source": [
    "#8 wAP to print reverse the even no untiL nth timees by using a while loop.\n",
    "start=1\n",
    "end=int(input('enter nth value'))\n",
    "while start<=end:\n",
    "    if end%2==0:\n",
    "        print(end)\n",
    "    end-=1\n"
   ]
  },
  {
   "cell_type": "code",
   "execution_count": null,
   "metadata": {},
   "outputs": [],
   "source": [
    "#9wAP to print the odd no untiL nth timees by using a while loop.\n",
    "start=1\n",
    "end=int(input('enter nth value'))\n",
    "while start<=end:\n",
    "    if start%2!=0:\n",
    "        print(start)\n",
    "    start+=1"
   ]
  },
  {
   "cell_type": "code",
   "execution_count": null,
   "metadata": {},
   "outputs": [],
   "source": [
    "#10wAP to print  reverse the odd no untiL nth timees by using a while loop.\n",
    "start=1\n",
    "end=int(input('enter nth value'))\n",
    "while start<=end:\n",
    "    if end%2!=0:\n",
    "        print(end)\n",
    "    end-=1"
   ]
  },
  {
   "cell_type": "code",
   "execution_count": null,
   "metadata": {},
   "outputs": [],
   "source": [
    "#11WAP to print the nth table 1 to 20. format —5*1=5 5*20=200\n",
    "num=int(input('enter a number'))\n",
    "multiple=1\n",
    "while multiple<=20:\n",
    "    print(num,'*',multiple,'=',num*multiple)\n",
    "    multiple+=1\n"
   ]
  },
  {
   "cell_type": "code",
   "execution_count": null,
   "metadata": {},
   "outputs": [],
   "source": [
    "#12WAP to print  reverse the nth table 1 to 20. format — 5*20=200 5*1=5\n",
    "num=int(input('enter a number'))\n",
    "multiple=20\n",
    "\n",
    "while multiple>=1:\n",
    "    print(num,'*',multiple,'=',num*multiple)\n",
    "    multiple-=1"
   ]
  },
  {
   "cell_type": "code",
   "execution_count": null,
   "metadata": {},
   "outputs": [],
   "source": [
    "#13WAP to print the numbers which are divisible by 3 and 5 from 15 to 78.\n",
    "start=15\n",
    "end=78\n",
    "while start<=end:\n",
    "    if start%3==0 and start%5==0:\n",
    "        print(start)\n",
    "    start+=1"
   ]
  },
  {
   "cell_type": "code",
   "execution_count": null,
   "metadata": {},
   "outputs": [],
   "source": [
    "#14wap to print the numbers which are divisible by 3 from 25 to 66 \n",
    "start=25\n",
    "end=78\n",
    "while start<=end:\n",
    "    if start%3==0 :\n",
    "        print(start)\n",
    "    start+=1\n"
   ]
  },
  {
   "cell_type": "code",
   "execution_count": null,
   "metadata": {},
   "outputs": [],
   "source": [
    "#15WAP to print the nos are divisible by 5 and 7 , 77 to 22\n",
    "num1=77\n",
    "num2=22\n",
    "while num1>=num2:\n",
    "    if num1%5==0 and num1%7==0:\n",
    "        print(num1)\n",
    "    num1-=1\n"
   ]
  },
  {
   "cell_type": "code",
   "execution_count": null,
   "metadata": {},
   "outputs": [],
   "source": [
    "#16 WAP to print the 'love you \" if value is divisible by 3, or print \"hate you\" value is\n",
    "# divisible by 5, to print \"i like you\" if divisible by 3 and 5, from I to 30.\n",
    "num1=1\n",
    "num2=30\n",
    "while num1<=num2:\n",
    "    if num1%3==0 and num1%5==0:\n",
    "        print('i like you',num1)\n",
    "    elif num1%5==0:\n",
    "        print(' 143 vahin ',num1)\n",
    "    elif num1%3==0:\n",
    "        print('i love u vahin',num1)\n",
    "    num1+=1"
   ]
  },
  {
   "cell_type": "code",
   "execution_count": null,
   "metadata": {},
   "outputs": [],
   "source": [
    "#17 WAP to print SUM of the to nth natural numbers.\n",
    "start=1\n",
    "n=int(input('enter N th value'))\n",
    "sum=0\n",
    "while start<=n:\n",
    "    sum+=start\n",
    "    start+=1\n",
    "print(sum)"
   ]
  },
  {
   "cell_type": "code",
   "execution_count": null,
   "metadata": {},
   "outputs": [],
   "source": [
    "#18WAP to print sum of the even numbers 1 to 20 numbers.\n",
    "start=1\n",
    "end =20\n",
    "while start<=end:\n",
    "    if start%2==0:\n",
    "        print(f'{start} even no')\n",
    "    start+=1\n"
   ]
  },
  {
   "cell_type": "code",
   "execution_count": null,
   "metadata": {},
   "outputs": [],
   "source": [
    "#19 WAP to print products of the 1 to 6 numbers\n",
    "num1=1\n",
    "num2=6\n",
    "product=1\n",
    "while num1<=num2:\n",
    "    product*=num1\n",
    "    num1+=1\n",
    "print(product)\n",
    "\n"
   ]
  },
  {
   "cell_type": "code",
   "execution_count": null,
   "metadata": {},
   "outputs": [],
   "source": [
    "#20wAP to count the no of odd values from 1 to 30 numbers.\n",
    "start=1\n",
    "end=30\n",
    "count=0\n",
    "while start<=end:\n",
    "    if start%2!=0:\n",
    "        count+=1\n",
    "    start+=1\n",
    "print(count)"
   ]
  },
  {
   "cell_type": "code",
   "execution_count": null,
   "metadata": {},
   "outputs": [],
   "source": [
    "#21WAP to print the factors of the given no.\n",
    "num=int(input('enter a no'))\n",
    "fact=1\n",
    "while fact<=num:\n",
    "    if num%fact==0:\n",
    "        print(fact)\n",
    "    fact+=1"
   ]
  },
  {
   "cell_type": "code",
   "execution_count": null,
   "metadata": {},
   "outputs": [],
   "source": [
    "#22WAP to sum of the factors of the given number.\n",
    "num=int(input('enter a no'))\n",
    "fact=1\n",
    "sum=0\n",
    "while fact<=num:\n",
    "    if num%fact==0:\n",
    "        sum+=fact        \n",
    "    fact+=1\n",
    "print(sum)"
   ]
  },
  {
   "cell_type": "code",
   "execution_count": null,
   "metadata": {},
   "outputs": [],
   "source": [
    "#23WAP to prod of the factors of the given number\n",
    "num=int(input('enter a no'))\n",
    "fact=1\n",
    "product=1\n",
    "while fact<=num:\n",
    "    if num%fact==0:\n",
    "        product*=fact        \n",
    "    fact+=1\n",
    "print(product)"
   ]
  },
  {
   "cell_type": "code",
   "execution_count": null,
   "metadata": {},
   "outputs": [],
   "source": [
    "#24WAP to print Fibonacci series 0 to nth.\n",
    "num1=0\n",
    "num2=1\n",
    "count=10\n",
    "while count:\n",
    "    sum=num1+num2\n",
    "    print(sum)\n",
    "    num1,num2=num2,sum\n",
    "    count-=1"
   ]
  },
  {
   "cell_type": "code",
   "execution_count": null,
   "metadata": {},
   "outputs": [],
   "source": [
    "#25WAP to find out the factorial number Of a given number.\n",
    "num=int(input(\"enter a no\"))\n",
    "product=1\n",
    "i=1\n",
    "while i<=num:\n",
    "    product*=i\n",
    "    i+=1\n",
    "print(product)"
   ]
  },
  {
   "cell_type": "code",
   "execution_count": null,
   "metadata": {},
   "outputs": [],
   "source": [
    "#26WAP to find out the factorial numbers in given range m to n\n",
    "start=int(input('enter the value '))\n",
    "end=int(input('enter the value '))\n",
    "while start<=end:\n",
    "    product=1\n",
    "    i=1\n",
    "    while i<=start:\n",
    "        product*=i\n",
    "        i+=1\n",
    "    print(start,product)\n",
    "    start+=1"
   ]
  },
  {
   "cell_type": "code",
   "execution_count": null,
   "metadata": {},
   "outputs": [],
   "source": [
    "#27wAP to check whether given number is a prime number or not.\n",
    "num=int(input('enter a no'))\n",
    "count=0\n",
    "i=1\n",
    "while i<=num:\n",
    "    if num%i==0:\n",
    "        count+=1\n",
    "    i+=1\n",
    "if count==2:\n",
    "    print(f'{num} is prime no')\n",
    "  "
   ]
  },
  {
   "cell_type": "code",
   "execution_count": null,
   "metadata": {},
   "outputs": [],
   "source": [
    "#28 wAP to check prime numbers in between range 1 to n  .\n",
    "m=1\n",
    "n=int(input('enter n number'))\n",
    "while m<n:\n",
    "    i=1\n",
    "    count=0\n",
    "    while i<=m:\n",
    "        if m%i==0:\n",
    "            count+=1\n",
    "        i+=1\n",
    "    if count==2:\n",
    "        print(f'{m} is prime number')\n",
    "    m+=1\n",
    "        "
   ]
  },
  {
   "cell_type": "code",
   "execution_count": null,
   "metadata": {},
   "outputs": [],
   "source": [
    "#29 WaP to check whether a given number is an armstrong number or not.\n",
    "num=153\n",
    "temp=num\n",
    "num1=num\n",
    "count=0\n",
    "while num:\n",
    "    count+=1\n",
    "    num//=10\n",
    "sum=0\n",
    "while temp:\n",
    "    ld=temp%10\n",
    "    sum+=ld**count\n",
    "    temp//=10\n",
    "if num1==sum:\n",
    "    print(sum)\n",
    "\n"
   ]
  },
  {
   "cell_type": "code",
   "execution_count": null,
   "metadata": {},
   "outputs": [],
   "source": [
    "#30 WaP to check whether armstrong numbers in a given range m to n.\n",
    "m=1\n",
    "n=100000\n",
    "while m<=n:\n",
    "    num=m\n",
    "    temp=num\n",
    "    num1=num\n",
    "    count=0\n",
    "    while num:\n",
    "        count+=1\n",
    "        num//=10\n",
    "    sum=0\n",
    "    while temp:\n",
    "        ld=temp%10\n",
    "        sum+=ld**count\n",
    "        temp//=10\n",
    "    if num1==sum:\n",
    "        print(sum)\n",
    "    m+=1"
   ]
  },
  {
   "cell_type": "code",
   "execution_count": null,
   "metadata": {},
   "outputs": [],
   "source": [
    "#31 wap to print prime series for, 1 to nth    \n",
    "n=1\n",
    "num=int(input('enter a value '))\n",
    "while n<=num:\n",
    "    i=1\n",
    "    count=0\n",
    "    while i<=n:\n",
    "        if n%i==0:\n",
    "            count+=1\n",
    "        i+=1\n",
    "    if count==2:\n",
    "        print(n)\n",
    "    n+=1\n",
    "\n"
   ]
  },
  {
   "cell_type": "code",
   "execution_count": 34,
   "metadata": {},
   "outputs": [
    {
     "name": "stdout",
     "output_type": "stream",
     "text": [
      "[1, 2, 3, 5, 8, 13, 21, 34, 55, 89, 144, 233, 377, 610, 987, 1597, 2584, 4181, 6765, 10946, 17711, 28657, 46368, 75025, 121393, 196418, 317811, 514229, 832040, 1346269, 2178309, 3524578, 5702887, 9227465, 14930352, 24157817, 39088169, 63245986, 102334155, 165580141, 267914296, 433494437, 701408733, 1134903170, 1836311903, 2971215073, 4807526976, 7778742049, 12586269025, 20365011074, 32951280099, 53316291173, 86267571272, 139583862445, 225851433717, 365435296162, 591286729879, 956722026041, 1548008755920, 2504730781961, 4052739537881, 6557470319842, 10610209857723, 17167680177565, 27777890035288, 44945570212853, 72723460248141, 117669030460994, 190392490709135, 308061521170129, 498454011879264, 806515533049393, 1304969544928657, 2111485077978050, 3416454622906707, 5527939700884757, 8944394323791464, 14472334024676221, 23416728348467685, 37889062373143906, 61305790721611591, 99194853094755497, 160500643816367088, 259695496911122585, 420196140727489673, 679891637638612258, 1100087778366101931, 1779979416004714189, 2880067194370816120, 4660046610375530309, 7540113804746346429, 12200160415121876738, 19740274219868223167, 31940434634990099905, 51680708854858323072, 83621143489848422977, 135301852344706746049, 218922995834555169026, 354224848179261915075, 573147844013817084101]\n",
      "2\n",
      "3\n",
      "5\n",
      "13\n",
      "89\n"
     ]
    }
   ],
   "source": [
    "#32wap to print 1 to 100  prime numbers in fibanacci series\n",
    "num1=0\n",
    "num2=1\n",
    "# print(num1)\n",
    "# print(num2)\n",
    "count=100\n",
    "list1=[]\n",
    "while count:\n",
    "    sum=num1+num2\n",
    "    list1.append(sum)\n",
    "    num1,num2=num2,sum\n",
    "    count-=1\n",
    "print(list1)\n",
    "\n",
    "start=1\n",
    "end=100\n",
    "while start<=end:\n",
    "    i=1\n",
    "    count=0\n",
    "    while i<=start:\n",
    "        if start%i==0:\n",
    "            count+=1\n",
    "        i+=1\n",
    "    if count==2 and start in list1:\n",
    "        print(start)\n",
    "    start+=1\n",
    "    \n"
   ]
  },
  {
   "cell_type": "code",
   "execution_count": null,
   "metadata": {},
   "outputs": [],
   "source": []
  },
  {
   "cell_type": "code",
   "execution_count": 11,
   "metadata": {},
   "outputs": [
    {
     "name": "stdout",
     "output_type": "stream",
     "text": [
      "[2, 3, 5, 7]\n",
      "17\n"
     ]
    }
   ],
   "source": [
    "#33 wap a program Sum of prime in a given collection\n",
    "n=1\n",
    "sum=0\n",
    "list1=[]\n",
    "num=int(input('enter the nth value '))\n",
    "while n<=num:\n",
    "    i=1\n",
    "    count=0\n",
    "    while i<=n:\n",
    "        if n%i==0:\n",
    "            count+=1\n",
    "        i+=1\n",
    "    if count==2:\n",
    "        list1.append(n)  \n",
    "    n+=1\n",
    "print(list1)\n",
    "j=0\n",
    "sum=0\n",
    "while j<len(list1):\n",
    "    sum+=list1[j]\n",
    "    j+=1\n",
    "print(sum)\n",
    "\n",
    "\n",
    "    \n",
    "\n",
    "\n",
    " \n"
   ]
  },
  {
   "cell_type": "code",
   "execution_count": 2,
   "metadata": {},
   "outputs": [
    {
     "name": "stdout",
     "output_type": "stream",
     "text": [
      "palindrome\n"
     ]
    }
   ],
   "source": [
    "#34wap to check given no is palindrome or not\n",
    "n=121\n",
    "temp=n\n",
    "sum=0\n",
    "while n:\n",
    "    ld=n%10\n",
    "    sum=sum*10+ld\n",
    "    n//=10\n",
    "if sum==temp:\n",
    "    print('palindrome')\n",
    "else:\n",
    "    print('not a palindrome')"
   ]
  },
  {
   "cell_type": "code",
   "execution_count": 8,
   "metadata": {},
   "outputs": [
    {
     "name": "stdout",
     "output_type": "stream",
     "text": [
      "in\n",
      "in\n",
      "in\n",
      "in\n",
      "in\n",
      "in\n",
      "in\n",
      "in\n",
      "in\n",
      "in\n"
     ]
    }
   ],
   "source": [
    "#35WAP to the check len of str is even Or Odd. is even\n",
    "# that string 10 times. If it is not print 5 times.\n",
    "\n",
    "st=input('enter a string')\n",
    "lent=len(st)\n",
    "if lent%2==0:\n",
    "    i=0\n",
    "    while i<10:\n",
    "        print(st)\n",
    "        i+=1\n",
    "else:\n",
    "    j=1\n",
    "    while j<=5:\n",
    "        print(st)\n",
    "        j+=1\n",
    "\n"
   ]
  },
  {
   "cell_type": "code",
   "execution_count": null,
   "metadata": {},
   "outputs": [],
   "source": [
    "#36WAP to print the uppercase character 'A' to'Z' by using While loop\n",
    "a=ord('A')\n",
    "b=ord('Z')\n",
    "while a<=b:\n",
    "    print(chr(a),end=\" \")\n",
    "    a+=1\n"
   ]
  },
  {
   "cell_type": "code",
   "execution_count": null,
   "metadata": {},
   "outputs": [],
   "source": [
    "#37WAP to prim the character from 'a' to •z' by using while loop\n",
    "a=ord('a')\n",
    "b=ord('z')\n",
    "while a<=b:\n",
    "    print(chr(a),end=\" \")\n",
    "    a+=1\n",
    "    "
   ]
  },
  {
   "cell_type": "code",
   "execution_count": null,
   "metadata": {},
   "outputs": [],
   "source": [
    "#38 wap to print the  number characters from O' to 9' by while loop\n",
    "a=ord('0')\n",
    "b=ord('9')\n",
    "while a<=b:\n",
    "    print(chr(a),end=\" \")\n",
    "    a+=1\n"
   ]
  },
  {
   "cell_type": "code",
   "execution_count": null,
   "metadata": {},
   "outputs": [],
   "source": [
    "#39 wap to print the  uppercase character from E' to U by while loop\n",
    "a=ord('E')\n",
    "b=ord('U')\n",
    "while a<=b:\n",
    "    print(chr(a),end=\" \")\n",
    "    a+=1"
   ]
  },
  {
   "cell_type": "code",
   "execution_count": null,
   "metadata": {},
   "outputs": [],
   "source": [
    "#40  wap to print the  uppercase character from Z' to A by while loop\n",
    "a=ord('Z')\n",
    "b=ord('A')\n",
    "while a>=b:\n",
    "    print(chr(a),end=\" \")\n",
    "    a-=1"
   ]
  },
  {
   "cell_type": "code",
   "execution_count": null,
   "metadata": {},
   "outputs": [],
   "source": [
    "#41  wap to print the  uppercase character from U' to G by while loop\n",
    "a=ord('U')\n",
    "b=ord('G')\n",
    "while a>=b:\n",
    "    print(chr(a),end=\" \")\n",
    "    a-=1"
   ]
  },
  {
   "cell_type": "code",
   "execution_count": null,
   "metadata": {},
   "outputs": [],
   "source": [
    "#42 wap to print the  lowercase character from i' to y by while loop\n",
    "a=ord('i')\n",
    "b=ord('y')\n",
    "while a<=b:\n",
    "    print(chr(a),end=\" \")\n",
    "    a+=1"
   ]
  },
  {
   "cell_type": "code",
   "execution_count": null,
   "metadata": {},
   "outputs": [],
   "source": [
    "#43 wap to print the  lowercase character from z' to a by while loop\n",
    "a=ord('z')\n",
    "b=ord('a')\n",
    "while a>=b:\n",
    "    print(chr(a),end=\" \")\n",
    "    a-=1"
   ]
  },
  {
   "cell_type": "code",
   "execution_count": null,
   "metadata": {},
   "outputs": [],
   "source": [
    "#44 wap to print the  lowercase character from p' to c by while loop\n",
    "a=ord('p')\n",
    "b=ord('c')\n",
    "while a>=b:\n",
    "    print(chr(a),end=\" \")\n",
    "    a-=1"
   ]
  },
  {
   "cell_type": "code",
   "execution_count": null,
   "metadata": {},
   "outputs": [],
   "source": [
    "#45 wap to print the  uppercase characters of having even ascii values a by while loop\n",
    "a=ord('A')\n",
    "b=ord('Z')\n",
    "while a<=b:\n",
    "    if a%2==0:\n",
    "        print(chr(a),end=\" \")\n",
    "    a+=1"
   ]
  },
  {
   "cell_type": "code",
   "execution_count": null,
   "metadata": {},
   "outputs": [],
   "source": [
    "#46 wap to print the  lowercase characters of having even ascii values a by while loop\n",
    "a=ord('a')\n",
    "b=ord('z')\n",
    "while a<=b:\n",
    "    if a%2==0:\n",
    "        print(chr(a),end=\" \")\n",
    "    a+=1"
   ]
  },
  {
   "cell_type": "code",
   "execution_count": null,
   "metadata": {},
   "outputs": [],
   "source": [
    "#47 wap to print the  uppercase characters of having  odd ascii values a by while loop\n",
    "a=ord('A')\n",
    "b=ord('Z')\n",
    "while a<=b:\n",
    "    if a%2!=0:\n",
    "        print(chr(a),end=\" \")\n",
    "    a+=1"
   ]
  },
  {
   "cell_type": "code",
   "execution_count": null,
   "metadata": {},
   "outputs": [],
   "source": [
    "#48  wap to print the  lowercase characters of having odd ascii values a by while loop\n",
    "a=ord('a')\n",
    "b=ord('z')\n",
    "while a<=b:\n",
    "    if a%2!=0:\n",
    "        print(chr(a),end=\" \")\n",
    "    a+=1"
   ]
  },
  {
   "cell_type": "code",
   "execution_count": null,
   "metadata": {},
   "outputs": [],
   "source": [
    "#49 wap to print all even characters from 'A' to 'Z'\n",
    "a=ord('A')\n",
    "b=ord('Z')\n",
    "while a<=b:\n",
    "    if a%2==0:\n",
    "        print(chr(a),end=\" \")\n",
    "    a+=1"
   ]
  },
  {
   "cell_type": "code",
   "execution_count": null,
   "metadata": {},
   "outputs": [],
   "source": [
    "#50 wap to print all odd characters from 'a' to 'z'\n",
    "a=ord('a')\n",
    "b=ord('z')\n",
    "while a<=b:\n",
    "    if a%2!=0:\n",
    "        print(chr(a),end=\" \")\n",
    "    a+=1"
   ]
  },
  {
   "cell_type": "code",
   "execution_count": null,
   "metadata": {},
   "outputs": [],
   "source": [
    "#51 wap to print no of vowels from \"D\" to \"V\"\n",
    "a=ord('D')\n",
    "b=ord('V')\n",
    "while a<=b:\n",
    "    if chr(a) in \"AEIOU\":\n",
    "        print(chr(a),end=\" \")\n",
    "    a+=1"
   ]
  },
  {
   "cell_type": "code",
   "execution_count": null,
   "metadata": {},
   "outputs": [],
   "source": [
    "#52  wap to print no of vowels from \"u\" to \"e\"\n",
    "a=ord('u')\n",
    "b=ord('e')\n",
    "while a>=b:\n",
    "    if chr(a) in \"aeiou\":\n",
    "        print(chr(a),end=\" \")\n",
    "    a-=1"
   ]
  },
  {
   "cell_type": "code",
   "execution_count": null,
   "metadata": {},
   "outputs": [],
   "source": [
    "#53 WAP to print the square of the number in between the range from m to n which\n",
    "# is multiple of 3. WAP to print a from range m to m which is divisible by 5\n",
    "m=1\n",
    "n=50\n",
    "while m<=n:\n",
    "    if m%3==0:\n",
    "        print(m,end=\" \")\n",
    "    m+=1\n",
    "m=1\n",
    "n=50\n",
    "while m<=n:\n",
    "    if m%5==0:\n",
    "        print(m,end=\" \")\n",
    "    m+=1"
   ]
  },
  {
   "cell_type": "code",
   "execution_count": null,
   "metadata": {},
   "outputs": [],
   "source": [
    "#54wap program which takes an integer and find the sum Ot digits\n",
    "# until the sum gets a single digit in the end.\n",
    "num=5643\n",
    "while num>9:\n",
    "    sum=0\n",
    "    while num:\n",
    "        ld=num%10\n",
    "        sum+=ld\n",
    "        num//=10\n",
    "    num=sum\n",
    "    print(sum)"
   ]
  },
  {
   "cell_type": "code",
   "execution_count": null,
   "metadata": {},
   "outputs": [],
   "source": [
    "#55 Write a program to  the numbers of 2's between 0 and n\n",
    "# Input n=35\n",
    "# Output ex= 2,12,20,21,22,23,24,25,26,27,28,29,32\n",
    "#output 14 \n",
    "n=0\n",
    "n1=35\n",
    "list1=[]\n",
    "while n<=n1:\n",
    "    num=n\n",
    "    temp=n\n",
    "    count=0\n",
    "    while num:\n",
    "        ld=num%10\n",
    "        if ld==2:\n",
    "            count+=1\n",
    "            list1.append(temp)\n",
    "        num//=10\n",
    "    n+=1\n",
    "print(list1,len(list1))\n",
    "\n"
   ]
  },
  {
   "cell_type": "code",
   "execution_count": null,
   "metadata": {},
   "outputs": [],
   "source": [
    "#56"
   ]
  },
  {
   "cell_type": "code",
   "execution_count": 3,
   "metadata": {},
   "outputs": [
    {
     "name": "stdout",
     "output_type": "stream",
     "text": [
      "s a l a a r   c e a s e   f i r e "
     ]
    }
   ],
   "source": [
    "#59WAP to print all the items present in string between the range from m to n \n",
    "st='salaar cease fire'\n",
    "m=0\n",
    "n=len(st)\n",
    "while m<n:\n",
    "    print(st[m],end=\" \")\n",
    "    m+=1"
   ]
  },
  {
   "cell_type": "code",
   "execution_count": 9,
   "metadata": {},
   "outputs": [
    {
     "name": "stdout",
     "output_type": "stream",
     "text": [
      "SCSF\n"
     ]
    }
   ],
   "source": [
    "#60 wap to print uppercase characters in a string\n",
    "st1='SalaarCeaSeFire'\n",
    "i=0\n",
    "uc=''\n",
    "while i<len(st1):\n",
    "    if \"A\"<=st1[i]<=\"Z\":\n",
    "        uc+=st1[i]    \n",
    "    i+=1\n",
    "print(uc)\n"
   ]
  },
  {
   "cell_type": "code",
   "execution_count": 11,
   "metadata": {},
   "outputs": [
    {
     "name": "stdout",
     "output_type": "stream",
     "text": [
      "alaareaeire\n"
     ]
    }
   ],
   "source": [
    "#61 wap to print lowercase characters in a string\n",
    "st1='SalaarCeaSeFire'\n",
    "i=0\n",
    "lc=''\n",
    "while i<len(st1):\n",
    "    if \"a\"<=st1[i]<=\"z\":\n",
    "        lc+=st1[i]    \n",
    "    i+=1\n",
    "print(lc)"
   ]
  },
  {
   "cell_type": "code",
   "execution_count": 12,
   "metadata": {},
   "outputs": [
    {
     "name": "stdout",
     "output_type": "stream",
     "text": [
      "28092023\n"
     ]
    }
   ],
   "source": [
    "#62 wap to print ascii numbers(digits) characters in a given string  \n",
    "st1='SalaarCeaSeFire28-09-2023'\n",
    "i=0\n",
    "ac=''\n",
    "while i<len(st1):\n",
    "    if \"0\"<=st1[i]<=\"9\":\n",
    "        ac+=st1[i]    \n",
    "    i+=1\n",
    "print(ac)"
   ]
  },
  {
   "cell_type": "code",
   "execution_count": 15,
   "metadata": {},
   "outputs": [
    {
     "name": "stdout",
     "output_type": "stream",
     "text": [
      "--!@#$\n"
     ]
    }
   ],
   "source": [
    "#63 wap to print only special characters in a given string\n",
    "st1='SalaarCeaSeFire28-09-2023!@#$'\n",
    "i=0\n",
    "sc=''\n",
    "while i<len(st1):\n",
    "    if not(\"0\"<=st1[i]<=\"9\" or \"A\"<=st1[i]<=\"Z\" or \"a\"<=st1[i]<='z'):\n",
    "        sc+=st1[i]    \n",
    "    i+=1\n",
    "print(sc)"
   ]
  },
  {
   "cell_type": "code",
   "execution_count": 85,
   "metadata": {},
   "outputs": [
    {
     "name": "stdout",
     "output_type": "stream",
     "text": [
      "salr cefiI\n",
      "a e i I "
     ]
    }
   ],
   "source": [
    "#64 wap to print the vowels in a given string\n",
    "st='salaar cease fiIe'\n",
    "j=0\n",
    "nondup=''\n",
    "while j<len(st):\n",
    "    if st[j] not in nondup:\n",
    "        nondup+=st[j]\n",
    "    j+=1\n",
    "print(nondup)    \n",
    "i=0\n",
    "\n",
    "while i<len(nondup):\n",
    "    if nondup[i] in 'aeiouAEIOU':\n",
    "        print(nondup[i],end=' ')\n",
    "    i+=1\n"
   ]
  },
  {
   "cell_type": "code",
   "execution_count": null,
   "metadata": {},
   "outputs": [],
   "source": [
    "#65 wap to print the consonants in a given string \n",
    "st='salaar cease fire'\n",
    "j=0\n",
    "while j<len(st):\n",
    "   \n",
    "\n"
   ]
  },
  {
   "cell_type": "code",
   "execution_count": 28,
   "metadata": {},
   "outputs": [
    {
     "name": "stdout",
     "output_type": "stream",
     "text": [
      "erif esaec raalas\n"
     ]
    }
   ],
   "source": [
    "#66 wap to print the reverse of given characters in a given string\n",
    "st='salaar cease fire'\n",
    "i=-1\n",
    "temp=''\n",
    "while i>=-(len(st)):\n",
    "    temp+=st[i]\n",
    "    i-=1\n",
    "print(temp)"
   ]
  },
  {
   "cell_type": "code",
   "execution_count": 31,
   "metadata": {},
   "outputs": [
    {
     "name": "stdout",
     "output_type": "stream",
     "text": [
      "s l a   e s   i "
     ]
    }
   ],
   "source": [
    "#67 wap to even position values characters in a given string \n",
    "st2='salaarceasefire'\n",
    "i=0\n",
    "while i<len(st2):\n",
    "    if i%2==0:\n",
    "        print(st[i],end=\" \")\n",
    "    i+=1"
   ]
  },
  {
   "cell_type": "code",
   "execution_count": 3,
   "metadata": {},
   "outputs": [
    {
     "name": "stdout",
     "output_type": "stream",
     "text": [
      "a a a c a e i e "
     ]
    }
   ],
   "source": [
    "#68 wap to print odd postion values in a given string\n",
    "st='salaaarceasefire'\n",
    "i=0\n",
    "while i<len(st):\n",
    "    if i%2!=0:\n",
    "        print(st[i],end=' ')\n",
    "    i+=1"
   ]
  },
  {
   "cell_type": "code",
   "execution_count": 4,
   "metadata": {},
   "outputs": [
    {
     "name": "stdout",
     "output_type": "stream",
     "text": [
      "15\n"
     ]
    }
   ],
   "source": [
    "#69 wap to count total no of characters in a given string\n",
    "st='salaarceasefire'\n",
    "i=0\n",
    "count=0\n",
    "while i<len(st):\n",
    "    count+=1\n",
    "    i+=1\n",
    "print(count)"
   ]
  },
  {
   "cell_type": "code",
   "execution_count": null,
   "metadata": {},
   "outputs": [],
   "source": [
    "#70 wap to count total no of characters in a gieven string without using length function\n",
    "st='vahinisalaar'\n",
    "i=0\n"
   ]
  },
  {
   "cell_type": "code",
   "execution_count": 8,
   "metadata": {},
   "outputs": [
    {
     "name": "stdout",
     "output_type": "stream",
     "text": [
      "s a l a a r v a h i n 11\n"
     ]
    }
   ],
   "source": [
    "#71 wap to count alphabets in a gievn string\n",
    "st='salaarvahin29-09-2023'\n",
    "i=0\n",
    "count=0\n",
    "while i<len(st):\n",
    "    if 'A'<=st[i]<='Z' or 'a'<=st[i]<='z':\n",
    "        print(st[i],end=' ')\n",
    "        count+=1\n",
    "    i+=1\n",
    "print(count)\n",
    "        \n"
   ]
  },
  {
   "cell_type": "code",
   "execution_count": 10,
   "metadata": {},
   "outputs": [
    {
     "name": "stdout",
     "output_type": "stream",
     "text": [
      "S R F I R E 6\n"
     ]
    }
   ],
   "source": [
    "#72 wap to print no of uppercase in a given string \n",
    "st='SalaaRceaseFIRE'\n",
    "i=0\n",
    "count=0\n",
    "while i<len(st):\n",
    "    if 'A'<=st[i]<='Z':\n",
    "        print(st[i],end=' ')\n",
    "        count+=1\n",
    "    i+=1\n",
    "print(count)"
   ]
  },
  {
   "cell_type": "code",
   "execution_count": 11,
   "metadata": {},
   "outputs": [
    {
     "name": "stdout",
     "output_type": "stream",
     "text": [
      "s a l a a e a s e i r e 12\n"
     ]
    }
   ],
   "source": [
    "#73 wap to print no of lowercase in a given string \n",
    "st='salaaRCeaseFire'\n",
    "i=0\n",
    "count=0\n",
    "while i<len(st):\n",
    "    if 'a'<=st[i]<='z':\n",
    "        print(st[i],end=' ')\n",
    "        count+=1\n",
    "    i+=1\n",
    "print(count)"
   ]
  },
  {
   "cell_type": "code",
   "execution_count": 14,
   "metadata": {},
   "outputs": [
    {
     "name": "stdout",
     "output_type": "stream",
     "text": [
      "! @ # $ % ^ 6\n"
     ]
    }
   ],
   "source": [
    "#74 wap to print no of special characters in a given string\n",
    "st='Salaarc45easefire!@#$%^'\n",
    "i=0\n",
    "count=0\n",
    "while i<len(st):\n",
    "    if not('A'<=st[i]<='Z' or 'a'<=st[i]<='z' or '0'<=st[i]<='9'):\n",
    "        count+=1\n",
    "        print(st[i],end=\" \")\n",
    "    i+=1\n",
    "print(count)\n"
   ]
  },
  {
   "cell_type": "code",
   "execution_count": 16,
   "metadata": {},
   "outputs": [
    {
     "name": "stdout",
     "output_type": "stream",
     "text": [
      "S a l a a r C e a s e 11\n"
     ]
    }
   ],
   "source": [
    "#75 wap to print no of uppercase and lowercase characters in a given string \n",
    "st='SalaarCease!@#123'\n",
    "i=0\n",
    "count=0\n",
    "while i<len(st):\n",
    "    if 'A'<=st[i]<='Z' or 'a'<=st[i]<='z':\n",
    "        print(st[i],end=' ')\n",
    "        count+=1\n",
    "    i+=1\n",
    "print(count)\n"
   ]
  },
  {
   "cell_type": "code",
   "execution_count": 20,
   "metadata": {},
   "outputs": [
    {
     "name": "stdout",
     "output_type": "stream",
     "text": [
      "5 4 5 1 2 3 4 5 6 count 9\n"
     ]
    }
   ],
   "source": [
    "#76 wap to print no of ascii values in a given string \n",
    "st='s545alaar@123456'\n",
    "i=0\n",
    "count=0\n",
    "while i<len(st):\n",
    "    if '0'<=st[i]<='9':\n",
    "        count+=1\n",
    "        print(st[i],end=' ')\n",
    "    i+=1\n",
    "print('count',count)"
   ]
  },
  {
   "cell_type": "code",
   "execution_count": 98,
   "metadata": {},
   "outputs": [
    {
     "name": "stdout",
     "output_type": "stream",
     "text": [
      "2\n"
     ]
    }
   ],
   "source": [
    "#77 wap to count no words in a given string\n",
    "# st='salaar cease fire'\n",
    "# i=0\n",
    "# count=1\n",
    "# while i<len(st):\n",
    "#     if st[i] ==' ':\n",
    "#         count+=1\n",
    "#        i+=1\n",
    "# print(count)\n",
    "st='vasu krishna'\n",
    "i=0\n",
    "count=0\n",
    "if len(st)==0:\n",
    "    pass\n",
    "elif st[0]!=' ' and st[-1]!=' ':\n",
    "    count=1\n",
    "while i<len(st):\n",
    "    if st[i-1]!=' ' and st[i]==' ':\n",
    "        count+=1\n",
    "    i+=1\n",
    "print(count)\n",
    "    \n",
    "\n"
   ]
  },
  {
   "cell_type": "code",
   "execution_count": 3,
   "metadata": {},
   "outputs": [
    {
     "name": "stdout",
     "output_type": "stream",
     "text": [
      "6\n"
     ]
    }
   ],
   "source": [
    "#78 wap to count total number of spaces in a given string\n",
    "st='salaar cease fi r   e'\n",
    "i=0\n",
    "count=0\n",
    "while i<len(st):\n",
    "    if st[i]==' ':\n",
    "        count+=1\n",
    "    i+=1\n",
    "print(count)\n"
   ]
  },
  {
   "cell_type": "code",
   "execution_count": 82,
   "metadata": {},
   "outputs": [
    {
     "name": "stdout",
     "output_type": "stream",
     "text": [
      "SAlarCEfie\n",
      "A a E i e 5\n"
     ]
    }
   ],
   "source": [
    "#79 wap to count no of vowels in a string\n",
    "st='SAlaarCEASEfire1234!@'\n",
    "i=0\n",
    "st1=''\n",
    "while i<len(st):\n",
    "    if st[i] not in st1 and 'A'<=st[i]<=\"z\":\n",
    "        st1+=st[i]\n",
    "    i+=1\n",
    "print(st1)\n",
    "j=0\n",
    "count=0\n",
    "while j<len(st1):\n",
    "    if st1[j] in 'aeiouAEIOU':\n",
    "        print(st1[j],end=' ')\n",
    "        count+=1\n",
    "    j+=1\n",
    "print(count)"
   ]
  },
  {
   "cell_type": "code",
   "execution_count": 28,
   "metadata": {},
   "outputs": [
    {
     "name": "stdout",
     "output_type": "stream",
     "text": [
      "SaLARCE vhIN\n",
      "SLRC vh7\n"
     ]
    }
   ],
   "source": [
    "#80 wap to count no of consonents in a string\n",
    "st='SaLAARCEASEvahINI'\n",
    "i=0\n",
    "st1=''\n",
    "while i<len(st):\n",
    "    if st[i] not in st1:\n",
    "        st1+=st[i]\n",
    "    i+=1\n",
    "print(st1)\n",
    "j=0\n",
    "count=0\n",
    "while j<len(st1):\n",
    "    if st1[j] not in 'aeiouAEIOU' and ('a'<=st[j]<='z' or'A'<=st[j]<='Z'):\n",
    "        print(st1[j],end='')\n",
    "        count+=1\n",
    "    j+=1\n",
    "print(count) "
   ]
  },
  {
   "cell_type": "code",
   "execution_count": 83,
   "metadata": {},
   "outputs": [
    {
     "name": "stdout",
     "output_type": "stream",
     "text": [
      "SaLARCEvhINVK\n",
      "4 vowels\n"
     ]
    }
   ],
   "source": [
    "#81 wap to count vowels and consonents in a given string\n",
    "st='SaLAARCEASEvahINIAVK'\n",
    "i=0\n",
    "org=''\n",
    "while i<len(st):\n",
    "    if st[i] not in org:\n",
    "        org+=st[i]\n",
    "    i+=1\n",
    "print(org)\n",
    "j=0\n",
    "count=0\n",
    "while j<len(org):\n",
    "    if org[j] in 'aeiouAEIOU' :\n",
    "        count+=1\n",
    "    j+=1\n",
    "print(count,'vowels')"
   ]
  },
  {
   "cell_type": "code",
   "execution_count": 105,
   "metadata": {},
   "outputs": [
    {
     "name": "stdout",
     "output_type": "stream",
     "text": [
      "3\n",
      "39\n"
     ]
    }
   ],
   "source": [
    "#82 wap to print no of new lines in a given string\n",
    "st=\"\"\"salaar cease fire\n",
    "salaar the saga \n",
    "this\"\"\"\n",
    "count=0\n",
    "if len(st)==0:\n",
    "    pass\n",
    "elif st[0]!=' ' and st[-1]!=' ':\n",
    "    count=1\n",
    "i=0\n",
    "while i<len(st):\n",
    "    if st[i] =='\\n':\n",
    "        count+=1\n",
    "    i+=1\n",
    "print(count)\n",
    "print(len(st))\n",
    "\n",
    "\n"
   ]
  },
  {
   "cell_type": "code",
   "execution_count": 15,
   "metadata": {},
   "outputs": [
    {
     "name": "stdout",
     "output_type": "stream",
     "text": [
      "3\n"
     ]
    }
   ],
   "source": [
    "#83 wap to print no of lines in a given string\n",
    "st='''this is 1st line\n",
    "this is 2nd line\n",
    "this is 3rd line'''\n",
    "i=0\n",
    "count=1  \n",
    "while i<len(st):\n",
    "    if st[i]=='\\n':\n",
    "        count+=1\n",
    "    i+=1\n",
    "print(count)"
   ]
  },
  {
   "cell_type": "code",
   "execution_count": 35,
   "metadata": {},
   "outputs": [
    {
     "name": "stdout",
     "output_type": "stream",
     "text": [
      "15 5 6\n"
     ]
    }
   ],
   "source": [
    "#84 wap to count no of alphabets ,special characters numbers in a given string \n",
    "st='Salaarcease fire !@#$12347'\n",
    "al=0\n",
    "num=0\n",
    "sp=0\n",
    "i=0\n",
    "while i<len(st):\n",
    "    if 'A'<=st[i]<='z':\n",
    "        al+=1\n",
    "    elif '0'<=st[i]<='9':\n",
    "        num+=1\n",
    "    else:\n",
    "        sp+=1\n",
    "    i+=1\n",
    "print(al,num,sp)"
   ]
  },
  {
   "cell_type": "code",
   "execution_count": 70,
   "metadata": {},
   "outputs": [
    {
     "name": "stdout",
     "output_type": "stream",
     "text": [
      "4\n"
     ]
    }
   ],
   "source": [
    "#85 wap to print  total no of words in first line of a doc string \n",
    "st='''salaar cease fire\n",
    "vahini vahini vahini314'''\n",
    "i=0\n",
    "count=1\n",
    "while i<=len(st) and st[i]!='\\n':    \n",
    "    if st[i]==' ':\n",
    "        count+=1       \n",
    "    i+=1\n",
    "print(count)\n",
    "\n",
    "\n",
    "\n"
   ]
  },
  {
   "cell_type": "code",
   "execution_count": 8,
   "metadata": {},
   "outputs": [
    {
     "name": "stdout",
     "output_type": "stream",
     "text": [
      "45\n"
     ]
    }
   ],
   "source": [
    "#86 wap to sum of digits in a given string\n",
    "st='0123456789'\n",
    "num=int(st)\n",
    "sum=0\n",
    "while num:\n",
    "    ld=num%10\n",
    "    sum+=ld\n",
    "    num//=10\n",
    "print(sum)"
   ]
  },
  {
   "cell_type": "code",
   "execution_count": 8,
   "metadata": {},
   "outputs": [
    {
     "name": "stdout",
     "output_type": "stream",
     "text": [
      "{'v': 1, 'a': 4, 'h': 1, 'i': 1, 'n': 1, 's': 1, 'l': 1, 'r': 1}\n",
      "v h i n s l r "
     ]
    }
   ],
   "source": [
    "#87 wap to print first occurence of a given string\n",
    "st='vahinsalaar'\n",
    "i=0\n",
    "d={}\n",
    "while i<len(st):\n",
    "    if st[i] not in d:\n",
    "        d[st[i]]=1\n",
    "    else:\n",
    "        d[st[i]]+=1\n",
    "    i+=1\n",
    "print(d)\n",
    "klayer=list(d)\n",
    "j=0\n",
    "while j<len(klayer):\n",
    "    if d[klayer[j]]==1:\n",
    "        print(klayer[j],end=' ')\n",
    "    j+=1\n",
    "    \n"
   ]
  },
  {
   "cell_type": "code",
   "execution_count": 13,
   "metadata": {},
   "outputs": [
    {
     "name": "stdout",
     "output_type": "stream",
     "text": [
      "{'S': 0, 'a': 6, 'l': 2, 'w': 4, 'r': 7}\n"
     ]
    }
   ],
   "source": [
    "#88 wap to print last occurence of a given string\n",
    "st='Salawaar'\n",
    "d={}\n",
    "i=0\n",
    "while i<len(st):\n",
    "    d[st[i]]=i\n",
    "    # if st[i] not in d:\n",
    "    #     d[st[i]]=i\n",
    "    # else:\n",
    "    #     d[st[i]]=i\n",
    "    i+=1\n",
    "print(d)\n",
    "# j=0\n",
    "# # print(klayer)\n",
    "# klayer=list(d)\n",
    "# value=[]\n",
    "# while j<len(klayer):\n",
    "#     if d[klayer[j]]>=value[j]:\n",
    "#         value.append(d[klayer[j]])\n",
    "#     print(klayer[j],end=' ')\n",
    "#     j+=1\n",
    "# print(value)"
   ]
  },
  {
   "cell_type": "code",
   "execution_count": 14,
   "metadata": {},
   "outputs": [
    {
     "name": "stdout",
     "output_type": "stream",
     "text": [
      "{'S': 0, 'a': 6, 'l': 2, 'w': 4, 'r': 7}\n"
     ]
    }
   ],
   "source": [
    "#89 wap to Print First not Occurrence of a Character in a String.\n",
    "st='Salawaar'\n",
    "d={}\n",
    "i=0\n",
    "while i<len(st):\n",
    "    d[st[i]]=i\n",
    "    i+=1\n",
    "print(d)"
   ]
  },
  {
   "cell_type": "code",
   "execution_count": 15,
   "metadata": {},
   "outputs": [
    {
     "name": "stdout",
     "output_type": "stream",
     "text": [
      "{'v': 1, 'a': 4, 'h': 1, 'i': 1, 'n': 1, 's': 1, 'l': 1, 'r': 1}\n",
      "v h i n s l r "
     ]
    }
   ],
   "source": [
    "#90 wap to Print last not Occurrence of a Character in a String.\n",
    "st='vahinsalaar'\n",
    "i=0\n",
    "d={}\n",
    "while i<len(st):\n",
    "    if st[i] not in d:\n",
    "        d[st[i]]=1\n",
    "    else:\n",
    "        d[st[i]]+=1\n",
    "    i+=1\n",
    "print(d)\n",
    "klayer=list(d)\n",
    "j=0\n",
    "while j<len(klayer):\n",
    "    if d[klayer[j]]==1:\n",
    "        print(klayer[j],end=' ')\n",
    "    j+=1\n"
   ]
  },
  {
   "cell_type": "code",
   "execution_count": 15,
   "metadata": {},
   "outputs": [
    {
     "name": "stdout",
     "output_type": "stream",
     "text": [
      "aasaa\n"
     ]
    }
   ],
   "source": [
    "#91 wap to remove first occurence of a given string.\n",
    "st='salaarthesaga'\n",
    "i=0\n",
    "st1=''\n",
    "dup=''\n",
    "while i<len(st):\n",
    "    if st[i] not in st1:\n",
    "        st1+=st[i]\n",
    "    else:\n",
    "        dup+=st[i]\n",
    "    i+=1\n",
    "print(dup)\n",
    "    \n",
    "\n"
   ]
  },
  {
   "cell_type": "code",
   "execution_count": 16,
   "metadata": {},
   "outputs": [
    {
     "name": "stdout",
     "output_type": "stream",
     "text": [
      "salrtheg\n"
     ]
    }
   ],
   "source": [
    "#92  wap to remove last occurence of a given string\n",
    "st='salaarthesaga'\n",
    "i=0\n",
    "st1=''\n",
    "dup=''\n",
    "while i<len(st):\n",
    "    if st[i] not in st1:\n",
    "        st1+=st[i]\n",
    "    else:\n",
    "        dup+=st[i]\n",
    "    i+=1\n",
    "print(st1)"
   ]
  },
  {
   "cell_type": "code",
   "execution_count": 19,
   "metadata": {},
   "outputs": [
    {
     "name": "stdout",
     "output_type": "stream",
     "text": [
      "{'s': 1, 'a': 3, 'l': 1, 'R': 1, 'T': 1, 'H': 1, 'E': 1, 'S': 1, 'A': 2, 'G': 1, '@': 1, '2': 3, '8': 1, '=': 2, '0': 2, '9': 1, '3': 1}\n"
     ]
    }
   ],
   "source": [
    "#93 wap to count the occurence of a specfic character in a given string \n",
    "st='salaaRTHESAGA@28=09=2023'\n",
    "d={}\n",
    "i=0\n",
    "while i<len(st):\n",
    "    if st[i] not in d:\n",
    "        d[st[i]]=1\n",
    "    else:\n",
    "        d[st[i]]+=1\n",
    "    i+=1\n",
    "print(d)\n"
   ]
  },
  {
   "cell_type": "code",
   "execution_count": 26,
   "metadata": {},
   "outputs": [
    {
     "name": "stdout",
     "output_type": "stream",
     "text": [
      "{'s': 2, 'a': 5, 'l': 1, 'r': 1, 'g': 1}\n",
      "['s', 'a', 'l', 'r', 'g']\n",
      "a 5\n"
     ]
    }
   ],
   "source": [
    "#94 wap to count max occurence of a specific character in a given string\n",
    "st2='salaarsaga'\n",
    "d={}\n",
    "i=0\n",
    "while i<len(st2):\n",
    "    if st2[i] not in d:\n",
    "        d[st2[i]]=1\n",
    "    else:\n",
    "        d[st2[i]]+=1\n",
    "    i+=1\n",
    "print(d)\n",
    "lis=list(d)\n",
    "print(lis)\n",
    "ch=''\n",
    "oc=0\n",
    "j=0\n",
    "while j<len(lis):\n",
    "    if d[lis[j]]>oc:\n",
    "        oc=d[lis[j]]\n",
    "        ch=lis[j]\n",
    "    j+=1\n",
    "print(ch,oc)\n",
    "\n",
    "\n",
    "\n"
   ]
  },
  {
   "cell_type": "code",
   "execution_count": 38,
   "metadata": {},
   "outputs": [
    {
     "name": "stdout",
     "output_type": "stream",
     "text": [
      "salrtheg\n"
     ]
    }
   ],
   "source": [
    "#95 wap to print min occurence of a specific character in a given string.\n",
    "stg='salaarsaga'\n",
    "# i=0\n",
    "# d={}\n",
    "# while i<len(stg):\n",
    "#     if stg[i] not in d:\n",
    "#         d[stg[i]]=1\n",
    "#     else:\n",
    "#         d[stg[i]]+=1\n",
    "#     i+=1\n",
    "# print(d)\n",
    "# lis=list(d)\n",
    "# print(lis)\n",
    "# oc=len(lis)\n",
    "# j=0\n",
    "# ch=''\n",
    "# while j<len(lis):\n",
    "#     if d[lis[j]]<oc:\n",
    "#         oc=d[lis[j]]\n",
    "#         ch=lis[j]\n",
    "#         print(ch)\n",
    "#     j+=1\n",
    "\n",
    "st='salaarthesaga'\n",
    "i=0\n",
    "st1=''\n",
    "dup=''\n",
    "while i<len(st):\n",
    "    if st[i] not in st1:\n",
    "        st1+=st[i]\n",
    "    else:\n",
    "        dup+=st[i]\n",
    "    i+=1\n",
    "print(st1)\n",
    "\n"
   ]
  },
  {
   "cell_type": "code",
   "execution_count": 40,
   "metadata": {},
   "outputs": [
    {
     "name": "stdout",
     "output_type": "stream",
     "text": [
      "{'s': 2, 'a': 5, 'l': 1, 'r': 1, 'g': 1}\n"
     ]
    }
   ],
   "source": [
    "#96 wap to count repeats of a specific character in a given string\n",
    "st2='salaarsaga'\n",
    "d={}\n",
    "i=0\n",
    "while i<len(st2):\n",
    "    if st2[i] not in d:\n",
    "        d[st2[i]]=1\n",
    "    else:\n",
    "        d[st2[i]]+=1\n",
    "    i+=1\n",
    "print(d)\n"
   ]
  },
  {
   "cell_type": "code",
   "execution_count": 41,
   "metadata": {},
   "outputs": [
    {
     "name": "stdout",
     "output_type": "stream",
     "text": [
      "{'s': 2, 'a': 5, 'l': 1, 'r': 1, 'g': 1}\n",
      "['s', 'a', 'l', 'r', 'g']\n",
      "a 5\n"
     ]
    }
   ],
   "source": [
    "#97 wap to print maximum repeated character in a given string\n",
    "st2='salaarsaga'\n",
    "d={}\n",
    "i=0\n",
    "while i<len(st2):\n",
    "    if st2[i] not in d:\n",
    "        d[st2[i]]=1\n",
    "    else:\n",
    "        d[st2[i]]+=1\n",
    "    i+=1\n",
    "print(d)\n",
    "lis=list(d)\n",
    "print(lis)\n",
    "ch=''\n",
    "oc=0\n",
    "j=0\n",
    "while j<len(lis):\n",
    "    if d[lis[j]]>oc:\n",
    "        oc=d[lis[j]]\n",
    "        ch=lis[j]\n",
    "    j+=1\n",
    "print(ch,oc)"
   ]
  },
  {
   "cell_type": "code",
   "execution_count": 44,
   "metadata": {},
   "outputs": [
    {
     "name": "stdout",
     "output_type": "stream",
     "text": [
      "{'s': 2, 'a': 5, 'l': 1, 'r': 1, 'g': 1}\n",
      "l r g "
     ]
    }
   ],
   "source": [
    "#98 wap to count the min repeated character in a given string.\n",
    "st2='salaarsaga'\n",
    "d={}\n",
    "i=0\n",
    "while i<len(st2):\n",
    "    if st2[i] not in d:\n",
    "        d[st2[i]]=1\n",
    "    else:\n",
    "        d[st2[i]]+=1\n",
    "    i+=1\n",
    "print(d)\n",
    "lis=list(d)\n",
    "j=0\n",
    "small=0\n",
    "while j<len(lis):\n",
    "    if d[lis[j]]==1:\n",
    "        print(lis[j],end=' ')\n",
    "    j+=1\n",
    "\n"
   ]
  },
  {
   "cell_type": "code",
   "execution_count": null,
   "metadata": {},
   "outputs": [],
   "source": [
    "#99 wap to replace specific character into new character\n"
   ]
  },
  {
   "cell_type": "code",
   "execution_count": 50,
   "metadata": {},
   "outputs": [
    {
     "name": "stdout",
     "output_type": "stream",
     "text": [
      "SALAAR\n"
     ]
    }
   ],
   "source": [
    "#100 wap to covert lowercase into uppercase in a given string \n",
    "st='salaar'\n",
    "i=0\n",
    "st1=''\n",
    "while i<len(st):\n",
    "    if 'a'<=st[i]<='z':\n",
    "        st1+=chr(ord(st[i])-32)\n",
    "    i+=1\n",
    "print(st1)\n",
    "    "
   ]
  },
  {
   "cell_type": "code",
   "execution_count": 51,
   "metadata": {},
   "outputs": [
    {
     "name": "stdout",
     "output_type": "stream",
     "text": [
      "vahini\n"
     ]
    }
   ],
   "source": [
    "#101 wap to convert uppercase into lowercase\n",
    "st='VAHINI'\n",
    "i=0\n",
    "st1=''\n",
    "while i<len(st):\n",
    "    if 'A'<=st[i]<='Z':\n",
    "        st1+=chr(ord(st[i])+32)\n",
    "    i+=1\n",
    "print(st1)"
   ]
  },
  {
   "cell_type": "code",
   "execution_count": 69,
   "metadata": {},
   "outputs": [
    {
     "name": "stdout",
     "output_type": "stream",
     "text": [
      "aar\n"
     ]
    }
   ],
   "source": [
    "#102 wap to convert uppercase to lowercase in even postion characters in a given string\n",
    "st='SALAaR1233@13'\n",
    "i=0\n",
    "j=1\n",
    "res=''\n",
    "while i<len(st) and j<=len(st):\n",
    "    if 'A'<=st[i]<='Z' and j%2==0:\n",
    "        res+=chr(ord(st[i])+32)\n",
    "    i+=1\n",
    "    j+=1\n",
    "print(res)"
   ]
  },
  {
   "cell_type": "code",
   "execution_count": 66,
   "metadata": {},
   "outputs": [
    {
     "name": "stdout",
     "output_type": "stream",
     "text": [
      "sla\n"
     ]
    }
   ],
   "source": [
    "#103 wap to convert uppercase to lowercase in odd postion characters in a given string\n",
    "st=\"SALAAR\"\n",
    "i=0\n",
    "j=1\n",
    "res=''\n",
    "while i<len(st)and j<=len(st) :\n",
    "    if 'A'<=st[i]<='Z' and j%2!=0:\n",
    "        res+=chr(ord(st[i])+32)\n",
    "    i+=1\n",
    "    j+=1\n",
    "print(res)\n"
   ]
  },
  {
   "cell_type": "code",
   "execution_count": 79,
   "metadata": {},
   "outputs": [
    {
     "name": "stdout",
     "output_type": "stream",
     "text": [
      "aA*1*\n"
     ]
    }
   ],
   "source": [
    "#104 wap to covert uppercase letter to lowercase letter and lowercase letter to uppercase letter ,if the character is \n",
    "#special symbol replace with * for given input string\n",
    "st='Aa!1#'\n",
    "i=0\n",
    "res=''\n",
    "while i<len(st):\n",
    "    if 'A'<=st[i]<='Z':\n",
    "        res+=chr(ord(st[i])+32)\n",
    "    elif 'a'<=st[i]<='z':\n",
    "        res+=chr(ord(st[i])-32)\n",
    "    elif '0'<=st[i]<='9':\n",
    "        res+=st[i]\n",
    "    else:\n",
    "        res+='*'\n",
    "    i+=1\n",
    "print(res)\n",
    "    "
   ]
  },
  {
   "cell_type": "code",
   "execution_count": null,
   "metadata": {},
   "outputs": [],
   "source": [
    "#105 wap to convert title case in a given string\n",
    "st='salaar cease'\n",
    "if \n"
   ]
  },
  {
   "cell_type": "code",
   "execution_count": 12,
   "metadata": {},
   "outputs": [
    {
     "name": "stdout",
     "output_type": "stream",
     "text": [
      "eo o 123 aii\n"
     ]
    }
   ],
   "source": [
    "#121 input: 'hello world 123 haii'\n",
    "#op : eo o 123 aii\n",
    "st='hello world 123 haii'\n",
    "i=0\n",
    "st1='aeiouAEIOU'\n",
    "res=''\n",
    "while i<len(st):\n",
    "    if st[i] in st1 or '0'<=st[i]<='9' or not('A'<=st[i]<='Z' or'a'<=st[i]<='z' or '0'<=st[i]<='9'  ):\n",
    "        res+=st[i]\n",
    "    i+=1\n",
    "print(res)\n"
   ]
  },
  {
   "cell_type": "code",
   "execution_count": 13,
   "metadata": {},
   "outputs": [
    {
     "name": "stdout",
     "output_type": "stream",
     "text": [
      "eoo123aii\n"
     ]
    }
   ],
   "source": [
    "#122 input: 'hello world 123 haii'\n",
    "#op: eoo123aii\n",
    "st='hello world 123 haii'\n",
    "i=0\n",
    "st1='aeiouAEIOU'\n",
    "res=''\n",
    "while i<len(st):\n",
    "    if st[i] in st1 or '0'<=st[i]<='9':\n",
    "        res+=st[i]\n",
    "    i+=1\n",
    "print(res)"
   ]
  },
  {
   "cell_type": "code",
   "execution_count": 15,
   "metadata": {},
   "outputs": [
    {
     "name": "stdout",
     "output_type": "stream",
     "text": [
      "eo o  aii\n"
     ]
    }
   ],
   "source": [
    "#123 input: 'hello world 123 haii'\n",
    "#op 'eo o  aii'\n",
    "st='hello world 123 haii'\n",
    "i=0\n",
    "st1='aeiouAEIOU'\n",
    "res=''\n",
    "while i<len(st):\n",
    "    if st[i] in st1 or not('A'<=st[i]<='Z' or'a'<=st[i]<='z' or '0'<=st[i]<='9'  ):\n",
    "        res+=st[i]\n",
    "    i+=1\n",
    "print(res)"
   ]
  },
  {
   "cell_type": "code",
   "execution_count": 7,
   "metadata": {},
   "outputs": [
    {
     "name": "stdout",
     "output_type": "stream",
     "text": [
      "hll wrld 123 h\n"
     ]
    }
   ],
   "source": [
    "#124 'hello world 123 haii'\n",
    "#op : 'hll world haii'\n",
    "\n",
    "st='hello world 123 haii'\n",
    "i=0\n",
    "st1='aeiouAEIOU'\n",
    "res=''\n",
    "res1=''\n",
    "while i<len(st):\n",
    "    if st[i]!=' ':\n",
    "        if st[i] not in st1:\n",
    "            res+=st[i]\n",
    "            pass\n",
    "    else:\n",
    "        if st[i]!=0:\n",
    "            res+=st[i]\n",
    "        elif not('A'<=st[i]<='Z' or 'a'<=st[i]<='z'):\n",
    "            res1+=st[i]\n",
    "        else:\n",
    "            res+=st[i]\n",
    "    i+=1\n",
    "print(res)\n",
    "\n",
    "\n",
    "\n"
   ]
  },
  {
   "cell_type": "code",
   "execution_count": 27,
   "metadata": {},
   "outputs": [
    {
     "name": "stdout",
     "output_type": "stream",
     "text": [
      "eoo op1 and  hll wrld op2\n"
     ]
    }
   ],
   "source": [
    "#125 input : 'hello world op1: hll wrld  op2 : eoo\n",
    "st='hello world'\n",
    "i=0\n",
    "res=''\n",
    "res1=''\n",
    "vowels='aeiouAEIOU' \n",
    "while i<len(st):\n",
    "    if st[i] in vowels :\n",
    "        res+=st[i]\n",
    "    else:\n",
    "        res1+=st[i]\n",
    "    i+=1\n",
    "print(f'{res} op1 and ',f'{res1} op2')"
   ]
  },
  {
   "cell_type": "code",
   "execution_count": 29,
   "metadata": {},
   "outputs": [
    {
     "name": "stdout",
     "output_type": "stream",
     "text": [
      "eoo\n",
      "12344\n",
      "hll wrld\n"
     ]
    }
   ],
   "source": [
    "#126 input '12hello3 4world4'\n",
    "#op1 'hll wrld' \n",
    "#op2 'eoo'\n",
    "#op3 '12344'\n",
    "st='12hello3 4world4'\n",
    "i=0\n",
    "vowel='aeiouAEIOU'\n",
    "res=''\n",
    "res1=''\n",
    "res2=''\n",
    "while i<len(st):\n",
    "    if st[i] in vowel:\n",
    "        res+=st[i]\n",
    "    elif '0'<=st[i]<='9':\n",
    "        res1+=st[i]\n",
    "    else:\n",
    "        res2+=st[i]\n",
    "    i+=1\n",
    "print(res)\n",
    "print(res1)\n",
    "print(res2)\n"
   ]
  },
  {
   "cell_type": "code",
   "execution_count": 30,
   "metadata": {},
   "outputs": [
    {
     "name": "stdout",
     "output_type": "stream",
     "text": [
      "eoo\n",
      "12344\n",
      "(*$ $#*)\n",
      "hllwrld\n"
     ]
    }
   ],
   "source": [
    "#127 input '(*12hello3$ $4#world4*)'\n",
    "#op1 'hll wrld' \n",
    "#op2 'eoo'\n",
    "#op3 '12344'\n",
    "#op4 '(*$$#*)'\n",
    "st='(*12hello3$ $4#world4*)'\n",
    "i=0\n",
    "res=''\n",
    "res1=''\n",
    "res2=''\n",
    "res3=''\n",
    "vowels='aeiouAEIOU' \n",
    "while i<len(st):\n",
    "    if st[i] in vowel:\n",
    "        res+=st[i]\n",
    "    elif '0'<=st[i]<='9':\n",
    "        res1+=st[i]\n",
    "    elif not('a'<=st[i]<='z' or 'A'<=st[i]<='Z' or '0'<=st[i]<='9'):\n",
    "        res2+=st[i]\n",
    "    else:\n",
    "        res3+=st[i]\n",
    "    i+=1\n",
    "print(res)\n",
    "print(res1)\n",
    "print(res2)\n",
    "print(res3)\n",
    "\n"
   ]
  },
  {
   "cell_type": "code",
   "execution_count": 44,
   "metadata": {},
   "outputs": [
    {
     "name": "stdout",
     "output_type": "stream",
     "text": [
      ")*#$ $*(,44321,ooe,dlrwllh\n"
     ]
    }
   ],
   "source": [
    "#128 input '(*12hello3$ $4#world4*)'\n",
    "#output ')*#$ $*(,44321,ooe,dlrwllh'\n",
    "st='(*12hello3$ $4#world4*)'\n",
    "i=-1\n",
    "vowel='aeiouAEIOU'\n",
    "res=''\n",
    "res1=''\n",
    "res2=''\n",
    "res3=''\n",
    "while i>=-(len(st)):\n",
    "    if not('a'<=st[i]<='z' or 'A'<=st[i]<='Z' or '0'<=st[i]<='9'):\n",
    "        res+=st[i]\n",
    "    elif '0'<=st[i]<='9':\n",
    "        res1+=st[i]\n",
    "    elif st[i] in vowel:\n",
    "        res2+=st[i]\n",
    "    else:\n",
    "        res3+=st[i]\n",
    "    i-=1\n",
    "print(f'{res},{res1},{res2},{res3}')\n"
   ]
  },
  {
   "cell_type": "code",
   "execution_count": 48,
   "metadata": {},
   "outputs": [
    {
     "name": "stdout",
     "output_type": "stream",
     "text": [
      "hllwrld,eoo,12344,(*$ $#*)\n"
     ]
    }
   ],
   "source": [
    "#129 input '(*12hello3$ $4#world4*)'\n",
    "st='(*12hello3$ $4#world4*)'\n",
    "i=0\n",
    "vowel='aeiouAEIOU'\n",
    "res=''\n",
    "res1=''\n",
    "res2=''\n",
    "res3=''\n",
    "while i<(len(st)):\n",
    "    if not('a'<=st[i]<='z' or 'A'<=st[i]<='Z' or '0'<=st[i]<='9'):\n",
    "        res+=st[i]\n",
    "    elif '0'<=st[i]<='9':\n",
    "        res1+=st[i]\n",
    "    elif st[i] in vowel:\n",
    "        res2+=st[i]\n",
    "    else:\n",
    "        res3+=st[i]\n",
    "    i+=1\n",
    "print(f'{res3},{res2},{res1},{res}')\n",
    "\n"
   ]
  },
  {
   "cell_type": "code",
   "execution_count": 49,
   "metadata": {},
   "outputs": [
    {
     "name": "stdout",
     "output_type": "stream",
     "text": [
      "hllwrld,eoo,12344,(*$ $#*)\n"
     ]
    }
   ],
   "source": [
    "#130 input '(*12hello3$ $4#world4*)'\n",
    "    #output  hllwrld),*#$$*(',eoo,44321\n",
    "st='(*12hello3$ $4#world4*)'\n",
    "i=0\n",
    "res=''\n",
    "vowels='aeiouAEIOU'\n",
    "while i<len(st):\n",
    "    if st[i] in st:\n",
    "        res+=st[i]\n",
    "    elif st[::-1] "
   ]
  }
 ],
 "metadata": {
  "kernelspec": {
   "display_name": "Python 3",
   "language": "python",
   "name": "python3"
  },
  "language_info": {
   "codemirror_mode": {
    "name": "ipython",
    "version": 3
   },
   "file_extension": ".py",
   "mimetype": "text/x-python",
   "name": "python",
   "nbconvert_exporter": "python",
   "pygments_lexer": "ipython3",
   "version": "3.11.5"
  },
  "orig_nbformat": 4
 },
 "nbformat": 4,
 "nbformat_minor": 2
}
