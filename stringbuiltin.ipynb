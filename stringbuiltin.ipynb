{
 "cells": [
  {
   "cell_type": "code",
   "execution_count": 16,
   "metadata": {},
   "outputs": [
    {
     "data": {
      "text/plain": [
       "'Hello world123@'"
      ]
     },
     "execution_count": 16,
     "metadata": {},
     "output_type": "execute_result"
    }
   ],
   "source": [
    "#1 capitialize()\n",
    "st='hello WORld123@'\n",
    "def u_capitialize(coll):\n",
    "    res=''\n",
    "    if 'a'<=coll[0]<='z':\n",
    "        res+=chr(ord(coll[0])-32)\n",
    "    else:\n",
    "        res+=coll[0]\n",
    "    for i in range(1,len(coll)):\n",
    "        if 'A'<=coll[i]<='Z':\n",
    "            res+=chr(ord(coll[i])+32)\n",
    "        else:\n",
    "            res+=coll[i]\n",
    "    return res\n",
    "u_capitialize(st)\n",
    "\n",
    "\n"
   ]
  },
  {
   "cell_type": "code",
   "execution_count": 19,
   "metadata": {},
   "outputs": [
    {
     "name": "stdout",
     "output_type": "stream",
     "text": [
      "vahini\n"
     ]
    }
   ],
   "source": [
    "#2 lower()\n",
    "st='HELLO WORLD 123@!'\n",
    "def u_lower(coll):\n",
    "    res=''\n",
    "    for i in coll:\n",
    "        if 'A'<=i<='Z':\n",
    "            res+=chr(ord(i)+32)\n",
    "        else:\n",
    "            res+=i\n",
    "    return res\n",
    "# u_lower(st)\n",
    "print(u_lower('VAHINI'))\n",
    "\n",
    "\n",
    "\n",
    "\n"
   ]
  },
  {
   "cell_type": "code",
   "execution_count": 22,
   "metadata": {},
   "outputs": [
    {
     "data": {
      "text/plain": [
       "'hello world!@34'"
      ]
     },
     "execution_count": 22,
     "metadata": {},
     "output_type": "execute_result"
    }
   ],
   "source": [
    "#3 CASEFOLD()\n",
    "st='HEllo World!@34'\n",
    "def u_casefold(coll):\n",
    "    res=''\n",
    "    for i in range(len(coll)):\n",
    "        if 'A'<= coll[i]<='Z':\n",
    "            res+=chr(ord(coll[i])+32)\n",
    "        else:\n",
    "            res+=coll[i]\n",
    "    return res \n",
    "u_casefold(st)           \n",
    "        \n",
    "\n",
    "                                                                                                 "
   ]
  },
  {
   "cell_type": "code",
   "execution_count": 25,
   "metadata": {},
   "outputs": [
    {
     "name": "stdout",
     "output_type": "stream",
     "text": [
      "VAHINI@213#\n"
     ]
    }
   ],
   "source": [
    "#4 upper() \n",
    "st='HELLO WORLD 123@!'\n",
    "def u_upper(coll):\n",
    "    res=''\n",
    "    for i in coll:\n",
    "        if 'a'<=i<='z':\n",
    "            res+=chr(ord(i)-32)\n",
    "        else:\n",
    "            res+=i\n",
    "    return res\n",
    "# u_lower(st)\n",
    "print(u_upper('Vahini@213#'))"
   ]
  },
  {
   "cell_type": "code",
   "execution_count": 27,
   "metadata": {},
   "outputs": [
    {
     "data": {
      "text/plain": [
       "'hELLOw vAhINi @123#'"
      ]
     },
     "execution_count": 27,
     "metadata": {},
     "output_type": "execute_result"
    }
   ],
   "source": [
    "#5 swapcase()\n",
    "st='HelloW VaHinI @123#'\n",
    "def u_swapcase(coll):\n",
    "    res=''\n",
    "    for i in coll:\n",
    "        if 'A'<=i<='Z':\n",
    "            res+=chr(ord(i)+32)\n",
    "        elif 'a'<=i<='z':\n",
    "            res+=chr(ord(i)-32)\n",
    "        else:\n",
    "            res+=i\n",
    "    return res\n",
    "u_swapcase(st) "
   ]
  },
  {
   "cell_type": "code",
   "execution_count": 21,
   "metadata": {},
   "outputs": [
    {
     "data": {
      "text/plain": [
       "'1Ello World Vahin$#$A !@Abc Ijkl'"
      ]
     },
     "execution_count": 21,
     "metadata": {},
     "output_type": "execute_result"
    }
   ],
   "source": [
    "#6 title()\n",
    "st='1ello wOrld vAhin$#$a !@abc ijkl'\n",
    "st.title()\n",
    "def u_title(coll):\n",
    "    res=''\n",
    "    if 'a'<=coll[0]<='z':\n",
    "        res+=chr(ord(coll[0])-32)\n",
    "        temp=1\n",
    "    elif 'A'<=coll[0]<='Z':\n",
    "        res+=coll[0]\n",
    "        temp=1\n",
    "    else:\n",
    "        temp=0\n",
    "    while temp<len(coll):\n",
    "        if not('A'<=coll[temp]<='Z' or 'a'<=coll[temp]<='z'):\n",
    "            res+=coll[temp]\n",
    "            if 'a'<=coll[temp+1]<='z':\n",
    "                res+=chr(ord(coll[temp+1])-32)\n",
    "            elif not('a'<=coll[temp+1]<='z' or 'A'<=coll[temp+1]<='Z'):\n",
    "                res+=coll[temp+1]\n",
    "                if 'a'<=coll[temp+2]<='z':\n",
    "                    res+=chr(ord(coll[temp+2])-32)\n",
    "                    temp+=1\n",
    "            else:\n",
    "                res+=coll[temp+1]\n",
    "            temp+=1\n",
    "        elif 'A'<=coll[temp]<='Z':\n",
    "            res+=chr(ord(coll[temp])+32)\n",
    "        else:\n",
    "            res+=coll[temp]\n",
    "        temp+=1\n",
    "    return res\n",
    "u_title(st)\n"
   ]
  },
  {
   "cell_type": "code",
   "execution_count": 26,
   "metadata": {},
   "outputs": [
    {
     "ename": "TypeError",
     "evalue": "The fill character must be 1 character long",
     "output_type": "error",
     "traceback": [
      "\u001b[1;31m---------------------------------------------------------------------------\u001b[0m",
      "\u001b[1;31mTypeError\u001b[0m                                 Traceback (most recent call last)",
      "\u001b[1;32mc:\\Users\\bonthala\\Documents\\GitHub\\python-class\\stringbuiltin.ipynb Cell 7\u001b[0m line \u001b[0;36m1\n\u001b[0;32m      <a href='vscode-notebook-cell:/c%3A/Users/bonthala/Documents/GitHub/python-class/stringbuiltin.ipynb#W6sZmlsZQ%3D%3D?line=8'>9</a>\u001b[0m     res\u001b[39m=\u001b[39mfillchar\u001b[39m*\u001b[39ml\u001b[39m+\u001b[39mcoll\u001b[39m+\u001b[39mfillchar\u001b[39m*\u001b[39mr\n\u001b[0;32m     <a href='vscode-notebook-cell:/c%3A/Users/bonthala/Documents/GitHub/python-class/stringbuiltin.ipynb#W6sZmlsZQ%3D%3D?line=9'>10</a>\u001b[0m     \u001b[39mreturn\u001b[39;00m res\n\u001b[1;32m---> <a href='vscode-notebook-cell:/c%3A/Users/bonthala/Documents/GitHub/python-class/stringbuiltin.ipynb#W6sZmlsZQ%3D%3D?line=10'>11</a>\u001b[0m u_center(st,\u001b[39m12\u001b[39;49m,\u001b[39m'\u001b[39;49m\u001b[39m--\u001b[39;49m\u001b[39m'\u001b[39;49m)\n",
      "\u001b[1;32mc:\\Users\\bonthala\\Documents\\GitHub\\python-class\\stringbuiltin.ipynb Cell 7\u001b[0m line \u001b[0;36m5\n\u001b[0;32m      <a href='vscode-notebook-cell:/c%3A/Users/bonthala/Documents/GitHub/python-class/stringbuiltin.ipynb#W6sZmlsZQ%3D%3D?line=2'>3</a>\u001b[0m \u001b[39mdef\u001b[39;00m \u001b[39mu_center\u001b[39m(coll,width,fillchar\u001b[39m=\u001b[39m\u001b[39m'\u001b[39m\u001b[39m \u001b[39m\u001b[39m'\u001b[39m):\n\u001b[0;32m      <a href='vscode-notebook-cell:/c%3A/Users/bonthala/Documents/GitHub/python-class/stringbuiltin.ipynb#W6sZmlsZQ%3D%3D?line=3'>4</a>\u001b[0m     \u001b[39mif\u001b[39;00m \u001b[39mlen\u001b[39m(fillchar)\u001b[39m>\u001b[39m\u001b[39m1\u001b[39m:\n\u001b[1;32m----> <a href='vscode-notebook-cell:/c%3A/Users/bonthala/Documents/GitHub/python-class/stringbuiltin.ipynb#W6sZmlsZQ%3D%3D?line=4'>5</a>\u001b[0m         \u001b[39mraise\u001b[39;00m \u001b[39mTypeError\u001b[39;00m(\u001b[39m'\u001b[39m\u001b[39mThe fill character must be 1 character long\u001b[39m\u001b[39m'\u001b[39m)\n\u001b[0;32m      <a href='vscode-notebook-cell:/c%3A/Users/bonthala/Documents/GitHub/python-class/stringbuiltin.ipynb#W6sZmlsZQ%3D%3D?line=5'>6</a>\u001b[0m     res\u001b[39m=\u001b[39mwidth\u001b[39m-\u001b[39m\u001b[39mlen\u001b[39m(coll)\n\u001b[0;32m      <a href='vscode-notebook-cell:/c%3A/Users/bonthala/Documents/GitHub/python-class/stringbuiltin.ipynb#W6sZmlsZQ%3D%3D?line=6'>7</a>\u001b[0m     l\u001b[39m=\u001b[39mres\u001b[39m/\u001b[39m\u001b[39m/\u001b[39m\u001b[39m2\u001b[39m\n",
      "\u001b[1;31mTypeError\u001b[0m: The fill character must be 1 character long"
     ]
    }
   ],
   "source": [
    "#7 center()\n",
    "st='abc'\n",
    "def u_center(coll,width,fillchar=' '):\n",
    "    if len(fillchar)>1:\n",
    "        raise TypeError('The fill character must be 1 character long')\n",
    "    res=width-len(coll)\n",
    "    l=res//2\n",
    "    r=res-l\n",
    "    res=fillchar*l+coll+fillchar*r\n",
    "    return res\n",
    "u_center(st,12,'--')\n",
    "\n"
   ]
  },
  {
   "cell_type": "code",
   "execution_count": 34,
   "metadata": {},
   "outputs": [
    {
     "data": {
      "text/plain": [
       "True"
      ]
     },
     "execution_count": 34,
     "metadata": {},
     "output_type": "execute_result"
    }
   ],
   "source": [
    "#8 istitle()\n",
    "st='1Ello World Vahin$#$A !@Abc Ijkl'\n",
    "def u_istitle(coll):\n",
    "    if 'a'<=coll[0]<='z':\n",
    "        return False\n",
    "    i=0\n",
    "    while i<len(coll):\n",
    "        if not('a'<=coll[i]<='z' or 'A'<=coll[i]<='Z'):\n",
    "            if 'a'<=coll[i+1]<='z':\n",
    "                return False\n",
    "        i+=1\n",
    "    return True\n",
    "u_istitle(st)\n",
    "\n",
    "\n",
    "    \n",
    "    \n",
    "        \n",
    "    "
   ]
  },
  {
   "cell_type": "code",
   "execution_count": 35,
   "metadata": {},
   "outputs": [
    {
     "data": {
      "text/plain": [
       "True"
      ]
     },
     "execution_count": 35,
     "metadata": {},
     "output_type": "execute_result"
    }
   ],
   "source": [
    "st='!Salaar @@#@Q'\n",
    "u_istitle(st)"
   ]
  },
  {
   "cell_type": "code",
   "execution_count": 40,
   "metadata": {},
   "outputs": [
    {
     "data": {
      "text/plain": [
       "False"
      ]
     },
     "execution_count": 40,
     "metadata": {},
     "output_type": "execute_result"
    }
   ],
   "source": [
    "#9 isdigit()\n",
    "def u_isdigit(coll):\n",
    "    for i in coll:\n",
    "           if not('0'<=i<='9'):\n",
    "                return False\n",
    "    return True\n",
    "u_isdigit('1.23') "
   ]
  },
  {
   "cell_type": "code",
   "execution_count": 41,
   "metadata": {},
   "outputs": [
    {
     "data": {
      "text/plain": [
       "True"
      ]
     },
     "execution_count": 41,
     "metadata": {},
     "output_type": "execute_result"
    }
   ],
   "source": [
    "#10 isnumeric()\n",
    "def u_isnumeric(coll):\n",
    "    for i in coll:\n",
    "       if not('0'<=i<='9'):\n",
    "            return False\n",
    "    return True\n",
    "u_isnumeric('123')\n"
   ]
  },
  {
   "cell_type": "code",
   "execution_count": 46,
   "metadata": {},
   "outputs": [
    {
     "data": {
      "text/plain": [
       "True"
      ]
     },
     "execution_count": 46,
     "metadata": {},
     "output_type": "execute_result"
    }
   ],
   "source": [
    "\n",
    "#11 isalnum()\n",
    "def u_isalnum(coll):\n",
    "    for i in coll:\n",
    "        if not('A'<=i<='Z' or 'a'<=i<='z' or '0'<=i<='9'):\n",
    "            return False\n",
    "    return True\n",
    "u_isalnum('a2')"
   ]
  },
  {
   "cell_type": "code",
   "execution_count": 47,
   "metadata": {},
   "outputs": [
    {
     "data": {
      "text/plain": [
       "True"
      ]
     },
     "execution_count": 47,
     "metadata": {},
     "output_type": "execute_result"
    }
   ],
   "source": [
    "#12 isaplha()\n",
    "def u_isalpha(coll):\n",
    "    for i in coll:\n",
    "        if not('A'<=i<='Z' or 'a'<=i<='z'):\n",
    "            return False\n",
    "    return True\n",
    "u_isalpha('abcd')"
   ]
  },
  {
   "cell_type": "code",
   "execution_count": 1,
   "metadata": {},
   "outputs": [],
   "source": [
    "#13 isidentifier()\n",
    "def u_isidentifier(coll):\n",
    "    if '0'<= coll[0]<='9':\n",
    "        return False\n",
    "    for i in coll:\n",
    "        if not('a'<=i<='z' or 'A'<=i<='Z' or i=='_'):\n",
    "            return False\n",
    "    return True"
   ]
  },
  {
   "cell_type": "code",
   "execution_count": 37,
   "metadata": {},
   "outputs": [
    {
     "data": {
      "text/plain": [
       "'ax!bdf!cdsf!dsd!edfs'"
      ]
     },
     "execution_count": 37,
     "metadata": {},
     "output_type": "execute_result"
    }
   ],
   "source": [
    "#14 join()\n",
    "l=['ax','bdf','cdsf','dsd','edfs']\n",
    "def u_join(coll,sep='!'):\n",
    "    for i in coll:\n",
    "        if type(i)!=str:\n",
    "            return False\n",
    "    res=''\n",
    "    for i in coll:\n",
    "        res=res+i+sep \n",
    "    if sep=='':\n",
    "        return res\n",
    "    else:\n",
    "        return res[:-(len(sep)):]    \n",
    "u_join(l)"
   ]
  },
  {
   "cell_type": "code",
   "execution_count": 16,
   "metadata": {},
   "outputs": [
    {
     "data": {
      "text/plain": [
       "0"
      ]
     },
     "execution_count": 16,
     "metadata": {},
     "output_type": "execute_result"
    }
   ],
   "source": [
    "#15 count()\n",
    "st='helloworld'\n",
    "def u_count(coll,var,start,end=None):\n",
    "    if end==None:\n",
    "        end=len(coll)\n",
    "    if type(var)!=str:\n",
    "        raise TypeError('must be str')\n",
    "    count=0\n",
    "    for i in range(start,end):\n",
    "        if coll[i]==var:\n",
    "            count+=1\n",
    "    return count\n",
    "u_count(st,'L',0)\n",
    "                \n"
   ]
  },
  {
   "cell_type": "code",
   "execution_count": 3,
   "metadata": {},
   "outputs": [
    {
     "data": {
      "text/plain": [
       "-1"
      ]
     },
     "execution_count": 3,
     "metadata": {},
     "output_type": "execute_result"
    }
   ],
   "source": [
    "#16 find()\n",
    "st='helloworld'\n",
    "def u_find(coll,var,start=0,end=None):\n",
    "    if end==None:\n",
    "        end=len(coll)\n",
    "    for i in range(start,end):\n",
    "        if coll[i]==var:\n",
    "            return i\n",
    "    return -1\n",
    "u_find(st,'L')\n",
    "\n"
   ]
  },
  {
   "cell_type": "code",
   "execution_count": 15,
   "metadata": {},
   "outputs": [
    {
     "data": {
      "text/plain": [
       "4"
      ]
     },
     "execution_count": 15,
     "metadata": {},
     "output_type": "execute_result"
    }
   ],
   "source": [
    "'helloworld'.index('o')\n"
   ]
  },
  {
   "cell_type": "code",
   "execution_count": null,
   "metadata": {},
   "outputs": [],
   "source": [
    "#17 index()\n",
    "st='helloworld'\n",
    "def u_index(coll,var,start=0,end=None):\n",
    "    if end==None:\n",
    "        end=len(coll)\n",
    "    for i in range(start,end):\n",
    "        if coll[i]==var:\n",
    "                                                                                                                                                                                                                                                                                                                                                                                                                                                                                                                                                                                                                                                                                                                                                                                                                                                                                                                                                                                                                                                                                                                                                                                                                                                                                                                                                                                                                                                                                                                                                                                                                                                                                                                                                                                                                                                                                                                                                                                                                                                                                                                                                                                                                                                                                                                                                                                                                                                                                                                                                                                                                                                                                                                                                                                                                                                                                                                                                                                                                                                                                                                                                                                                                                                                                                                                                                                                                                                                                                                                                                                                                                                                                                                                                                                                                                                                                                                                                                                                                                                                                                                                                                                                                                                                                                                                                                                                                                                                                                                                                                                                                                                                                                                                                                                                                                                                                                                                                                                                                                                                                                                                                                                                                                                                                                                                                                                                                                                                                                                                                                                                                                                                                                                                                                                                                                                                                                                                                                                                                                                                                                                                                                                                                                                                                                                                                                                                                                                                                                                                                                                                                                                                                                                                                                                                                                                                                                                                                                                                                                                                                                                                                                                                                                                                                                                                                                                                                                                         \n"
   ]
  },
  {
   "cell_type": "code",
   "execution_count": 62,
   "metadata": {},
   "outputs": [
    {
     "data": {
      "text/plain": [
       "4"
      ]
     },
     "execution_count": 62,
     "metadata": {},
     "output_type": "execute_result"
    }
   ],
   "source": [
    "#repeat()\n",
    "def repeat(coll,ele,start=0,end=None):\n",
    "    if end==None:\n",
    "        end=len(coll)\n",
    "    count=1\n",
    "    for i in range(start,end):\n",
    "        if coll[i]==ele:\n",
    "            count+=1\n",
    "    return count-1\n",
    "repeat('salaar','a',0,)\n",
    "\n"
   ]
  },
  {
   "cell_type": "code",
   "execution_count": 60,
   "metadata": {},
   "outputs": [
    {
     "data": {
      "text/plain": [
       "2"
      ]
     },
     "execution_count": 60,
     "metadata": {},
     "output_type": "execute_result"
    }
   ],
   "source": [
    "#occurence()\n",
    "def occurence(coll,ele,start=0,end=None):\n",
    "    if end==None:\n",
    "        end=len(coll)\n",
    "    count=0\n",
    "    for i in range(start,end):\n",
    "        if coll[i]==ele:\n",
    "            count+=1\n",
    "    return count\n",
    "occurence('salaar','a',0,4)\n"
   ]
  },
  {
   "cell_type": "code",
   "execution_count": 32,
   "metadata": {},
   "outputs": [
    {
     "name": "stdout",
     "output_type": "stream",
     "text": [
      "True\n"
     ]
    }
   ],
   "source": [
    "#18 startswith()\n",
    "st='salaar the saga'\n",
    "def u_startswith(coll,ele,start=0,end=None):\n",
    "    if end==None:\n",
    "        end=start+len(ele)\n",
    "    if ele not in coll[start:]:\n",
    "        return False\n",
    "    res=''\n",
    "    while start<end:\n",
    "        res+=coll[start]\n",
    "        start+=1\n",
    "    print(res==ele)\n",
    "u_startswith(st,'salaar')\n",
    "\n",
    "\n",
    "\n",
    "\n",
    "\n",
    "\n"
   ]
  },
  {
   "cell_type": "code",
   "execution_count": 3,
   "metadata": {},
   "outputs": [
    {
     "data": {
      "text/plain": [
       "'Sunday iS a maSS day'"
      ]
     },
     "execution_count": 3,
     "metadata": {},
     "output_type": "execute_result"
    }
   ],
   "source": [
    "#write a program to replace specific in a given string for n no of times or specific occrence .(without count)\n",
    "st='sunday is a mass day'\n",
    "def u_replace(coll,old,new):\n",
    "    res=''\n",
    "    for i in coll:\n",
    "        if i!=old:\n",
    "            res+=i\n",
    "        else:\n",
    "            res+=new\n",
    "    return res\n",
    "u_replace(st,'s','S')\n",
    "    \n",
    "\n"
   ]
  },
  {
   "cell_type": "code",
   "execution_count": 18,
   "metadata": {},
   "outputs": [
    {
     "data": {
      "text/plain": [
       "'Sunday iS a mass day'"
      ]
     },
     "execution_count": 18,
     "metadata": {},
     "output_type": "execute_result"
    }
   ],
   "source": [
    "#write a program to replace specific in a given string for n no of times or specific occrence .(with count)\n",
    "st='sunday is a mass day'\n",
    "def u_replace(coll,old,new,count=None):\n",
    "    if count==None:\n",
    "        count=len(coll)\n",
    "    res=''\n",
    "    co=0\n",
    "    for i in coll:\n",
    "        if i!=old:\n",
    "            res+=i\n",
    "        elif co<count:\n",
    "            co+=1\n",
    "            res+=new\n",
    "        else:\n",
    "            res+=i\n",
    "    return res\n",
    "u_replace(st,'s','S',2)\n",
    "                                                      \n"
   ]
  },
  {
   "cell_type": "code",
   "execution_count": 16,
   "metadata": {},
   "outputs": [
    {
     "data": {
      "text/plain": [
       "'Sunday iS a mass day'"
      ]
     },
     "execution_count": 16,
     "metadata": {},
     "output_type": "execute_result"
    }
   ],
   "source": [
    "st='sunday is a mass day'\n",
    "def u_replace1(coll,old,new,count=None):\n",
    "    if count==None:\n",
    "        count=len(coll)\n",
    "    co=1\n",
    "    res=''\n",
    "    for i in coll:\n",
    "        if i==old and co<=count:\n",
    "            res+=new\n",
    "            co+=1\n",
    "        else:\n",
    "            res+=i\n",
    "    return res\n",
    "u_replace1(st,'s','S',2)"
   ]
  },
  {
   "cell_type": "code",
   "execution_count": 7,
   "metadata": {},
   "outputs": [
    {
     "data": {
      "text/plain": [
       "'mond'"
      ]
     },
     "execution_count": 7,
     "metadata": {},
     "output_type": "execute_result"
    }
   ],
   "source": [
    "#wap to change  seq of characters in a given string for n no of times or occurence \n",
    "st='sunday is a mass day sunday is a holiday sun'\n",
    "def usreplace(coll,old,new,count=None):\n",
    "    start=0\n",
    "    while start<len(coll):\n",
    "        if coll[start]==old[0]:\n",
    "            if old==coll[start:start+len(old)]:\n",
    "                coll=coll[0:start]+new+coll[start+len(old)]\n",
    "        start+=1\n",
    "    return coll\n",
    "usreplace(st,'sun','mon')\n",
    "\n"
   ]
  }
 ],
 "metadata": {
  "kernelspec": {
   "display_name": "Python 3",
   "language": "python",
   "name": "python3"
  },
  "language_info": {
   "codemirror_mode": {
    "name": "ipython",
    "version": 3
   },
   "file_extension": ".py",
   "mimetype": "text/x-python",
   "name": "python",
   "nbconvert_exporter": "python",
   "pygments_lexer": "ipython3",
   "version": "3.11.5"
  },
  "orig_nbformat": 4
 },
 "nbformat": 4,
 "nbformat_minor": 2
}
