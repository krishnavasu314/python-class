{
 "cells": [
  {
   "cell_type": "code",
   "execution_count": 74,
   "metadata": {},
   "outputs": [
    {
     "name": "stdout",
     "output_type": "stream",
     "text": [
      "hello world\n"
     ]
    }
   ],
   "source": [
    "#1)wap to print \"hello world\" in shell\n",
    "print(\"hello world\")"
   ]
  },
  {
   "cell_type": "code",
   "execution_count": 75,
   "metadata": {},
   "outputs": [
    {
     "name": "stdout",
     "output_type": "stream",
     "text": [
      "hello\n"
     ]
    }
   ],
   "source": [
    "#2)wap to print \"hello world\".\n",
    "print(\"hello\")"
   ]
  },
  {
   "cell_type": "code",
   "execution_count": 76,
   "metadata": {},
   "outputs": [
    {
     "name": "stdout",
     "output_type": "stream",
     "text": [
      "The values of a= 150  b= 120  c= 250\n"
     ]
    }
   ],
   "source": [
    "#3)wap to initialize multivariables and assigning multivalues corresponding to 150,120,250.\n",
    "\n",
    "a,b,c=150,120,250\n",
    "print(\"The values of a=\",a,\" b=\",b,\" c=\",c)\n"
   ]
  },
  {
   "cell_type": "code",
   "execution_count": 77,
   "metadata": {},
   "outputs": [
    {
     "name": "stdout",
     "output_type": "stream",
     "text": [
      "10\n",
      "10.6\n",
      "(10+3j)\n",
      "True\n",
      "b'1010'\n",
      "None\n",
      "(10, 20, 30, 40)\n",
      "(10, 20, 30, 40)\n",
      "[10, 20, 30, 40]\n",
      "{40, 10, 20, 30}\n",
      "{10: 20, 30: 40}\n"
     ]
    }
   ],
   "source": [
    "# 4)wap to to initialize  a var and different DT values\n",
    "\n",
    "a=10\n",
    "print(a)\n",
    "a=10.6\n",
    "print(a)\n",
    "a=10+3j\n",
    "print(a)\n",
    "a=True\n",
    "print(a)\n",
    "a=b'1010'\n",
    "print(a)\n",
    "a=None\n",
    "print(a)\n",
    "a=10,20,30,40\n",
    "print(a)\n",
    "a=(10,20,30,40)\n",
    "print(a)\n",
    "a=[10,20,30,40]\n",
    "print(a)\n",
    "a={10,20,30,40}\n",
    "print(a)\n",
    "a={10:20,30:40}\n",
    "print(a)"
   ]
  },
  {
   "cell_type": "code",
   "execution_count": 78,
   "metadata": {},
   "outputs": [
    {
     "name": "stdout",
     "output_type": "stream",
     "text": [
      "<class 'set'>\n"
     ]
    }
   ],
   "source": [
    "#5)wap to print type of the data of the given value\n",
    "a={1,2,3,4,7,8}\n",
    "print(type(a))"
   ]
  },
  {
   "cell_type": "code",
   "execution_count": 79,
   "metadata": {},
   "outputs": [
    {
     "name": "stdout",
     "output_type": "stream",
     "text": [
      "140728478393416\n"
     ]
    }
   ],
   "source": [
    "#6)wap to print address of the memory block\n",
    "a=10\n",
    "print(id(a))"
   ]
  },
  {
   "cell_type": "code",
   "execution_count": 80,
   "metadata": {},
   "outputs": [
    {
     "name": "stdout",
     "output_type": "stream",
     "text": [
      "the age of mooon is 22\n"
     ]
    }
   ],
   "source": [
    "#7)wap to print your details first store you details then extract them\n",
    "#3 concepts to fetch\n",
    "#variable concep\n",
    "name=\"moon\"\n",
    "age=22\n",
    "phone=9876543216                              # need to use variable for every detail to fetch\n",
    "email=\"sukihime@gmail.com\"\n",
    "\n",
    "#list concep\n",
    "moon=['moon',22,9876543215,\"sukihime@gmail.com\"]          # can befetch using indexing but need to remember each indexposition of details\n",
    "\n",
    "#dict concep\n",
    "moon={\"Name\": \"moon\", \"age\": 22,\"Phone Number\":9876543216}\n",
    "print(\"the age of mooon is\",moon[\"age\"])\n",
    "  \n"
   ]
  },
  {
   "cell_type": "code",
   "execution_count": 81,
   "metadata": {},
   "outputs": [
    {
     "name": "stdout",
     "output_type": "stream",
     "text": [
      "haii hello\n",
      "hello haii\n"
     ]
    }
   ],
   "source": [
    "#8)wap to swap the variablesn with using temp var\n",
    "x=\"haii\"\n",
    "y=\"hello\"\n",
    "print(x,y)\n",
    "temp=x\n",
    "x=y\n",
    "y=temp\n",
    "print(x,y)"
   ]
  },
  {
   "cell_type": "code",
   "execution_count": 82,
   "metadata": {},
   "outputs": [
    {
     "name": "stdout",
     "output_type": "stream",
     "text": [
      "[1, 2, 3, 4] (10, 20, 30, 40)\n",
      "(10, 20, 30, 40) [1, 2, 3, 4]\n"
     ]
    }
   ],
   "source": [
    "#9)wap to swap the variablesn without using temp var\n",
    "m=[1,2,3,4]\n",
    "n=(10,20,30,40)\n",
    "print(m,n)\n",
    "m,n=n,m\n",
    "print(m,n)"
   ]
  },
  {
   "cell_type": "code",
   "execution_count": 83,
   "metadata": {},
   "outputs": [
    {
     "name": "stdout",
     "output_type": "stream",
     "text": [
      "547\n",
      "{1: 200}\n",
      "(1, 2, 3, 4)\n",
      "(1, 2, 3, 4, 20, 30, 40)\n"
     ]
    },
    {
     "ename": "NameError",
     "evalue": "name 'a' is not defined",
     "output_type": "error",
     "traceback": [
      "\u001b[1;31m---------------------------------------------------------------------------\u001b[0m",
      "\u001b[1;31mNameError\u001b[0m                                 Traceback (most recent call last)",
      "Cell \u001b[1;32mIn[83], line 11\u001b[0m\n\u001b[0;32m      9\u001b[0m \u001b[39mprint\u001b[39m(a)\n\u001b[0;32m     10\u001b[0m \u001b[39mdel\u001b[39;00m a     \u001b[39m#deletion\u001b[39;00m\n\u001b[1;32m---> 11\u001b[0m \u001b[39mprint\u001b[39m(a)\n",
      "\u001b[1;31mNameError\u001b[0m: name 'a' is not defined"
     ]
    }
   ],
   "source": [
    "#10)wap to initialize a value and point it, then reinitialize the new value in to the existing  variable\n",
    "a={1:547}  #initialize\n",
    "print(a[1]) #fetch\n",
    "a[1]=200   #modify\n",
    "print(a)\n",
    "a=1,2,3,4   #reinitialize\n",
    "print(a)\n",
    "a+=20,30,40  #concat\n",
    "print(a)\n",
    "del a     #deletion\n",
    "print(a)"
   ]
  },
  {
   "cell_type": "code",
   "execution_count": null,
   "metadata": {},
   "outputs": [],
   "source": [
    "#11)Was to convert single to multi value data\n",
    "a=10\n",
    "a=str(a)\n",
    "print(a)"
   ]
  },
  {
   "cell_type": "code",
   "execution_count": null,
   "metadata": {},
   "outputs": [],
   "source": [
    "#12)Wap to concat the two multivalue data types (str,list,tuple)\n",
    "str\n",
    "x=\"hello\"\n",
    "x+='world'\n",
    "print(x)\n",
    "\n",
    "list\n",
    "y=[10,20,30]\n",
    "y+=[40,50,60]\n",
    "print(y)\n",
    "\n",
    "tuple\n",
    "s=(10,20,30)\n",
    "s+=(40,50)\n",
    "print(s)"
   ]
  },
  {
   "cell_type": "code",
   "execution_count": null,
   "metadata": {},
   "outputs": [],
   "source": [
    "#13)Was to check the length of collection\n",
    "s={10,20,30,40,50}\n",
    "\n",
    "print(len(s))"
   ]
  },
  {
   "cell_type": "code",
   "execution_count": null,
   "metadata": {},
   "outputs": [],
   "source": [
    "#14)Wap to check find out the middle value of the given collection\n",
    "l=[10,20,30,40]\n",
    "print(l[len(l)//2])"
   ]
  },
  {
   "cell_type": "code",
   "execution_count": null,
   "metadata": {},
   "outputs": [],
   "source": [
    "#15)Was to concat the new string into starting of given string\n",
    "a=\"how r u\"\n",
    "b=\"haii\"\n",
    "print(b+a)"
   ]
  },
  {
   "cell_type": "code",
   "execution_count": null,
   "metadata": {},
   "outputs": [],
   "source": [
    "#16)Was to concat the new string into ending of given string\n",
    "\n",
    "a=\"str\"\n",
    "b=\"ing\"\n",
    "a=a+b\n",
    "print(a)"
   ]
  },
  {
   "cell_type": "code",
   "execution_count": null,
   "metadata": {},
   "outputs": [],
   "source": [
    "#17)Was to concat the new string into middle of given string\n",
    "\n",
    "a=\"hello world\"\n",
    "b=\"bye\"\n",
    "print(a[0:6]+b+a[5:])\n",
    "\n"
   ]
  },
  {
   "cell_type": "code",
   "execution_count": null,
   "metadata": {},
   "outputs": [
    {
     "name": "stdout",
     "output_type": "stream",
     "text": [
      "pyspiders\n",
      "i\n",
      "pyspIders\n"
     ]
    }
   ],
   "source": [
    "#18)wap to modify the new char in to the middle of given string\n",
    "s=\"pyspiders\"\n",
    "print(s)\n",
    "t=s[len(s)//2]\n",
    "print(t)\n",
    "s=s[0:len(s)//2]+\"I\"+s[(len(s)//2)+1:]\n",
    "print(s)"
   ]
  },
  {
   "cell_type": "code",
   "execution_count": null,
   "metadata": {},
   "outputs": [],
   "source": [
    "#19)Was to modify the sequence of character in given string\n",
    "s=\"pyspiders\"\n",
    "print(s[0:3]+\"PID\"+s[6:])"
   ]
  },
  {
   "cell_type": "code",
   "execution_count": null,
   "metadata": {},
   "outputs": [
    {
     "name": "stdout",
     "output_type": "stream",
     "text": [
      "pyspiders\n",
      "pyspiDers\n"
     ]
    }
   ],
   "source": [
    "#20)Was to delete the specific chaaracter in given string\n",
    "\n",
    "s=\"pyspiders\"\n",
    "print(s)\n",
    "print(s[:-4]+'D'+s[-3:])"
   ]
  },
  {
   "cell_type": "code",
   "execution_count": null,
   "metadata": {},
   "outputs": [
    {
     "name": "stdout",
     "output_type": "stream",
     "text": [
      "pypiders\n"
     ]
    }
   ],
   "source": [
    "#21)was to delete a specific character in a given string\n",
    "s=\"pyspiders\"\n",
    "print(s[:2]+s[3:])\n"
   ]
  },
  {
   "cell_type": "code",
   "execution_count": 84,
   "metadata": {},
   "outputs": [
    {
     "name": "stdout",
     "output_type": "stream",
     "text": [
      "pysers\n"
     ]
    }
   ],
   "source": [
    "#22)was to delete sequence of characters in a given string\n",
    "s='pyspiders'\n",
    "print(s[:3]+s[-3:])"
   ]
  },
  {
   "cell_type": "code",
   "execution_count": null,
   "metadata": {},
   "outputs": [],
   "source": [
    "#23)was to concat new string into a specific potion of given string\n",
    "s=\"hai are you\"\n",
    "print(s[:4]+'hai'+s[3:])"
   ]
  },
  {
   "cell_type": "code",
   "execution_count": 155,
   "metadata": {},
   "outputs": [
    {
     "name": "stdout",
     "output_type": "stream",
     "text": [
      "[4, 5, 7, 1, 2, 3]\n"
     ]
    }
   ],
   "source": [
    "#24)was to concat new value into starting of given list\n",
    "s=[1,2,3]\n",
    "print([4,5,7]+s)\n"
   ]
  },
  {
   "cell_type": "code",
   "execution_count": 191,
   "metadata": {},
   "outputs": [
    {
     "name": "stdout",
     "output_type": "stream",
     "text": [
      "[1, 2, 3, 4, 5, 7]\n"
     ]
    }
   ],
   "source": [
    "#25)was to concat new value into ending  of given list\n",
    "s=[1,2,3]\n",
    "print(s+[4,5,7])"
   ]
  },
  {
   "cell_type": "code",
   "execution_count": 227,
   "metadata": {},
   "outputs": [
    {
     "name": "stdout",
     "output_type": "stream",
     "text": [
      "[10, 10.12, 'a', 'b', True, 'hai']\n"
     ]
    }
   ],
   "source": [
    "#26)was to concat new value into middle of given list\n",
    "s=[10,10.12,True ,'hai']\n",
    "s[len(s)//2:len(s)//2]=['a','b']\n",
    "print(s)"
   ]
  },
  {
   "cell_type": "code",
   "execution_count": null,
   "metadata": {},
   "outputs": [],
   "source": [
    "#27)was to concat new value into specific postion of given list\n",
    "s=[10,10.12,True ,'hai']\n",
    "s[2:2]=['hai']\n",
    "print(s)"
   ]
  },
  {
   "cell_type": "code",
   "execution_count": null,
   "metadata": {},
   "outputs": [],
   "source": [
    "#28)was to modify new value into specific postion of given list\n",
    "s=[10,10.12,True ,'hai']\n",
    "s[1]=True\n",
    "print(s)"
   ]
  },
  {
   "cell_type": "code",
   "execution_count": null,
   "metadata": {},
   "outputs": [],
   "source": [
    "#29)was to modify new value into starting postion of given list\n",
    "s=[10,10.12,True ,'hai']\n",
    "s[0]={'a':20}\n",
    "print(s)"
   ]
  },
  {
   "cell_type": "code",
   "execution_count": null,
   "metadata": {},
   "outputs": [],
   "source": [
    "#30)was to modify new value into ending value of given list\n",
    "s=[10,10.12,True ,'hai']\n",
    "s[-1]='qspiders'\n",
    "print(s)"
   ]
  },
  {
   "cell_type": "code",
   "execution_count": 228,
   "metadata": {},
   "outputs": [
    {
     "name": "stdout",
     "output_type": "stream",
     "text": [
      "[10, 10.6, 'hello', 'haii']\n"
     ]
    }
   ],
   "source": [
    "#31)wap to modify the new value into middile of list\n",
    "l=[10,10.6,True,'haii']\n",
    "l[len(l)//2]=\"hello\"\n",
    "print(l)\n"
   ]
  },
  {
   "cell_type": "code",
   "execution_count": 229,
   "metadata": {},
   "outputs": [
    {
     "name": "stdout",
     "output_type": "stream",
     "text": [
      "['a', 'b', 'c', 5, 6, 7, 8]\n"
     ]
    }
   ],
   "source": [
    "#32)wap to modify the first 4 positions of given list\n",
    "l=[1,2,3,4,5,6,7,8]\n",
    "l[0:4]=['a','b','c',]\n",
    "print(l)"
   ]
  },
  {
   "cell_type": "code",
   "execution_count": 230,
   "metadata": {},
   "outputs": [
    {
     "name": "stdout",
     "output_type": "stream",
     "text": [
      "[1, 2, 3, 4, 5, 6, 7, 8, 9]\n",
      "[2, 4, 6, 8]\n",
      "[1, 20, 3, 40, 5, 60, 7, 80, 9]\n",
      "[1, 2, 4, 8, 9]\n",
      "[1, 3, 4, 5, 16, 7, 64, 6, 81, 15]\n"
     ]
    }
   ],
   "source": [
    "#33)wap to modify the sequence of values in the given list\n",
    "d=[1,2,3,4,5,6,7,8,9]\n",
    "print(d)\n",
    "print(d[1: :2])\n",
    "d[1: :2]=[20,40,60,80]\n",
    "print(d)\n",
    "\n",
    "d=[1,3,2,5,4,7,8,6,9,15]\n",
    "print(d[ : :2])\n",
    "d[ : :2]=[d[0]**2,d[2]**2,d[4]**2,d[6]**2,d[8]**2,]\n",
    "print(d)"
   ]
  },
  {
   "cell_type": "code",
   "execution_count": 231,
   "metadata": {},
   "outputs": [
    {
     "name": "stdout",
     "output_type": "stream",
     "text": [
      "[1, 2, 3, 4, 5]\n",
      "[1, 2, 3, 5]\n"
     ]
    }
   ],
   "source": [
    "#34)wap to delete the values in specific position in the given list\n",
    "s=[1,2,3,4,5]\n",
    "print(s)\n",
    "del s[3]\n",
    "print(s)"
   ]
  },
  {
   "cell_type": "code",
   "execution_count": 232,
   "metadata": {},
   "outputs": [
    {
     "name": "stdout",
     "output_type": "stream",
     "text": [
      "[1, 2, 3, 4, 5]\n",
      "[1, 2, 3, 4]\n"
     ]
    }
   ],
   "source": [
    "#35)wap to delete the values at the ending of list\n",
    "s=[1,2,3,4,5]\n",
    "print(s)\n",
    "del s[-1]\n",
    "print(s)"
   ]
  },
  {
   "cell_type": "code",
   "execution_count": 233,
   "metadata": {},
   "outputs": [
    {
     "name": "stdout",
     "output_type": "stream",
     "text": [
      "[1, 3, 5, 7, 9, 11]\n",
      "[3, 5, 7, 9, 11]\n"
     ]
    }
   ],
   "source": [
    "#36)wap to delete new value at startinf of list\n",
    "s=[1,3,5,7,9,11]\n",
    "print(s)\n",
    "s[0:1]=[]\n",
    "print(s)"
   ]
  },
  {
   "cell_type": "code",
   "execution_count": 234,
   "metadata": {},
   "outputs": [
    {
     "name": "stdout",
     "output_type": "stream",
     "text": [
      "[1, 2, 3, 4, 5, 6]\n",
      "[1, 2, 3, 5, 6]\n"
     ]
    }
   ],
   "source": [
    "#37)wap to delete new value in the middle of the list\n",
    "s=[1,2,3,4,5,6]\n",
    "print(s)\n",
    "del s[len(s)//2]\n",
    "print(s)"
   ]
  },
  {
   "cell_type": "code",
   "execution_count": 235,
   "metadata": {},
   "outputs": [
    {
     "name": "stdout",
     "output_type": "stream",
     "text": [
      "(1, 2, 3, 4, 5)\n",
      "('a', 'b', 1, 2, 3, 4, 5)\n"
     ]
    }
   ],
   "source": [
    "#38)wap to concat the value at starting of tuple\n",
    "t=(1,2,3,4,5)\n",
    "print(t)\n",
    "t=('a','b')+t\n",
    "print(t)"
   ]
  },
  {
   "cell_type": "code",
   "execution_count": 236,
   "metadata": {},
   "outputs": [
    {
     "name": "stdout",
     "output_type": "stream",
     "text": [
      "(1, 2, 3, 4, 5)\n",
      "(1, 2, 'a', 'b', 3, 4, 5)\n"
     ]
    }
   ],
   "source": [
    "#39)wap to concat the value at the middle of tuple.\n",
    "t=(1,2,3,4,5)\n",
    "print(t)\n",
    "t=t[0:2]+('a','b')+t[2:]\n",
    "print(t)"
   ]
  },
  {
   "cell_type": "code",
   "execution_count": 237,
   "metadata": {},
   "outputs": [
    {
     "name": "stdout",
     "output_type": "stream",
     "text": [
      "(1, 2, 3, 4, 5)\n",
      "(1, 2, 3, 4, 5, 'a', 'b')\n"
     ]
    }
   ],
   "source": [
    "#40)wap to concatenate the new value at the ending of tuple\n",
    "t=(1,2,3,4,5)\n",
    "print(t)\n",
    "t+=('a','b')\n",
    "print(t)"
   ]
  },
  {
   "cell_type": "code",
   "execution_count": null,
   "metadata": {},
   "outputs": [],
   "source": [
    "#41)was to modify sequence values in a tuple\n",
    "t=(10,10.12,True,50)\n",
    "print(t[0:1]+('modified',))"
   ]
  },
  {
   "cell_type": "code",
   "execution_count": null,
   "metadata": {},
   "outputs": [],
   "source": [
    "#42)was to delete sequence of values in a tuple \n",
    "t=(10,10.12,True,'string',[10,True])\n",
    "print(t[:1]+t[-1:])"
   ]
  },
  {
   "cell_type": "code",
   "execution_count": null,
   "metadata": {},
   "outputs": [],
   "source": [
    "#43)was to concat the new value into the set\n",
    "s={10,20,30}\n",
    "s|={40,50}\n",
    "print(s)"
   ]
  },
  {
   "cell_type": "code",
   "execution_count": null,
   "metadata": {},
   "outputs": [],
   "source": [
    "#44)was to delete specific value in a set\n",
    "s={10,20,30}\n",
    "s-={20}\n",
    "print(s)"
   ]
  },
  {
   "cell_type": "code",
   "execution_count": null,
   "metadata": {},
   "outputs": [],
   "source": [
    "#45)was to concat new value and key to dict\n",
    "d={10:20,20:30,40:50}\n",
    "d[50]=309\n",
    "print(d) #to add single value\n",
    "e={60:70,80:90}\n",
    "d|=e\n",
    "print(d) #to add multiple values at a time"
   ]
  },
  {
   "cell_type": "code",
   "execution_count": null,
   "metadata": {},
   "outputs": [],
   "source": [
    "#46)was to delete specific key and value in the given dict\n",
    "d={10:20,20:30,40:50}\n",
    "del d[20]\n",
    "print(d)"
   ]
  },
  {
   "cell_type": "code",
   "execution_count": null,
   "metadata": {},
   "outputs": [],
   "source": [
    "#47)was to specific value in a given dict\n",
    "d={10:20,20:30,40:50}\n",
    "d[10]=200\n",
    "print(d)"
   ]
  },
  {
   "cell_type": "code",
   "execution_count": null,
   "metadata": {},
   "outputs": [],
   "source": [
    "#48)was to concat list value and tuple values by using typecasting\n",
    "l=[10,10.12,True]\n",
    "t=(\"string\",'a','b')\n",
    "print(l+list(t))"
   ]
  },
  {
   "cell_type": "code",
   "execution_count": null,
   "metadata": {},
   "outputs": [],
   "source": [
    "#49)was to concat list and tuple value without using typecasting\n",
    "l=[10,10.12,True]\n",
    "t=(\"string\",'a','b')\n",
    "l+=t\n",
    "print(l)"
   ]
  },
  {
   "cell_type": "code",
   "execution_count": 238,
   "metadata": {},
   "outputs": [
    {
     "name": "stdout",
     "output_type": "stream",
     "text": [
      "[10, 20, 30, 40, 'a', 'b', 'c', 'd']\n"
     ]
    }
   ],
   "source": [
    "\n",
    "# 50 to concat list and tuple by using the compound assignment\n",
    "\n",
    "l=[10,20,30,40]\n",
    "l+=(\"a\",\"b\",\"c\",\"d\")\n",
    "print(l)\n"
   ]
  },
  {
   "cell_type": "code",
   "execution_count": 239,
   "metadata": {},
   "outputs": [
    {
     "name": "stdout",
     "output_type": "stream",
     "text": [
      "True\n"
     ]
    }
   ],
   "source": [
    "# 51 to check given number is divisible by the 3\n",
    "\n",
    "n=6\n",
    "print(n%3==0)"
   ]
  },
  {
   "cell_type": "code",
   "execution_count": 240,
   "metadata": {},
   "outputs": [
    {
     "name": "stdout",
     "output_type": "stream",
     "text": [
      "False\n",
      "True\n"
     ]
    }
   ],
   "source": [
    "    \n",
    "#52 to check the given number is diisible by 2 and 6\n",
    "\n",
    "n=21\n",
    "print(n%2==0 and n%6==0)\n",
    "\n",
    "\n",
    "n=24\n",
    "print(n%2==0 and n%6==0)\n",
    "\n"
   ]
  },
  {
   "cell_type": "code",
   "execution_count": 241,
   "metadata": {},
   "outputs": [
    {
     "name": "stdout",
     "output_type": "stream",
     "text": [
      "False\n",
      "True\n"
     ]
    }
   ],
   "source": [
    "# 53 to extract the last digit of the number and check it is divisible by 3\n",
    "\n",
    "n=1997\n",
    "rem=n%10\n",
    "print(rem%3==0)\n",
    "\n",
    "n=1996\n",
    "rem=n%10\n",
    "print(rem%3==0)\n"
   ]
  },
  {
   "cell_type": "code",
   "execution_count": 242,
   "metadata": {},
   "outputs": [
    {
     "name": "stdout",
     "output_type": "stream",
     "text": [
      "9\n"
     ]
    }
   ],
   "source": [
    "# 54 to extract the the last int by using the type casting\n",
    "\n",
    "s=2029\n",
    "n=str(s)\n",
    "print(int(n[-1]))\n",
    "\n",
    "\n",
    "\n",
    "\n"
   ]
  },
  {
   "cell_type": "code",
   "execution_count": 243,
   "metadata": {},
   "outputs": [
    {
     "name": "stdout",
     "output_type": "stream",
     "text": [
      "True\n",
      "False\n"
     ]
    }
   ],
   "source": [
    "# 55 to check the given number is greater than 150\n",
    "\n",
    "n=151\n",
    "print(n>150)\n",
    "\n",
    "n=140\n",
    "print(n>150)"
   ]
  },
  {
   "cell_type": "code",
   "execution_count": 244,
   "metadata": {},
   "outputs": [
    {
     "name": "stdout",
     "output_type": "stream",
     "text": [
      "True\n",
      "True\n",
      "False\n"
     ]
    }
   ],
   "source": [
    "# 56 to check the given number is greater than or equal to 100\n",
    "\n",
    "n=100\n",
    "print(n>=100)\n",
    "\n",
    "s=132\n",
    "print(s>=100)\n",
    "\n",
    "a=99\n",
    "print(a>=100)\n"
   ]
  },
  {
   "cell_type": "code",
   "execution_count": 245,
   "metadata": {},
   "outputs": [
    {
     "name": "stdout",
     "output_type": "stream",
     "text": [
      "True\n",
      "False\n",
      "True\n"
     ]
    }
   ],
   "source": [
    "# 57 to check the given number is greater than 16 and less than 24\n",
    "\n",
    "n=20\n",
    "print(n>16 and n<24)\n",
    "\n",
    "\n",
    "n=25\n",
    "print(n>16 and n<24)\n",
    "\n",
    "\n",
    "n=23\n",
    "print(16<n<24)\n",
    "\n"
   ]
  },
  {
   "cell_type": "code",
   "execution_count": 246,
   "metadata": {},
   "outputs": [
    {
     "name": "stdout",
     "output_type": "stream",
     "text": [
      "True\n",
      "False\n",
      "True\n"
     ]
    }
   ],
   "source": [
    "# 58 to check the number is less than or equal to 100\n",
    "\n",
    "n=100\n",
    "print(n<=100)\n",
    "\n",
    "\n",
    "n=101\n",
    "print(n<=100)\n",
    "\n",
    "\n",
    "n=90\n",
    "print(n<=100)\n"
   ]
  },
  {
   "cell_type": "code",
   "execution_count": 247,
   "metadata": {},
   "outputs": [
    {
     "name": "stdout",
     "output_type": "stream",
     "text": [
      "False\n",
      "True\n"
     ]
    }
   ],
   "source": [
    "# 59 to check the given is is even\n",
    "\n",
    "n=121\n",
    "print(n%2==0)\n",
    "\n",
    "\n",
    "n=256\n",
    "print(n%2==0)\n"
   ]
  },
  {
   "cell_type": "code",
   "execution_count": 248,
   "metadata": {},
   "outputs": [
    {
     "name": "stdout",
     "output_type": "stream",
     "text": [
      "True\n",
      "False\n"
     ]
    }
   ],
   "source": [
    "# 60 to check the number is odd\n",
    "\n",
    "n=233\n",
    "print(n%2!=0)\n",
    "\n",
    "\n",
    "n=122\n",
    "print(n%2!=0)\n"
   ]
  },
  {
   "cell_type": "code",
   "execution_count": null,
   "metadata": {},
   "outputs": [],
   "source": []
  },
  {
   "cell_type": "code",
   "execution_count": 249,
   "metadata": {},
   "outputs": [
    {
     "name": "stdout",
     "output_type": "stream",
     "text": [
      "strstrstrstrstr\n",
      "[10, 20, 30, 10, 20, 30, 10, 20, 30, 10, 20, 30, 10, 20, 30]\n",
      "('a', 'b', 'c', 'a', 'b', 'c', 'a', 'b', 'c', 'a', 'b', 'c')\n"
     ]
    }
   ],
   "source": [
    "# 62 to perform the replication of the string\n",
    "\n",
    "a=\"str\"\n",
    "print(a*5)\n",
    "\n",
    "a=[10,20,30]\n",
    "print(a*5)\n",
    "\n",
    "a=(\"a\",\"b\",\"c\")\n",
    "print(a*4)"
   ]
  },
  {
   "cell_type": "code",
   "execution_count": 250,
   "metadata": {},
   "outputs": [
    {
     "name": "stdout",
     "output_type": "stream",
     "text": [
      "False\n",
      "True\n"
     ]
    }
   ],
   "source": [
    "# 63 to check the given number is greater than 22 and divisible by 3\n",
    "\n",
    "n=29\n",
    "print(n>22 and n%3==0)\n",
    "\n",
    "\n",
    "s=24\n",
    "print(s>22 and s%3==0)\n"
   ]
  },
  {
   "cell_type": "code",
   "execution_count": 251,
   "metadata": {},
   "outputs": [
    {
     "name": "stdout",
     "output_type": "stream",
     "text": [
      "True\n",
      "False\n"
     ]
    }
   ],
   "source": [
    "# 64 to check the length of the collection is even or not\n",
    "\n",
    "s=\"python is a programming language\"\n",
    "print(len(s)%2==0)\n",
    "\n",
    "\n",
    "\n",
    "s=[1,2,3,4,5,6,90]\n",
    "print(len(s)%2==0)\n"
   ]
  },
  {
   "cell_type": "code",
   "execution_count": 252,
   "metadata": {},
   "outputs": [
    {
     "name": "stdout",
     "output_type": "stream",
     "text": [
      "True\n"
     ]
    }
   ],
   "source": [
    "# 65 to perform the length of the collection is less than 55 and greater than 16\n",
    "\n",
    "s=\"python is a highlevel programming language\"\n",
    "len(s)>16 and len(s)<55\n",
    "\n",
    "print(22<len(s)<55)"
   ]
  },
  {
   "cell_type": "code",
   "execution_count": 253,
   "metadata": {},
   "outputs": [
    {
     "name": "stdout",
     "output_type": "stream",
     "text": [
      "False\n",
      "15\n",
      "True\n"
     ]
    }
   ],
   "source": [
    "# 66)wap to perform the the given collection is divisible by 5 and it is odd\n",
    "\n",
    "s=\"python is a programming language\"\n",
    "print(len(s)%5==0 and len(s)%2!=0)\n",
    "\n",
    "\n",
    "t=\"programming lan\"\n",
    "print(len(t))\n",
    "print(len(t)%5==0 and len(t)%2!=0)\n",
    "\n"
   ]
  },
  {
   "cell_type": "code",
   "execution_count": 254,
   "metadata": {},
   "outputs": [
    {
     "name": "stdout",
     "output_type": "stream",
     "text": [
      "<class 'int'>\n"
     ]
    }
   ],
   "source": [
    "# 67 to extract the middle position of the given collection and either it is (str,list,tuple)\n",
    "\n",
    "l=\"hello\"\n",
    "l=len(l)//2\n",
    "print(type(l))\n",
    "\n"
   ]
  },
  {
   "cell_type": "code",
   "execution_count": 255,
   "metadata": {},
   "outputs": [
    {
     "name": "stdout",
     "output_type": "stream",
     "text": [
      "False\n",
      "True\n"
     ]
    }
   ],
   "source": [
    "#68 to check the given number is greater than 30 and less than 20 and divisible by 2\n",
    "\n",
    "n=25\n",
    "print(20<n<30 and n%2==0)\n",
    "\n",
    " \n",
    "n=28\n",
    "print(20<n<30 and n%2==0)"
   ]
  },
  {
   "cell_type": "code",
   "execution_count": 256,
   "metadata": {},
   "outputs": [
    {
     "name": "stdout",
     "output_type": "stream",
     "text": [
      "True\n",
      "False\n"
     ]
    }
   ],
   "source": [
    "# 69 to check the number is less than 120 and even\n",
    "\n",
    "n=108\n",
    "print(n<120 and n%2==0 )\n",
    "\n",
    "\n",
    "n=153\n",
    "print(n<120 and n%2==0)\n",
    "\n"
   ]
  },
  {
   "cell_type": "code",
   "execution_count": 257,
   "metadata": {},
   "outputs": [
    {
     "name": "stdout",
     "output_type": "stream",
     "text": [
      "True\n",
      "False\n"
     ]
    }
   ],
   "source": [
    "# 70 to check the number is even and present between 40 and 70\n",
    "\n",
    "n=56\n",
    "print(40<n<70 and n%2==0)\n",
    "\n",
    "\n",
    "n=61\n",
    "print(40<n<70 and n%2==0)\n"
   ]
  },
  {
   "cell_type": "code",
   "execution_count": 258,
   "metadata": {},
   "outputs": [
    {
     "name": "stdout",
     "output_type": "stream",
     "text": [
      "True\n"
     ]
    }
   ],
   "source": [
    "# 71 to check the number is odd and greater than 97\n",
    "n=101\n",
    "print(n>97 and n%2!=0)\n"
   ]
  },
  {
   "cell_type": "code",
   "execution_count": 259,
   "metadata": {},
   "outputs": [
    {
     "name": "stdout",
     "output_type": "stream",
     "text": [
      "True\n",
      "False\n"
     ]
    }
   ],
   "source": [
    "# 72 to check the number is greater than 46 and less than 122 and divisible by 4\n",
    "\n",
    "n=72\n",
    "a=46<n<122 and n%4==0\n",
    "print(a)\n",
    "\n",
    "n=45\n",
    "a=46<n<122 and n%4==0\n",
    "print(a)"
   ]
  },
  {
   "cell_type": "code",
   "execution_count": 260,
   "metadata": {},
   "outputs": [
    {
     "name": "stdout",
     "output_type": "stream",
     "text": [
      "True\n",
      "False\n"
     ]
    }
   ],
   "source": [
    "# 73 to check the given number is divisible by both 3 and 5,display value\n",
    "\n",
    "n=60\n",
    "a=n%3==0 and n%5==0\n",
    "print(a)\n",
    "\n",
    "n=40\n",
    "b=n%3==0 and n%5==0\n",
    "print(b)"
   ]
  },
  {
   "cell_type": "code",
   "execution_count": 261,
   "metadata": {},
   "outputs": [
    {
     "name": "stdout",
     "output_type": "stream",
     "text": [
      "True\n"
     ]
    }
   ],
   "source": [
    "#74 to check the number between 100 and 200 including the limit\n",
    "\n",
    "n=120\n",
    "a=100<n<200\n",
    "print(a)"
   ]
  },
  {
   "cell_type": "code",
   "execution_count": 262,
   "metadata": {},
   "outputs": [
    {
     "name": "stdout",
     "output_type": "stream",
     "text": [
      "False\n",
      "True\n"
     ]
    }
   ],
   "source": [
    "#75 to check the number between 100 and 200 \n",
    "\n",
    "n=51\n",
    "a=100<n<200\n",
    "print(a)\n",
    "\n",
    "n=190\n",
    "a=100<n<200\n",
    "print(a)"
   ]
  },
  {
   "cell_type": "code",
   "execution_count": 3,
   "metadata": {},
   "outputs": [
    {
     "name": "stdout",
     "output_type": "stream",
     "text": [
      "False\n",
      "True\n"
     ]
    }
   ],
   "source": [
    "#81)wae to check given number is not a even number\n",
    "n=20\n",
    "print(n%2!=0)\n",
    "n=21 \n",
    "print(n%2!=0) "
   ]
  },
  {
   "cell_type": "code",
   "execution_count": 4,
   "metadata": {},
   "outputs": [
    {
     "name": "stdout",
     "output_type": "stream",
     "text": [
      "True\n",
      "False\n"
     ]
    }
   ],
   "source": [
    "#82)wae to check given number is not a odd number\n",
    "n=40\n",
    "print(n%2==0) \n",
    "n=41\n",
    "print(n%2==0) "
   ]
  },
  {
   "cell_type": "code",
   "execution_count": 5,
   "metadata": {},
   "outputs": [
    {
     "name": "stdout",
     "output_type": "stream",
     "text": [
      "True\n",
      "False\n"
     ]
    }
   ],
   "source": [
    "#83)wae to check number is not divisble by 3\n",
    "n=31\n",
    "print(n%3!=0)\n",
    "n=33\n",
    "print(n%3!=0)\n",
    "\n",
    "\n"
   ]
  },
  {
   "cell_type": "code",
   "execution_count": 7,
   "metadata": {},
   "outputs": [
    {
     "name": "stdout",
     "output_type": "stream",
     "text": [
      "False\n",
      "True\n"
     ]
    }
   ],
   "source": [
    "#84)wae to check the given number is not divisible by 3 and 5\n",
    "n=15\n",
    "print(n%3!=0 and n%5!=0) \n",
    "n=38\n",
    "print(n%3!=0 and n%5!=0) "
   ]
  },
  {
   "cell_type": "code",
   "execution_count": 8,
   "metadata": {},
   "outputs": [
    {
     "name": "stdout",
     "output_type": "stream",
     "text": [
      "True\n",
      "False\n",
      "True\n"
     ]
    }
   ],
   "source": [
    "#85) wae to check the given number is not divisble 3 or 5\n",
    "n=33\n",
    "print(n%3!=0 or n%5!=0 )\n",
    "n=45\n",
    "print(n%3!=0 or n%5!=0 )\n",
    "n=11\n",
    "print(n%3!=0 or n%5!=0 )\n"
   ]
  },
  {
   "cell_type": "code",
   "execution_count": 10,
   "metadata": {},
   "outputs": [
    {
     "name": "stdout",
     "output_type": "stream",
     "text": [
      "False\n",
      "True\n"
     ]
    }
   ],
   "source": [
    "#86)wae to check given character ascii value is not divisible by 5\n",
    "char='A'\n",
    "print(ord(char)%5!=0) \n",
    "char='B'\n",
    "print(ord(char)%5!=0) "
   ]
  },
  {
   "cell_type": "code",
   "execution_count": 13,
   "metadata": {},
   "outputs": [
    {
     "name": "stdout",
     "output_type": "stream",
     "text": [
      "c\n",
      "X\n"
     ]
    }
   ],
   "source": [
    "#87)wae to check to find out the ascii character of given number\n",
    "n=99\n",
    "print(chr(n))\n",
    "n=88\n",
    "print(chr(n))\n"
   ]
  },
  {
   "cell_type": "code",
   "execution_count": 14,
   "metadata": {},
   "outputs": [
    {
     "name": "stdout",
     "output_type": "stream",
     "text": [
      "98\n",
      "99\n"
     ]
    }
   ],
   "source": [
    "#88)wae to check find out the ascii value in a given character\n",
    "char='b'\n",
    "print(ord(char))\n",
    "char='c'\n",
    "print(ord(char))"
   ]
  },
  {
   "cell_type": "code",
   "execution_count": 20,
   "metadata": {},
   "outputs": [
    {
     "name": "stdout",
     "output_type": "stream",
     "text": [
      "True\n",
      "False\n",
      "False\n",
      "False\n",
      "True\n"
     ]
    }
   ],
   "source": [
    "#89)wae to check given character is uppercase or not\n",
    "char='A'\n",
    "print('A'<= char<='Z')\n",
    "char='z'\n",
    "print('A'<= char<='Z')\n",
    "char='BC'\n",
    "print( len(char)==1 and 'A'<= char<='Z')\n",
    "char='Abcd'\n",
    "print( len(char)==1 and 'A'<= char<='Z')\n",
    "char='F'\n",
    "print( len(char)==1 and 65<= ord(char)<=90)\n",
    "\n",
    "\n",
    "\n",
    "\n"
   ]
  },
  {
   "cell_type": "code",
   "execution_count": 21,
   "metadata": {},
   "outputs": [
    {
     "name": "stdout",
     "output_type": "stream",
     "text": [
      "True\n",
      "False\n",
      "True\n"
     ]
    }
   ],
   "source": [
    "#90)wae to check the character is lowercase\n",
    "char='c'\n",
    "print('a'<= char<='z')\n",
    "char='BC'\n",
    "print( len(char)==1 and 'a'<= char<='z')\n",
    "char='g'\n",
    "print( len(char)==1 and 'a'<= char<='z')"
   ]
  }
 ],
 "metadata": {
  "kernelspec": {
   "display_name": "Python 3",
   "language": "python",
   "name": "python3"
  },
  "language_info": {
   "codemirror_mode": {
    "name": "ipython",
    "version": 3
   },
   "file_extension": ".py",
   "mimetype": "text/x-python",
   "name": "python",
   "nbconvert_exporter": "python",
   "pygments_lexer": "ipython3",
   "version": "3.11.4"
  },
  "orig_nbformat": 4
 },
 "nbformat": 4,
 "nbformat_minor": 2
}
