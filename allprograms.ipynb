{
 "cells": [
  {
   "cell_type": "code",
   "execution_count": 1,
   "metadata": {},
   "outputs": [
    {
     "name": "stdout",
     "output_type": "stream",
     "text": [
      "hello world\n"
     ]
    }
   ],
   "source": [
    "#1)wap to print \"hello world\" in shell\n",
    "print(\"hello world\")"
   ]
  },
  {
   "cell_type": "code",
   "execution_count": 2,
   "metadata": {},
   "outputs": [
    {
     "name": "stdout",
     "output_type": "stream",
     "text": [
      "hello\n"
     ]
    }
   ],
   "source": [
    "#2)wap to print \"hello world\".\n",
    "print(\"hello\")"
   ]
  },
  {
   "cell_type": "code",
   "execution_count": 3,
   "metadata": {},
   "outputs": [
    {
     "name": "stdout",
     "output_type": "stream",
     "text": [
      "The values of a= 150  b= 120  c= 250\n"
     ]
    }
   ],
   "source": [
    "#3)wap to initialize multivariables and assigning multivalues corresponding to 150,120,250.\n",
    "\n",
    "a,b,c=150,120,250\n",
    "print(\"The values of a=\",a,\" b=\",b,\" c=\",c)\n"
   ]
  },
  {
   "cell_type": "code",
   "execution_count": 4,
   "metadata": {},
   "outputs": [
    {
     "name": "stdout",
     "output_type": "stream",
     "text": [
      "10\n",
      "10.6\n",
      "(10+3j)\n",
      "True\n",
      "b'1010'\n",
      "None\n",
      "(10, 20, 30, 40)\n",
      "(10, 20, 30, 40)\n",
      "[10, 20, 30, 40]\n",
      "{40, 10, 20, 30}\n",
      "{10: 20, 30: 40}\n"
     ]
    }
   ],
   "source": [
    "# 4)wap to to initialize  a var and different DT values\n",
    "\n",
    "a=10\n",
    "print(a)\n",
    "a=10.6\n",
    "print(a)\n",
    "a=10+3j\n",
    "print(a)\n",
    "a=True\n",
    "print(a)\n",
    "a=b'1010'\n",
    "print(a)\n",
    "a=None\n",
    "print(a)\n",
    "a=10,20,30,40\n",
    "print(a)\n",
    "a=(10,20,30,40)\n",
    "print(a)\n",
    "a=[10,20,30,40]\n",
    "print(a)\n",
    "a={10,20,30,40}\n",
    "print(a)\n",
    "a={10:20,30:40}\n",
    "print(a)"
   ]
  },
  {
   "cell_type": "code",
   "execution_count": 5,
   "metadata": {},
   "outputs": [
    {
     "name": "stdout",
     "output_type": "stream",
     "text": [
      "<class 'set'>\n"
     ]
    }
   ],
   "source": [
    "#5)wap to print type of the data of the given value\n",
    "a={1,2,3,4,7,8}\n",
    "print(type(a))"
   ]
  },
  {
   "cell_type": "code",
   "execution_count": 6,
   "metadata": {},
   "outputs": [
    {
     "name": "stdout",
     "output_type": "stream",
     "text": [
      "140714523419720\n"
     ]
    }
   ],
   "source": [
    "#6)wap to print address of the memory block\n",
    "a=10\n",
    "print(id(a))"
   ]
  },
  {
   "cell_type": "code",
   "execution_count": 7,
   "metadata": {},
   "outputs": [
    {
     "name": "stdout",
     "output_type": "stream",
     "text": [
      "the age of mooon is 22\n"
     ]
    }
   ],
   "source": [
    "#7)wap to print your details first store you details then extract them\n",
    "#3 concepts to fetch\n",
    "#variable concep\n",
    "name=\"moon\"\n",
    "age=22\n",
    "phone=9876543216                              # need to use variable for every detail to fetch\n",
    "email=\"sukihime@gmail.com\"\n",
    "\n",
    "#list concep\n",
    "moon=['moon',22,9876543215,\"sukihime@gmail.com\"]          # can befetch using indexing but need to remember each indexposition of details\n",
    "\n",
    "#dict concep\n",
    "moon={\"Name\": \"moon\", \"age\": 22,\"Phone Number\":9876543216}\n",
    "print(\"the age of mooon is\",moon[\"age\"])\n",
    "  \n"
   ]
  },
  {
   "cell_type": "code",
   "execution_count": 8,
   "metadata": {},
   "outputs": [
    {
     "name": "stdout",
     "output_type": "stream",
     "text": [
      "haii hello\n",
      "hello haii\n"
     ]
    }
   ],
   "source": [
    "#8)wap to swap the variablesn with using temp var\n",
    "x=\"haii\"\n",
    "y=\"hello\"\n",
    "print(x,y)\n",
    "temp=x\n",
    "x=y\n",
    "y=temp\n",
    "print(x,y)"
   ]
  },
  {
   "cell_type": "code",
   "execution_count": 9,
   "metadata": {},
   "outputs": [
    {
     "name": "stdout",
     "output_type": "stream",
     "text": [
      "[1, 2, 3, 4] (10, 20, 30, 40)\n",
      "(10, 20, 30, 40) [1, 2, 3, 4]\n"
     ]
    }
   ],
   "source": [
    "#9)wap to swap the variablesn without using temp var\n",
    "m=[1,2,3,4]\n",
    "n=(10,20,30,40)\n",
    "print(m,n)\n",
    "m,n=n,m\n",
    "print(m,n)"
   ]
  },
  {
   "cell_type": "code",
   "execution_count": 10,
   "metadata": {},
   "outputs": [
    {
     "name": "stdout",
     "output_type": "stream",
     "text": [
      "547\n",
      "{1: 200}\n",
      "(1, 2, 3, 4)\n",
      "(1, 2, 3, 4, 20, 30, 40)\n"
     ]
    },
    {
     "ename": "NameError",
     "evalue": "name 'a' is not defined",
     "output_type": "error",
     "traceback": [
      "\u001b[1;31m---------------------------------------------------------------------------\u001b[0m",
      "\u001b[1;31mNameError\u001b[0m                                 Traceback (most recent call last)",
      "Cell \u001b[1;32mIn[10], line 11\u001b[0m\n\u001b[0;32m      9\u001b[0m \u001b[39mprint\u001b[39m(a)\n\u001b[0;32m     10\u001b[0m \u001b[39mdel\u001b[39;00m a     \u001b[39m#deletion\u001b[39;00m\n\u001b[1;32m---> 11\u001b[0m \u001b[39mprint\u001b[39m(a)\n",
      "\u001b[1;31mNameError\u001b[0m: name 'a' is not defined"
     ]
    }
   ],
   "source": [
    "#10)wap to initialize a value and point it, then reinitialize the new value in to the existing  variable\n",
    "a={1:547}  #initialize\n",
    "print(a[1]) #fetch\n",
    "a[1]=200   #modify\n",
    "print(a)\n",
    "a=1,2,3,4   #reinitialize\n",
    "print(a)\n",
    "a+=20,30,40  #concat\n",
    "print(a)\n",
    "del a     #deletion\n",
    "print(a)"
   ]
  },
  {
   "cell_type": "code",
   "execution_count": null,
   "metadata": {},
   "outputs": [],
   "source": [
    "#11)Was to convert single to multi value data\n",
    "a=10\n",
    "a=str(a)\n",
    "print(a)"
   ]
  },
  {
   "cell_type": "code",
   "execution_count": null,
   "metadata": {},
   "outputs": [],
   "source": [
    "#12)Wap to concat the two multivalue data types (str,list,tuple)\n",
    "str\n",
    "x=\"hello\"\n",
    "x+='world'\n",
    "print(x)\n",
    "\n",
    "list\n",
    "y=[10,20,30]\n",
    "y+=[40,50,60]\n",
    "print(y)\n",
    "\n",
    "tuple\n",
    "s=(10,20,30)\n",
    "s+=(40,50)\n",
    "print(s)"
   ]
  },
  {
   "cell_type": "code",
   "execution_count": null,
   "metadata": {},
   "outputs": [],
   "source": [
    "#13)Was to check the length of collection\n",
    "s={10,20,30,40,50}\n",
    "\n",
    "print(len(s))"
   ]
  },
  {
   "cell_type": "code",
   "execution_count": 1,
   "metadata": {},
   "outputs": [
    {
     "name": "stdout",
     "output_type": "stream",
     "text": [
      "30\n"
     ]
    }
   ],
   "source": [
    "#14)Wap to check find out the middle value of the given collection\n",
    "l=[10,20,30,40]\n",
    "print(l[len(l)//2])"
   ]
  },
  {
   "cell_type": "code",
   "execution_count": null,
   "metadata": {},
   "outputs": [],
   "source": [
    "#15)Was to concat the new string into starting of given string\n",
    "a=\"how r u\"\n",
    "b=\"haii\"\n",
    "print(b+a)"
   ]
  },
  {
   "cell_type": "code",
   "execution_count": null,
   "metadata": {},
   "outputs": [],
   "source": [
    "#16)Was to concat the new string into ending of given string\n",
    "\n",
    "a=\"str\"\n",
    "b=\"ing\"\n",
    "a=a+b\n",
    "print(a)"
   ]
  },
  {
   "cell_type": "code",
   "execution_count": null,
   "metadata": {},
   "outputs": [],
   "source": [
    "#17)Was to concat the new string into middle of given string\n",
    "\n",
    "a=\"hello world\"\n",
    "b=\"bye\"\n",
    "print(a[0:6]+b+a[5:])\n",
    "\n"
   ]
  },
  {
   "cell_type": "code",
   "execution_count": null,
   "metadata": {},
   "outputs": [
    {
     "name": "stdout",
     "output_type": "stream",
     "text": [
      "pyspiders\n",
      "i\n",
      "pyspIders\n"
     ]
    }
   ],
   "source": [
    "#18)wap to modify the new char in to the middle of given string\n",
    "s=\"pyspiders\"\n",
    "print(s)\n",
    "t=s[len(s)//2]\n",
    "print(t)\n",
    "s=s[0:len(s)//2]+\"I\"+s[(len(s)//2)+1:]\n",
    "print(s)"
   ]
  },
  {
   "cell_type": "code",
   "execution_count": null,
   "metadata": {},
   "outputs": [],
   "source": [
    "#19)Was to modify the sequence of character in given string\n",
    "s=\"pyspiders\"\n",
    "print(s[0:3]+\"PID\"+s[6:])"
   ]
  },
  {
   "cell_type": "code",
   "execution_count": null,
   "metadata": {},
   "outputs": [
    {
     "name": "stdout",
     "output_type": "stream",
     "text": [
      "pyspiders\n",
      "pyspiDers\n"
     ]
    }
   ],
   "source": [
    "#20)Was to delete the specific chaaracter in given string\n",
    "\n",
    "s=\"pyspiders\"\n",
    "print(s)\n",
    "print(s[:-4]+'D'+s[-3:])"
   ]
  },
  {
   "cell_type": "code",
   "execution_count": null,
   "metadata": {},
   "outputs": [
    {
     "name": "stdout",
     "output_type": "stream",
     "text": [
      "pypiders\n"
     ]
    }
   ],
   "source": [
    "#21)was to delete a specific character in a given string\n",
    "s=\"pyspiders\"\n",
    "print(s[:2]+s[3:])\n"
   ]
  },
  {
   "cell_type": "code",
   "execution_count": null,
   "metadata": {},
   "outputs": [
    {
     "name": "stdout",
     "output_type": "stream",
     "text": [
      "pysers\n"
     ]
    }
   ],
   "source": [
    "#22)was to delete sequence of characters in a given string\n",
    "s='pyspiders'\n",
    "print(s[:3]+s[-3:])"
   ]
  },
  {
   "cell_type": "code",
   "execution_count": null,
   "metadata": {},
   "outputs": [],
   "source": [
    "#23)was to concat new string into a specific potion of given string\n",
    "s=\"hai are you\"\n",
    "print(s[:4]+'hai'+s[3:])"
   ]
  },
  {
   "cell_type": "code",
   "execution_count": null,
   "metadata": {},
   "outputs": [
    {
     "name": "stdout",
     "output_type": "stream",
     "text": [
      "[4, 5, 7, 1, 2, 3]\n"
     ]
    }
   ],
   "source": [
    "#24)was to concat new value into starting of given list\n",
    "s=[1,2,3]\n",
    "print([4,5,7]+s)\n"
   ]
  },
  {
   "cell_type": "code",
   "execution_count": null,
   "metadata": {},
   "outputs": [
    {
     "name": "stdout",
     "output_type": "stream",
     "text": [
      "[1, 2, 3, 4, 5, 7]\n"
     ]
    }
   ],
   "source": [
    "#25)was to concat new value into ending  of given list\n",
    "s=[1,2,3]\n",
    "print(s+[4,5,7])"
   ]
  },
  {
   "cell_type": "code",
   "execution_count": null,
   "metadata": {},
   "outputs": [
    {
     "name": "stdout",
     "output_type": "stream",
     "text": [
      "[10, 10.12, 'a', 'b', True, 'hai']\n"
     ]
    }
   ],
   "source": [
    "#26)was to concat new value into middle of given list\n",
    "s=[10,10.12,True ,'hai']\n",
    "s[len(s)//2:len(s)//2]=['a','b']\n",
    "print(s)"
   ]
  },
  {
   "cell_type": "code",
   "execution_count": null,
   "metadata": {},
   "outputs": [],
   "source": [
    "#27)was to concat new value into specific postion of given list\n",
    "s=[10,10.12,True ,'hai']\n",
    "s[2:2]=['hai']\n",
    "print(s)"
   ]
  },
  {
   "cell_type": "code",
   "execution_count": null,
   "metadata": {},
   "outputs": [],
   "source": [
    "#28)was to modify new value into specific postion of given list\n",
    "s=[10,10.12,True ,'hai']\n",
    "s[1]=True\n",
    "print(s)"
   ]
  },
  {
   "cell_type": "code",
   "execution_count": null,
   "metadata": {},
   "outputs": [],
   "source": [
    "#29)was to modify new value into starting postion of given list\n",
    "s=[10,10.12,True ,'hai']\n",
    "s[0]={'a':20}\n",
    "print(s)"
   ]
  },
  {
   "cell_type": "code",
   "execution_count": null,
   "metadata": {},
   "outputs": [],
   "source": [
    "#30)was to modify new value into ending value of given list\n",
    "s=[10,10.12,True ,'hai']\n",
    "s[-1]='qspiders'\n",
    "print(s)"
   ]
  },
  {
   "cell_type": "code",
   "execution_count": null,
   "metadata": {},
   "outputs": [
    {
     "name": "stdout",
     "output_type": "stream",
     "text": [
      "[10, 10.6, 'hello', 'haii']\n"
     ]
    }
   ],
   "source": [
    "#31)wap to modify the new value into middile of list\n",
    "l=[10,10.6,True,'haii']\n",
    "l[len(l)//2]=\"hello\"\n",
    "print(l)\n"
   ]
  },
  {
   "cell_type": "code",
   "execution_count": null,
   "metadata": {},
   "outputs": [
    {
     "name": "stdout",
     "output_type": "stream",
     "text": [
      "['a', 'b', 'c', 5, 6, 7, 8]\n"
     ]
    }
   ],
   "source": [
    "#32)wap to modify the first 4 positions of given list\n",
    "l=[1,2,3,4,5,6,7,8]\n",
    "l[0:4]=['a','b','c',]\n",
    "print(l)"
   ]
  },
  {
   "cell_type": "code",
   "execution_count": null,
   "metadata": {},
   "outputs": [
    {
     "name": "stdout",
     "output_type": "stream",
     "text": [
      "[1, 2, 3, 4, 5, 6, 7, 8, 9]\n",
      "[2, 4, 6, 8]\n",
      "[1, 20, 3, 40, 5, 60, 7, 80, 9]\n",
      "[1, 2, 4, 8, 9]\n",
      "[1, 3, 4, 5, 16, 7, 64, 6, 81, 15]\n"
     ]
    }
   ],
   "source": [
    "#33)wap to modify the sequence of values in the given list\n",
    "d=[1,2,3,4,5,6,7,8,9]\n",
    "print(d)\n",
    "print(d[1: :2])\n",
    "d[1: :2]=[20,40,60,80]\n",
    "print(d)\n",
    "\n",
    "d=[1,3,2,5,4,7,8,6,9,15]\n",
    "print(d[ : :2])\n",
    "d[ : :2]=[d[0]**2,d[2]**2,d[4]**2,d[6]**2,d[8]**2,]\n",
    "print(d)"
   ]
  },
  {
   "cell_type": "code",
   "execution_count": null,
   "metadata": {},
   "outputs": [
    {
     "name": "stdout",
     "output_type": "stream",
     "text": [
      "[1, 2, 3, 4, 5]\n",
      "[1, 2, 3, 5]\n"
     ]
    }
   ],
   "source": [
    "#34)wap to delete the values in specific position in the given list\n",
    "s=[1,2,3,4,5]\n",
    "print(s)\n",
    "del s[3]\n",
    "print(s)"
   ]
  },
  {
   "cell_type": "code",
   "execution_count": null,
   "metadata": {},
   "outputs": [
    {
     "name": "stdout",
     "output_type": "stream",
     "text": [
      "[1, 2, 3, 4, 5]\n",
      "[1, 2, 3, 4]\n"
     ]
    }
   ],
   "source": [
    "#35)wap to delete the values at the ending of list\n",
    "s=[1,2,3,4,5]\n",
    "print(s)\n",
    "del s[-1]\n",
    "print(s)"
   ]
  },
  {
   "cell_type": "code",
   "execution_count": null,
   "metadata": {},
   "outputs": [
    {
     "name": "stdout",
     "output_type": "stream",
     "text": [
      "[1, 3, 5, 7, 9, 11]\n",
      "[3, 5, 7, 9, 11]\n"
     ]
    }
   ],
   "source": [
    "#36)wap to delete new value at startinf of list\n",
    "s=[1,3,5,7,9,11]\n",
    "print(s)\n",
    "s[0:1]=[]\n",
    "print(s)"
   ]
  },
  {
   "cell_type": "code",
   "execution_count": null,
   "metadata": {},
   "outputs": [
    {
     "name": "stdout",
     "output_type": "stream",
     "text": [
      "[1, 2, 3, 4, 5, 6]\n",
      "[1, 2, 3, 5, 6]\n"
     ]
    }
   ],
   "source": [
    "#37)wap to delete new value in the middle of the list\n",
    "s=[1,2,3,4,5,6]\n",
    "print(s)\n",
    "del s[len(s)//2]\n",
    "print(s)"
   ]
  },
  {
   "cell_type": "code",
   "execution_count": null,
   "metadata": {},
   "outputs": [
    {
     "name": "stdout",
     "output_type": "stream",
     "text": [
      "(1, 2, 3, 4, 5)\n",
      "('a', 'b', 1, 2, 3, 4, 5)\n"
     ]
    }
   ],
   "source": [
    "#38)wap to concat the value at starting of tuple\n",
    "t=(1,2,3,4,5)\n",
    "print(t)\n",
    "t=('a','b')+t\n",
    "print(t)"
   ]
  },
  {
   "cell_type": "code",
   "execution_count": null,
   "metadata": {},
   "outputs": [
    {
     "name": "stdout",
     "output_type": "stream",
     "text": [
      "(1, 2, 3, 4, 5)\n",
      "(1, 2, 'a', 'b', 3, 4, 5)\n"
     ]
    }
   ],
   "source": [
    "#39)wap to concat the value at the middle of tuple.\n",
    "t=(1,2,3,4,5)\n",
    "print(t)\n",
    "t=t[0:2]+('a','b')+t[2:]\n",
    "print(t)"
   ]
  },
  {
   "cell_type": "code",
   "execution_count": null,
   "metadata": {},
   "outputs": [
    {
     "name": "stdout",
     "output_type": "stream",
     "text": [
      "(1, 2, 3, 4, 5)\n",
      "(1, 2, 3, 4, 5, 'a', 'b')\n"
     ]
    }
   ],
   "source": [
    "#40)wap to concatenate the new value at the ending of tuple\n",
    "t=(1,2,3,4,5)\n",
    "print(t)\n",
    "t+=('a','b')\n",
    "print(t)"
   ]
  },
  {
   "cell_type": "code",
   "execution_count": null,
   "metadata": {},
   "outputs": [],
   "source": [
    "#41)was to modify sequence values in a tuple\n",
    "t=(10,10.12,True,50)\n",
    "print(t[0:1]+('modified',))"
   ]
  },
  {
   "cell_type": "code",
   "execution_count": null,
   "metadata": {},
   "outputs": [],
   "source": [
    "#42)was to delete sequence of values in a tuple \n",
    "t=(10,10.12,True,'string',[10,True])\n",
    "print(t[:1]+t[-1:])"
   ]
  },
  {
   "cell_type": "code",
   "execution_count": null,
   "metadata": {},
   "outputs": [],
   "source": [
    "#43)was to concat the new value into the set\n",
    "s={10,20,30}\n",
    "s|={40,50}\n",
    "print(s)"
   ]
  },
  {
   "cell_type": "code",
   "execution_count": null,
   "metadata": {},
   "outputs": [],
   "source": [
    "#44)was to delete specific value in a set\n",
    "s={10,20,30}\n",
    "s-={20}\n",
    "print(s)"
   ]
  },
  {
   "cell_type": "code",
   "execution_count": null,
   "metadata": {},
   "outputs": [],
   "source": [
    "#45)was to concat new value and key to dict\n",
    "d={10:20,20:30,40:50}\n",
    "d[50]=309\n",
    "print(d) #to add single value\n",
    "e={60:70,80:90}\n",
    "d|=e\n",
    "print(d) #to add multiple values at a time"
   ]
  },
  {
   "cell_type": "code",
   "execution_count": null,
   "metadata": {},
   "outputs": [],
   "source": [
    "#46)was to delete specific key and value in the given dict\n",
    "d={10:20,20:30,40:50}\n",
    "del d[20]\n",
    "print(d)"
   ]
  },
  {
   "cell_type": "code",
   "execution_count": null,
   "metadata": {},
   "outputs": [],
   "source": [
    "#47)was to specific value in a given dict\n",
    "d={10:20,20:30,40:50}\n",
    "d[10]=200\n",
    "print(d)"
   ]
  },
  {
   "cell_type": "code",
   "execution_count": null,
   "metadata": {},
   "outputs": [],
   "source": [
    "#48)was to concat list value and tuple values by using typecasting\n",
    "l=[10,10.12,True]\n",
    "t=(\"string\",'a','b')\n",
    "print(l+list(t))"
   ]
  },
  {
   "cell_type": "code",
   "execution_count": null,
   "metadata": {},
   "outputs": [],
   "source": [
    "#49)was to concat list and tuple value without using typecasting\n",
    "l=[10,10.12,True]\n",
    "t=(\"string\",'a','b')\n",
    "l+=t\n",
    "print(l)"
   ]
  },
  {
   "cell_type": "code",
   "execution_count": null,
   "metadata": {},
   "outputs": [
    {
     "name": "stdout",
     "output_type": "stream",
     "text": [
      "[10, 20, 30, 40, 'a', 'b', 'c', 'd']\n"
     ]
    }
   ],
   "source": [
    "\n",
    "# 50 to concat list and tuple by using the compound assignment\n",
    "\n",
    "l=[10,20,30,40]\n",
    "l+=(\"a\",\"b\",\"c\",\"d\")\n",
    "print(l)\n"
   ]
  },
  {
   "cell_type": "code",
   "execution_count": null,
   "metadata": {},
   "outputs": [
    {
     "name": "stdout",
     "output_type": "stream",
     "text": [
      "True\n"
     ]
    }
   ],
   "source": [
    "# 51 to check given number is divisible by the 3\n",
    "\n",
    "n=6\n",
    "print(n%3==0)"
   ]
  },
  {
   "cell_type": "code",
   "execution_count": null,
   "metadata": {},
   "outputs": [
    {
     "name": "stdout",
     "output_type": "stream",
     "text": [
      "False\n",
      "True\n"
     ]
    }
   ],
   "source": [
    "    \n",
    "#52 to check the given number is diisible by 2 and 6\n",
    "\n",
    "n=21\n",
    "print(n%2==0 and n%6==0)\n",
    "\n",
    "\n",
    "n=24\n",
    "print(n%2==0 and n%6==0)\n",
    "\n"
   ]
  },
  {
   "cell_type": "code",
   "execution_count": null,
   "metadata": {},
   "outputs": [
    {
     "name": "stdout",
     "output_type": "stream",
     "text": [
      "False\n",
      "True\n"
     ]
    }
   ],
   "source": [
    "# 53 to extract the last digit of the number and check it is divisible by 3\n",
    "\n",
    "n=1997\n",
    "rem=n%10\n",
    "print(rem%3==0)\n",
    "\n",
    "n=1996\n",
    "rem=n%10\n",
    "print(rem%3==0)\n"
   ]
  },
  {
   "cell_type": "code",
   "execution_count": null,
   "metadata": {},
   "outputs": [
    {
     "name": "stdout",
     "output_type": "stream",
     "text": [
      "9\n"
     ]
    }
   ],
   "source": [
    "# 54 to extract the the last int by using the type casting\n",
    "\n",
    "s=2029\n",
    "n=str(s)\n",
    "print(int(n[-1]))\n",
    "\n",
    "\n",
    "\n",
    "\n"
   ]
  },
  {
   "cell_type": "code",
   "execution_count": null,
   "metadata": {},
   "outputs": [
    {
     "name": "stdout",
     "output_type": "stream",
     "text": [
      "True\n",
      "False\n"
     ]
    }
   ],
   "source": [
    "# 55 to check the given number is greater than 150\n",
    "\n",
    "n=151\n",
    "print(n>150)\n",
    "\n",
    "n=140\n",
    "print(n>150)"
   ]
  },
  {
   "cell_type": "code",
   "execution_count": null,
   "metadata": {},
   "outputs": [
    {
     "name": "stdout",
     "output_type": "stream",
     "text": [
      "True\n",
      "True\n",
      "False\n"
     ]
    }
   ],
   "source": [
    "# 56 to check the given number is greater than or equal to 100\n",
    "\n",
    "n=100\n",
    "print(n>=100)\n",
    "\n",
    "s=132\n",
    "print(s>=100)\n",
    "\n",
    "a=99\n",
    "print(a>=100)\n"
   ]
  },
  {
   "cell_type": "code",
   "execution_count": null,
   "metadata": {},
   "outputs": [
    {
     "name": "stdout",
     "output_type": "stream",
     "text": [
      "True\n",
      "False\n",
      "True\n"
     ]
    }
   ],
   "source": [
    "# 57 to check the given number is greater than 16 and less than 24\n",
    "\n",
    "n=20\n",
    "print(n>16 and n<24)\n",
    "\n",
    "\n",
    "n=25\n",
    "print(n>16 and n<24)\n",
    "\n",
    "\n",
    "n=23\n",
    "print(16<n<24)\n",
    "\n"
   ]
  },
  {
   "cell_type": "code",
   "execution_count": null,
   "metadata": {},
   "outputs": [
    {
     "name": "stdout",
     "output_type": "stream",
     "text": [
      "True\n",
      "False\n",
      "True\n"
     ]
    }
   ],
   "source": [
    "# 58 to check the number is less than or equal to 100\n",
    "\n",
    "n=100\n",
    "print(n<=100)\n",
    "\n",
    "\n",
    "n=101\n",
    "print(n<=100)\n",
    "\n",
    "\n",
    "n=90\n",
    "print(n<=100)\n"
   ]
  },
  {
   "cell_type": "code",
   "execution_count": null,
   "metadata": {},
   "outputs": [
    {
     "name": "stdout",
     "output_type": "stream",
     "text": [
      "False\n",
      "True\n"
     ]
    }
   ],
   "source": [
    "# 59 to check the given is is even\n",
    "\n",
    "n=121\n",
    "print(n%2==0)\n",
    "\n",
    "\n",
    "n=256\n",
    "print(n%2==0)\n"
   ]
  },
  {
   "cell_type": "code",
   "execution_count": null,
   "metadata": {},
   "outputs": [
    {
     "name": "stdout",
     "output_type": "stream",
     "text": [
      "True\n",
      "False\n"
     ]
    }
   ],
   "source": [
    "# 60 to check the number is odd\n",
    "\n",
    "n=233\n",
    "print(n%2!=0)\n",
    "\n",
    "\n",
    "n=122\n",
    "print(n%2!=0)\n"
   ]
  },
  {
   "cell_type": "code",
   "execution_count": null,
   "metadata": {},
   "outputs": [
    {
     "name": "stdout",
     "output_type": "stream",
     "text": [
      "True\n",
      "False\n"
     ]
    }
   ],
   "source": [
    "# 61)wap to check the number is odd\n",
    "\n",
    "n=233\n",
    "print(n%2!=0)\n",
    "\n",
    "\n",
    "n=122\n",
    "print(n%2!=0)"
   ]
  },
  {
   "cell_type": "code",
   "execution_count": null,
   "metadata": {},
   "outputs": [
    {
     "name": "stdout",
     "output_type": "stream",
     "text": [
      "strstrstrstrstr\n",
      "[10, 20, 30, 10, 20, 30, 10, 20, 30, 10, 20, 30, 10, 20, 30]\n",
      "('a', 'b', 'c', 'a', 'b', 'c', 'a', 'b', 'c', 'a', 'b', 'c')\n"
     ]
    }
   ],
   "source": [
    "# 62 to perform the replication of the string\n",
    "\n",
    "a=\"str\"\n",
    "print(a*5)\n",
    "\n",
    "a=[10,20,30]\n",
    "print(a*5)\n",
    "\n",
    "a=(\"a\",\"b\",\"c\")\n",
    "print(a*4)"
   ]
  },
  {
   "cell_type": "code",
   "execution_count": null,
   "metadata": {},
   "outputs": [
    {
     "name": "stdout",
     "output_type": "stream",
     "text": [
      "False\n",
      "True\n"
     ]
    }
   ],
   "source": [
    "# 63 to check the given number is greater than 22 and divisible by 3\n",
    "\n",
    "n=29\n",
    "print(n>22 and n%3==0)\n",
    "\n",
    "\n",
    "s=24\n",
    "print(s>22 and s%3==0)\n"
   ]
  },
  {
   "cell_type": "code",
   "execution_count": null,
   "metadata": {},
   "outputs": [
    {
     "name": "stdout",
     "output_type": "stream",
     "text": [
      "True\n",
      "False\n"
     ]
    }
   ],
   "source": [
    "# 64 to check the length of the collection is even or not\n",
    "\n",
    "s=\"python is a programming language\"\n",
    "print(len(s)%2==0)\n",
    "\n",
    "\n",
    "\n",
    "s=[1,2,3,4,5,6,90]\n",
    "print(len(s)%2==0)\n"
   ]
  },
  {
   "cell_type": "code",
   "execution_count": null,
   "metadata": {},
   "outputs": [
    {
     "name": "stdout",
     "output_type": "stream",
     "text": [
      "True\n"
     ]
    }
   ],
   "source": [
    "# 65 to perform the length of the collection is less than 55 and greater than 16\n",
    "\n",
    "s=\"python is a highlevel programming language\"\n",
    "len(s)>16 and len(s)<55\n",
    "\n",
    "print(22<len(s)<55)"
   ]
  },
  {
   "cell_type": "code",
   "execution_count": null,
   "metadata": {},
   "outputs": [
    {
     "name": "stdout",
     "output_type": "stream",
     "text": [
      "False\n",
      "15\n",
      "True\n"
     ]
    }
   ],
   "source": [
    "# 66)wap to perform the the given collection is divisible by 5 and it is odd\n",
    "\n",
    "s=\"python is a programming language\"\n",
    "print(len(s)%5==0 and len(s)%2!=0)\n",
    "\n",
    "\n",
    "t=\"programming lan\"\n",
    "print(len(t))\n",
    "print(len(t)%5==0 and len(t)%2!=0)\n",
    "\n"
   ]
  },
  {
   "cell_type": "code",
   "execution_count": null,
   "metadata": {},
   "outputs": [
    {
     "name": "stdout",
     "output_type": "stream",
     "text": [
      "<class 'int'>\n"
     ]
    }
   ],
   "source": [
    "# 67 to extract the middle position of the given collection and either it is (str,list,tuple)\n",
    "\n",
    "l=\"hello\"\n",
    "l=len(l)//2\n",
    "print(type(l))\n",
    "\n"
   ]
  },
  {
   "cell_type": "code",
   "execution_count": null,
   "metadata": {},
   "outputs": [
    {
     "name": "stdout",
     "output_type": "stream",
     "text": [
      "False\n",
      "True\n"
     ]
    }
   ],
   "source": [
    "#68 to check the given number is greater than 30 and less than 20 and divisible by 2\n",
    "\n",
    "n=25\n",
    "print(20<n<30 and n%2==0)\n",
    "\n",
    " \n",
    "n=28\n",
    "print(20<n<30 and n%2==0)"
   ]
  },
  {
   "cell_type": "code",
   "execution_count": null,
   "metadata": {},
   "outputs": [
    {
     "name": "stdout",
     "output_type": "stream",
     "text": [
      "True\n",
      "False\n"
     ]
    }
   ],
   "source": [
    "# 69 to check the number is less than 120 and even\n",
    "\n",
    "n=108\n",
    "print(n<120 and n%2==0 )\n",
    "\n",
    "\n",
    "n=153\n",
    "print(n<120 and n%2==0)\n",
    "\n"
   ]
  },
  {
   "cell_type": "code",
   "execution_count": null,
   "metadata": {},
   "outputs": [
    {
     "name": "stdout",
     "output_type": "stream",
     "text": [
      "True\n",
      "False\n"
     ]
    }
   ],
   "source": [
    "# 70 to check the number is even and present between 40 and 70\n",
    "\n",
    "n=56\n",
    "print(40<n<70 and n%2==0)\n",
    "\n",
    "\n",
    "n=61\n",
    "print(40<n<70 and n%2==0)\n"
   ]
  },
  {
   "cell_type": "code",
   "execution_count": null,
   "metadata": {},
   "outputs": [
    {
     "name": "stdout",
     "output_type": "stream",
     "text": [
      "True\n"
     ]
    }
   ],
   "source": [
    "# 71 to check the number is odd and greater than 97\n",
    "n=101\n",
    "print(n>97 and n%2!=0)\n"
   ]
  },
  {
   "cell_type": "code",
   "execution_count": null,
   "metadata": {},
   "outputs": [
    {
     "name": "stdout",
     "output_type": "stream",
     "text": [
      "True\n",
      "False\n"
     ]
    }
   ],
   "source": [
    "# 72 to check the number is greater than 46 and less than 122 and divisible by 4\n",
    "\n",
    "n=72\n",
    "a=46<n<122 and n%4==0\n",
    "print(a)\n",
    "\n",
    "n=45\n",
    "a=46<n<122 and n%4==0\n",
    "print(a)"
   ]
  },
  {
   "cell_type": "code",
   "execution_count": null,
   "metadata": {},
   "outputs": [
    {
     "name": "stdout",
     "output_type": "stream",
     "text": [
      "True\n",
      "False\n"
     ]
    }
   ],
   "source": [
    "# 73 to check the given number is divisible by both 3 and 5,display value\n",
    "\n",
    "n=60\n",
    "a=n%3==0 and n%5==0\n",
    "print(a)\n",
    "\n",
    "n=40\n",
    "b=n%3==0 and n%5==0\n",
    "print(b)"
   ]
  },
  {
   "cell_type": "code",
   "execution_count": null,
   "metadata": {},
   "outputs": [
    {
     "name": "stdout",
     "output_type": "stream",
     "text": [
      "True\n"
     ]
    }
   ],
   "source": [
    "#74 to check the number between 100 and 200 including the limit\n",
    "\n",
    "n=120\n",
    "a=100<n<200\n",
    "print(a)"
   ]
  },
  {
   "cell_type": "code",
   "execution_count": null,
   "metadata": {},
   "outputs": [
    {
     "name": "stdout",
     "output_type": "stream",
     "text": [
      "False\n",
      "True\n"
     ]
    }
   ],
   "source": [
    "#75 to check the number between 100 and 200 \n",
    "\n",
    "n=51\n",
    "a=100<n<200\n",
    "print(a)\n",
    "\n",
    "n=190\n",
    "a=100<n<200\n",
    "print(a)"
   ]
  },
  {
   "cell_type": "code",
   "execution_count": null,
   "metadata": {},
   "outputs": [
    {
     "name": "stdout",
     "output_type": "stream",
     "text": [
      "False\n"
     ]
    }
   ],
   "source": [
    "#76)wae to check given string last character ascii value should br divisble by 5 or not\n",
    "n='salaar'\n",
    "print(ord(n[5])%5==0)\n"
   ]
  },
  {
   "cell_type": "code",
   "execution_count": null,
   "metadata": {},
   "outputs": [
    {
     "name": "stdout",
     "output_type": "stream",
     "text": [
      "False\n",
      "False\n"
     ]
    }
   ],
   "source": [
    "#77)wae to check given number is present between 60 to 130 and number should be divisible by 3 and 4 and digit should be greater than 9 and less than 9\n",
    "n=129\n",
    "print(60<=n<=130 and n%3==0 and n%4==0 and n%10>9)\n",
    "n=120\n",
    "print(60<=n<=130 and n%3==0 and n%4==0 and n%10<9)\n",
    "\n",
    "\n"
   ]
  },
  {
   "cell_type": "code",
   "execution_count": null,
   "metadata": {},
   "outputs": [
    {
     "name": "stdout",
     "output_type": "stream",
     "text": [
      "True\n",
      "False\n",
      "True\n"
     ]
    }
   ],
   "source": [
    "# 78 wap to check the number is even or less than 25\n",
    "\n",
    "n=18\n",
    "print(n%2==0 or n<25)\n",
    "\n",
    "n=29\n",
    "print(n%2==0 or n<25)\n",
    "\n",
    "n=23\n",
    "print(n%2==0 or n<25)"
   ]
  },
  {
   "cell_type": "code",
   "execution_count": null,
   "metadata": {},
   "outputs": [
    {
     "name": "stdout",
     "output_type": "stream",
     "text": [
      "True\n",
      "True\n",
      "False\n"
     ]
    }
   ],
   "source": [
    "# 79)wap to check the number even or greater than 25\n",
    "\n",
    "n=24\n",
    "print(n%2==0 or n>25)\n",
    "\n",
    "n=26\n",
    "print(n%2==0 or n>25)\n",
    "\n",
    "n=23\n",
    "print(n%2==0 or n>25)"
   ]
  },
  {
   "cell_type": "code",
   "execution_count": null,
   "metadata": {},
   "outputs": [
    {
     "name": "stdout",
     "output_type": "stream",
     "text": [
      "True\n",
      "True\n",
      "True\n",
      "False\n"
     ]
    }
   ],
   "source": [
    " #80)wap to check the number is divisible by either 3 or 5\n",
    "\n",
    "n=30\n",
    "print(n%3==0 or n%5==0)\n",
    "\n",
    "n=36\n",
    "print(n%3==0 or n%5==0)\n",
    "\n",
    "n=70\n",
    "print(n%3==0 or n%5==0)\n",
    "\n",
    "n=62\n",
    "print(n%3==0 or n%5==0)"
   ]
  },
  {
   "cell_type": "code",
   "execution_count": null,
   "metadata": {},
   "outputs": [
    {
     "name": "stdout",
     "output_type": "stream",
     "text": [
      "False\n",
      "True\n"
     ]
    }
   ],
   "source": [
    "#81)wae to check given number is not a even number\n",
    "n=20\n",
    "print(n%2!=0)\n",
    "n=21 \n",
    "print(n%2!=0) "
   ]
  },
  {
   "cell_type": "code",
   "execution_count": null,
   "metadata": {},
   "outputs": [
    {
     "name": "stdout",
     "output_type": "stream",
     "text": [
      "True\n",
      "False\n"
     ]
    }
   ],
   "source": [
    "#82)wae to check given number is not a odd number\n",
    "n=40\n",
    "print(n%2==0) \n",
    "n=41\n",
    "print(n%2==0) "
   ]
  },
  {
   "cell_type": "code",
   "execution_count": null,
   "metadata": {},
   "outputs": [
    {
     "name": "stdout",
     "output_type": "stream",
     "text": [
      "True\n",
      "False\n"
     ]
    }
   ],
   "source": [
    "#83)wae to check number is not divisble by 3\n",
    "n=31\n",
    "print(n%3!=0)\n",
    "n=33\n",
    "print(n%3!=0)\n",
    "\n",
    "\n"
   ]
  },
  {
   "cell_type": "code",
   "execution_count": null,
   "metadata": {},
   "outputs": [
    {
     "name": "stdout",
     "output_type": "stream",
     "text": [
      "False\n",
      "True\n"
     ]
    }
   ],
   "source": [
    "#84)wae to check the given number is not divisible by 3 and 5\n",
    "n=15\n",
    "print(n%3!=0 and n%5!=0) \n",
    "n=38\n",
    "print(n%3!=0 and n%5!=0) "
   ]
  },
  {
   "cell_type": "code",
   "execution_count": null,
   "metadata": {},
   "outputs": [
    {
     "name": "stdout",
     "output_type": "stream",
     "text": [
      "True\n",
      "False\n",
      "True\n"
     ]
    }
   ],
   "source": [
    "#85) wae to check the given number is not divisble 3 or 5\n",
    "n=33\n",
    "print(n%3!=0 or n%5!=0 )\n",
    "n=45\n",
    "print(n%3!=0 or n%5!=0 )\n",
    "n=11\n",
    "print(n%3!=0 or n%5!=0 )\n"
   ]
  },
  {
   "cell_type": "code",
   "execution_count": null,
   "metadata": {},
   "outputs": [
    {
     "name": "stdout",
     "output_type": "stream",
     "text": [
      "False\n",
      "True\n"
     ]
    }
   ],
   "source": [
    "#86)wae to check given character ascii value is not divisible by 5\n",
    "char='A'\n",
    "print(ord(char)%5!=0) \n",
    "char='B'\n",
    "print(ord(char)%5!=0) "
   ]
  },
  {
   "cell_type": "code",
   "execution_count": null,
   "metadata": {},
   "outputs": [
    {
     "name": "stdout",
     "output_type": "stream",
     "text": [
      "c\n",
      "X\n"
     ]
    }
   ],
   "source": [
    "#87)wae to check to find out the ascii character of given number\n",
    "n=99\n",
    "print(chr(n))\n",
    "n=88\n",
    "print(chr(n))\n"
   ]
  },
  {
   "cell_type": "code",
   "execution_count": null,
   "metadata": {},
   "outputs": [
    {
     "name": "stdout",
     "output_type": "stream",
     "text": [
      "98\n",
      "99\n"
     ]
    }
   ],
   "source": [
    "#88)wae to check find out the ascii value in a given character\n",
    "char='b'\n",
    "print(ord(char))\n",
    "char='c'\n",
    "print(ord(char))"
   ]
  },
  {
   "cell_type": "code",
   "execution_count": null,
   "metadata": {},
   "outputs": [
    {
     "name": "stdout",
     "output_type": "stream",
     "text": [
      "True\n",
      "False\n",
      "False\n",
      "False\n",
      "True\n"
     ]
    }
   ],
   "source": [
    "#89)wae to check given character is uppercase or not\n",
    "char='A'\n",
    "print('A'<= char<='Z')\n",
    "char='z'\n",
    "print('A'<= char<='Z')\n",
    "char='BC'\n",
    "print( len(char)==1 and 'A'<= char<='Z')\n",
    "char='Abcd'\n",
    "print( len(char)==1 and 'A'<= char<='Z')\n",
    "char='F'\n",
    "print( len(char)==1 and 65<= ord(char)<=90)\n",
    "\n",
    "\n",
    "\n",
    "\n"
   ]
  },
  {
   "cell_type": "code",
   "execution_count": null,
   "metadata": {},
   "outputs": [
    {
     "name": "stdout",
     "output_type": "stream",
     "text": [
      "True\n",
      "False\n",
      "True\n"
     ]
    }
   ],
   "source": [
    "#90)wae to check the character is lowercase\n",
    "char='c'\n",
    "print('a'<= char<='z')\n",
    "char='BC'\n",
    "print( len(char)==1 and 'a'<= char<='z')\n",
    "char='g'\n",
    "print( len(char)==1 and 'a'<= char<='z')"
   ]
  },
  {
   "cell_type": "code",
   "execution_count": null,
   "metadata": {},
   "outputs": [
    {
     "name": "stdout",
     "output_type": "stream",
     "text": [
      "True\n",
      "True\n",
      "False\n"
     ]
    }
   ],
   "source": [
    "#91)wap to check char is alphabet\n",
    "ch='a'\n",
    "print('A'<=ch<='Z' or 'a'<=ch<='z')\n",
    "ch ='B'\n",
    "print(len(ch)==1 and ('A'<=ch<='Z' or 'a'<=ch<='z'))\n",
    "ch='Ab'\n",
    "print(len(ch)==1 and ('A'<=ch<='Z' or 'a'<=ch<='z'))"
   ]
  },
  {
   "cell_type": "code",
   "execution_count": null,
   "metadata": {},
   "outputs": [
    {
     "name": "stdout",
     "output_type": "stream",
     "text": [
      "True\n",
      "True\n",
      "True\n",
      "False\n"
     ]
    }
   ],
   "source": [
    "#92)wap to check given character is ACSII number\n",
    "ch='5'\n",
    "print('0'<=ch<='9')\n",
    "ch='0'\n",
    "print(len(ch)==1 and '0'<=ch<='9')\n",
    "ch='9'\n",
    "print(len(ch)==1 and '0'<=ch<='9')\n",
    "ch='A'\n",
    "print(len(ch)==1 and '0'<=ch<='9')"
   ]
  },
  {
   "cell_type": "code",
   "execution_count": null,
   "metadata": {},
   "outputs": [
    {
     "name": "stdout",
     "output_type": "stream",
     "text": [
      "False\n",
      "True\n",
      "True\n"
     ]
    }
   ],
   "source": [
    "#93)wap to check given char is special character\n",
    "ch='$'\n",
    "print('A'<=ch<='Z' or 'a'<=ch<='z' or '0'<=ch<='9')\n",
    "print(not('A'<=ch<='Z' or 'a'<=ch<='z' or '0'<=ch<='9'))\n",
    "ch='!'\n",
    "print(0<=ord(ch)<=47 or 58<=ord(ch)<=64 or 91<=ord(ch)<=96 or 123<=ord(ch)<=127)"
   ]
  },
  {
   "cell_type": "code",
   "execution_count": null,
   "metadata": {},
   "outputs": [
    {
     "name": "stdout",
     "output_type": "stream",
     "text": [
      "False\n",
      "True\n"
     ]
    }
   ],
   "source": [
    "#94)wap to check the given char is not a uppercase\n",
    "ch='A'\n",
    "print(not('A'<=ch<='Z'))\n",
    "ch='a'\n",
    "print(not('A'<=ch<='Z'))"
   ]
  },
  {
   "cell_type": "code",
   "execution_count": null,
   "metadata": {},
   "outputs": [
    {
     "name": "stdout",
     "output_type": "stream",
     "text": [
      "True\n",
      "False\n"
     ]
    }
   ],
   "source": [
    "#95)wap to check the given character should not be lowercase.\n",
    "ch='A'\n",
    "print(not('a'<=ch<='z' ))\n",
    "ch='a'\n",
    "print(not('a'<=ch<='z'))"
   ]
  },
  {
   "cell_type": "code",
   "execution_count": null,
   "metadata": {},
   "outputs": [
    {
     "name": "stdout",
     "output_type": "stream",
     "text": [
      "False\n",
      "False\n",
      "False\n"
     ]
    }
   ],
   "source": [
    "#96)wap to check the given character should not be the alphabet.\n",
    "ch='a'\n",
    "print(not('A'<=ch<='Z' or 'a'<=ch<='z'))\n",
    "print(not(len(ch)==1 and ('A'<=ch<='Z' or 'a'<=ch<='z')))\n",
    "\n",
    "print(not(len(ch)==1 and ('A'<=ch<='Z' or 'a'<=ch<='z')))\n"
   ]
  },
  {
   "cell_type": "code",
   "execution_count": null,
   "metadata": {},
   "outputs": [
    {
     "name": "stdout",
     "output_type": "stream",
     "text": [
      "True\n",
      "False\n"
     ]
    }
   ],
   "source": [
    "#97) wap to check the given character should not be a ASCII number\n",
    "ch='a'\n",
    "print(not(48<=ord(ch)<=57))\n",
    "ch='9'\n",
    "print(not(48<=ord(ch)<=57))"
   ]
  },
  {
   "cell_type": "code",
   "execution_count": null,
   "metadata": {},
   "outputs": [
    {
     "name": "stdout",
     "output_type": "stream",
     "text": [
      "False\n",
      "True\n",
      "True\n",
      "True\n"
     ]
    }
   ],
   "source": [
    "#98)wap to check the given character should not be a special character \n",
    "ch='a'\n",
    "print(not('a'<=ch<='z'or 'A'<=ch<='Z'or '0'<=ch<='9'))\n",
    "ch='@'\n",
    "print(not('a'<=ch<='z'or 'A'<=ch<='Z'or '0'<=ch<='9'))\n",
    "ch='#'\n",
    "print(not('a'<=ch<='z'or 'A'<=ch<='Z'or '0'<=ch<='9'))\n",
    "ch='$'\n",
    "print(65<=ord(ch)<=90 or 97<=ord(ch)<=122 or 48<=ord(ch)<=57)"
   ]
  },
  {
   "cell_type": "code",
   "execution_count": null,
   "metadata": {},
   "outputs": [
    {
     "name": "stdout",
     "output_type": "stream",
     "text": [
      "True\n",
      "False\n"
     ]
    }
   ],
   "source": [
    "#99) wae to check given char is vowel \n",
    "chr='a'\n",
    "print(chr in 'aeiouAEIOU')\n",
    "ch='c'\n",
    "print(ch in ['a','e','i','o','u','A','E','I','O','U'])"
   ]
  },
  {
   "cell_type": "code",
   "execution_count": null,
   "metadata": {},
   "outputs": [
    {
     "name": "stdout",
     "output_type": "stream",
     "text": [
      "True\n",
      "False\n"
     ]
    }
   ],
   "source": [
    "#100)wae to check given char is consonent \n",
    "ch='c'\n",
    "print(ch not in ['a','e','i','o','u','A','E','I','O','U'])\n",
    "chr='a'\n",
    "print(chr  not in 'aeiouAEIOU')"
   ]
  },
  {
   "cell_type": "code",
   "execution_count": null,
   "metadata": {},
   "outputs": [
    {
     "data": {
      "text/plain": [
       "'b'"
      ]
     },
     "execution_count": 25,
     "metadata": {},
     "output_type": "execute_result"
    }
   ],
   "source": [
    "#101)was to convert uppercase to lowercase in a given character.\n",
    "cha='B'\n",
    "cha.lower()\n"
   ]
  },
  {
   "cell_type": "code",
   "execution_count": null,
   "metadata": {},
   "outputs": [
    {
     "data": {
      "text/plain": [
       "'B'"
      ]
     },
     "execution_count": 26,
     "metadata": {},
     "output_type": "execute_result"
    }
   ],
   "source": [
    "#102)was to convert lowercase to uppercase in a given character\n",
    "cha='b'\n",
    "cha.upper()"
   ]
  },
  {
   "cell_type": "code",
   "execution_count": 1,
   "metadata": {},
   "outputs": [
    {
     "name": "stdout",
     "output_type": "stream",
     "text": [
      "@\n"
     ]
    }
   ],
   "source": [
    "#103)was to extract previous character in the given character\n",
    "cha='A'\n",
    "print(chr(ord(cha)-1))"
   ]
  },
  {
   "cell_type": "code",
   "execution_count": null,
   "metadata": {},
   "outputs": [
    {
     "name": "stdout",
     "output_type": "stream",
     "text": [
      "C\n"
     ]
    }
   ],
   "source": [
    "#104)was to extract the next character in the given character\n",
    "cha='B'\n",
    "print(chr(ord(cha)+1))"
   ]
  },
  {
   "cell_type": "code",
   "execution_count": null,
   "metadata": {},
   "outputs": [
    {
     "name": "stdout",
     "output_type": "stream",
     "text": [
      "True\n",
      "False\n"
     ]
    }
   ],
   "source": [
    "#105) wae to check the given character is converted to ascii value and value is even as well as character should be lowercase\n",
    "ch='b'\n",
    "print(ord(ch)%2==0 and 'a'<=ch<='z')\n",
    "ch='r'\n",
    "print(len(ch)==1 and ord(ch)<=0 and 'a'<=ch<='z')"
   ]
  },
  {
   "cell_type": "code",
   "execution_count": null,
   "metadata": {},
   "outputs": [
    {
     "name": "stdout",
     "output_type": "stream",
     "text": [
      "False\n",
      "True\n"
     ]
    }
   ],
   "source": [
    "#106)wae to check given char is converted to ASCII value and value is odd as well as character should be uppercase\n",
    "ch='a'\n",
    "print((ord(ch)%2!=0) and 'A'<=ch<='Z')\n",
    "ch='A'\n",
    "print((ord(ch)%2!=0) and 'A'<=ch<='Z')\n"
   ]
  },
  {
   "cell_type": "code",
   "execution_count": null,
   "metadata": {},
   "outputs": [
    {
     "name": "stdout",
     "output_type": "stream",
     "text": [
      "False\n",
      "True\n"
     ]
    }
   ],
   "source": [
    "#107)#107wae to check the given number is converted into char is not a special symbol or not\n",
    "n=58\n",
    "print('A'<=chr(n)<='Z' or 'a'<=chr(n)<='z' or 0<=(n)<=9)\n",
    "n=55\n",
    "print(not('A'<=chr(n)<='Z' or 'a'<=chr(n)<='z' or 0<=(n)<=9))"
   ]
  },
  {
   "cell_type": "code",
   "execution_count": null,
   "metadata": {},
   "outputs": [
    {
     "name": "stdout",
     "output_type": "stream",
     "text": [
      "True\n",
      "False\n"
     ]
    }
   ],
   "source": [
    "#108)wae to check the given number of ASCII character is a vowel or not\n",
    "n=65\n",
    "print(chr(n) in'aeiouAEIOU')\n",
    "n=40\n",
    "print(chr(n) in'aeiouAEIOU')"
   ]
  },
  {
   "cell_type": "code",
   "execution_count": 2,
   "metadata": {},
   "outputs": [
    {
     "name": "stdout",
     "output_type": "stream",
     "text": [
      "False\n"
     ]
    }
   ],
   "source": [
    "#109)wae to check st and 2nd character are sequence or not\n",
    "ch='ABCD'\n",
    "print(ord(ch[0])+1 == ord(ch[1])-1) "
   ]
  },
  {
   "cell_type": "code",
   "execution_count": 28,
   "metadata": {},
   "outputs": [
    {
     "name": "stdout",
     "output_type": "stream",
     "text": [
      "True\n",
      "True\n"
     ]
    }
   ],
   "source": [
    "#110)wap to check given char ASCII value should be either greater than 50 and less than 112.\n",
    "ch='0'\n",
    "print(ord(ch)>50 or ord(ch)<112)\n",
    "ch='z'\n",
    "print(ord(ch)>50 or ord(ch)<112)"
   ]
  },
  {
   "cell_type": "code",
   "execution_count": 27,
   "metadata": {},
   "outputs": [
    {
     "name": "stdout",
     "output_type": "stream",
     "text": [
      "11\n",
      "121\n"
     ]
    }
   ],
   "source": [
    "#111)wap to given number is increased by 1.\n",
    "m=10\n",
    "m+=1\n",
    "print(m)\n",
    "m=120\n",
    "m+=1\n",
    "print(m)"
   ]
  },
  {
   "cell_type": "code",
   "execution_count": 11,
   "metadata": {},
   "outputs": [
    {
     "name": "stdout",
     "output_type": "stream",
     "text": [
      "112\n",
      "422\n"
     ]
    }
   ],
   "source": [
    "#112)wap to given number is increased by 2.\n",
    "m=110\n",
    "m+=2\n",
    "print(m)\n",
    "m=420\n",
    "m+=2\n",
    "print(m)"
   ]
  },
  {
   "cell_type": "code",
   "execution_count": 12,
   "metadata": {},
   "outputs": [
    {
     "name": "stdout",
     "output_type": "stream",
     "text": [
      "209\n",
      "119\n"
     ]
    }
   ],
   "source": [
    "#113)wap to given number should be decreased by 1.\n",
    "m=210\n",
    "m-=1\n",
    "print(m)\n",
    "m=120\n",
    "m-=1\n",
    "print(m)"
   ]
  },
  {
   "cell_type": "code",
   "execution_count": 13,
   "metadata": {},
   "outputs": [
    {
     "name": "stdout",
     "output_type": "stream",
     "text": [
      "207\n",
      "117\n"
     ]
    }
   ],
   "source": [
    "#114)wap to given number should be decreased by 3.\n",
    "m=210\n",
    "m-=3\n",
    "print(m)\n",
    "m=120\n",
    "m-=3\n",
    "print(m)"
   ]
  },
  {
   "cell_type": "code",
   "execution_count": 14,
   "metadata": {},
   "outputs": [
    {
     "name": "stdout",
     "output_type": "stream",
     "text": [
      "True\n"
     ]
    }
   ],
   "source": [
    "#115)wap to check given integer number is present on collection or not.\n",
    "n=10\n",
    "col=[10,20,30,40]\n",
    "print(n in col)"
   ]
  },
  {
   "cell_type": "code",
   "execution_count": 15,
   "metadata": {},
   "outputs": [
    {
     "name": "stdout",
     "output_type": "stream",
     "text": [
      "30\n"
     ]
    }
   ],
   "source": [
    "#116)wap to check perform addition operation on A value and B value and final result should be updated.\n",
    "A=10\n",
    "B=20\n",
    "A=A+B\n",
    "print(A)"
   ]
  },
  {
   "cell_type": "code",
   "execution_count": 16,
   "metadata": {},
   "outputs": [
    {
     "name": "stdout",
     "output_type": "stream",
     "text": [
      "True\n",
      "True\n"
     ]
    }
   ],
   "source": [
    "#117)wap to check given value is present in the collection.\n",
    "val='D'\n",
    "col='PYSPIDERS'\n",
    "print(val in col)\n",
    "st='hai'\n",
    "coll={10,'hai',(10,20),(10,'hai')}\n",
    "print(st in coll)"
   ]
  },
  {
   "cell_type": "code",
   "execution_count": 17,
   "metadata": {},
   "outputs": [
    {
     "name": "stdout",
     "output_type": "stream",
     "text": [
      "True\n"
     ]
    }
   ],
   "source": [
    "#118)wap to check the given list is present in the list.\n",
    "list2 = 3\n",
    "list1 = [1, 2, 3, 4, 5,[3,4]]\n",
    "print(list2 in list1)"
   ]
  },
  {
   "cell_type": "code",
   "execution_count": 18,
   "metadata": {},
   "outputs": [
    {
     "name": "stdout",
     "output_type": "stream",
     "text": [
      "False\n"
     ]
    }
   ],
   "source": [
    "#119)wap to check given dict value is present in tuple.\n",
    "val={'a':10}\n",
    "tup=('a',10,('b',10),('c',10))\n",
    "print(val in tup)"
   ]
  },
  {
   "cell_type": "code",
   "execution_count": 19,
   "metadata": {},
   "outputs": [
    {
     "name": "stdout",
     "output_type": "stream",
     "text": [
      "True\n"
     ]
    }
   ],
   "source": [
    "# 120 to check the given val is int or not\n",
    "\n",
    "b=15\n",
    "print(type(b)==int)\n",
    "b=15.00"
   ]
  },
  {
   "cell_type": "code",
   "execution_count": 20,
   "metadata": {},
   "outputs": [
    {
     "name": "stdout",
     "output_type": "stream",
     "text": [
      "False\n"
     ]
    }
   ],
   "source": [
    "# 121 o check the given val is string or not\n",
    "a=10\n",
    "print(type(a)== str)"
   ]
  },
  {
   "cell_type": "code",
   "execution_count": 21,
   "metadata": {},
   "outputs": [
    {
     "name": "stdout",
     "output_type": "stream",
     "text": [
      "True\n",
      "True\n",
      "True\n",
      "True\n",
      "True\n",
      "False\n"
     ]
    }
   ],
   "source": [
    "# 122 to check the given val is single val dt  not\n",
    "\n",
    "a=12.23\n",
    "print(type(a) in[int,float,complex,bool,bytes,type(None)])\n",
    "a=12\n",
    "print(type(a) in[int,float,complex,bool,bytes,type(None)])\n",
    "a=2+3j\n",
    "print(type(a) in[int,float,complex,bool,bytes,type(None)])\n",
    "a=b'1011'\n",
    "print(type(a) in[int,float,complex,bool,bytes,type(None)])\n",
    "a=None\n",
    "print(type(a) in[int,float,complex,bool,bytes,type(None)])\n",
    "a=\"None\"\n",
    "print(type(a) in[int,float,complex,bool,bytes,type(None)])"
   ]
  },
  {
   "cell_type": "code",
   "execution_count": null,
   "metadata": {},
   "outputs": [
    {
     "name": "stdout",
     "output_type": "stream",
     "text": [
      "False\n",
      "True\n"
     ]
    }
   ],
   "source": [
    "# 123 to check the given val is should not a single val dt\n",
    "a=12.23\n",
    "print(not(type(a) in[int,float,complex,bool,bytes,type(None)]))\n",
    "a=\"None\"\n",
    "print(not(type(a) in[int,float,complex,bool,bytes,type(None)]))"
   ]
  },
  {
   "cell_type": "code",
   "execution_count": null,
   "metadata": {},
   "outputs": [
    {
     "name": "stdout",
     "output_type": "stream",
     "text": [
      "True\n",
      "True\n",
      "True\n",
      "True\n",
      "True\n",
      "False\n"
     ]
    }
   ],
   "source": [
    "# 124 to check the given value is multi value data type or not\n",
    "\n",
    "a=[10,20,30]\n",
    "print(type(a) in [list,tuple,str,set,dict])\n",
    "\n",
    "a=(10,20,30)\n",
    "print(type(a) in [list,tuple,str,set,dict])\n",
    "\n",
    "a=\"hello\"\n",
    "print(type(a) in [list,tuple,str,set,dict])\n",
    "\n",
    "a={10,20,30}\n",
    "print(type(a) in [list,tuple,str,set,dict])\n",
    "\n",
    "a={10:20,30:40}\n",
    "print(type(a) in [list,tuple,str,set,dict])\n",
    "\n",
    "a=(100200)\n",
    "print(type(a) in [list,tuple,str,set,dict])"
   ]
  },
  {
   "cell_type": "code",
   "execution_count": null,
   "metadata": {},
   "outputs": [
    {
     "name": "stdout",
     "output_type": "stream",
     "text": [
      "True\n",
      "False\n",
      "False\n",
      "True\n",
      "True\n",
      "False\n"
     ]
    }
   ],
   "source": [
    "# 125 to check the given value is mutable or not\n",
    "\n",
    "\n",
    "a=[10,20,30]\n",
    "print(type(a) in [list,set,dict])\n",
    "\n",
    "a=(10,20,30)\n",
    "print(type(a) in [list,set,dict])\n",
    "\n",
    "a=\"hello\"\n",
    "print(type(a) in [list,set,dict])\n",
    "\n",
    "a={10,20,30}\n",
    "print(type(a) in [list,set,dict])\n",
    "\n",
    "a={10:20,30:40}\n",
    "print(type(a) in [list,set,dict])\n",
    "\n",
    "a=(100200)\n",
    "print(type(a) in [list,set,dict])"
   ]
  },
  {
   "cell_type": "code",
   "execution_count": null,
   "metadata": {},
   "outputs": [
    {
     "name": "stdout",
     "output_type": "stream",
     "text": [
      "False\n",
      "True\n",
      "True\n",
      "False\n",
      "False\n",
      "False\n"
     ]
    }
   ],
   "source": [
    "# 126 to check the given value is immutable or not\n",
    "\n",
    "\n",
    "a=[10,20,30]\n",
    "print(type(a) in [tuple,str])\n",
    "\n",
    "a=(10,20,30)\n",
    "print(type(a) in [tuple,str])\n",
    "\n",
    "a=\"hello\"\n",
    "print(type(a) in [tuple,str])\n",
    "\n",
    "a={10,20,30}\n",
    "print(type(a) in [tuple,str])\n",
    "\n",
    "a={10:20,30:40}\n",
    "print(type(a) in [tuple,str])\n",
    "\n",
    "a=(100200)\n",
    "print(type(a) in [tuple,str])"
   ]
  },
  {
   "cell_type": "code",
   "execution_count": null,
   "metadata": {},
   "outputs": [
    {
     "data": {
      "text/plain": [
       "False"
      ]
     },
     "execution_count": 5,
     "metadata": {},
     "output_type": "execute_result"
    }
   ],
   "source": [
    "# 127 to check the value is divisible by 6 and present inside the collection or not\n",
    "\n",
    "n=120\n",
    "n%6==0 and n in [10,20,30,40,120]\n",
    "\n",
    "n=12\n",
    "n%6==0 and n in [10,20,30,40,120]\n",
    "\n",
    "n=20\n",
    "n%6==0 and n in [10,20,30,40,120]"
   ]
  },
  {
   "cell_type": "code",
   "execution_count": null,
   "metadata": {},
   "outputs": [
    {
     "data": {
      "text/plain": [
       "19"
      ]
     },
     "execution_count": 6,
     "metadata": {},
     "output_type": "execute_result"
    }
   ],
   "source": [
    "# 128 to perform the bitwise and operation  in the given values are 15 and 19\n",
    "\n",
    "15 and 19"
   ]
  },
  {
   "cell_type": "code",
   "execution_count": null,
   "metadata": {},
   "outputs": [
    {
     "data": {
      "text/plain": [
       "115"
      ]
     },
     "execution_count": 7,
     "metadata": {},
     "output_type": "execute_result"
    }
   ],
   "source": [
    "# 129 to perform the bitwise or operation  in the given values are 115 and 79\n",
    "\n",
    "115 or 79"
   ]
  },
  {
   "cell_type": "code",
   "execution_count": null,
   "metadata": {},
   "outputs": [
    {
     "data": {
      "text/plain": [
       "46"
      ]
     },
     "execution_count": 8,
     "metadata": {},
     "output_type": "execute_result"
    }
   ],
   "source": [
    "# 130 to perform the bitwise xor operation  in the given values are 56 and 22\n",
    "\n",
    "56^22"
   ]
  },
  {
   "cell_type": "code",
   "execution_count": null,
   "metadata": {},
   "outputs": [
    {
     "data": {
      "text/plain": [
       "-16"
      ]
     },
     "execution_count": 9,
     "metadata": {},
     "output_type": "execute_result"
    }
   ],
   "source": [
    "# 131 to perform the bitwise not operation  in the given value are 15 \n",
    "\n",
    "~15"
   ]
  },
  {
   "cell_type": "code",
   "execution_count": null,
   "metadata": {},
   "outputs": [],
   "source": [
    "# 132 to perform the bitwise leftshift operation 32 and skips val 3\n",
    "\n",
    "32<<3"
   ]
  },
  {
   "cell_type": "code",
   "execution_count": null,
   "metadata": {},
   "outputs": [
    {
     "data": {
      "text/plain": [
       "6"
      ]
     },
     "execution_count": 10,
     "metadata": {},
     "output_type": "execute_result"
    }
   ],
   "source": [
    "# 133 to perform the bitwise rightshift operation 25 and skips val 2\n",
    "\n",
    "25>>2"
   ]
  },
  {
   "cell_type": "code",
   "execution_count": null,
   "metadata": {},
   "outputs": [
    {
     "data": {
      "text/plain": [
       "1000"
      ]
     },
     "execution_count": 11,
     "metadata": {},
     "output_type": "execute_result"
    }
   ],
   "source": [
    "#134 find out the output of the condition\n",
    "\n",
    "(10+20*60 and 10**3) or ({10,20} or not([15-16]))"
   ]
  },
  {
   "cell_type": "code",
   "execution_count": null,
   "metadata": {},
   "outputs": [
    {
     "data": {
      "text/plain": [
       "True"
      ]
     },
     "execution_count": 12,
     "metadata": {},
     "output_type": "execute_result"
    }
   ],
   "source": [
    "#135 to check the given key is present in dict\n",
    "\n",
    "d={\"10\":1,\"20\":2,\"30\":3}\n",
    "k=10\n",
    "k in d\n",
    "\n",
    "d={\"10\":1,\"20\":2,\"30\":3}\n",
    "k=\"10\"\n",
    "k in d"
   ]
  },
  {
   "cell_type": "code",
   "execution_count": 22,
   "metadata": {},
   "outputs": [
    {
     "name": "stdout",
     "output_type": "stream",
     "text": [
      "False\n",
      "True\n"
     ]
    }
   ],
   "source": [
    "#136)wap to check given value is present in dict or not \n",
    "d={'a':10,'hai':'bye'}\n",
    "k=10\n",
    "print(k in d)\n",
    "k=10\n",
    "print(k in d.values())"
   ]
  },
  {
   "cell_type": "code",
   "execution_count": 23,
   "metadata": {},
   "outputs": [
    {
     "name": "stdout",
     "output_type": "stream",
     "text": [
      "False\n",
      "True\n"
     ]
    }
   ],
   "source": [
    "#137)wap to check given value is not present in dict \n",
    "d={'a':10,'hai':'bye'}\n",
    "k=100\n",
    "print(k in d.values())\n",
    "k=10\n",
    "print(k in d.values())"
   ]
  },
  {
   "cell_type": "code",
   "execution_count": 26,
   "metadata": {},
   "outputs": [
    {
     "name": "stdout",
     "output_type": "stream",
     "text": [
      "False\n",
      "True\n"
     ]
    }
   ],
   "source": [
    "#138)wap to check key value par present inside the dict or not.\n",
    "d={'a':10,'hai':'bye',20:30,40:50}\n",
    "k=(20,30)\n",
    "print(k in d)\n",
    "print(k in d.items())"
   ]
  },
  {
   "cell_type": "code",
   "execution_count": 24,
   "metadata": {},
   "outputs": [
    {
     "name": "stdout",
     "output_type": "stream",
     "text": [
      "True\n",
      "False\n"
     ]
    }
   ],
   "source": [
    "#139wap to check two values pointed to same address or not\n",
    "a=15\n",
    "b=15\n",
    "print(a is b)\n",
    "a=10\n",
    "b=15\n",
    "print(a is b)"
   ]
  },
  {
   "cell_type": "code",
   "execution_count": 25,
   "metadata": {},
   "outputs": [
    {
     "name": "stdout",
     "output_type": "stream",
     "text": [
      "True\n",
      "False\n"
     ]
    }
   ],
   "source": [
    "#140)wap to check the both values should be integer and both values are pointing to the same address\n",
    "a=10\n",
    "b=10\n",
    "print(a is b)\n",
    "a=10.6\n",
    "b=10.6\n",
    "print(a is b)"
   ]
  }
 ],
 "metadata": {
  "kernelspec": {
   "display_name": "Python 3",
   "language": "python",
   "name": "python3"
  },
  "language_info": {
   "codemirror_mode": {
    "name": "ipython",
    "version": 3
   },
   "file_extension": ".py",
   "mimetype": "text/x-python",
   "name": "python",
   "nbconvert_exporter": "python",
   "pygments_lexer": "ipython3",
   "version": "3.11.5"
  },
  "orig_nbformat": 4
 },
 "nbformat": 4,
 "nbformat_minor": 2
}
