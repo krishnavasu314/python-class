{
 "cells": [
  {
   "cell_type": "code",
   "execution_count": 1,
   "metadata": {},
   "outputs": [
    {
     "name": "stdout",
     "output_type": "stream",
     "text": [
      "S a l a a r T H e   S a g a ! @ # "
     ]
    }
   ],
   "source": [
    "#2WAP to print all the items present in the string between the range from \n",
    "#m to n.\n",
    "st='SalaarTHe Saga!@#'\n",
    "for i in range(0,len(st)):\n",
    "    print(st[i],end=' ')"
   ]
  },
  {
   "cell_type": "code",
   "execution_count": 4,
   "metadata": {},
   "outputs": [
    {
     "name": "stdout",
     "output_type": "stream",
     "text": [
      "SALARCEAFVHINAMMU\n"
     ]
    }
   ],
   "source": [
    "#3WAP to print the uppercase characters in a given string\n",
    "st='SALAaRCEAseFire !@#VaHINandAMMUl'\n",
    "up=''\n",
    "for i in st:\n",
    "    if 'A'<=i<='Z':\n",
    "        up+=i\n",
    "print(up)\n",
    "    "
   ]
  },
  {
   "cell_type": "code",
   "execution_count": 1,
   "metadata": {},
   "outputs": [
    {
     "name": "stdout",
     "output_type": "stream",
     "text": [
      "aseireaandl\n"
     ]
    }
   ],
   "source": [
    "#4WAP to print the lowercase characters in a given string.\n",
    "st='SALAaRCEAseFire !@#VaHINandAMMUl'\n",
    "lc=''\n",
    "for i in st:\n",
    "    if 'a'<=i<='z':\n",
    "        lc+=i\n",
    "print(lc)"
   ]
  },
  {
   "cell_type": "code",
   "execution_count": 8,
   "metadata": {},
   "outputs": [
    {
     "name": "stdout",
     "output_type": "stream",
     "text": [
      "9944247409\n"
     ]
    }
   ],
   "source": [
    "#5WAP to print the ascii numbers(Digits) characters in a given string.\n",
    "st='avcde9944sekjdhkj247409'\n",
    "res=''\n",
    "for i in st:\n",
    "    if '0'<=i<='9':\n",
    "        res+=i\n",
    "print(res)\n",
    "        "
   ]
  },
  {
   "cell_type": "code",
   "execution_count": 1,
   "metadata": {},
   "outputs": [
    {
     "name": "stdout",
     "output_type": "stream",
     "text": [
      "@\n",
      "!\n",
      "@\n",
      "#\n"
     ]
    }
   ],
   "source": [
    "#6 WAP to print the special characters in a given string.\n",
    "st='vahin@!@#3434'\n",
    "for i in st:\n",
    "    if not('A'<=i<='Z' or 'a'<=i<='z' or '0'<=i<='9'):\n",
    "        print(i)\n"
   ]
  },
  {
   "cell_type": "code",
   "execution_count": 2,
   "metadata": {},
   "outputs": [
    {
     "name": "stdout",
     "output_type": "stream",
     "text": [
      "A\n",
      "a\n",
      "a\n",
      "E\n",
      "a\n",
      "a\n"
     ]
    }
   ],
   "source": [
    "#7 WAP to Print the vowels in a given string.\n",
    "st='SAlaarThESaga'\n",
    "for i in st:\n",
    "    if i in 'aeiouAEIOU':\n",
    "        print(i)"
   ]
  },
  {
   "cell_type": "code",
   "execution_count": 3,
   "metadata": {},
   "outputs": [
    {
     "name": "stdout",
     "output_type": "stream",
     "text": [
      "S\n",
      "l\n",
      "r\n",
      "T\n",
      "h\n",
      "S\n",
      "g\n"
     ]
    }
   ],
   "source": [
    "#8 AP to Print the consonants in a given string.\n",
    "st='SAlaarThESaga'\n",
    "for i in st:\n",
    "    if i not in 'aeiouAEIOU':\n",
    "        print(i)"
   ]
  },
  {
   "cell_type": "code",
   "execution_count": 4,
   "metadata": {},
   "outputs": [
    {
     "name": "stdout",
     "output_type": "stream",
     "text": [
      "agas ehtraalas\n"
     ]
    }
   ],
   "source": [
    "#9 AP to print the reverse of the characters in a given string\n",
    "st='salaarthe saga'\n",
    "rev=''\n",
    "for i in st:\n",
    "    rev=i+rev\n",
    "print(rev)"
   ]
  },
  {
   "cell_type": "code",
   "execution_count": 5,
   "metadata": {},
   "outputs": [
    {
     "name": "stdout",
     "output_type": "stream",
     "text": [
      "v\n",
      "h\n",
      "n\n",
      " \n",
      "A\n",
      "I\n"
     ]
    }
   ],
   "source": [
    "#10 WAP to print even position values characters in a given string.\n",
    "st='vahini VAHIN'\n",
    "for i in range(len(st)):\n",
    "    if i%2==0:\n",
    "        print(st[i])"
   ]
  },
  {
   "cell_type": "code",
   "execution_count": 6,
   "metadata": {},
   "outputs": [
    {
     "name": "stdout",
     "output_type": "stream",
     "text": [
      "a\n",
      "i\n",
      "i\n",
      "V\n",
      "H\n",
      "N\n"
     ]
    }
   ],
   "source": [
    "#11 WAP to print odd position values characters in a given string.\n",
    "st='vahini VAHIN'\n",
    "for i in range(len(st)):\n",
    "    if i%2!=0:\n",
    "        print(st[i])"
   ]
  },
  {
   "cell_type": "code",
   "execution_count": 2,
   "metadata": {},
   "outputs": [
    {
     "name": "stdout",
     "output_type": "stream",
     "text": [
      "6 is total no of characters\n"
     ]
    }
   ],
   "source": [
    "#12 WAP to count the total Number of characters in a given string.(with \n",
    "# length function)\n",
    "def count1(value):\n",
    "    count=0\n",
    "    if type(value)==str:\n",
    "        for i in value:\n",
    "            count+=1\n",
    "        print(f'{count} is total no of characters')\n",
    "    else:\n",
    "        print('this is not a character')\n",
    "    \n",
    "count1('salaar')\n",
    "\n",
    "\n",
    "\n",
    "\n"
   ]
  },
  {
   "cell_type": "code",
   "execution_count": 6,
   "metadata": {},
   "outputs": [
    {
     "name": "stdout",
     "output_type": "stream",
     "text": [
      "6 is total no of characters\n"
     ]
    }
   ],
   "source": [
    "#13 WAP to count the total Number of characters in a given string.(without \n",
    "#length function\n",
    "def count1(value):\n",
    "    count=0\n",
    "    if type(value)==str:\n",
    "        for i in value:\n",
    "            count+=1\n",
    "        print(f'{count} is total no of characters')\n",
    "    else:\n",
    "        print('this is not a character')\n",
    "    \n",
    "count1('salaar')"
   ]
  },
  {
   "cell_type": "code",
   "execution_count": null,
   "metadata": {},
   "outputs": [],
   "source": [
    "#14 WAP to count alphabets in a given string.\n",
    "def count1(value):\n",
    "    count=0\n",
    "    if type(value)==str:\n",
    "        for i in value:\n",
    "            count+=1\n",
    "        print(f'{count} is total no of characters')\n",
    "    else:\n",
    "        print('this is not a character')\n",
    "    \n",
    "count1('salaar')"
   ]
  },
  {
   "cell_type": "code",
   "execution_count": 9,
   "metadata": {},
   "outputs": [
    {
     "name": "stdout",
     "output_type": "stream",
     "text": [
      "1 is total no of uppercase characters\n"
     ]
    }
   ],
   "source": [
    "#15 WAP to count Number of uppercase in a given string.\n",
    "def count1(value):\n",
    "    count=0\n",
    "    if type(value)==str:\n",
    "        for i in value:\n",
    "            if 'A'<=i<='Z':\n",
    "                count+=1\n",
    "        print(f'{count} is total no of uppercase characters')\n",
    "    else:\n",
    "        print('this is not a character')\n",
    "    \n",
    "count1('Salaar')"
   ]
  },
  {
   "cell_type": "code",
   "execution_count": 10,
   "metadata": {},
   "outputs": [
    {
     "name": "stdout",
     "output_type": "stream",
     "text": [
      "5 is total no of lowercase characters\n"
     ]
    }
   ],
   "source": [
    "#16  WAP to count lowercase in a given string.\n",
    "def count1(value):\n",
    "    count=0\n",
    "    if type(value)==str:\n",
    "        for i in value:\n",
    "            if 'a'<=i<='z':\n",
    "                count+=1\n",
    "        print(f'{count} is total no of lowercase characters')\n",
    "    else:\n",
    "        print('this is not a character')\n",
    "    \n",
    "count1('Salaar')"
   ]
  },
  {
   "cell_type": "code",
   "execution_count": 12,
   "metadata": {},
   "outputs": [
    {
     "name": "stdout",
     "output_type": "stream",
     "text": [
      "4 is total no of special characters\n"
     ]
    }
   ],
   "source": [
    "#17 WAP to count Number of special symbols in a given string.\n",
    "def count1(value):\n",
    "    count=0\n",
    "    if type(value)==str:\n",
    "        for i in value:\n",
    "            if not('A'<=i<='Z' or 'a'<=i<='z' or '0'<=i<='9'):\n",
    "                count+=1\n",
    "        print(f'{count} is total no of special characters')\n",
    "    else:\n",
    "        print('this is not a character')\n",
    "    \n",
    "count1('Vahini!@#$')"
   ]
  },
  {
   "cell_type": "code",
   "execution_count": 13,
   "metadata": {},
   "outputs": [
    {
     "name": "stdout",
     "output_type": "stream",
     "text": [
      "1 is total no of uppercase characters\n",
      "5 is total no of lowercase characters\n"
     ]
    }
   ],
   "source": [
    "#18 WAP to count uppercase and lowercase in a given string.\n",
    "def count1(value):\n",
    "    count=0\n",
    "    count1=0\n",
    "    if type(value)==str:\n",
    "        for i in value:\n",
    "            if 'A'<=i<='Z':\n",
    "                count+=1\n",
    "            if 'a'<=i<='z':\n",
    "                count1+=1\n",
    "        print(f'{count} is total no of uppercase characters')\n",
    "        print(f'{count1} is total no of lowercase characters')\n",
    "    else:\n",
    "        print('this is not a character')\n",
    "    \n",
    "count1('Salaar')"
   ]
  },
  {
   "cell_type": "code",
   "execution_count": 15,
   "metadata": {},
   "outputs": [
    {
     "name": "stdout",
     "output_type": "stream",
     "text": [
      "8 is total no of ASCII characters\n"
     ]
    }
   ],
   "source": [
    "#19 WAP to count Number of ascii numbers in a given string.\n",
    "def count1(value):\n",
    "    count=0\n",
    "    if type(value)==str:\n",
    "        for i in value:\n",
    "            if '0'<=i<='9':\n",
    "                count+=1\n",
    "        print(f'{count} is total no of ASCII characters')\n",
    "    else:\n",
    "        print('this is not a character')\n",
    "    \n",
    "count1('VAHINI27092002')"
   ]
  },
  {
   "cell_type": "code",
   "execution_count": 33,
   "metadata": {},
   "outputs": [
    {
     "name": "stdout",
     "output_type": "stream",
     "text": [
      "4 is total no of words\n"
     ]
    }
   ],
   "source": [
    "#20 WAP to Count Total Number of Words in a String.\n",
    "def count1(value):\n",
    "    count=1\n",
    "    # if value[0]==' 'or value[-1]==' ':\n",
    "    #     count=1\n",
    "    if type(value)==str:\n",
    "        for i in range(len(value)):\n",
    "            if value[i]==' ':\n",
    "                if i==0 and value[i]==' ':\n",
    "                    count=1\n",
    "                elif i==len(value)-1 and value[len(value)-1]==' ':\n",
    "                    count=count\n",
    "                else:\n",
    "                    count+=1            \n",
    "        print(f'{count} is total no of words')\n",
    "    else:\n",
    "        print('this is not a character')\n",
    "    \n",
    "count1(' Salaar tHE sAGA ')"
   ]
  },
  {
   "cell_type": "code",
   "execution_count": 41,
   "metadata": {},
   "outputs": [
    {
     "name": "stdout",
     "output_type": "stream",
     "text": [
      "no of spaces is 4\n",
      "not a str type\n",
      "None\n"
     ]
    }
   ],
   "source": [
    "#21  WAP to Count Total Number of spaces in a String.\n",
    "def count2(value):\n",
    "    count=0\n",
    "    if type(value)==str:\n",
    "        for i in value:\n",
    "            if i==' ':\n",
    "                count+=1\n",
    "            ans=f'no of spaces is {count}'\n",
    "        return ans\n",
    "    else:\n",
    "        print('not a str type')\n",
    "print(count2('1 2 3 4 '))\n",
    "print(count2(11))\n",
    "\n",
    "\n"
   ]
  },
  {
   "cell_type": "code",
   "execution_count": 44,
   "metadata": {},
   "outputs": [
    {
     "name": "stdout",
     "output_type": "stream",
     "text": [
      "no of vowels : 3\n"
     ]
    }
   ],
   "source": [
    "\n",
    "#22. WAP to Count Vowels in a String\n",
    "def vowels(val):\n",
    "    count=0\n",
    "    if type(val)==str:\n",
    "        for i in val:\n",
    "            if i in 'aeiouAEIOU':\n",
    "                count+=1\n",
    "        print(f'no of vowels : {count}')\n",
    "    else:\n",
    "        print('not a str type')\n",
    "vowels(val='vahini')    "
   ]
  },
  {
   "cell_type": "code",
   "execution_count": 48,
   "metadata": {},
   "outputs": [
    {
     "name": "stdout",
     "output_type": "stream",
     "text": [
      "no of consonents : 3\n"
     ]
    }
   ],
   "source": [
    "#23 WAP to Count consonants in a String.\n",
    "def consonents(val):\n",
    "    count=0\n",
    "    if type(val)==str:\n",
    "        for i in val:\n",
    "            if i  not in 'aeiouAEIOU' and ('A'<=i<='Z' or 'a'<=i<='z'):\n",
    "                count+=1\n",
    "        print(f'no of consonents : {count}')\n",
    "    else:\n",
    "        print('not a str type')\n",
    "consonents(val='vahini1111')"
   ]
  },
  {
   "cell_type": "code",
   "execution_count": 49,
   "metadata": {},
   "outputs": [
    {
     "name": "stdout",
     "output_type": "stream",
     "text": [
      "no of vowels : 3\n",
      "no of consonents : 3\n"
     ]
    }
   ],
   "source": [
    "#24  WAP to Count Vowels and Consonants in a String\n",
    "def vowels(val):\n",
    "    count=0\n",
    "    count1=0\n",
    "    if type(val)==str:\n",
    "        for i in val:\n",
    "            if i in 'aeiouAEIOU':\n",
    "                count+=1\n",
    "            if ('A'<= i<='Z' or 'a'<=i<='z') and i not in 'aeiouAEIOU':\n",
    "                count1+=1\n",
    "                \n",
    "        print(f'no of vowels : {count}')\n",
    "        print(f'no of consonents : {count1}')\n",
    "    else:\n",
    "        print('not a str type')\n",
    "vowels(val='vahini')"
   ]
  },
  {
   "cell_type": "code",
   "execution_count": 2,
   "metadata": {},
   "outputs": [
    {
     "name": "stdout",
     "output_type": "stream",
     "text": [
      "2\n"
     ]
    }
   ],
   "source": [
    "#25 WAP to count Number of new lines in a given string.\n",
    "def lines(val1):\n",
    "    count=0\n",
    "    if type(val1)==str:\n",
    "        for i in val1:\n",
    "            if i=='\\n':\n",
    "                count+=1\n",
    "        print(count)\n",
    "    else:\n",
    "        print('it is not string format input')\n",
    "a=\"\"\"salaar the \n",
    "saga \n",
    "to rule \"\"\"\n",
    "lines(a)\n",
    "\n"
   ]
  },
  {
   "cell_type": "code",
   "execution_count": 3,
   "metadata": {},
   "outputs": [
    {
     "name": "stdout",
     "output_type": "stream",
     "text": [
      "3 number of lines\n"
     ]
    }
   ],
   "source": [
    "#26 AP to count Number of lines in a given string\n",
    "def lines(val1):\n",
    "    count=1\n",
    "    if type(val1)==str:\n",
    "        for i in val1:\n",
    "            if i=='\\n':\n",
    "                count+=1\n",
    "        print(f'{count} number of lines')\n",
    "    else:\n",
    "        print('it is not string format input')\n",
    "a=\"\"\"salaar the \n",
    "saga \n",
    "to rule \"\"\"\n",
    "lines(a)\n",
    "\n"
   ]
  },
  {
   "cell_type": "code",
   "execution_count": 5,
   "metadata": {},
   "outputs": [
    {
     "name": "stdout",
     "output_type": "stream",
     "text": [
      "6 alphabets ,9 numbers,5 special characters\n"
     ]
    }
   ],
   "source": [
    "#27 WAP to count no of alphabets, numbers, and special characters in a given string\n",
    "def countchar(string1):\n",
    "    alp,num,sp=0,0,0\n",
    "    for i in string1:\n",
    "        if 'A'<=i<='Z' or 'a'<=i<='z':\n",
    "            alp+=1\n",
    "        elif '0'<=i<='9':\n",
    "            num+=1\n",
    "        else:\n",
    "            sp+=1\n",
    "    print(f'{alp} alphabets ,{num} numbers,{sp} special characters')\n",
    "countchar('vahini 27-09-20223!@')\n"
   ]
  },
  {
   "cell_type": "code",
   "execution_count": 16,
   "metadata": {},
   "outputs": [
    {
     "name": "stdout",
     "output_type": "stream",
     "text": [
      "5\n"
     ]
    }
   ],
   "source": [
    "#28  WAP to Count Total no of words in a first line of the Doc String.\n",
    "def firstlineword(var):\n",
    "    count=0\n",
    "    \n",
    "    for i in range(len(var)):\n",
    "        if var[i]!='\\n':\n",
    "            if i==0 and var[i]==' ':\n",
    "                count=1\n",
    "            elif var[i]==' ' and var[i+1]=='\\n':\n",
    "                count=count\n",
    "            elif var[i]==' ' and :\n",
    "                count+=1                      \n",
    "        else:\n",
    "            break\n",
    "    print(count)\n",
    "a=\"\"\"sallar the cease  \n",
    "saga\"\"\"\n",
    "firstlineword(a)\n",
    "\n",
    "\n",
    "\n",
    "\n"
   ]
  },
  {
   "cell_type": "code",
   "execution_count": 1,
   "metadata": {},
   "outputs": [
    {
     "data": {
      "text/plain": [
       "8"
      ]
     },
     "execution_count": 1,
     "metadata": {},
     "output_type": "execute_result"
    }
   ],
   "source": [
    "#29 . WAP to sum of digits in a given string.\n",
    "st='314'\n",
    "def sumofdigits(coll):\n",
    "    sum=0\n",
    "    for i in coll:\n",
    "        a=int(i)\n",
    "        sum+=a\n",
    "    return sum\n",
    "sumofdigits(st)\n",
    "        \n",
    "\n",
    "\n"
   ]
  },
  {
   "cell_type": "code",
   "execution_count": 12,
   "metadata": {},
   "outputs": [
    {
     "data": {
      "text/plain": [
       "(3, 'a', 11)"
      ]
     },
     "execution_count": 12,
     "metadata": {},
     "output_type": "execute_result"
    }
   ],
   "source": [
    "#30 WAP to Print nth Occurrence of a Character in a String.\n",
    "\n",
    "st='abcdefa123baa'\n",
    "def occur(coll,char,occure=0):\n",
    "    count=0\n",
    "    res=''\n",
    "    remain=''\n",
    "    for i in range(len(coll)):\n",
    "        if coll[i]!=char:\n",
    "            res+=coll[i]\n",
    "        else:\n",
    "            count+=1\n",
    "            if count==occure:\n",
    "                return count,char,i\n",
    "occur(st,'a',3)\n",
    "\n",
    "\n",
    "\n",
    "        \n",
    "\n",
    "        \n",
    "    \n"
   ]
  },
  {
   "cell_type": "code",
   "execution_count": 18,
   "metadata": {},
   "outputs": [
    {
     "name": "stdout",
     "output_type": "stream",
     "text": [
      "s 10\n"
     ]
    }
   ],
   "source": [
    "#31 WAP to Print Last Occurrence of a Character in a String.\n",
    "st='abcdefabvasua'\n",
    "res=''\n",
    "sp='s'\n",
    "r=()\n",
    "for i in range(len(st)):\n",
    "    if sp!=st[i]:\n",
    "        res+=st[i]\n",
    "    else:\n",
    "        r=(i)\n",
    "print(sp,r)\n",
    "\n"
   ]
  },
  {
   "cell_type": "code",
   "execution_count": 14,
   "metadata": {},
   "outputs": [
    {
     "data": {
      "text/plain": [
       "('v', 8)"
      ]
     },
     "execution_count": 14,
     "metadata": {},
     "output_type": "execute_result"
    }
   ],
   "source": [
    "#32 WAP to Print First not Occurrence of a Character in a String.\n",
    "st='abcdefabvasu'\n",
    "def firstnotocuur(coll,sp):\n",
    "    r=[]\n",
    "    for i in range(len(coll)):\n",
    "        if sp==coll[i]:\n",
    "            r=(i)\n",
    "    return sp,r\n",
    "firstnotocuur(st,'v')\n"
   ]
  },
  {
   "cell_type": "code",
   "execution_count": null,
   "metadata": {},
   "outputs": [],
   "source": [
    "#33 wAP to Print last not Occurrence of a Character in a String.\n",
    "\n"
   ]
  },
  {
   "cell_type": "code",
   "execution_count": 17,
   "metadata": {},
   "outputs": [
    {
     "name": "stdout",
     "output_type": "stream",
     "text": [
      "bujuluvahin\n"
     ]
    }
   ],
   "source": [
    "#34 WAP to Remove First Occurrence of a Character in a String.\n",
    "st='bujjuluvahin'\n",
    "res=''\n",
    "count=0\n",
    "r=''\n",
    "sp='j'\n",
    "num=1\n",
    "for i in range(len(st)):\n",
    "    if st[i]!=sp:\n",
    "        res+=st[i]\n",
    "    else:\n",
    "        count+=1\n",
    "        if count==num:\n",
    "            r+=st[i]\n",
    "        else:\n",
    "            res+=st[i]\n",
    "print(res)\n"
   ]
  },
  {
   "cell_type": "code",
   "execution_count": 23,
   "metadata": {},
   "outputs": [
    {
     "name": "stdout",
     "output_type": "stream",
     "text": [
      "bujjul\n"
     ]
    }
   ],
   "source": [
    "#35 WAP to Remove Last Occurred Character in a String.\n",
    "st='bujjulu'\n",
    "ch='u'\n",
    "pos=0\n",
    "res=''\n",
    "rem=''\n",
    "for i in range(len(st)):\n",
    "    if ch==st[i]:\n",
    "        pos=i\n",
    "for i  in range(len(st)):\n",
    "    if st[i] not in res:\n",
    "        res+=st[i]\n",
    "    else:\n",
    "        if pos==i:\n",
    "            rem=st[i]\n",
    "        else:\n",
    "            res+=st[i]\n",
    "print(res)\n"
   ]
  },
  {
   "cell_type": "code",
   "execution_count": 25,
   "metadata": {},
   "outputs": [
    {
     "name": "stdout",
     "output_type": "stream",
     "text": [
      "2\n"
     ]
    }
   ],
   "source": [
    "#36 WAP to count the occurrence of a specific character in a given string.\n",
    "st='bujjulu'\n",
    "ch='j'\n",
    "count=0\n",
    "for i in st:\n",
    "    if ch==i:\n",
    "        count+=1\n",
    "print(count)"
   ]
  },
  {
   "cell_type": "code",
   "execution_count": 4,
   "metadata": {},
   "outputs": [
    {
     "name": "stdout",
     "output_type": "stream",
     "text": [
      "{'s': 2, 'a': 5, 'l': 1, 'r': 1, ' ': 2, 't': 1, 'h': 1, 'e': 1, 'g': 4}\n",
      "['s', 'a', 'l', 'r', ' ', 't', 'h', 'e', 'g']\n",
      "5\n"
     ]
    }
   ],
   "source": [
    "#37 WAP to count the max occurrence of a character in a given string.\n",
    "st='salaar the sagaggg'\n",
    "res=''\n",
    "d={}\n",
    "for i in st:\n",
    "    count=0\n",
    "    for j in st:\n",
    "        if i==j:\n",
    "            count+=1\n",
    "        d[i]=count\n",
    "print(d)\n",
    "l=list(d)\n",
    "print(l)\n",
    "max=0\n",
    "for i in l:\n",
    "    if d[i]>max:\n",
    "        max=d[i]\n",
    "print(max)\n",
    "\n",
    "\n",
    "\n",
    "\n",
    "\n",
    "        \n"
   ]
  },
  {
   "cell_type": "code",
   "execution_count": 20,
   "metadata": {},
   "outputs": [
    {
     "name": "stdout",
     "output_type": "stream",
     "text": [
      "{'s': 2, 'a': 5, 'l': 1, 'r': 1, ' ': 2, 't': 1, 'h': 1, 'e': 1, 'g': 1}\n",
      "1\n"
     ]
    }
   ],
   "source": [
    "#38 WAP to count the min occurrence of a character in a given string\n",
    "st='salaar the saga'\n",
    "d={}\n",
    "for i in st:\n",
    "    count=0\n",
    "    for j in st :\n",
    "        if i==j:\n",
    "            count+=1\n",
    "    d[i]=count\n",
    "print(d)  \n",
    "l=list(d)\n",
    "min=1000000\n",
    "for k in l:\n",
    "    if d[k]<min:\n",
    "        min=d[k] \n",
    "print(min)  \n"
   ]
  },
  {
   "cell_type": "code",
   "execution_count": 17,
   "metadata": {},
   "outputs": [
    {
     "name": "stdout",
     "output_type": "stream",
     "text": [
      "r 0\n"
     ]
    }
   ],
   "source": [
    "#39 WAP to count the repeats of a specific character in a given string.\n",
    "st='vahinsalaar'\n",
    "ch='r'\n",
    "repeat=-1\n",
    "for i in st:\n",
    "    if i==ch:\n",
    "        repeat+=1\n",
    "print(ch,repeat)\n",
    "\n",
    "    \n"
   ]
  },
  {
   "cell_type": "code",
   "execution_count": 21,
   "metadata": {},
   "outputs": [
    {
     "name": "stdout",
     "output_type": "stream",
     "text": [
      "{'v': 0, 'a': 5, 'h': 1, 'i': 0, 'n': 0, 's': 1, 'l': 0, 'r': 0, 't': 0, 'e': 0, 'g': 0}\n",
      "['v', 'a', 'h', 'i', 'n', 's', 'l', 'r', 't', 'e', 'g']\n",
      "{'a': 5}\n"
     ]
    }
   ],
   "source": [
    "#40 WAP to count the max repeated character in a given string.\n",
    "st='vahinsalaarthesaga'\n",
    "d={}\n",
    "for i in st:\n",
    "    repeat=-1\n",
    "    for j in st:\n",
    "        if i==j:\n",
    "            repeat+=1\n",
    "    d[i]=repeat\n",
    "print(d)\n",
    "l=list(d)\n",
    "print(l)\n",
    "max=0\n",
    "d1={}\n",
    "for m in l:\n",
    "    if d[m]>max:\n",
    "        max=d[m]\n",
    "        d1[m]=max\n",
    "print(d1)        \n",
    "            \n"
   ]
  },
  {
   "cell_type": "code",
   "execution_count": 9,
   "metadata": {},
   "outputs": [
    {
     "name": "stdout",
     "output_type": "stream",
     "text": [
      "{'v': 1, 'a': 5, 'h': 1, 'i': 3, 'n': 1, 's': 2, 'l': 1, 'r': 2, 'c': 1, 'e': 3, 'f': 1}\n",
      "1 {'v': 1, 'a': 1, 'h': 1, 'i': 1, 'n': 1, 's': 1, 'l': 1, 'r': 1, 'c': 1, 'e': 1, 'f': 1}\n"
     ]
    }
   ],
   "source": [
    "#41 WAP to count the min repeated character in a given string.\n",
    "st='vahinisalaarceasefire'\n",
    "d={}\n",
    "for i in st:\n",
    "    repeat=0\n",
    "    for j in st:\n",
    "        if i==j:\n",
    "            repeat+=1\n",
    "    d[i]=repeat\n",
    "print(d)\n",
    "l=list(d)\n",
    "min=100000\n",
    "d1={}\n",
    "for k in l:\n",
    "    if min>d[k]:\n",
    "        min=d[k]\n",
    "    d1[k]=min\n",
    "print(min,d1)\n",
    "\n",
    "\n",
    "            "
   ]
  },
  {
   "cell_type": "code",
   "execution_count": 17,
   "metadata": {},
   "outputs": [
    {
     "name": "stdout",
     "output_type": "stream",
     "text": [
      "Salaar the Saga\n"
     ]
    }
   ],
   "source": [
    "#42 WAP to replace a specific character into a new character\n",
    "st='salaar the saga'\n",
    "old='s'\n",
    "ch='S'\n",
    "res=''\n",
    "for i in st:\n",
    "    if i!=old:\n",
    "        res+=i\n",
    "    else:\n",
    "        res+=ch\n",
    "print(res)\n",
    "\n",
    "\n"
   ]
  },
  {
   "cell_type": "code",
   "execution_count": 26,
   "metadata": {},
   "outputs": [
    {
     "name": "stdout",
     "output_type": "stream",
     "text": [
      "!VAHINI123\n"
     ]
    },
    {
     "data": {
      "text/plain": [
       "'!vAhini123'"
      ]
     },
     "execution_count": 26,
     "metadata": {},
     "output_type": "execute_result"
    }
   ],
   "source": [
    "#43 WAP to convert lowercase to uppercase in a given string.\n",
    "st='!VAhini123'\n",
    "res=''\n",
    "for i in st:\n",
    "    if 'a'<=i<='z':\n",
    "        res+=chr(ord(i)-32)\n",
    "    else:\n",
    "        res+=i\n",
    "print(res)\n",
    "\n",
    "def lower(coll,ele):\n",
    "    if type(coll)!=str or type(ele)!=str:\n",
    "        return -1\n",
    "    res=''\n",
    "    for i in coll:\n",
    "        if 'A'<=i<='Z' and i==ele:\n",
    "            res+=chr(ord(i)+32)\n",
    "        else:\n",
    "            res+=i\n",
    "    return res\n",
    "lower(st,'V')\n"
   ]
  },
  {
   "cell_type": "code",
   "execution_count": 24,
   "metadata": {},
   "outputs": [
    {
     "data": {
      "text/plain": [
       "'!VAhInIQ123'"
      ]
     },
     "execution_count": 24,
     "metadata": {},
     "output_type": "execute_result"
    }
   ],
   "source": [
    "#44 WAP to convert lowercase to uppercase in a given string.\n",
    "def upper(coll,ele):\n",
    "    if type(coll)!=str or type(ele)!=str:\n",
    "        return -1\n",
    "    res=''\n",
    "    for i in coll:\n",
    "        if 'a'<=i<='z' and i==ele:\n",
    "            res+=chr(ord(i)-32)\n",
    "        else:\n",
    "            res+=i\n",
    "    return res\n",
    "upper(st,'i')\n"
   ]
  },
  {
   "cell_type": "code",
   "execution_count": 32,
   "metadata": {},
   "outputs": [
    {
     "data": {
      "text/plain": [
       "'salaar'"
      ]
     },
     "execution_count": 32,
     "metadata": {},
     "output_type": "execute_result"
    }
   ],
   "source": [
    "#45 WAP to convert uppercase to lowercase in even position characters in a given string.\n",
    "s='SaLaar'\n",
    "def evenlower(coll):\n",
    "    if type(coll)!=str:\n",
    "        return -1\n",
    "    res=''\n",
    "    for i in range(len(coll)):\n",
    "        if i%2==0 and 'A'<=coll[i]<='Z':\n",
    "            res+=chr(ord(coll[i])+32)\n",
    "        else:\n",
    "            res+=coll[i]\n",
    "    return res\n",
    "evenlower(s)"
   ]
  },
  {
   "cell_type": "code",
   "execution_count": 1,
   "metadata": {},
   "outputs": [
    {
     "data": {
      "text/plain": [
       "'SaLaAr'"
      ]
     },
     "execution_count": 1,
     "metadata": {},
     "output_type": "execute_result"
    }
   ],
   "source": [
    "#46 WAP to convert uppercase to lowercase in odd position characters in a given string.\n",
    "s='SALAAR'\n",
    "def oddlower(coll):\n",
    "    if type(coll)!=str:\n",
    "        return -1\n",
    "    res=''\n",
    "    for i in range(len(coll)):\n",
    "        if i%2!=0 and 'A'<=coll[i]<='Z':\n",
    "            res+=chr(ord(coll[i])+32)\n",
    "        else:\n",
    "            res+=coll[i]\n",
    "    return res\n",
    "oddlower(s)\n"
   ]
  },
  {
   "cell_type": "code",
   "execution_count": null,
   "metadata": {},
   "outputs": [],
   "source": [
    "#47 "
   ]
  }
 ],
 "metadata": {
  "kernelspec": {
   "display_name": "Python 3",
   "language": "python",
   "name": "python3"
  },
  "language_info": {
   "codemirror_mode": {
    "name": "ipython",
    "version": 3
   },
   "file_extension": ".py",
   "mimetype": "text/x-python",
   "name": "python",
   "nbconvert_exporter": "python",
   "pygments_lexer": "ipython3",
   "version": "3.11.6"
  },
  "orig_nbformat": 4
 },
 "nbformat": 4,
 "nbformat_minor": 2
}
