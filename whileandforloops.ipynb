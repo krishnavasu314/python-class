{
 "cells": [
  {
   "cell_type": "code",
   "execution_count": 1,
   "metadata": {},
   "outputs": [
    {
     "name": "stdout",
     "output_type": "stream",
     "text": [
      "S a l a a r T H e   S a g a ! @ # "
     ]
    }
   ],
   "source": [
    "#2WAP to print all the items present in the string between the range from \n",
    "#m to n.\n",
    "st='SalaarTHe Saga!@#'\n",
    "for i in range(0,len(st)):\n",
    "    print(st[i],end=' ')"
   ]
  },
  {
   "cell_type": "code",
   "execution_count": 4,
   "metadata": {},
   "outputs": [
    {
     "name": "stdout",
     "output_type": "stream",
     "text": [
      "SALARCEAFVHINAMMU\n"
     ]
    }
   ],
   "source": [
    "#3WAP to print the uppercase characters in a given string\n",
    "st='SALAaRCEAseFire !@#VaHINandAMMUl'\n",
    "up=''\n",
    "for i in st:\n",
    "    if 'A'<=i<='Z':\n",
    "        up+=i\n",
    "print(up)\n",
    "    "
   ]
  },
  {
   "cell_type": "code",
   "execution_count": 1,
   "metadata": {},
   "outputs": [
    {
     "name": "stdout",
     "output_type": "stream",
     "text": [
      "aseireaandl\n"
     ]
    }
   ],
   "source": [
    "#4WAP to print the lowercase characters in a given string.\n",
    "st='SALAaRCEAseFire !@#VaHINandAMMUl'\n",
    "lc=''\n",
    "for i in st:\n",
    "    if 'a'<=i<='z':\n",
    "        lc+=i\n",
    "print(lc)"
   ]
  },
  {
   "cell_type": "code",
   "execution_count": 8,
   "metadata": {},
   "outputs": [
    {
     "name": "stdout",
     "output_type": "stream",
     "text": [
      "9944247409\n"
     ]
    }
   ],
   "source": [
    "#5WAP to print the ascii numbers(Digits) characters in a given string.\n",
    "st='avcde9944sekjdhkj247409'\n",
    "res=''\n",
    "for i in st:\n",
    "    if '0'<=i<='9':\n",
    "        res+=i\n",
    "print(res)\n",
    "        "
   ]
  },
  {
   "cell_type": "code",
   "execution_count": 1,
   "metadata": {},
   "outputs": [
    {
     "name": "stdout",
     "output_type": "stream",
     "text": [
      "@\n",
      "!\n",
      "@\n",
      "#\n"
     ]
    }
   ],
   "source": [
    "#6 WAP to print the special characters in a given string.\n",
    "st='vahin@!@#3434'\n",
    "for i in st:\n",
    "    if not('A'<=i<='Z' or 'a'<=i<='z' or '0'<=i<='9'):\n",
    "        print(i)\n"
   ]
  },
  {
   "cell_type": "code",
   "execution_count": 2,
   "metadata": {},
   "outputs": [
    {
     "name": "stdout",
     "output_type": "stream",
     "text": [
      "A\n",
      "a\n",
      "a\n",
      "E\n",
      "a\n",
      "a\n"
     ]
    }
   ],
   "source": [
    "#7 WAP to Print the vowels in a given string.\n",
    "st='SAlaarThESaga'\n",
    "for i in st:\n",
    "    if i in 'aeiouAEIOU':\n",
    "        print(i)"
   ]
  },
  {
   "cell_type": "code",
   "execution_count": 3,
   "metadata": {},
   "outputs": [
    {
     "name": "stdout",
     "output_type": "stream",
     "text": [
      "S\n",
      "l\n",
      "r\n",
      "T\n",
      "h\n",
      "S\n",
      "g\n"
     ]
    }
   ],
   "source": [
    "#8 AP to Print the consonants in a given string.\n",
    "st='SAlaarThESaga'\n",
    "for i in st:\n",
    "    if i not in 'aeiouAEIOU':\n",
    "        print(i)"
   ]
  },
  {
   "cell_type": "code",
   "execution_count": 4,
   "metadata": {},
   "outputs": [
    {
     "name": "stdout",
     "output_type": "stream",
     "text": [
      "agas ehtraalas\n"
     ]
    }
   ],
   "source": [
    "#9 AP to print the reverse of the characters in a given string\n",
    "st='salaarthe saga'\n",
    "rev=''\n",
    "for i in st:\n",
    "    rev=i+rev\n",
    "print(rev)"
   ]
  },
  {
   "cell_type": "code",
   "execution_count": 5,
   "metadata": {},
   "outputs": [
    {
     "name": "stdout",
     "output_type": "stream",
     "text": [
      "v\n",
      "h\n",
      "n\n",
      " \n",
      "A\n",
      "I\n"
     ]
    }
   ],
   "source": [
    "#10 WAP to print even position values characters in a given string.\n",
    "st='vahini VAHIN'\n",
    "for i in range(len(st)):\n",
    "    if i%2==0:\n",
    "        print(st[i])"
   ]
  },
  {
   "cell_type": "code",
   "execution_count": 6,
   "metadata": {},
   "outputs": [
    {
     "name": "stdout",
     "output_type": "stream",
     "text": [
      "a\n",
      "i\n",
      "i\n",
      "V\n",
      "H\n",
      "N\n"
     ]
    }
   ],
   "source": [
    "#11 WAP to print odd position values characters in a given string.\n",
    "st='vahini VAHIN'\n",
    "for i in range(len(st)):\n",
    "    if i%2!=0:\n",
    "        print(st[i])"
   ]
  },
  {
   "cell_type": "code",
   "execution_count": 2,
   "metadata": {},
   "outputs": [
    {
     "name": "stdout",
     "output_type": "stream",
     "text": [
      "6 is total no of characters\n"
     ]
    }
   ],
   "source": [
    "#12 WAP to count the total Number of characters in a given string.(with \n",
    "# length function)\n",
    "def count1(value):\n",
    "    count=0\n",
    "    if type(value)==str:\n",
    "        for i in value:\n",
    "            count+=1\n",
    "        print(f'{count} is total no of characters')\n",
    "    else:\n",
    "        print('this is not a character')\n",
    "    \n",
    "count1('salaar')\n",
    "\n",
    "\n",
    "\n",
    "\n"
   ]
  },
  {
   "cell_type": "code",
   "execution_count": 6,
   "metadata": {},
   "outputs": [
    {
     "name": "stdout",
     "output_type": "stream",
     "text": [
      "6 is total no of characters\n"
     ]
    }
   ],
   "source": [
    "#13 WAP to count the total Number of characters in a given string.(without \n",
    "#length function\n",
    "def count1(value):\n",
    "    count=0\n",
    "    if type(value)==str:\n",
    "        for i in value:\n",
    "            count+=1\n",
    "        print(f'{count} is total no of characters')\n",
    "    else:\n",
    "        print('this is not a character')\n",
    "    \n",
    "count1('salaar')"
   ]
  },
  {
   "cell_type": "code",
   "execution_count": null,
   "metadata": {},
   "outputs": [],
   "source": [
    "#14 WAP to count alphabets in a given string.\n",
    "def count1(value):\n",
    "    count=0\n",
    "    if type(value)==str:\n",
    "        for i in value:\n",
    "            count+=1\n",
    "        print(f'{count} is total no of characters')\n",
    "    else:\n",
    "        print('this is not a character')\n",
    "    \n",
    "count1('salaar')"
   ]
  },
  {
   "cell_type": "code",
   "execution_count": 9,
   "metadata": {},
   "outputs": [
    {
     "name": "stdout",
     "output_type": "stream",
     "text": [
      "1 is total no of uppercase characters\n"
     ]
    }
   ],
   "source": [
    "#15 WAP to count Number of uppercase in a given string.\n",
    "def count1(value):\n",
    "    count=0\n",
    "    if type(value)==str:\n",
    "        for i in value:\n",
    "            if 'A'<=i<='Z':\n",
    "                count+=1\n",
    "        print(f'{count} is total no of uppercase characters')\n",
    "    else:\n",
    "        print('this is not a character')\n",
    "    \n",
    "count1('Salaar')"
   ]
  },
  {
   "cell_type": "code",
   "execution_count": 10,
   "metadata": {},
   "outputs": [
    {
     "name": "stdout",
     "output_type": "stream",
     "text": [
      "5 is total no of lowercase characters\n"
     ]
    }
   ],
   "source": [
    "#16  WAP to count lowercase in a given string.\n",
    "def count1(value):\n",
    "    count=0\n",
    "    if type(value)==str:\n",
    "        for i in value:\n",
    "            if 'a'<=i<='z':\n",
    "                count+=1\n",
    "        print(f'{count} is total no of lowercase characters')\n",
    "    else:\n",
    "        print('this is not a character')\n",
    "    \n",
    "count1('Salaar')"
   ]
  },
  {
   "cell_type": "code",
   "execution_count": 12,
   "metadata": {},
   "outputs": [
    {
     "name": "stdout",
     "output_type": "stream",
     "text": [
      "4 is total no of special characters\n"
     ]
    }
   ],
   "source": [
    "#17 WAP to count Number of special symbols in a given string.\n",
    "def count1(value):\n",
    "    count=0\n",
    "    if type(value)==str:\n",
    "        for i in value:\n",
    "            if not('A'<=i<='Z' or 'a'<=i<='z' or '0'<=i<='9'):\n",
    "                count+=1\n",
    "        print(f'{count} is total no of special characters')\n",
    "    else:\n",
    "        print('this is not a character')\n",
    "    \n",
    "count1('Vahini!@#$')"
   ]
  },
  {
   "cell_type": "code",
   "execution_count": 13,
   "metadata": {},
   "outputs": [
    {
     "name": "stdout",
     "output_type": "stream",
     "text": [
      "1 is total no of uppercase characters\n",
      "5 is total no of lowercase characters\n"
     ]
    }
   ],
   "source": [
    "#18 WAP to count uppercase and lowercase in a given string.\n",
    "def count1(value):\n",
    "    count=0\n",
    "    count1=0\n",
    "    if type(value)==str:\n",
    "        for i in value:\n",
    "            if 'A'<=i<='Z':\n",
    "                count+=1\n",
    "            if 'a'<=i<='z':\n",
    "                count1+=1\n",
    "        print(f'{count} is total no of uppercase characters')\n",
    "        print(f'{count1} is total no of lowercase characters')\n",
    "    else:\n",
    "        print('this is not a character')\n",
    "    \n",
    "count1('Salaar')"
   ]
  },
  {
   "cell_type": "code",
   "execution_count": 15,
   "metadata": {},
   "outputs": [
    {
     "name": "stdout",
     "output_type": "stream",
     "text": [
      "8 is total no of ASCII characters\n"
     ]
    }
   ],
   "source": [
    "#19 WAP to count Number of ascii numbers in a given string.\n",
    "def count1(value):\n",
    "    count=0\n",
    "    if type(value)==str:\n",
    "        for i in value:\n",
    "            if '0'<=i<='9':\n",
    "                count+=1\n",
    "        print(f'{count} is total no of ASCII characters')\n",
    "    else:\n",
    "        print('this is not a character')\n",
    "    \n",
    "count1('VAHINI27092002')"
   ]
  },
  {
   "cell_type": "code",
   "execution_count": 33,
   "metadata": {},
   "outputs": [
    {
     "name": "stdout",
     "output_type": "stream",
     "text": [
      "4 is total no of words\n"
     ]
    }
   ],
   "source": [
    "#20 WAP to Count Total Number of Words in a String.\n",
    "def count1(value):\n",
    "    count=1\n",
    "    # if value[0]==' 'or value[-1]==' ':\n",
    "    #     count=1\n",
    "    if type(value)==str:\n",
    "        for i in range(len(value)):\n",
    "            if value[i]==' ':\n",
    "                if i==0 and value[i]==' ':\n",
    "                    count=1\n",
    "                elif i==len(value)-1 and value[len(value)-1]==' ':\n",
    "                    count=count\n",
    "                else:\n",
    "                    count+=1            \n",
    "        print(f'{count} is total no of words')\n",
    "    else:\n",
    "        print('this is not a character')\n",
    "    \n",
    "count1(' Salaar tHE sAGA ')"
   ]
  },
  {
   "cell_type": "code",
   "execution_count": 41,
   "metadata": {},
   "outputs": [
    {
     "name": "stdout",
     "output_type": "stream",
     "text": [
      "no of spaces is 4\n",
      "not a str type\n",
      "None\n"
     ]
    }
   ],
   "source": [
    "#21  WAP to Count Total Number of spaces in a String.\n",
    "def count2(value):\n",
    "    count=0\n",
    "    if type(value)==str:\n",
    "        for i in value:\n",
    "            if i==' ':\n",
    "                count+=1\n",
    "            ans=f'no of spaces is {count}'\n",
    "        return ans\n",
    "    else:\n",
    "        print('not a str type')\n",
    "print(count2('1 2 3 4 '))\n",
    "print(count2(11))\n",
    "\n",
    "\n"
   ]
  },
  {
   "cell_type": "code",
   "execution_count": 44,
   "metadata": {},
   "outputs": [
    {
     "name": "stdout",
     "output_type": "stream",
     "text": [
      "no of vowels : 3\n"
     ]
    }
   ],
   "source": [
    "\n",
    "#22. WAP to Count Vowels in a String\n",
    "def vowels(val):\n",
    "    count=0\n",
    "    if type(val)==str:\n",
    "        for i in val:\n",
    "            if i in 'aeiouAEIOU':\n",
    "                count+=1\n",
    "        print(f'no of vowels : {count}')\n",
    "    else:\n",
    "        print('not a str type')\n",
    "vowels(val='vahini')    "
   ]
  },
  {
   "cell_type": "code",
   "execution_count": 48,
   "metadata": {},
   "outputs": [
    {
     "name": "stdout",
     "output_type": "stream",
     "text": [
      "no of consonents : 3\n"
     ]
    }
   ],
   "source": [
    "#23 WAP to Count consonants in a String.\n",
    "def consonents(val):\n",
    "    count=0\n",
    "    if type(val)==str:\n",
    "        for i in val:\n",
    "            if i  not in 'aeiouAEIOU' and ('A'<=i<='Z' or 'a'<=i<='z'):\n",
    "                count+=1\n",
    "        print(f'no of consonents : {count}')\n",
    "    else:\n",
    "        print('not a str type')\n",
    "consonents(val='vahini1111')"
   ]
  },
  {
   "cell_type": "code",
   "execution_count": 49,
   "metadata": {},
   "outputs": [
    {
     "name": "stdout",
     "output_type": "stream",
     "text": [
      "no of vowels : 3\n",
      "no of consonents : 3\n"
     ]
    }
   ],
   "source": [
    "#24  WAP to Count Vowels and Consonants in a String\n",
    "def vowels(val):\n",
    "    count=0\n",
    "    count1=0\n",
    "    if type(val)==str:\n",
    "        for i in val:\n",
    "            if i in 'aeiouAEIOU':\n",
    "                count+=1\n",
    "            if ('A'<= i<='Z' or 'a'<=i<='z') and i not in 'aeiouAEIOU':\n",
    "                count1+=1\n",
    "                \n",
    "        print(f'no of vowels : {count}')\n",
    "        print(f'no of consonents : {count1}')\n",
    "    else:\n",
    "        print('not a str type')\n",
    "vowels(val='vahini')"
   ]
  },
  {
   "cell_type": "code",
   "execution_count": 2,
   "metadata": {},
   "outputs": [
    {
     "name": "stdout",
     "output_type": "stream",
     "text": [
      "2\n"
     ]
    }
   ],
   "source": [
    "#25 WAP to count Number of new lines in a given string.\n",
    "def lines(val1):\n",
    "    count=0\n",
    "    if type(val1)==str:\n",
    "        for i in val1:\n",
    "            if i=='\\n':\n",
    "                count+=1\n",
    "        print(count)\n",
    "    else:\n",
    "        print('it is not string format input')\n",
    "a=\"\"\"salaar the \n",
    "saga \n",
    "to rule \"\"\"\n",
    "lines(a)\n",
    "\n"
   ]
  },
  {
   "cell_type": "code",
   "execution_count": 3,
   "metadata": {},
   "outputs": [
    {
     "name": "stdout",
     "output_type": "stream",
     "text": [
      "3 number of lines\n"
     ]
    }
   ],
   "source": [
    "#26 AP to count Number of lines in a given string\n",
    "def lines(val1):\n",
    "    count=1\n",
    "    if type(val1)==str:\n",
    "        for i in val1:\n",
    "            if i=='\\n':\n",
    "                count+=1\n",
    "        print(f'{count} number of lines')\n",
    "    else:\n",
    "        print('it is not string format input')\n",
    "a=\"\"\"salaar the \n",
    "saga \n",
    "to rule \"\"\"\n",
    "lines(a)\n",
    "\n"
   ]
  },
  {
   "cell_type": "code",
   "execution_count": 5,
   "metadata": {},
   "outputs": [
    {
     "name": "stdout",
     "output_type": "stream",
     "text": [
      "6 alphabets ,9 numbers,5 special characters\n"
     ]
    }
   ],
   "source": [
    "#27 WAP to count no of alphabets, numbers, and special characters in a given string\n",
    "def countchar(string1):\n",
    "    alp,num,sp=0,0,0\n",
    "    for i in string1:\n",
    "        if 'A'<=i<='Z' or 'a'<=i<='z':\n",
    "            alp+=1\n",
    "        elif '0'<=i<='9':\n",
    "            num+=1\n",
    "        else:\n",
    "            sp+=1\n",
    "    print(f'{alp} alphabets ,{num} numbers,{sp} special characters')\n",
    "countchar('vahini 27-09-20223!@')\n"
   ]
  },
  {
   "cell_type": "code",
   "execution_count": 16,
   "metadata": {},
   "outputs": [
    {
     "name": "stdout",
     "output_type": "stream",
     "text": [
      "5\n"
     ]
    }
   ],
   "source": [
    "#28  WAP to Count Total no of words in a first line of the Doc String.\n",
    "def firstlineword(var):\n",
    "    count=0\n",
    "    \n",
    "    for i in range(len(var)):\n",
    "        if var[i]!='\\n':\n",
    "            if i==0 and var[i]==' ':\n",
    "                count=1\n",
    "            elif var[i]==' ' and var[i+1]=='\\n':\n",
    "                count=count\n",
    "            elif var[i]==' ' and :\n",
    "                count+=1                      \n",
    "        else:\n",
    "            break\n",
    "    print(count)\n",
    "a=\"\"\"sallar the cease  \n",
    "saga\"\"\"\n",
    "firstlineword(a)\n",
    "\n",
    "\n",
    "\n",
    "\n"
   ]
  },
  {
   "cell_type": "code",
   "execution_count": null,
   "metadata": {},
   "outputs": [],
   "source": [
    "#29 . WAP to sum of digits in a given string.\n",
    "def sumofdigits(coll):\n",
    "    count=0\n",
    "    for i in \n"
   ]
  }
 ],
 "metadata": {
  "kernelspec": {
   "display_name": "Python 3",
   "language": "python",
   "name": "python3"
  },
  "language_info": {
   "codemirror_mode": {
    "name": "ipython",
    "version": 3
   },
   "file_extension": ".py",
   "mimetype": "text/x-python",
   "name": "python",
   "nbconvert_exporter": "python",
   "pygments_lexer": "ipython3",
   "version": "3.11.5"
  },
  "orig_nbformat": 4
 },
 "nbformat": 4,
 "nbformat_minor": 2
}
