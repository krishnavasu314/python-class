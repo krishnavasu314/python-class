{
 "cells": [
  {
   "cell_type": "code",
   "execution_count": 1,
   "metadata": {},
   "outputs": [
    {
     "data": {
      "text/plain": [
       "mappingproxy({'__module__': '__main__',\n",
       "              '__dict__': <attribute '__dict__' of 'Apple' objects>,\n",
       "              '__weakref__': <attribute '__weakref__' of 'Apple' objects>,\n",
       "              '__doc__': None})"
      ]
     },
     "execution_count": 1,
     "metadata": {},
     "output_type": "execute_result"
    }
   ],
   "source": [
    "# apple class creation\n",
    "class Apple:\n",
    "    pass\n",
    "Apple.__dict__"
   ]
  },
  {
   "cell_type": "code",
   "execution_count": 2,
   "metadata": {},
   "outputs": [
    {
     "data": {
      "text/plain": [
       "mappingproxy({'__module__': '__main__',\n",
       "              'taste': 'sweet',\n",
       "              'color': 'red',\n",
       "              'weight': '100gms',\n",
       "              '__dict__': <attribute '__dict__' of 'apple' objects>,\n",
       "              '__weakref__': <attribute '__weakref__' of 'apple' objects>,\n",
       "              '__doc__': None})"
      ]
     },
     "execution_count": 2,
     "metadata": {},
     "output_type": "execute_result"
    }
   ],
   "source": [
    "class apple:\n",
    "    taste='sweet'\n",
    "    color='red'\n",
    "    weight='100gms'\n",
    "apple.__dict__"
   ]
  },
  {
   "cell_type": "code",
   "execution_count": 11,
   "metadata": {},
   "outputs": [
    {
     "name": "stdout",
     "output_type": "stream",
     "text": [
      "{}\n",
      "redmi\n",
      "redmi 7\n",
      "32gb\n",
      "{}\n"
     ]
    }
   ],
   "source": [
    "# class creation and object creation \n",
    "class phone:\n",
    "    cname='redmi'\n",
    "    model='redmi 7'\n",
    "    ram='3gb'\n",
    "    rom='32gb'\n",
    "obj1=phone()\n",
    "\n",
    "print(obj1.__dict__)\n",
    "print(obj1.cname)\n",
    "print(obj1.model)\n",
    "print(obj1.rom)\n",
    "print(obj1.__dict__)\n"
   ]
  },
  {
   "cell_type": "code",
   "execution_count": 14,
   "metadata": {},
   "outputs": [
    {
     "name": "stdout",
     "output_type": "stream",
     "text": [
      "{}\n",
      "{'model': 'real me', 'ram': '6gb'}\n"
     ]
    }
   ],
   "source": [
    "class phone:\n",
    "    cname='redmi'\n",
    "    model=None\n",
    "    ram=None\n",
    "    rom=None\n",
    "obj2=phone()\n",
    "print(obj2.__dict__)\n",
    "obj2.model='real me'\n",
    "obj2.ram='6gb'\n",
    "print(obj2.__dict__)"
   ]
  },
  {
   "cell_type": "code",
   "execution_count": null,
   "metadata": {},
   "outputs": [],
   "source": []
  }
 ],
 "metadata": {
  "kernelspec": {
   "display_name": "Python 3",
   "language": "python",
   "name": "python3"
  },
  "language_info": {
   "codemirror_mode": {
    "name": "ipython",
    "version": 3
   },
   "file_extension": ".py",
   "mimetype": "text/x-python",
   "name": "python",
   "nbconvert_exporter": "python",
   "pygments_lexer": "ipython3",
   "version": "3.11.6"
  }
 },
 "nbformat": 4,
 "nbformat_minor": 2
}
