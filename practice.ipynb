{
 "cells": [
  {
   "cell_type": "code",
   "execution_count": 22,
   "metadata": {},
   "outputs": [
    {
     "name": "stdout",
     "output_type": "stream",
     "text": [
      "10\n",
      "40\n"
     ]
    }
   ],
   "source": [
    "value={'a':10,'b':20,'c':30,'d':40}\n",
    "if type(value) in [int,float,complex]:\n",
    "    if type(value)==int:\n",
    "        print(value**3,f' is cube of the  {value}')\n",
    "    elif type(value)==float:\n",
    "        print(int(value))\n",
    "    else:\n",
    "        print(value*5)\n",
    "elif type(value) in [tuple,str]:\n",
    "    if type(value)==str:\n",
    "        print(value[-2::-2])\n",
    "    else:\n",
    "        print(value[len(value)//2:len(value)//2+1]+value[1:len(value)//2]+value[0:1]+value[3:])\n",
    "elif type(value)==bool:\n",
    "    print(~value)\n",
    "elif type(value)==list:\n",
    "    del value[len(value)//2]\n",
    "    print(value)\n",
    "    print(value[-1])\n",
    "elif type(value) in [set,dict]:\n",
    "    if type(value)==set:\n",
    "        print(tuple(value))\n",
    "    else:\n",
    "        print(value['a'])\n",
    "        print(value['d'])\n",
    "            \n",
    "\n"
   ]
  },
  {
   "cell_type": "code",
   "execution_count": null,
   "metadata": {},
   "outputs": [],
   "source": [
    "text = \"Hello, World!\"\n",
    "bytedata = text.encode('utf-8')\n",
    "print(bytedata)\n",
    "decodedtext = bytedata.decode('utf-8')\n",
    "print(decodedtext[0])"
   ]
  },
  {
   "cell_type": "code",
   "execution_count": 1,
   "metadata": {},
   "outputs": [
    {
     "name": "stdout",
     "output_type": "stream",
     "text": [
      "s\n"
     ]
    },
    {
     "data": {
      "text/plain": [
       "<function __main__.salaar(a)>"
      ]
     },
     "execution_count": 1,
     "metadata": {},
     "output_type": "execute_result"
    }
   ],
   "source": [
    "def salaar(a):\n",
    "    print('s')\n",
    "    return salaar\n",
    "salaar(10)\n"
   ]
  },
  {
   "cell_type": "code",
   "execution_count": 5,
   "metadata": {},
   "outputs": [
    {
     "name": "stdout",
     "output_type": "stream",
     "text": [
      "['I Play Hockey', 'I Love Hockey', 'I Play Football', 'I Love Football', 'You Play Hockey', 'You Love Hockey', 'You Play Football', 'You Love Football']\n"
     ]
    }
   ],
   "source": [
    "s1=[\"I\", \"You\"]\n",
    "s2=[\"Play\", \"Love\"]\n",
    "s3=[\"Hockey\", \"Football\"]\n",
    "res=''\n",
    "l=[]\n",
    "for i in s1:\n",
    "    for j in s3:\n",
    "        for k in s2:\n",
    "            res=i+' '+k+' '+j\n",
    "            l+=[res]        \n",
    "            res=''\n",
    "print(l)\n"
   ]
  },
  {
   "cell_type": "code",
   "execution_count": 9,
   "metadata": {},
   "outputs": [
    {
     "name": "stdout",
     "output_type": "stream",
     "text": [
      "145\n"
     ]
    }
   ],
   "source": [
    "sum=0\n",
    "start=145\n",
    "sum=0\n",
    "temp=start\n",
    "while start:\n",
    "    ld=start%10\n",
    "    product=1\n",
    "    i=1\n",
    "    while i<=ld:\n",
    "        product=product*i  \n",
    "        i+=1\n",
    "    sum+=product\n",
    "    start//=10\n",
    "if sum==temp:\n",
    "    print(temp)"
   ]
  },
  {
   "cell_type": "code",
   "execution_count": 11,
   "metadata": {},
   "outputs": [
    {
     "data": {
      "text/plain": [
       "True"
      ]
     },
     "execution_count": 11,
     "metadata": {},
     "output_type": "execute_result"
    }
   ],
   "source": [
    "def prime(n):\n",
    "    for i in range(2,n+1):\n",
    "        if n%i==0:\n",
    "            return False\n",
    "        return True \n",
    "prime(3)"
   ]
  },
  {
   "cell_type": "code",
   "execution_count": null,
   "metadata": {},
   "outputs": [],
   "source": []
  },
  {
   "cell_type": "code",
   "execution_count": 5,
   "metadata": {},
   "outputs": [
    {
     "data": {
      "text/plain": [
       "4"
      ]
     },
     "execution_count": 5,
     "metadata": {},
     "output_type": "execute_result"
    }
   ],
   "source": [
    "#wap to \n",
    "st=\"plpapsp\"\n",
    "def oc(coll,a,b):\n",
    "    count=0\n",
    "    for i in range(0,len(coll)):\n",
    "        if coll[i]==a:\n",
    "            count+=1\n",
    "        if count==b:\n",
    "            return i\n",
    "oc(st,'p',3)"
   ]
  },
  {
   "cell_type": "markdown",
   "metadata": {},
   "source": []
  },
  {
   "cell_type": "code",
   "execution_count": 5,
   "metadata": {},
   "outputs": [
    {
     "name": "stdout",
     "output_type": "stream",
     "text": [
      "200\n",
      "hii\n"
     ]
    },
    {
     "data": {
      "text/plain": [
       "<function __main__.outer(a=10, b=20)>"
      ]
     },
     "execution_count": 5,
     "metadata": {},
     "output_type": "execute_result"
    }
   ],
   "source": [
    "def outer(a=10,b=20):\n",
    "    print(a*b)\n",
    "    def inner():\n",
    "        print('hii')\n",
    "        return inner\n",
    "    inner()\n",
    "    return outer\n",
    "outer()"
   ]
  },
  {
   "cell_type": "code",
   "execution_count": 8,
   "metadata": {},
   "outputs": [
    {
     "name": "stdout",
     "output_type": "stream",
     "text": [
      "3 is a prime number\n"
     ]
    }
   ],
   "source": [
    "#series of prime numbers\n",
    "\n",
    "\n",
    "    \n"
   ]
  },
  {
   "cell_type": "code",
   "execution_count": 13,
   "metadata": {},
   "outputs": [
    {
     "name": "stdout",
     "output_type": "stream",
     "text": [
      "2 is a prime number\n",
      "3 is a prime number\n",
      "5 is a prime number\n",
      "7 is a prime number\n",
      "11 is a prime number\n",
      "13 is a prime number\n",
      "17 is a prime number\n",
      "19 is a prime number\n",
      "23 is a prime number\n",
      "29 is a prime number\n",
      "31 is a prime number\n",
      "37 is a prime number\n",
      "41 is a prime number\n",
      "43 is a prime number\n",
      "47 is a prime number\n",
      "53 is a prime number\n",
      "59 is a prime number\n",
      "61 is a prime number\n",
      "67 is a prime number\n",
      "71 is a prime number\n",
      "73 is a prime number\n",
      "79 is a prime number\n",
      "83 is a prime number\n",
      "89 is a prime number\n",
      "97 is a prime number\n",
      "101 is a prime number\n",
      "103 is a prime number\n",
      "107 is a prime number\n",
      "109 is a prime number\n",
      "113 is a prime number\n",
      "127 is a prime number\n",
      "131 is a prime number\n",
      "137 is a prime number\n",
      "139 is a prime number\n",
      "149 is a prime number\n",
      "151 is a prime number\n",
      "157 is a prime number\n",
      "163 is a prime number\n",
      "167 is a prime number\n",
      "173 is a prime number\n",
      "179 is a prime number\n",
      "181 is a prime number\n",
      "191 is a prime number\n",
      "193 is a prime number\n",
      "197 is a prime number\n",
      "199 is a prime number\n",
      "211 is a prime number\n",
      "223 is a prime number\n",
      "227 is a prime number\n",
      "229 is a prime number\n",
      "233 is a prime number\n",
      "239 is a prime number\n",
      "241 is a prime number\n",
      "251 is a prime number\n",
      "257 is a prime number\n",
      "263 is a prime number\n",
      "269 is a prime number\n",
      "271 is a prime number\n",
      "277 is a prime number\n",
      "281 is a prime number\n",
      "283 is a prime number\n",
      "293 is a prime number\n",
      "307 is a prime number\n",
      "311 is a prime number\n",
      "313 is a prime number\n",
      "317 is a prime number\n",
      "331 is a prime number\n",
      "337 is a prime number\n",
      "347 is a prime number\n",
      "349 is a prime number\n",
      "353 is a prime number\n",
      "359 is a prime number\n",
      "367 is a prime number\n",
      "373 is a prime number\n",
      "379 is a prime number\n",
      "383 is a prime number\n",
      "389 is a prime number\n",
      "397 is a prime number\n",
      "401 is a prime number\n",
      "409 is a prime number\n",
      "419 is a prime number\n",
      "421 is a prime number\n",
      "431 is a prime number\n",
      "433 is a prime number\n",
      "439 is a prime number\n",
      "443 is a prime number\n",
      "449 is a prime number\n",
      "457 is a prime number\n",
      "461 is a prime number\n",
      "463 is a prime number\n",
      "467 is a prime number\n",
      "479 is a prime number\n",
      "487 is a prime number\n",
      "491 is a prime number\n",
      "499 is a prime number\n",
      "503 is a prime number\n",
      "509 is a prime number\n",
      "521 is a prime number\n",
      "523 is a prime number\n",
      "541 is a prime number\n",
      "547 is a prime number\n",
      "557 is a prime number\n",
      "563 is a prime number\n",
      "569 is a prime number\n",
      "571 is a prime number\n",
      "577 is a prime number\n",
      "587 is a prime number\n",
      "593 is a prime number\n",
      "599 is a prime number\n",
      "601 is a prime number\n",
      "607 is a prime number\n",
      "613 is a prime number\n",
      "617 is a prime number\n",
      "619 is a prime number\n",
      "631 is a prime number\n",
      "641 is a prime number\n",
      "643 is a prime number\n",
      "647 is a prime number\n",
      "653 is a prime number\n",
      "659 is a prime number\n",
      "661 is a prime number\n",
      "673 is a prime number\n",
      "677 is a prime number\n",
      "683 is a prime number\n",
      "691 is a prime number\n",
      "701 is a prime number\n",
      "709 is a prime number\n",
      "719 is a prime number\n",
      "727 is a prime number\n",
      "733 is a prime number\n",
      "739 is a prime number\n",
      "743 is a prime number\n",
      "751 is a prime number\n",
      "757 is a prime number\n",
      "761 is a prime number\n",
      "769 is a prime number\n",
      "773 is a prime number\n",
      "787 is a prime number\n",
      "797 is a prime number\n",
      "809 is a prime number\n",
      "811 is a prime number\n",
      "821 is a prime number\n",
      "823 is a prime number\n",
      "827 is a prime number\n",
      "829 is a prime number\n",
      "839 is a prime number\n",
      "853 is a prime number\n",
      "857 is a prime number\n",
      "859 is a prime number\n",
      "863 is a prime number\n",
      "877 is a prime number\n",
      "881 is a prime number\n",
      "883 is a prime number\n",
      "887 is a prime number\n",
      "907 is a prime number\n",
      "911 is a prime number\n",
      "919 is a prime number\n",
      "929 is a prime number\n",
      "937 is a prime number\n",
      "941 is a prime number\n",
      "947 is a prime number\n",
      "953 is a prime number\n",
      "967 is a prime number\n",
      "971 is a prime number\n",
      "977 is a prime number\n",
      "983 is a prime number\n",
      "991 is a prime number\n",
      "997 is a prime number\n"
     ]
    }
   ],
   "source": [
    "start=1\n",
    "end=1000\n",
    "while start<=end:\n",
    "    i=1\n",
    "    n=start\n",
    "    count=0\n",
    "    while i<=n:\n",
    "        if n%i==0:\n",
    "            count+=1\n",
    "        i+=1\n",
    "    if count==2:\n",
    "        print(f'{n} is a prime number')\n",
    "    start+=1"
   ]
  },
  {
   "cell_type": "code",
   "execution_count": 15,
   "metadata": {},
   "outputs": [
    {
     "name": "stdout",
     "output_type": "stream",
     "text": [
      "hai\n",
      "30 gud afternoon\n",
      "bye\n"
     ]
    }
   ],
   "source": [
    "def outer(func):\n",
    "    def inner(*args,**kwargs ):\n",
    "        print('hai')\n",
    "        func(*args,**kwargs)\n",
    "        print('bye')\n",
    "    return inner\n",
    "@outer\n",
    "def sample(a,b):\n",
    "    print(a+b,'gud afternoon')\n",
    "sample(10,20)"
   ]
  },
  {
   "cell_type": "code",
   "execution_count": 4,
   "metadata": {},
   "outputs": [
    {
     "name": "stdout",
     "output_type": "stream",
     "text": [
      "hai\n",
      "bye\n"
     ]
    },
    {
     "data": {
      "text/plain": [
       "(30, 'gud afternoon')"
      ]
     },
     "execution_count": 4,
     "metadata": {},
     "output_type": "execute_result"
    }
   ],
   "source": [
    "def outer(func):\n",
    "    def inner(*args,**kwargs ):\n",
    "        print('hai')\n",
    "        res=func(*args,**kwargs)\n",
    "        print('bye')\n",
    "        return res\n",
    "    return inner\n",
    "@outer\n",
    "def sample(a,b):\n",
    "    return a+b,'gud afternoon'\n",
    "sample(10,20)"
   ]
  },
  {
   "cell_type": "code",
   "execution_count": 7,
   "metadata": {},
   "outputs": [
    {
     "name": "stdout",
     "output_type": "stream",
     "text": [
      "Testcase 0 ==> input is 2, output is passed \n",
      "Testcase 1 ==> input is 3, output is passed \n",
      "Testcase 2 ==> input is 11, output is passed \n",
      "Testcase 3 ==> input is 17, output is passed \n",
      "Testcase 4 ==> input is 97, output is passed \n",
      "Testcase 5 ==> input is 8, output is passed \n",
      "Testcase 6 ==> input is 10, output is passed \n",
      "Testcase 7 ==> input is 16, output is passed \n",
      "Testcase 8 ==> input is 123, output is passed \n"
     ]
    }
   ],
   "source": [
    "#checkprime()\n",
    "def check_prime(func):\n",
    "    def inner(*args,**kwargs):\n",
    "        d={2:True,3:True,11:True,17:True,97:True,8:False,10:False,16:False,123:False}\n",
    "        count=0\n",
    "        for i in d:\n",
    "            if func(i)==d[i]:\n",
    "                res=f'Testcase {count} ==> input is {i}, output is passed '\n",
    "            else:\n",
    "                res=f'Testcase {count} ==> input is {i} output is failed'\n",
    "            print(res)\n",
    "            count+=1\n",
    "    return inner\n",
    "@check_prime\n",
    "def prime(n):\n",
    "    for i in range(2,n):\n",
    "        if n%i==0:\n",
    "            return False\n",
    "    return True\n",
    "prime(11)"
   ]
  }
 ],
 "metadata": {
  "kernelspec": {
   "display_name": "Python 3",
   "language": "python",
   "name": "python3"
  },
  "language_info": {
   "codemirror_mode": {
    "name": "ipython",
    "version": 3
   },
   "file_extension": ".py",
   "mimetype": "text/x-python",
   "name": "python",
   "nbconvert_exporter": "python",
   "pygments_lexer": "ipython3",
   "version": "3.11.6"
  }
 },
 "nbformat": 4,
 "nbformat_minor": 2
}
