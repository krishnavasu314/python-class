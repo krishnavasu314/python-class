{
 "cells": [
  {
   "cell_type": "code",
   "execution_count": 22,
   "metadata": {},
   "outputs": [
    {
     "name": "stdout",
     "output_type": "stream",
     "text": [
      "10\n",
      "40\n"
     ]
    }
   ],
   "source": [
    "value={'a':10,'b':20,'c':30,'d':40}\n",
    "if type(value) in [int,float,complex]:\n",
    "    if type(value)==int:\n",
    "        print(value**3,f' is cube of the  {value}')\n",
    "    elif type(value)==float:\n",
    "        print(int(value))\n",
    "    else:\n",
    "        print(value*5)\n",
    "elif type(value) in [tuple,str]:\n",
    "    if type(value)==str:\n",
    "        print(value[-2::-2])\n",
    "    else:\n",
    "        print(value[len(value)//2:len(value)//2+1]+value[1:len(value)//2]+value[0:1]+value[3:])\n",
    "elif type(value)==bool:\n",
    "    print(~value)\n",
    "elif type(value)==list:\n",
    "    del value[len(value)//2]\n",
    "    print(value)\n",
    "    print(value[-1])\n",
    "elif type(value) in [set,dict]:\n",
    "    if type(value)==set:\n",
    "        print(tuple(value))\n",
    "    else:\n",
    "        print(value['a'])\n",
    "        print(value['d'])\n",
    "            \n",
    "\n"
   ]
  },
  {
   "cell_type": "code",
   "execution_count": null,
   "metadata": {},
   "outputs": [],
   "source": []
  }
 ],
 "metadata": {
  "kernelspec": {
   "display_name": "Python 3",
   "language": "python",
   "name": "python3"
  },
  "language_info": {
   "codemirror_mode": {
    "name": "ipython",
    "version": 3
   },
   "file_extension": ".py",
   "mimetype": "text/x-python",
   "name": "python",
   "nbconvert_exporter": "python",
   "pygments_lexer": "ipython3",
   "version": "3.11.6"
  }
 },
 "nbformat": 4,
 "nbformat_minor": 2
}
