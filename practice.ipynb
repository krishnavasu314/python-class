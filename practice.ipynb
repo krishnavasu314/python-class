{
 "cells": [
  {
   "cell_type": "code",
   "execution_count": 22,
   "metadata": {},
   "outputs": [
    {
     "name": "stdout",
     "output_type": "stream",
     "text": [
      "10\n",
      "40\n"
     ]
    }
   ],
   "source": [
    "value={'a':10,'b':20,'c':30,'d':40}\n",
    "if type(value) in [int,float,complex]:\n",
    "    if type(value)==int:\n",
    "        print(value**3,f' is cube of the  {value}')\n",
    "    elif type(value)==float:\n",
    "        print(int(value))\n",
    "    else:\n",
    "        print(value*5)\n",
    "elif type(value) in [tuple,str]:\n",
    "    if type(value)==str:\n",
    "        print(value[-2::-2])\n",
    "    else:\n",
    "        print(value[len(value)//2:len(value)//2+1]+value[1:len(value)//2]+value[0:1]+value[3:])\n",
    "elif type(value)==bool:\n",
    "    print(~value)\n",
    "elif type(value)==list:\n",
    "    del value[len(value)//2]\n",
    "    print(value)\n",
    "    print(value[-1])\n",
    "elif type(value) in [set,dict]:\n",
    "    if type(value)==set:\n",
    "        print(tuple(value))\n",
    "    else:\n",
    "        print(value['a'])\n",
    "        print(value['d'])\n",
    "            \n",
    "\n"
   ]
  },
  {
   "cell_type": "code",
   "execution_count": null,
   "metadata": {},
   "outputs": [],
   "source": [
    "text = \"Hello, World!\"\n",
    "bytedata = text.encode('utf-8')\n",
    "print(bytedata)\n",
    "decodedtext = bytedata.decode('utf-8')\n",
    "print(decodedtext[0])"
   ]
  },
  {
   "cell_type": "code",
   "execution_count": 1,
   "metadata": {},
   "outputs": [
    {
     "name": "stdout",
     "output_type": "stream",
     "text": [
      "s\n"
     ]
    },
    {
     "data": {
      "text/plain": [
       "<function __main__.salaar(a)>"
      ]
     },
     "execution_count": 1,
     "metadata": {},
     "output_type": "execute_result"
    }
   ],
   "source": [
    "def salaar(a):\n",
    "    print('s')\n",
    "    return salaar\n",
    "salaar(10)\n"
   ]
  },
  {
   "cell_type": "code",
   "execution_count": 5,
   "metadata": {},
   "outputs": [
    {
     "name": "stdout",
     "output_type": "stream",
     "text": [
      "['I Play Hockey', 'I Love Hockey', 'I Play Football', 'I Love Football', 'You Play Hockey', 'You Love Hockey', 'You Play Football', 'You Love Football']\n"
     ]
    }
   ],
   "source": [
    "s1=[\"I\", \"You\"]\n",
    "s2=[\"Play\", \"Love\"]\n",
    "s3=[\"Hockey\", \"Football\"]\n",
    "res=''\n",
    "l=[]\n",
    "for i in s1:\n",
    "    for j in s3:\n",
    "        for k in s2:\n",
    "            res=i+' '+k+' '+j\n",
    "            l+=[res]        \n",
    "            res=''\n",
    "print(l)\n"
   ]
  },
  {
   "cell_type": "code",
   "execution_count": 9,
   "metadata": {},
   "outputs": [
    {
     "name": "stdout",
     "output_type": "stream",
     "text": [
      "145\n"
     ]
    }
   ],
   "source": [
    "sum=0\n",
    "start=145\n",
    "sum=0\n",
    "temp=start\n",
    "while start:\n",
    "    ld=start%10\n",
    "    product=1\n",
    "    i=1\n",
    "    while i<=ld:\n",
    "        product=product*i\n",
    "        i+=1\n",
    "    sum+=product\n",
    "    start//=10\n",
    "if sum==temp:\n",
    "    print(temp)"
   ]
  },
  {
   "cell_type": "code",
   "execution_count": 11,
   "metadata": {},
   "outputs": [
    {
     "data": {
      "text/plain": [
       "True"
      ]
     },
     "execution_count": 11,
     "metadata": {},
     "output_type": "execute_result"
    }
   ],
   "source": [
    "def prime(n):\n",
    "    for i in range(2,n+1):\n",
    "        if n%i==0:\n",
    "            return False\n",
    "        return True \n",
    "prime(3)"
   ]
  },
  {
   "cell_type": "code",
   "execution_count": null,
   "metadata": {},
   "outputs": [],
   "source": []
  }
 ],
 "metadata": {
  "kernelspec": {
   "display_name": "Python 3",
   "language": "python",
   "name": "python3"
  },
  "language_info": {
   "codemirror_mode": {
    "name": "ipython",
    "version": 3
   },
   "file_extension": ".py",
   "mimetype": "text/x-python",
   "name": "python",
   "nbconvert_exporter": "python",
   "pygments_lexer": "ipython3",
   "version": "3.11.6"
  }
 },
 "nbformat": 4,
 "nbformat_minor": 2
}
