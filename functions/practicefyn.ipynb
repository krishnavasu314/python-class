{
 "cells": [
  {
   "cell_type": "code",
   "execution_count": 3,
   "metadata": {},
   "outputs": [
    {
     "name": "stdout",
     "output_type": "stream",
     "text": [
      "haii\n",
      "None\n"
     ]
    }
   ],
   "source": [
    "def sample():\n",
    "    print('haii')\n",
    "print(sample())\n",
    "  \n"
   ]
  },
  {
   "cell_type": "code",
   "execution_count": 12,
   "metadata": {},
   "outputs": [
    {
     "name": "stdout",
     "output_type": "stream",
     "text": [
      "200\n",
      "{'z': 200}\n",
      "(30, 4000, 22222)\n"
     ]
    }
   ],
   "source": [
    "def sample(a,b,*args,**s,):\n",
    "    \n",
    "    print(a*b)\n",
    "    print(s)\n",
    "    print(args)\n",
    "sample(10,20,30,4000,22222,z=200)\n"
   ]
  },
  {
   "cell_type": "code",
   "execution_count": 38,
   "metadata": {},
   "outputs": [
    {
     "name": "stdout",
     "output_type": "stream",
     "text": [
      "a b c d (20,) {}\n",
      "10 20 30 40 () {'e': 40, 'q': 100}\n"
     ]
    }
   ],
   "source": [
    "t={'a':10,'b':20,'c':30,'d':40}\n",
    "def sample(a,b,c,d,*args,**kwargs):\n",
    "    print(a,b,c,d,args,kwargs)\n",
    "sample(*t,20)\n",
    "sample(**t,e=40,q=100)"
   ]
  },
  {
   "cell_type": "code",
   "execution_count": 50,
   "metadata": {},
   "outputs": [
    {
     "name": "stdout",
     "output_type": "stream",
     "text": [
      "hello\n",
      "haii\n",
      "<function outer.<locals>.inner at 0x0000024A58DBC5E0>\n"
     ]
    }
   ],
   "source": [
    "def outer():\n",
    "    print('hello')\n",
    "    def inner():\n",
    "        print('haii')\n",
    "        return inner\n",
    "    return inner()\n",
    "print(outer())\n",
    "\n"
   ]
  },
  {
   "cell_type": "code",
   "execution_count": null,
   "metadata": {},
   "outputs": [],
   "source": []
  }
 ],
 "metadata": {
  "kernelspec": {
   "display_name": "Python 3",
   "language": "python",
   "name": "python3"
  },
  "language_info": {
   "codemirror_mode": {
    "name": "ipython",
    "version": 3
   },
   "file_extension": ".py",
   "mimetype": "text/x-python",
   "name": "python",
   "nbconvert_exporter": "python",
   "pygments_lexer": "ipython3",
   "version": "3.11.6"
  }
 },
 "nbformat": 4,
 "nbformat_minor": 2
}
