{
 "cells": [
  {
   "cell_type": "code",
   "execution_count": 3,
   "metadata": {},
   "outputs": [
    {
     "name": "stdout",
     "output_type": "stream",
     "text": [
      "haii\n",
      "None\n"
     ]
    }
   ],
   "source": [
    "def sample():\n",
    "    print('haii')\n",
    "print(sample())\n",
    "  \n"
   ]
  },
  {
   "cell_type": "code",
   "execution_count": 12,
   "metadata": {},
   "outputs": [
    {
     "name": "stdout",
     "output_type": "stream",
     "text": [
      "200\n",
      "{'z': 200}\n",
      "(30, 4000, 22222)\n"
     ]
    }
   ],
   "source": [
    "def sample(a,b,*args,**s,):\n",
    "    \n",
    "    print(a*b)\n",
    "    print(s)\n",
    "    print(args)\n",
    "sample(10,20,30,4000,22222,z=200)\n"
   ]
  },
  {
   "cell_type": "code",
   "execution_count": 38,
   "metadata": {},
   "outputs": [
    {
     "name": "stdout",
     "output_type": "stream",
     "text": [
      "a b c d (20,) {}\n",
      "10 20 30 40 () {'e': 40, 'q': 100}\n"
     ]
    }
   ],
   "source": [
    "t={'a':10,'b':20,'c':30,'d':40}\n",
    "def sample(a,b,c,d,*args,**kwargs):\n",
    "    print(a,b,c,d,args,kwargs)\n",
    "sample(*t,20)\n",
    "sample(**t,e=40,q=100)"
   ]
  },
  {
   "cell_type": "code",
   "execution_count": 50,
   "metadata": {},
   "outputs": [
    {
     "name": "stdout",
     "output_type": "stream",
     "text": [
      "hello\n",
      "haii\n",
      "<function outer.<locals>.inner at 0x0000024A58DBC5E0>\n"
     ]
    }
   ],
   "source": [
    "def outer():\n",
    "    print('hello')\n",
    "    def inner():\n",
    "        print('haii')\n",
    "        return inner\n",
    "    return inner()\n",
    "print(outer())\n",
    "\n"
   ]
  },
  {
   "cell_type": "code",
   "execution_count": 6,
   "metadata": {},
   "outputs": [
    {
     "ename": "TypeError",
     "evalue": "map() must have at least two arguments.",
     "output_type": "error",
     "traceback": [
      "\u001b[1;31m---------------------------------------------------------------------------\u001b[0m",
      "\u001b[1;31mTypeError\u001b[0m                                 Traceback (most recent call last)",
      "\u001b[1;32mc:\\Users\\bonthala\\Documents\\GitHub\\python-class\\functions\\practicefyn.ipynb Cell 5\u001b[0m line \u001b[0;36m3\n\u001b[0;32m      <a href='vscode-notebook-cell:/c%3A/Users/bonthala/Documents/GitHub/python-class/functions/practicefyn.ipynb#W4sZmlsZQ%3D%3D?line=0'>1</a>\u001b[0m \u001b[39m#map function \u001b[39;00m\n\u001b[0;32m      <a href='vscode-notebook-cell:/c%3A/Users/bonthala/Documents/GitHub/python-class/functions/practicefyn.ipynb#W4sZmlsZQ%3D%3D?line=1'>2</a>\u001b[0m l\u001b[39m=\u001b[39m[\u001b[39m1\u001b[39m,\u001b[39m2\u001b[39m,\u001b[39m3\u001b[39m,\u001b[39m4\u001b[39m]\n\u001b[1;32m----> <a href='vscode-notebook-cell:/c%3A/Users/bonthala/Documents/GitHub/python-class/functions/practicefyn.ipynb#W4sZmlsZQ%3D%3D?line=2'>3</a>\u001b[0m res\u001b[39m=\u001b[39m\u001b[39mlist\u001b[39m(\u001b[39mmap\u001b[39;49m(i \u001b[39mfor\u001b[39;49;00m i \u001b[39min\u001b[39;49;00m l))\n\u001b[0;32m      <a href='vscode-notebook-cell:/c%3A/Users/bonthala/Documents/GitHub/python-class/functions/practicefyn.ipynb#W4sZmlsZQ%3D%3D?line=3'>4</a>\u001b[0m \u001b[39mprint\u001b[39m(res)\n",
      "\u001b[1;31mTypeError\u001b[0m: map() must have at least two arguments."
     ]
    }
   ],
   "source": []
  }
 ],
 "metadata": {
  "kernelspec": {
   "display_name": "Python 3",
   "language": "python",
   "name": "python3"
  },
  "language_info": {
   "codemirror_mode": {
    "name": "ipython",
    "version": 3
   },
   "file_extension": ".py",
   "mimetype": "text/x-python",
   "name": "python",
   "nbconvert_exporter": "python",
   "pygments_lexer": "ipython3",
   "version": "3.11.6"
  }
 },
 "nbformat": 4,
 "nbformat_minor": 2
}
