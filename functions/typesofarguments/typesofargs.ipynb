{
 "cells": [
  {
   "cell_type": "code",
   "execution_count": 1,
   "metadata": {},
   "outputs": [
    {
     "data": {
      "text/plain": [
       "(10, 20, 30)"
      ]
     },
     "execution_count": 1,
     "metadata": {},
     "output_type": "execute_result"
    }
   ],
   "source": [
    "#formal arguments(which is used as function definition )\n",
    "#1 postional arguments\n",
    "def formalposargs(a,b,c):\n",
    "    return a,b,c\n",
    "formalposargs(10,20,30)\n",
    "\n"
   ]
  },
  {
   "cell_type": "code",
   "execution_count": 2,
   "metadata": {},
   "outputs": [
    {
     "name": "stdout",
     "output_type": "stream",
     "text": [
      "10 20 30\n"
     ]
    }
   ],
   "source": [
    "#2 default arguments \n",
    "def formaldefault(a=10,b=20,c=30):\n",
    "    print(a,b,c)\n",
    "formaldefault()"
   ]
  },
  {
   "cell_type": "code",
   "execution_count": 9,
   "metadata": {},
   "outputs": [
    {
     "name": "stdout",
     "output_type": "stream",
     "text": [
      "(10, 20, 30)\n",
      "(10,)\n",
      "{'a': 10, 'b': 20}\n",
      "{'a': 'dictvarlen'}\n"
     ]
    }
   ],
   "source": [
    "#3 variable length -packing\n",
    "# it is of two types : \n",
    "# tuple variable length\n",
    "\n",
    "def tuplvarlen(*args):\n",
    "    print(args)\n",
    "tuplvarlen(10,20,30)\n",
    "tuplvarlen(10)\n",
    "\n",
    "#  dictionary variable length\n",
    "def dictvarlen(**kwargs):\n",
    "    print(kwargs)\n",
    "dictvarlen(a=10,b=20)\n",
    "dictvarlen(a='dictvarlen')\n"
   ]
  },
  {
   "cell_type": "code",
   "execution_count": 12,
   "metadata": {},
   "outputs": [
    {
     "name": "stdout",
     "output_type": "stream",
     "text": [
      "10 20 30\n",
      "40 50 70\n"
     ]
    }
   ],
   "source": [
    "#Actual Arguments (which is used as in the fucntion call) \n",
    "#1 postional arguments\n",
    "n=50\n",
    "m=40\n",
    "c=70\n",
    "def posargs(a,b,c):\n",
    "    print(a,b,c)\n",
    "posargs(10,20,30)\n",
    "posargs(m,n,c)\n",
    "\n",
    "\n"
   ]
  },
  {
   "cell_type": "code",
   "execution_count": 17,
   "metadata": {},
   "outputs": [
    {
     "name": "stdout",
     "output_type": "stream",
     "text": [
      "40 50 70\n",
      "40 50 70\n",
      "80 90 100\n"
     ]
    }
   ],
   "source": [
    "#2 keyword arguments \n",
    "def keywordargs(a,b,c):\n",
    "    print(a,b,c)\n",
    "keywordargs(a=40,b=50,c=70)\n",
    "\n",
    "\n",
    "def keywordargs1(am=40,bm=40,cm=40):\n",
    "    print(am,bm,cm)\n",
    "keywordargs1(am=40,bm=50,cm=70)\n",
    "keywordargs1(am=80,bm=90,cm=100)\n",
    "\n"
   ]
  },
  {
   "cell_type": "code",
   "execution_count": 11,
   "metadata": {},
   "outputs": [
    {
     "name": "stdout",
     "output_type": "stream",
     "text": [
      "a b c d\n",
      "1 2 3\n"
     ]
    }
   ],
   "source": [
    "#3 variable length \n",
    "t='abcd'\n",
    "def varlen(a,b,c,d):\n",
    "    print(a,b,c,d) #tuple unpacking\n",
    "varlen(*t)\n",
    "\n",
    "d={'a':1,'b':2,'c':3}\n",
    "def varlen(a,b,c):\n",
    "    print(a,b,c) #dict unpacking\n",
    "varlen(**d)\n",
    "\n"
   ]
  }
 ],
 "metadata": {
  "kernelspec": {
   "display_name": "Python 3",
   "language": "python",
   "name": "python3"
  },
  "language_info": {
   "codemirror_mode": {
    "name": "ipython",
    "version": 3
   },
   "file_extension": ".py",
   "mimetype": "text/x-python",
   "name": "python",
   "nbconvert_exporter": "python",
   "pygments_lexer": "ipython3",
   "version": "3.11.6"
  }
 },
 "nbformat": 4,
 "nbformat_minor": 2
}
