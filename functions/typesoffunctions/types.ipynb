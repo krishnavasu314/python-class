{
 "cells": [
  {
   "cell_type": "code",
   "execution_count": 1,
   "metadata": {},
   "outputs": [
    {
     "name": "stdout",
     "output_type": "stream",
     "text": [
      "this is a function\n"
     ]
    }
   ],
   "source": [
    "#without arguments and without return keyword\n",
    "def sample():\n",
    "    print('this is a function')\n",
    "sample()"
   ]
  },
  {
   "cell_type": "code",
   "execution_count": 3,
   "metadata": {},
   "outputs": [
    {
     "name": "stdout",
     "output_type": "stream",
     "text": [
      "this is fucntion without arguments and with return keyword\n"
     ]
    },
    {
     "data": {
      "text/plain": [
       "'second type'"
      ]
     },
     "execution_count": 3,
     "metadata": {},
     "output_type": "execute_result"
    }
   ],
   "source": [
    "#without arguments and with return keyword\n",
    "def sample():\n",
    "    print('this is fucntion without arguments and with return keyword')\n",
    "    return 'second type'\n",
    "sample()"
   ]
  },
  {
   "cell_type": "code",
   "execution_count": 4,
   "metadata": {},
   "outputs": [
    {
     "name": "stdout",
     "output_type": "stream",
     "text": [
      "with arguments and with return keyword\n"
     ]
    },
    {
     "data": {
      "text/plain": [
       "(1, 2)"
      ]
     },
     "execution_count": 4,
     "metadata": {},
     "output_type": "execute_result"
    }
   ],
   "source": [
    "#with arguments and with return keyword \n",
    "def sample(arg1,arg2):\n",
    "    print('with arguments and with return keyword')\n",
    "    return arg1,arg2\n",
    "sample(1,2)"
   ]
  },
  {
   "cell_type": "code",
   "execution_count": 5,
   "metadata": {},
   "outputs": [
    {
     "name": "stdout",
     "output_type": "stream",
     "text": [
      "with arguments and with return keyword\n",
      "1 2\n"
     ]
    }
   ],
   "source": [
    "#with arguments and without return keyword \n",
    "def sample(arg1,arg2):\n",
    "    print('with arguments and with return keyword')\n",
    "    print(arg1,arg2)\n",
    "sample(1,2)"
   ]
  }
 ],
 "metadata": {
  "kernelspec": {
   "display_name": "Python 3",
   "language": "python",
   "name": "python3"
  },
  "language_info": {
   "codemirror_mode": {
    "name": "ipython",
    "version": 3
   },
   "file_extension": ".py",
   "mimetype": "text/x-python",
   "name": "python",
   "nbconvert_exporter": "python",
   "pygments_lexer": "ipython3",
   "version": "3.11.6"
  }
 },
 "nbformat": 4,
 "nbformat_minor": 2
}
