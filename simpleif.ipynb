{
 "cells": [
  {
   "cell_type": "code",
   "execution_count": 1,
   "metadata": {},
   "outputs": [
    {
     "name": "stdout",
     "output_type": "stream",
     "text": [
      "Positive\n"
     ]
    }
   ],
   "source": [
    "#1WAP to check whether a number is positive. If Positive, print a message Positive.\n",
    "number=20\n",
    "if number >=0:\n",
    "    print(\"Positive\")\n",
    "number=-20\n",
    "if number >=0:\n",
    "    print(\"Positive\")"
   ]
  },
  {
   "cell_type": "code",
   "execution_count": 2,
   "metadata": {},
   "outputs": [
    {
     "name": "stdout",
     "output_type": "stream",
     "text": [
      "hello world\n"
     ]
    }
   ],
   "source": [
    "#2WAP to display hello world if the number is greater than 1 and lesser than 5\n",
    "number=4\n",
    "if 1<number<5:\n",
    "    print(\"hello world\")\n",
    "number=7\n",
    "if 1<number<5:\n",
    "    print(\"hello world\")"
   ]
  },
  {
   "cell_type": "code",
   "execution_count": 3,
   "metadata": {},
   "outputs": [
    {
     "name": "stdout",
     "output_type": "stream",
     "text": [
      "fizz\n"
     ]
    }
   ],
   "source": [
    "#3WAP to check whether the given number is divisible by 3 or not if print fizz\n",
    "number=21\n",
    "if number%3==0:\n",
    "    print('fizz')\n",
    "number=22\n",
    "if number%3==0:\n",
    "    print('fizz')"
   ]
  },
  {
   "cell_type": "code",
   "execution_count": 4,
   "metadata": {},
   "outputs": [
    {
     "name": "stdout",
     "output_type": "stream",
     "text": [
      "(12+0j)\n",
      "(24+0j)\n"
     ]
    }
   ],
   "source": [
    "#4WAP to check whether given input is divisible by 2 and 6. If the condition is \n",
    "# satisfied, convert the given number into a complex number.\n",
    "number=12\n",
    "if number%2==0 and number%6==0:\n",
    "    print(complex(number))\n",
    "number=24\n",
    "if number%2==0 and number%6==0:\n",
    "    print(complex(number))\n",
    "number=10\n",
    "if number%2==0 and number%6==0:\n",
    "    print(complex(number))\n",
    "\n"
   ]
  },
  {
   "cell_type": "code",
   "execution_count": 5,
   "metadata": {},
   "outputs": [
    {
     "name": "stdout",
     "output_type": "stream",
     "text": [
      "['3', '0']\n"
     ]
    }
   ],
   "source": [
    "#5WAP to check whether a given input is divisible by 3 or 5. If the condition is \n",
    "# satisfied, the number is converted to a list.\n",
    "# i/p: 30\n",
    "# o/p:[‘3’,’0’]\n",
    "number=30\n",
    "if number%2==0 and number%6==0:\n",
    "    print(list(str(number)))\n"
   ]
  },
  {
   "cell_type": "code",
   "execution_count": 6,
   "metadata": {},
   "outputs": [
    {
     "name": "stdout",
     "output_type": "stream",
     "text": [
      "30\n"
     ]
    }
   ],
   "source": [
    "#6Write a program to check whether a given number is multiple of 5 or not\n",
    "number=30\n",
    "if number%5==0:\n",
    "    print(number)\n",
    "number=47\n",
    "if number%5==0:\n",
    "    print(number)\n"
   ]
  },
  {
   "cell_type": "code",
   "execution_count": 7,
   "metadata": {},
   "outputs": [
    {
     "name": "stdout",
     "output_type": "stream",
     "text": [
      "0\n"
     ]
    }
   ],
   "source": [
    "#7 WAP to check whether the given input is 0 or not if 0 prints 0\n",
    "number=0\n",
    "if number==0 :\n",
    "    print(number)"
   ]
  },
  {
   "cell_type": "code",
   "execution_count": 8,
   "metadata": {},
   "outputs": [
    {
     "name": "stdout",
     "output_type": "stream",
     "text": [
      "negative\n"
     ]
    }
   ],
   "source": [
    "#8 WAP to check whether a number is negative. If negative, print a message \n",
    "#negative\n",
    "number=-10\n",
    "if number <0:\n",
    "    print('negative')\n",
    "number=10\n",
    "if number <0:\n",
    "    print('negative')"
   ]
  },
  {
   "cell_type": "code",
   "execution_count": 9,
   "metadata": {},
   "outputs": [
    {
     "name": "stdout",
     "output_type": "stream",
     "text": [
      "['2', '0']\n"
     ]
    }
   ],
   "source": [
    "#9WAP to check whether a number is even or not. If even, store the value inside \n",
    "# the list.\n",
    "number=20\n",
    "if number%2==0:\n",
    "    print(list(str(number)))"
   ]
  },
  {
   "cell_type": "code",
   "execution_count": 10,
   "metadata": {},
   "outputs": [
    {
     "name": "stdout",
     "output_type": "stream",
     "text": [
      "('2', '1')\n"
     ]
    }
   ],
   "source": [
    "#10 WAP to check whether a number is odd or not. If odd, store the value inside the \n",
    "#tuple.\n",
    "number=21\n",
    "if number%2!=0:\n",
    "    print(tuple(str(number)))"
   ]
  },
  {
   "cell_type": "code",
   "execution_count": 11,
   "metadata": {},
   "outputs": [
    {
     "name": "stdout",
     "output_type": "stream",
     "text": [
      "160000\n"
     ]
    }
   ],
   "source": [
    "#11 WAP to check if the given number is even or not. if it is yes, to print the power of \n",
    "# 4 in a given number\n",
    "number=20\n",
    "if number%2==0:\n",
    "    print(number**4)\n",
    "number=21\n",
    "if number%2==0:\n",
    "    print(number**4)"
   ]
  },
  {
   "cell_type": "code",
   "execution_count": 12,
   "metadata": {},
   "outputs": [
    {
     "ename": "ValueError",
     "evalue": "invalid literal for int() with base 10: ''",
     "output_type": "error",
     "traceback": [
      "\u001b[1;31m---------------------------------------------------------------------------\u001b[0m",
      "\u001b[1;31mValueError\u001b[0m                                Traceback (most recent call last)",
      "Cell \u001b[1;32mIn[12], line 3\u001b[0m\n\u001b[0;32m      1\u001b[0m \u001b[39m#12 WAP to take the input from the user as a number and check whether it is a number \u001b[39;00m\n\u001b[0;32m      2\u001b[0m \u001b[39m# or not. if yes. take the number and add some value and print it\u001b[39;00m\n\u001b[1;32m----> 3\u001b[0m n\u001b[39m=\u001b[39m\u001b[39mint\u001b[39;49m(\u001b[39minput\u001b[39;49m(\u001b[39m\"\u001b[39;49m\u001b[39menter a number\u001b[39;49m\u001b[39m\"\u001b[39;49m))\n\u001b[0;32m      4\u001b[0m \u001b[39mif\u001b[39;00m \u001b[39mtype\u001b[39m(n)\u001b[39m==\u001b[39m\u001b[39mint\u001b[39m:\n\u001b[0;32m      5\u001b[0m     \u001b[39mprint\u001b[39m(n\u001b[39m+\u001b[39m\u001b[39m10\u001b[39m)\n",
      "\u001b[1;31mValueError\u001b[0m: invalid literal for int() with base 10: ''"
     ]
    }
   ],
   "source": [
    "#12 WAP to take the input from the user as a number and check whether it is a number \n",
    "# or not. if yes. take the number and add some value and print it\n",
    "n=int(input(\"enter a number\"))\n",
    "if type(n)==int:\n",
    "    print(n+10)"
   ]
  },
  {
   "cell_type": "code",
   "execution_count": null,
   "metadata": {},
   "outputs": [
    {
     "name": "stdout",
     "output_type": "stream",
     "text": [
      "hello world\n"
     ]
    }
   ],
   "source": [
    "#13 WAP to display hello world if the number is greater than 1 and less than 5.\n",
    "number=4\n",
    "if 1<number<5:\n",
    "    print(\"hello world\")\n",
    "number=7\n",
    "if 1<number<5:\n",
    "    print(\"hello world\")"
   ]
  },
  {
   "cell_type": "code",
   "execution_count": null,
   "metadata": {},
   "outputs": [
    {
     "name": "stdout",
     "output_type": "stream",
     "text": [
      "1225\n"
     ]
    }
   ],
   "source": [
    "#14 AP to check whether a given value is divisible by 5 and 7. If the value is \n",
    "# divisible,to display the square of the values\n",
    "number=35\n",
    "if number%5==0 and number%7==0:\n",
    "    print(number**2)\n",
    "number=40\n",
    "if number%5==0 and number%7==0:\n",
    "    print(number**2)\n",
    "    "
   ]
  },
  {
   "cell_type": "code",
   "execution_count": null,
   "metadata": {},
   "outputs": [
    {
     "name": "stdout",
     "output_type": "stream",
     "text": [
      "22\n"
     ]
    }
   ],
   "source": [
    "#15 WAP to check whether the given value's last digit is greater than 5 or not.if \n",
    "# greater, to perform the bitwise right shift operator (skipping value is 2)\n",
    "number=88\n",
    "if number%10>5:\n",
    "    print(number>>2)\n",
    "number=82\n",
    "if number%10>5:\n",
    "    print(number>>2)\n"
   ]
  },
  {
   "cell_type": "code",
   "execution_count": null,
   "metadata": {},
   "outputs": [
    {
     "name": "stdout",
     "output_type": "stream",
     "text": [
      "324\n"
     ]
    }
   ],
   "source": [
    "#16 WAP to check whether a given value is divisible by 3 and less than 30. If the value \n",
    "# is divisible,to display the square of the values.\n",
    "number=18\n",
    "if number%3==0 and number<30:\n",
    "    print(number**2)\n",
    "number=30\n",
    "if number%3==0 and number<30:\n",
    "    print(number**2)\n"
   ]
  },
  {
   "cell_type": "code",
   "execution_count": null,
   "metadata": {},
   "outputs": [
    {
     "name": "stdout",
     "output_type": "stream",
     "text": [
      "13824\n"
     ]
    }
   ],
   "source": [
    "#17 WAP to check whether a given value is an even number and divisible by 4. If \n",
    "# satisfied ,to display the cube of the values.\n",
    "number=24\n",
    "if number%2==0 and number%4==0:\n",
    "    print(number**3)\n",
    "number=30\n",
    "if number%2==0 and number%4==0:\n",
    "    print(number**3)"
   ]
  },
  {
   "cell_type": "code",
   "execution_count": null,
   "metadata": {},
   "outputs": [
    {
     "name": "stdout",
     "output_type": "stream",
     "text": [
      "['2', '0']\n"
     ]
    }
   ],
   "source": [
    "#18 WAP to check whether a given value is even or not. If the even number stores the \n",
    "# value inside the list.\n",
    "number=20\n",
    "if number%2==0:\n",
    "    print(list(str(number)))\n",
    "number=45\n",
    "if number%2==0:\n",
    "    print(list(str(number)))"
   ]
  },
  {
   "cell_type": "code",
   "execution_count": null,
   "metadata": {},
   "outputs": [
    {
     "name": "stdout",
     "output_type": "stream",
     "text": [
      "0\n",
      "8\n"
     ]
    }
   ],
   "source": [
    "#19WAP to check whether a given value is a negative or even number. If satisfied ,to \n",
    "# display the last digit of the values.\n",
    "number=30\n",
    "if number%2==0 or number<0:\n",
    "    print(number%10)\n",
    "number=-22\n",
    "if number%2==0 or number<0:\n",
    "    print(number%10)"
   ]
  },
  {
   "cell_type": "code",
   "execution_count": null,
   "metadata": {},
   "outputs": [
    {
     "name": "stdout",
     "output_type": "stream",
     "text": [
      "-13824\n"
     ]
    }
   ],
   "source": [
    "#20 WAP to check whether a given value is a negative or odd number and divisible \n",
    "# by 4. If satisfied ,to display the cube of the values.\n",
    "number=-24\n",
    "if number%2!=0 or number<0 and number%4==0:\n",
    "    print(number**3)\n",
    "number=23\n",
    "if number%2!=0 or number<0 and number%4==0:\n",
    "    print(number**3)\n"
   ]
  },
  {
   "cell_type": "code",
   "execution_count": null,
   "metadata": {},
   "outputs": [
    {
     "name": "stdout",
     "output_type": "stream",
     "text": [
      "0\n"
     ]
    }
   ],
   "source": [
    "#21 WAP to check whether a given ascii value is divisible by 4 and even value. If \n",
    "# satisfied, to display the ascii character.\n",
    "val='a'\n",
    "if ord(val)%4==0 and ord(val)%2==0:\n",
    "    print(val)\n",
    "val='0'\n",
    "if ord(val)%4==0 and ord(val)%2==0:\n",
    "    print(val)"
   ]
  },
  {
   "cell_type": "code",
   "execution_count": null,
   "metadata": {},
   "outputs": [
    {
     "name": "stdout",
     "output_type": "stream",
     "text": [
      "x\n",
      "d\n"
     ]
    }
   ],
   "source": [
    "#22 WAP to check whether a given value is present in between 45 to 125 and the \n",
    "# number should be divisible by 4 and 5 and even value. If satisfied, to display the \n",
    "# ascii character.\n",
    "number=120\n",
    "if number%2==0 and 45<number<125 and number%5==0 and number%4==0:\n",
    "    print(chr(number))\n",
    "number=100\n",
    "if number%2==0 and 45<number<125 and number%5==0 and number%4==0:\n",
    "    print(chr(number))\n"
   ]
  },
  {
   "cell_type": "code",
   "execution_count": null,
   "metadata": {},
   "outputs": [
    {
     "name": "stdout",
     "output_type": "stream",
     "text": [
      "300\n"
     ]
    }
   ],
   "source": [
    "#23 WAP to check whether a given value is present in between 25 to 100 and the \n",
    "# number should be divisible by 4 and 5. If satisfied, to display multiplication of \n",
    "# given value with 5.\n",
    "number=120\n",
    "if 25<number<100 and number%5==0 and number%4==0:\n",
    "    print(number*5)\n",
    "number=60\n",
    "if 25<number<100 and number%5==0 and number%4==0:\n",
    "    print(number*5)"
   ]
  },
  {
   "cell_type": "code",
   "execution_count": null,
   "metadata": {},
   "outputs": [
    {
     "name": "stdout",
     "output_type": "stream",
     "text": [
      "6\n",
      "25\n"
     ]
    }
   ],
   "source": [
    "#24WAP to check whether a given number is an integer and odd number. If the \n",
    "# condition is satisfied, the integer is divisible by 5 and displays the result.\n",
    "number=33\n",
    "if number%2!=0 and type(number)==int:\n",
    "    print(number//5)\n",
    "number=125\n",
    "if number%2!=0 and type(number)==int:\n",
    "    print(number//5)"
   ]
  },
  {
   "cell_type": "code",
   "execution_count": null,
   "metadata": {},
   "outputs": [
    {
     "name": "stdout",
     "output_type": "stream",
     "text": [
      "18\n"
     ]
    }
   ],
   "source": [
    "#25 WAP to check whether a given value is an integer or not. If integer, the given \n",
    "# value is converted to string and displays the result.\n",
    "number=18\n",
    "if type(number)==int:\n",
    "    print(str(number))\n"
   ]
  },
  {
   "cell_type": "code",
   "execution_count": null,
   "metadata": {},
   "outputs": [
    {
     "name": "stdout",
     "output_type": "stream",
     "text": [
      "r\n"
     ]
    }
   ],
   "source": [
    "#26 WAP to check whether a given value is less than 125 and greater than 60 or not. \n",
    "# If the condition is satisfied, take the name and extract the middle character and \n",
    "# display it.\n",
    "number=120\n",
    "name='vasukrishna'\n",
    "if 60<number<125:\n",
    "    print(name[len(name)//2])\n",
    "\n"
   ]
  },
  {
   "cell_type": "code",
   "execution_count": null,
   "metadata": {},
   "outputs": [
    {
     "name": "stdout",
     "output_type": "stream",
     "text": [
      "36\n"
     ]
    }
   ],
   "source": [
    "#27 WAP to check whether a given two integers are equal or not. If both are equal, to \n",
    "# perform addition and display the result.\n",
    "number=18\n",
    "number2=18\n",
    "if number is number2:\n",
    "    print(number+number2)\n",
    "number=30\n",
    "number2=18\n",
    "if number is number2:\n",
    "    print(number+number2)"
   ]
  },
  {
   "cell_type": "code",
   "execution_count": null,
   "metadata": {},
   "outputs": [
    {
     "name": "stdout",
     "output_type": "stream",
     "text": [
      "108\n"
     ]
    }
   ],
   "source": [
    "#28 WAP to check whether two values are equal or not. if equal, to perform \n",
    "# multiplication of two numbers and that result is division by 3 and display the \n",
    "# value\n",
    "number=18\n",
    "number2=18\n",
    "if number is number2:\n",
    "    print((number*number2)//3)"
   ]
  },
  {
   "cell_type": "code",
   "execution_count": null,
   "metadata": {},
   "outputs": [
    {
     "name": "stdout",
     "output_type": "stream",
     "text": [
      "{'a': 97}\n"
     ]
    }
   ],
   "source": [
    "#29 WAP to check whether a character is in the alphabet or not. If the alphabet, store \n",
    "# the value inside the dict(key as a character and value as an ascii value).\n",
    "char='a'\n",
    "if  'a'<=char<='z' or 'A'<= char<='Z' :\n",
    "    print({char:ord(char)})"
   ]
  },
  {
   "cell_type": "code",
   "execution_count": null,
   "metadata": {},
   "outputs": [
    {
     "name": "stdout",
     "output_type": "stream",
     "text": [
      "{'D': 68}\n"
     ]
    }
   ],
   "source": [
    "#30 WAP to check whether a character is in the uppercase or not. If the uppercase, \n",
    "# store the value inside the dict(key as a character and value as an ascii value).\n",
    "char='D'\n",
    "if 'A'<= char<='Z' :\n",
    "    print({char:ord(char)})\n",
    "char='a'\n",
    "if 'A'<= char<='Z' :\n",
    "    print({char:ord(char)})"
   ]
  },
  {
   "cell_type": "code",
   "execution_count": null,
   "metadata": {},
   "outputs": [
    {
     "name": "stdout",
     "output_type": "stream",
     "text": [
      "{'a': 97}\n",
      "{'e': 101}\n"
     ]
    }
   ],
   "source": [
    "#31 WAP to check whether a character is in the uppercase or not. If the uppercase, \n",
    "# convert to lowercase and store the value inside the dict(character as a key and \n",
    "# ascii value as a value).\n",
    "char='A'\n",
    "if 'A'<= char<='Z' :\n",
    "    char=chr(ord(char)+32)\n",
    "    print({char:ord(char)})\n",
    "char='E'\n",
    "if 'A'<= char<='Z' :\n",
    "    char=chr(ord(char)+32)\n",
    "    print({char:ord(char)})\n",
    "char='a'\n",
    "if 'A'<= char<='Z' :\n",
    "    char=chr(ord(char)+32)\n",
    "    print({char:ord(char)})"
   ]
  },
  {
   "cell_type": "code",
   "execution_count": null,
   "metadata": {},
   "outputs": [
    {
     "name": "stdout",
     "output_type": "stream",
     "text": [
      "aaaaaaa\n"
     ]
    }
   ],
   "source": [
    "#32 WAP to check whether a character is in the lowercase or not. If the lowercase, to \n",
    "# perform the replication operation on that character.\n",
    "char='a'\n",
    "if 'a'<=char<='z':\n",
    "    print(char*7)"
   ]
  },
  {
   "cell_type": "code",
   "execution_count": null,
   "metadata": {},
   "outputs": [
    {
     "name": "stdout",
     "output_type": "stream",
     "text": [
      "8\n"
     ]
    },
    {
     "ename": "ValueError",
     "evalue": "invalid literal for int() with base 10: 'a'",
     "output_type": "error",
     "traceback": [
      "\u001b[1;31m---------------------------------------------------------------------------\u001b[0m",
      "\u001b[1;31mValueError\u001b[0m                                Traceback (most recent call last)",
      "Cell \u001b[1;32mIn[54], line 8\u001b[0m\n\u001b[0;32m      6\u001b[0m char\u001b[39m=\u001b[39m\u001b[39m'\u001b[39m\u001b[39ma\u001b[39m\u001b[39m'\u001b[39m\n\u001b[0;32m      7\u001b[0m \u001b[39mif\u001b[39;00m \u001b[39m0\u001b[39m\u001b[39m<\u001b[39m\u001b[39m=\u001b[39m\u001b[39mord\u001b[39m(char)\u001b[39m<\u001b[39m\u001b[39m=\u001b[39m\u001b[39m127\u001b[39m:\n\u001b[1;32m----> 8\u001b[0m     \u001b[39mprint\u001b[39m(\u001b[39mint\u001b[39;49m(char))\n",
      "\u001b[1;31mValueError\u001b[0m: invalid literal for int() with base 10: 'a'"
     ]
    }
   ],
   "source": [
    "#33 WAP to check whether a character is in the ascii number or not. If the ascii \n",
    "# number, to convert into integer. \n",
    "char='8'\n",
    "if 0<=ord(char)<=127:\n",
    "    print(int(char))\n",
    "char='a'\n",
    "if 0<=ord(char)<=127:\n",
    "    print(int(char))\n"
   ]
  },
  {
   "cell_type": "code",
   "execution_count": null,
   "metadata": {},
   "outputs": [
    {
     "name": "stdout",
     "output_type": "stream",
     "text": [
      "! 33\n"
     ]
    }
   ],
   "source": [
    "#34WAP to check whether a character is in the special symbol or not. If the special \n",
    "# symbol, to display a symbol with ascii value.\n",
    "\n",
    "char='!'\n",
    "if not('A'<=char<='Z' or 'a'<=char<='z' or '0'<=char<='9'):\n",
    "    print(char,ord(char))"
   ]
  },
  {
   "cell_type": "code",
   "execution_count": null,
   "metadata": {},
   "outputs": [
    {
     "name": "stdout",
     "output_type": "stream",
     "text": [
      "it is even number\n"
     ]
    }
   ],
   "source": [
    "#35 WAP to check whether a character is an even number or not. If the even number, \n",
    "# to display an even number.\n",
    "char='B'\n",
    "if ord(char)%2==0:\n",
    "    print('it is even number')\n",
    "char='a'\n",
    "if ord(char)%2==0:\n",
    "    print('it is even number')\n"
   ]
  },
  {
   "cell_type": "code",
   "execution_count": null,
   "metadata": {},
   "outputs": [
    {
     "name": "stdout",
     "output_type": "stream",
     "text": [
      "400\n",
      "100\n",
      "100\n"
     ]
    }
   ],
   "source": [
    "#36WAP to check whether a Given two integers a and b, if any of the integers is 10 \n",
    "# or if their sum is 10, to perform the sum of the numbers and to display the square \n",
    "# of the result\n",
    "a=10\n",
    "b=10\n",
    "if type(a)==int and type(b)==int and a+b==10 or a==10 or b==10:\n",
    "    print((a+b)**2)\n",
    "a=10\n",
    "b=0\n",
    "if type(a)==int and type(b)==int and  a+b==10 or a==10 or b==10:\n",
    "    print((a+b)**2)\n",
    "a=5\n",
    "b=5\n",
    "if type(a)==int and type(b)==int and a+b==10 or a==10 or b==10:\n",
    "    print((a+b)**2)\n",
    "a=0\n",
    "b=0\n",
    "if type(a)==int and type(b)==int and a+b==10 or a==10 or b==10:\n",
    "    print((a+b)**2)\n"
   ]
  },
  {
   "cell_type": "code",
   "execution_count": null,
   "metadata": {},
   "outputs": [
    {
     "name": "stdout",
     "output_type": "stream",
     "text": [
      "F\n"
     ]
    }
   ],
   "source": [
    "# #37 WAP to check whether a character is in the vowel or not. If the vowel,print the \n",
    "# next character.\n",
    "char='E'\n",
    "if char in ['a','e','i','o','u','A','E','I','O','U']:\n",
    "    print(chr(ord(char)+1))\n",
    "char='e'\n",
    "if char in ['a','e','i','o','u','A','E','I','O','U']:\n",
    "    print(chr(ord(char)+1))\n",
    "char=''\n",
    "if char in ['a','e','i','o','u','A','E','I','O','U']:\n",
    "    print(chr(ord(char)+1))"
   ]
  },
  {
   "cell_type": "code",
   "execution_count": null,
   "metadata": {},
   "outputs": [
    {
     "name": "stdout",
     "output_type": "stream",
     "text": [
      "E\n",
      "e\n"
     ]
    }
   ],
   "source": [
    "#38 WAP to check whether a character is in the not a vowel. If it's not a vowel,print \n",
    "# the previous character.\n",
    "char='F'\n",
    "if char not in ['a','e','i','o','u','A','E','I','O','U']:\n",
    "    print(chr(ord(char)-1))\n",
    "char='f'\n",
    "if char not in ['a','e','i','o','u','A','E','I','O','U']:\n",
    "    print(chr(ord(char)-1))"
   ]
  },
  {
   "cell_type": "code",
   "execution_count": null,
   "metadata": {},
   "outputs": [
    {
     "name": "stdout",
     "output_type": "stream",
     "text": [
      "it is a single value data type\n"
     ]
    }
   ],
   "source": [
    "#39 WAP to check whether a given value is a single value data type or not. If single \n",
    "# value, display the given value as a single value data type.\n",
    "value=10\n",
    "if type(value) in [int,float,complex,bool]:\n",
    "    print('it is a single value data type')"
   ]
  },
  {
   "cell_type": "code",
   "execution_count": null,
   "metadata": {},
   "outputs": [
    {
     "name": "stdout",
     "output_type": "stream",
     "text": [
      "(10,)\n"
     ]
    }
   ],
   "source": [
    "#40WAP to check whether a given value is a multi-value data type or not. If multi \n",
    "# value, store the given value inside the tuple and display it.\n",
    "\n",
    "value=[10]\n",
    "\n",
    "if type(value) in [str,list,tuple,set,dict]:\n",
    "    print(tuple(value))"
   ]
  },
  {
   "cell_type": "code",
   "execution_count": null,
   "metadata": {},
   "outputs": [
    {
     "name": "stdout",
     "output_type": "stream",
     "text": [
      "{'b', 10, 20, 'a'}\n",
      "{'d', 'a', 'b', 'c', 'f', 'e'}\n"
     ]
    }
   ],
   "source": [
    "#41 WAP to check whether a given value is an immutable data type or not. If an \n",
    "# immutable data type value, store the given value inside the set and display it.\n",
    "value=(10,20)\n",
    "value1={'a','b'}\n",
    "\n",
    "if type(value) in [tuple,str]:\n",
    "    value1|=set(value)\n",
    "    print(value1)\n",
    "value='cdef'\n",
    "value1={'a','b'}\n",
    "\n",
    "if type(value) in [tuple,str]:\n",
    "    value1|=set(value)\n",
    "    print(value1)\n",
    "\n",
    "\n"
   ]
  },
  {
   "cell_type": "code",
   "execution_count": null,
   "metadata": {},
   "outputs": [
    {
     "name": "stdout",
     "output_type": "stream",
     "text": [
      "[10, 20, 30, 40, 50]\n",
      "31\n"
     ]
    }
   ],
   "source": [
    "#42 WAP to check whether the middle element of a given list is odd or not. If it is odd \n",
    "# then print odd then print the number else directly print the number\n",
    "l=[10,20,30,40,50]\n",
    "if l[len(l)//2]%2!=0:\n",
    "    print(l[len(l)//2])\n",
    "else:\n",
    "    print(l)\n",
    "l=[10,20,31,40,50]\n",
    "if l[len(l)//2]%2!=0:\n",
    "    print(l[len(l)//2])\n",
    "else:\n",
    "    print(l)"
   ]
  },
  {
   "cell_type": "code",
   "execution_count": null,
   "metadata": {},
   "outputs": [
    {
     "name": "stdout",
     "output_type": "stream",
     "text": [
      "notstring\n",
      "notstring\n"
     ]
    }
   ],
   "source": [
    "#43WAP Return a new string with \"not\" prefixed to the front of the original string. \n",
    "# Return the string unmodified if the string already has the word \"not\" at the beginning\n",
    "var='string'\n",
    "if var[:3]!='not':\n",
    "    var1='not'\n",
    "    var1+=var\n",
    "print(var1)\n",
    "var='notstring'\n",
    "if var[:3]=='not':\n",
    "    print(var)\n"
   ]
  },
  {
   "cell_type": "code",
   "execution_count": null,
   "metadata": {},
   "outputs": [
    {
     "name": "stdout",
     "output_type": "stream",
     "text": [
      "saaarceasefire\n",
      "salaarceaseire\n"
     ]
    }
   ],
   "source": [
    "# #44 WAP to check whether a given string(str) and one integer(n) value, to display a  new string that is devoid of the character at index n. if you are given a non-empty string and an int n. The value of n will be a legitimate character index from the \n",
    "# original string, therefore it will fall within the range of 0 to len(str)-1, inclusive.\n",
    "strin='salaarceasefire'\n",
    "n=2\n",
    "if  n<=(len(strin)-1):\n",
    "    strin=strin[:n]+strin[n+1:]\n",
    "print(strin)\n",
    "strin='salaarceasefire'\n",
    "n=-4\n",
    "if  n<=(len(strin)-1):\n",
    "    strin=strin[:n]+strin[n+1:]\n",
    "print(strin)\n"
   ]
  },
  {
   "cell_type": "code",
   "execution_count": null,
   "metadata": {},
   "outputs": [
    {
     "name": "stdout",
     "output_type": "stream",
     "text": [
      "(140733128755440, 140733128755440)\n"
     ]
    }
   ],
   "source": [
    "#45WAP to check whether the two variables are pointing to the same memory \n",
    "# location or not if they are pointing to the same memory location then print the \n",
    "# address of both the variables.\n",
    "a='str'\n",
    "b='str'\n",
    "if a is b:\n",
    "    m=id(a),id(b)\n",
    "print(m)\n"
   ]
  },
  {
   "cell_type": "code",
   "execution_count": null,
   "metadata": {},
   "outputs": [
    {
     "name": "stdout",
     "output_type": "stream",
     "text": [
      "salaarceasefir\n"
     ]
    }
   ],
   "source": [
    "#46 WAP to check whether the given length of the string is even or not. If the \n",
    "# condition is satisfied, display the sequence of characters from zero position to \n",
    "# length of collection -2.\n",
    "\n",
    "a='salaarceasefire'\n",
    "if (len(a))%2==0:\n",
    "    c=a[0:(len(a)-2)]\n",
    "    print(c)\n",
    "a='salaarceasefire '\n",
    "if (len(a))%2==0:\n",
    "    c=a[0:(len(a)-2)]\n",
    "    print(c)\n"
   ]
  },
  {
   "cell_type": "code",
   "execution_count": null,
   "metadata": {},
   "outputs": [
    {
     "name": "stdout",
     "output_type": "stream",
     "text": [
      "cdef abcd\n"
     ]
    }
   ],
   "source": [
    "#47WAP to check whether the two given strings are having the same values or not. \n",
    "# If both are not the same values then swap the values of one variable to another \n",
    "# variable after swapping print the two values.\n",
    "a='abcd'\n",
    "b='cdef'\n",
    "if a is not b:\n",
    "    c=b\n",
    "    b=a\n",
    "    a=c\n",
    "    print(a,b)"
   ]
  },
  {
   "cell_type": "code",
   "execution_count": null,
   "metadata": {},
   "outputs": [
    {
     "name": "stdout",
     "output_type": "stream",
     "text": [
      "{'@': 64}\n",
      "{'@': 64}\n"
     ]
    }
   ],
   "source": [
    "#48WAP to check whether a given character is a special symbol or not. If satisfied, \n",
    "# store the symbol as a key and value as a ascii value of the given character inside \n",
    "# the dictionary.\n",
    "a='@'\n",
    "b={}\n",
    "if not('A'<=a<='Z' or 'a'<=a<='z' or '0'<=a<='9'):\n",
    "    b|={a:ord(a)}\n",
    "print(b)\n",
    "a='@'\n",
    "b={}\n",
    "if not('A'<=a<='Z' or 'a'<=a<='z' or '0'<=a<='9'):\n",
    "    b[a]=ord(a)\n",
    "print(b)\n"
   ]
  },
  {
   "cell_type": "code",
   "execution_count": null,
   "metadata": {},
   "outputs": [
    {
     "name": "stdout",
     "output_type": "stream",
     "text": [
      "{10: 20, 20: 30, 40: 50, 30: 200}\n",
      "{10: 20, 20: 30, 40: 50}\n"
     ]
    }
   ],
   "source": [
    "#49 WAP to check whether a given key is not present in the dictionary or not. If the \n",
    "# key is not present, append the new key inside the dictionary.\n",
    "a={10:20,20:30,40:50}\n",
    "n=30\n",
    "if n not in a:\n",
    "    a[n]=200\n",
    "print(a)\n",
    "a={10:20,20:30,40:50}\n",
    "n=20\n",
    "if n not in a:\n",
    "    a[n]=200\n",
    "print(a)\n"
   ]
  },
  {
   "cell_type": "code",
   "execution_count": null,
   "metadata": {},
   "outputs": [
    {
     "name": "stdout",
     "output_type": "stream",
     "text": [
      "ralaas\n"
     ]
    }
   ],
   "source": [
    "#50WAP whether a given string, and it displays a new string with the first and last characters switched.\n",
    "s='salaar'\n",
    "if type(s)==str:\n",
    "    s=s[len(s)-1]+s[1:(len(s)-1)]+s[len(s)-6]\n",
    "print(s)"
   ]
  },
  {
   "cell_type": "code",
   "execution_count": null,
   "metadata": {},
   "outputs": [
    {
     "name": "stdout",
     "output_type": "stream",
     "text": [
      "2\n"
     ]
    }
   ],
   "source": [
    "#51WAP to check whether the last digit should be 2 in the given number then print the last digit.\n",
    "n=472\n",
    "if n%10==2:\n",
    "    n= n%10\n",
    "print(n)"
   ]
  },
  {
   "cell_type": "code",
   "execution_count": null,
   "metadata": {},
   "outputs": [
    {
     "name": "stdout",
     "output_type": "stream",
     "text": [
      "400\n",
      "100\n",
      "100\n"
     ]
    }
   ],
   "source": [
    "#52WAP to check whether a Given two integers a and b, if any of the integers is 10 or if their sum is 10, to perform the sum of the numbers and to display the square of the result.\n",
    "a=10\n",
    "b=10\n",
    "if type(a)==int and type(b)==int and a+b==10 or a==10 or b==10:\n",
    "    print((a+b)**2)\n",
    "a=10\n",
    "b=0\n",
    "if type(a)==int and type(b)==int and  a+b==10 or a==10 or b==10:\n",
    "    print((a+b)**2)\n",
    "a=5\n",
    "b=5\n",
    "if type(a)==int and type(b)==int and a+b==10 or a==10 or b==10:\n",
    "    print((a+b)**2)\n",
    "a=0\n",
    "b=0\n",
    "if type(a)==int and type(b)==int and a+b==10 or a==10 or b==10:\n",
    "    print((a+b)**2)\n"
   ]
  },
  {
   "cell_type": "code",
   "execution_count": null,
   "metadata": {},
   "outputs": [
    {
     "name": "stdout",
     "output_type": "stream",
     "text": [
      "5 3\n"
     ]
    }
   ],
   "source": [
    "#53 WAP to check whether both string collections are equal or not if it is not equal \n",
    "# print the both strings along with the length of a string if both are equal ignore it\n",
    "a='straa'\n",
    "b='str'\n",
    "if a is not b:\n",
    "    print(len(a),len(b))\n"
   ]
  }
 ],
 "metadata": {
  "kernelspec": {
   "display_name": "Python 3",
   "language": "python",
   "name": "python3"
  },
  "language_info": {
   "codemirror_mode": {
    "name": "ipython",
    "version": 3
   },
   "file_extension": ".py",
   "mimetype": "text/x-python",
   "name": "python",
   "nbconvert_exporter": "python",
   "pygments_lexer": "ipython3",
   "version": "3.11.4"
  },
  "orig_nbformat": 4
 },
 "nbformat": 4,
 "nbformat_minor": 2
}
